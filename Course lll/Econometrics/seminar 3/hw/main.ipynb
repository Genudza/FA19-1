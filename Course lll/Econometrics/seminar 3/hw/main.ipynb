{
 "cells": [
  {
   "cell_type": "code",
   "execution_count": 330,
   "source": [
    "from sympy import Symbol, Matrix, Eq, MatAdd, MatMul, preview, S, zeros, solve\n",
    "\n",
    "\n",
    "def get_symbols_dict(s: str) -> dict:\n",
    "\n",
    "    return {i: Symbol(i) for i in s.split(' ')}\n",
    "\n",
    "\n",
    "def create_endog_v(endog: dict) -> Matrix:\n",
    "    \"\"\"\n",
    "    Вектор для эндогенных\n",
    "    \"\"\"\n",
    "    return Matrix([[i] for i in endog.values()])\n",
    "\n",
    "\n",
    "def create_predifined_v(pseudos: list, predeters: dict) -> Matrix:\n",
    "    \"\"\"\n",
    "    Вектор для предопределенных\n",
    "    \"\"\"\n",
    "    return Matrix([[i] for i in [*pseudos, *predeters.values()]])\n",
    "\n",
    "\n",
    "def calc_M(A: Matrix, B: Matrix) -> Matrix:\n",
    "    \"\"\"\n",
    "    M = -A ** (-1) * B\n",
    "    \"\"\"\n",
    "    return -A.inv() * B\n",
    "\n",
    "\n",
    "def get_reduced_form(X: Matrix, Y: Matrix, A: Matrix, M: Matrix, U: Matrix) -> Eq:\n",
    "    \"\"\"\n",
    "    Получаем приведенную матрицу\n",
    "    \"\"\"\n",
    "    if zeros(*U.shape) == U:\n",
    "        res = MatMul(M, X)\n",
    "    else:\n",
    "        res = MatAdd(MatMul(M, X), MatMul(A.inv(), U))\n",
    "    return Eq(Y, res, evaluate=False)\n"
   ],
   "outputs": [],
   "metadata": {}
  },
  {
   "cell_type": "markdown",
   "source": [
    "## 1.4 Модель корректировки размера дивидендов Линтера"
   ],
   "metadata": {
    "pycharm": {
     "name": "#%% md\n"
    }
   }
  },
  {
   "cell_type": "markdown",
   "source": [
    "Задача 4. Модель корректировки размера дивидендов Линтнера.<br>Пусть $\\pi_{t}$ - текущая прибыль фирмы после уплаты налогов,<br>$D_{t}$ - дивиденды, которые фирма выплачивает своим акционерам в текущем периоде. Известный американский экономист Дж. Линтнер сформулировал в 1956г. следующие утверждения:\n",
    "1) у фирмы имеется долгосрочная целевая доля $g$ текущей прибыли и соответствующий этой доле уровень дивидендов $D_{t}^{*}$, которые фирма хотела бы выплачивать своим акционерам (желаемый уровень);<br>\n",
    "2) Изменение $\\left(D_{t}-D_{t-1}\\right)$ уровня реальных дивидендов за период прямо пропорционально отличию желаемого объёма $D_{t}^{*}$ текущих дивидендов от их реального уровня в предшествующем периоде $D_{t-1} .$<br>Требуется:\n",
    "a) составить спецификацию модели корректировки размера дивидендов, позволяющую объяснить текущий уровень $D_{t}$ дивидендов их лаговым значением и текущей прибылью фирмы;<br>\n",
    "б) Уточнить спецификацию включением случайного возмущения.<br>\n",
    "в) Представить структурную форму спецификации в матричном виде.<br>\n",
    "г) Составить приведенную форму модели.<br>\n",
    "д) Записать приведенную форму в матричном виде.<br>"
   ],
   "metadata": {}
  },
  {
   "cell_type": "markdown",
   "source": [
    "#### Дано"
   ],
   "metadata": {}
  },
  {
   "cell_type": "code",
   "execution_count": 331,
   "source": [
    "endog = 'D_t D^*_t'\n",
    "endog = get_symbols_dict(endog)\n",
    "\n",
    "predifins = 'P_t D_t-1'\n",
    "predifins = get_symbols_dict(predifins)\n",
    "\n",
    "params = 'g a b'\n",
    "params = get_symbols_dict(params)\n",
    "\n",
    "mdevs = 'ε0'\n",
    "mdevs = get_symbols_dict(mdevs)\n",
    "\n",
    "# Система\n",
    "\n",
    "eq_system = [\n",
    "    Eq(endog['D^*_t'],\n",
    "       params['g'] * predifins['P_t']),\n",
    "    Eq(endog['D_t'] - predifins['D_t-1'],\n",
    "       params['a'] + params['b'] * (endog['D^*_t'] - predifins['D_t-1']) + mdevs['ε0']),\n",
    "]\n",
    "\n",
    "# Приведенная\n",
    "\n",
    "reduced_form_system = solve(eq_system, *endog.values())\n",
    "\n",
    "\n",
    "Y = create_endog_v(endog)\n",
    "X = create_predifined_v([1], predifins)\n",
    "\n",
    "# матрица коэфф Эндогенных\n",
    "A = Matrix([\n",
    "    [0, 1],\n",
    "    [1, -params['b']],\n",
    "])\n",
    "\n",
    "# матрица коэфф Предопределенных\n",
    "B = Matrix([\n",
    "    [0, -params['g'], 0],\n",
    "    [-params['a'], 0, params['b'] - 1],\n",
    "])\n",
    "\n",
    "U = Matrix([\n",
    "    [0],\n",
    "    [mdevs['ε0']],\n",
    "])\n",
    "\n",
    "\n",
    "M = calc_M(A, B)\n",
    "reduced_form_matrix = get_reduced_form(X, Y, A, M, U)\n"
   ],
   "outputs": [],
   "metadata": {}
  },
  {
   "cell_type": "code",
   "execution_count": 332,
   "source": [
    "Eq(Symbol('Y'), Y, evaluate=False)"
   ],
   "outputs": [
    {
     "output_type": "execute_result",
     "data": {
      "text/latex": [
       "$\\displaystyle Y = \\left[\\begin{matrix}D_{t}\\\\D^{*}_{t}\\end{matrix}\\right]$"
      ],
      "text/plain": [
       "Eq(Y, Matrix([\n",
       "[  D_t],\n",
       "[D^*_t]]))"
      ]
     },
     "metadata": {},
     "execution_count": 332
    }
   ],
   "metadata": {
    "pycharm": {
     "name": "#%%\n"
    }
   }
  },
  {
   "cell_type": "code",
   "execution_count": 333,
   "source": [
    "Eq(Symbol('X'), X, evaluate=False)"
   ],
   "outputs": [
    {
     "output_type": "execute_result",
     "data": {
      "text/latex": [
       "$\\displaystyle X = \\left[\\begin{matrix}1\\\\P_{t}\\\\D_{t-1}\\end{matrix}\\right]$"
      ],
      "text/plain": [
       "Eq(X, Matrix([\n",
       "[    1],\n",
       "[  P_t],\n",
       "[D_t-1]]))"
      ]
     },
     "metadata": {},
     "execution_count": 333
    }
   ],
   "metadata": {
    "pycharm": {
     "name": "#%%\n"
    }
   }
  },
  {
   "cell_type": "code",
   "execution_count": 334,
   "source": [
    "Eq(Symbol('A'), A, evaluate=False)"
   ],
   "outputs": [
    {
     "output_type": "execute_result",
     "data": {
      "text/latex": [
       "$\\displaystyle A = \\left[\\begin{matrix}0 & 1\\\\1 & - b\\end{matrix}\\right]$"
      ],
      "text/plain": [
       "Eq(A, Matrix([\n",
       "[0,  1],\n",
       "[1, -b]]))"
      ]
     },
     "metadata": {},
     "execution_count": 334
    }
   ],
   "metadata": {
    "pycharm": {
     "name": "#%%\n"
    }
   }
  },
  {
   "cell_type": "code",
   "execution_count": 335,
   "source": [
    "Eq(Symbol('B'), B, evaluate=False)"
   ],
   "outputs": [
    {
     "output_type": "execute_result",
     "data": {
      "text/latex": [
       "$\\displaystyle B = \\left[\\begin{matrix}0 & - g & 0\\\\- a & 0 & b - 1\\end{matrix}\\right]$"
      ],
      "text/plain": [
       "Eq(B, Matrix([\n",
       "[ 0, -g,     0],\n",
       "[-a,  0, b - 1]]))"
      ]
     },
     "metadata": {},
     "execution_count": 335
    }
   ],
   "metadata": {
    "pycharm": {
     "name": "#%%\n"
    }
   }
  },
  {
   "cell_type": "code",
   "execution_count": 336,
   "source": [
    "Eq(Symbol('U'), U, evaluate=False)"
   ],
   "outputs": [
    {
     "output_type": "execute_result",
     "data": {
      "text/latex": [
       "$\\displaystyle U = \\left[\\begin{matrix}0\\\\ε_{0}\\end{matrix}\\right]$"
      ],
      "text/plain": [
       "Eq(U, Matrix([\n",
       "[ 0],\n",
       "[ε0]]))"
      ]
     },
     "metadata": {},
     "execution_count": 336
    }
   ],
   "metadata": {
    "pycharm": {
     "name": "#%%\n"
    }
   }
  },
  {
   "cell_type": "markdown",
   "source": [
    "### Приведенная форма (матричная)"
   ],
   "metadata": {}
  },
  {
   "cell_type": "code",
   "execution_count": 337,
   "source": [
    "reduced_form_matrix"
   ],
   "outputs": [
    {
     "output_type": "execute_result",
     "data": {
      "text/latex": [
       "$\\displaystyle \\left[\\begin{matrix}D_{t}\\\\D^{*}_{t}\\end{matrix}\\right] = \\left[\\begin{matrix}b & 1\\\\1 & 0\\end{matrix}\\right] \\left[\\begin{matrix}0\\\\ε_{0}\\end{matrix}\\right] + \\left[\\begin{matrix}a & b g & 1 - b\\\\0 & g & 0\\end{matrix}\\right] \\left[\\begin{matrix}1\\\\P_{t}\\\\D_{t-1}\\end{matrix}\\right]$"
      ],
      "text/plain": [
       "Eq(Matrix([\n",
       "[  D_t],\n",
       "[D^*_t]]), Matrix([\n",
       "[b, 1],\n",
       "[1, 0]])*Matrix([\n",
       "[ 0],\n",
       "[ε0]]) + Matrix([\n",
       "[a, b*g, 1 - b],\n",
       "[0,   g,     0]])*Matrix([\n",
       "[    1],\n",
       "[  P_t],\n",
       "[D_t-1]]))"
      ]
     },
     "metadata": {},
     "execution_count": 337
    }
   ],
   "metadata": {
    "pycharm": {
     "name": "#%%\n"
    }
   }
  },
  {
   "cell_type": "markdown",
   "source": [
    "### Приведенная форма (система)"
   ],
   "metadata": {}
  },
  {
   "cell_type": "code",
   "execution_count": 338,
   "source": [
    "Eq(Symbol('D_t'), reduced_form_system[Symbol('D_t')], evaluate=False)"
   ],
   "outputs": [
    {
     "output_type": "execute_result",
     "data": {
      "text/latex": [
       "$\\displaystyle D_{t} = - D_{t-1} b + D_{t-1} + P_{t} b g + a + ε_{0}$"
      ],
      "text/plain": [
       "Eq(D_t, -D_t-1*b + D_t-1 + P_t*b*g + a + ε0)"
      ]
     },
     "metadata": {},
     "execution_count": 338
    }
   ],
   "metadata": {
    "pycharm": {
     "name": "#%%\n"
    }
   }
  },
  {
   "cell_type": "code",
   "execution_count": 339,
   "source": [
    "Eq(Symbol('D^*_t'), reduced_form_system[Symbol('D^*_t')], evaluate=False)"
   ],
   "outputs": [
    {
     "output_type": "execute_result",
     "data": {
      "text/latex": [
       "$\\displaystyle D^{*}_{t} = P_{t} g$"
      ],
      "text/plain": [
       "Eq(D^*_t, P_t*g)"
      ]
     },
     "metadata": {},
     "execution_count": 339
    }
   ],
   "metadata": {
    "pycharm": {
     "name": "#%%\n"
    }
   }
  },
  {
   "cell_type": "markdown",
   "source": [
    "## 2.1 Модель Манделла - Флеминга (IS-LM-BP)"
   ],
   "metadata": {}
  },
  {
   "cell_type": "markdown",
   "source": [
    "2.1. Необходимо составить спецификацию модификации модели IS - $L M$ - модели Манделла-Флеминга открытой экономики в краткосрочном периоде с плавающим обменным курсом.\n",
    "\n",
    "Состояние национальной экономики в заданном периоде времени описывается количественными характеристиками $Y, C, I, N X, E, R, L$, $C F, M, P, G, T$"
   ],
   "metadata": {}
  },
  {
   "cell_type": "markdown",
   "source": [
    "где Y - объем (величина) выпуска (совокупный спрос, валовый внутренний продукт);<br>\n",
    "С - уровень потребления;<br>\n",
    "I - объем инвестиций в экономику;<br>\n",
    "R - ставка процента (рефинансирования);<br>\n",
    "L - спрос на деньги в реальном выражении (не путать с уровнем затрат труда!);<br>\n",
    "М - уровень предложения денег;<br>\n",
    "Р - уровень цен;<br>\n",
    "G - объем государственных расходов;<br>\n",
    "Т - уровень налогов.<br>\n",
    "Используя приведенные ниже утверждения, составьте спецификацию макромодели Манделла—Флеминга, предназначенной для объяснения переменных Y, R ,L, I, С, NX, Е и CF значениями переменных М,Р, G и Т.<br>\n",
    "\n",
    "При составлении спецификации модели следует использовать следующие утверждения:\n",
    "1.\tОбъем выпуска Y является суммой частного потребления С, инвестиций I, государственного потребления (расходов) G и чистого экспорта\n",
    "NX;\n",
    "2.\tУровень потребления С объясняется располагаемым доходом (Y — Т), и возрастает в ответ на увеличение этого дохода, при этом каждая дополнительная единица располагаемого дохода потребляется не полностью;\n",
    "3.\tОбъем инвестиций в экономику / объясняется реальной ставкой процента R и снижается в ответ на рост этой ставки;\n",
    "4.\tУровень спроса на деньги в реальном выражении L объясняется реальной ставкой процента R и величиной дохода Y; L снижается при увеличении R и возрастает в ответ на увеличение Y;\n",
    "5.\tНа денежном рынке существует равновесие спроса и предложения денег в реальном выражении;\n",
    "6.\tУровень чистого экспорта NX объясняется номинальным обменным курсом Е, ив ответ на увеличение номинального обменного курса уровень чистого экспорта снижается;\n",
    "7.\tПриток иностранного капитала CF (счет движения капитала платежного баланса) объясняется реальной ставкой процента R и увеличивается в ответ на рост этой ставки;\n",
    "8.\tСчет движения капитала платежного баланса CF и счет текущих операций NX уравновешивают друг друга, т.е. в сумме равны нулю.\n",
    "После составления спецификации модели Манделла-Флеминга преобразуйте ее к приведенной форме. Запишите модель в матричном виде, указав вектора эндогенных и экзогенных векторов, матрицы коэффициентов при эндогенных и экзогенных переменных. Получив приведенную модель запишите результирующую матрицу\n"
   ],
   "metadata": {}
  },
  {
   "cell_type": "code",
   "execution_count": 340,
   "source": [
    "\"\"\"\n",
    "    1) Y = C + I + G + NX\n",
    "    2) C = a + b * (Y-T) + ε0; 0 < b < 1\n",
    "    3) I = c + d * R + ε1; d < 0\n",
    "    4) L = f + g * R + h * Y + ε2, g < 0, h > 0\n",
    "    5) L = M\n",
    "    6) NX = i + j * E + ε3, j < 0\n",
    "    7) CF = k + n * R + ε4, n > 0\n",
    "    8) CF + NX = 0\n",
    "\"\"\"\n",
    "\n",
    "endog = 'Y C I NX E R L CF'\n",
    "endog = get_symbols_dict(endog)\n",
    "\n",
    "predifins = 'M P G T'\n",
    "predifins = get_symbols_dict(predifins)\n",
    "\n",
    "params = 'a b c d f g h i j k n'\n",
    "params = get_symbols_dict(params)\n",
    "\n",
    "mdevs = 'ε0 ε1 ε2 ε3 ε4'\n",
    "mdevs = get_symbols_dict(mdevs)\n",
    "\n",
    "# Система\n",
    "\n",
    "eq_system = [\n",
    "    Eq(endog['Y'],\n",
    "       endog['C'] + endog['I'] + predifins['G'] + endog['NX']),\n",
    "    Eq(endog['C'],\n",
    "       params['a'] + params['b'] * (endog['Y'] - predifins['T']) + mdevs['ε0']),\n",
    "    Eq(endog['I'],\n",
    "       params['c'] + params['d'] * endog['R'] + mdevs['ε1']),\n",
    "    Eq(endog['L'],\n",
    "       params['f'] + params['g'] * endog['Y'] + params['h'] * endog['R'] + mdevs['ε2']),\n",
    "    Eq(predifins['M'],\n",
    "       endog['L']),\n",
    "    Eq(endog['NX'],\n",
    "       params['i'] + params['j'] * endog['E'] + mdevs['ε3']),\n",
    "    Eq(endog['CF'],\n",
    "       params['k'] + params['n'] * endog['R'] + mdevs['ε4']),\n",
    "    Eq(0,\n",
    "       endog['CF'] + endog['NX']),\n",
    "]\n",
    "\n",
    "# Приведенная\n",
    "\n",
    "reduced_form_system = solve(eq_system, *endog.values())\n",
    "\n",
    "Y = create_endog_v(endog)\n",
    "X = create_predifined_v([1], predifins)\n",
    "\n",
    "# матрица коэфф Эндогенных\n",
    "\n",
    "A = Matrix([\n",
    "    [1, -1, -1, -1, 0, 0, 0, 0],\n",
    "    [-params['b'], 1, 0, 0, 0, 0, 0, 0],\n",
    "    [0, 0, 1, 0, 0, -params['d'], 0, 0],\n",
    "    [-params['g'], 0, 0, 0, 0, -params['h'], 1, 0],\n",
    "    [0, 0, 0, 0, 0, 0, -1, 0],\n",
    "    [0, 0, 0, 1, -params['j'], 0, 0, 0],\n",
    "    [0, 0, 0, 0, 0, -params['n'], 0, 1],\n",
    "    [0, 0, 0, 1, 0, 0, 0, 1],\n",
    "])\n",
    "\n",
    "# матрица коэфф Предопределенных\n",
    "B = Matrix([\n",
    "    [0, 0, 0, -1, 0],\n",
    "    [-params['a'], 0, 0, 0, params['b']],\n",
    "    [-params['c'], 0, 0, 0, 0],\n",
    "    [-params['f'], 0, 0, 0, 0],\n",
    "    [0, 1, 0, 0, 0],\n",
    "    [-params['i'], 0, 0, 0, 0],\n",
    "    [-params['k'], 0, 0, 0, 0],\n",
    "    [0, 0, 0, 0, 0],\n",
    "])\n",
    "\n",
    "U = Matrix([\n",
    "    [0],\n",
    "    [mdevs['ε0']],\n",
    "    [mdevs['ε1']],\n",
    "    [mdevs['ε2']],\n",
    "    [0],\n",
    "    [mdevs['ε3']],\n",
    "    [mdevs['ε4']],\n",
    "    [0],\n",
    "])\n",
    "\n",
    "\n",
    "M = calc_M(A, B)\n",
    "reduced_form_matrix = get_reduced_form(X, Y, A, M, U)\n"
   ],
   "outputs": [],
   "metadata": {
    "pycharm": {
     "name": "#%%\n"
    }
   }
  },
  {
   "cell_type": "code",
   "execution_count": 341,
   "source": [
    "Eq(Symbol('Y'), Y, evaluate=False)"
   ],
   "outputs": [
    {
     "output_type": "execute_result",
     "data": {
      "text/latex": [
       "$\\displaystyle Y = \\left[\\begin{matrix}Y\\\\C\\\\I\\\\NX\\\\E\\\\R\\\\L\\\\CF\\end{matrix}\\right]$"
      ],
      "text/plain": [
       "Eq(Y, Matrix([\n",
       "[ Y],\n",
       "[ C],\n",
       "[ I],\n",
       "[NX],\n",
       "[ E],\n",
       "[ R],\n",
       "[ L],\n",
       "[CF]]))"
      ]
     },
     "metadata": {},
     "execution_count": 341
    }
   ],
   "metadata": {
    "pycharm": {
     "name": "#%%\n"
    }
   }
  },
  {
   "cell_type": "code",
   "execution_count": 342,
   "source": [
    "Eq(Symbol('X'), X, evaluate=False)"
   ],
   "outputs": [
    {
     "output_type": "execute_result",
     "data": {
      "text/latex": [
       "$\\displaystyle X = \\left[\\begin{matrix}1\\\\M\\\\P\\\\G\\\\T\\end{matrix}\\right]$"
      ],
      "text/plain": [
       "Eq(X, Matrix([\n",
       "[1],\n",
       "[M],\n",
       "[P],\n",
       "[G],\n",
       "[T]]))"
      ]
     },
     "metadata": {},
     "execution_count": 342
    }
   ],
   "metadata": {}
  },
  {
   "cell_type": "code",
   "execution_count": 343,
   "source": [
    "Eq(Symbol('A'), A, evaluate=False)"
   ],
   "outputs": [
    {
     "output_type": "execute_result",
     "data": {
      "text/latex": [
       "$\\displaystyle A = \\left[\\begin{matrix}1 & -1 & -1 & -1 & 0 & 0 & 0 & 0\\\\- b & 1 & 0 & 0 & 0 & 0 & 0 & 0\\\\0 & 0 & 1 & 0 & 0 & - d & 0 & 0\\\\- g & 0 & 0 & 0 & 0 & - h & 1 & 0\\\\0 & 0 & 0 & 0 & 0 & 0 & -1 & 0\\\\0 & 0 & 0 & 1 & - j & 0 & 0 & 0\\\\0 & 0 & 0 & 0 & 0 & - n & 0 & 1\\\\0 & 0 & 0 & 1 & 0 & 0 & 0 & 1\\end{matrix}\\right]$"
      ],
      "text/plain": [
       "Eq(A, Matrix([\n",
       "[ 1, -1, -1, -1,  0,  0,  0, 0],\n",
       "[-b,  1,  0,  0,  0,  0,  0, 0],\n",
       "[ 0,  0,  1,  0,  0, -d,  0, 0],\n",
       "[-g,  0,  0,  0,  0, -h,  1, 0],\n",
       "[ 0,  0,  0,  0,  0,  0, -1, 0],\n",
       "[ 0,  0,  0,  1, -j,  0,  0, 0],\n",
       "[ 0,  0,  0,  0,  0, -n,  0, 1],\n",
       "[ 0,  0,  0,  1,  0,  0,  0, 1]]))"
      ]
     },
     "metadata": {},
     "execution_count": 343
    }
   ],
   "metadata": {}
  },
  {
   "cell_type": "code",
   "execution_count": 344,
   "source": [
    "Eq(Symbol('B'), B, evaluate=False)"
   ],
   "outputs": [
    {
     "output_type": "execute_result",
     "data": {
      "text/latex": [
       "$\\displaystyle B = \\left[\\begin{matrix}0 & 0 & 0 & -1 & 0\\\\- a & 0 & 0 & 0 & b\\\\- c & 0 & 0 & 0 & 0\\\\- f & 0 & 0 & 0 & 0\\\\0 & 1 & 0 & 0 & 0\\\\- i & 0 & 0 & 0 & 0\\\\- k & 0 & 0 & 0 & 0\\\\0 & 0 & 0 & 0 & 0\\end{matrix}\\right]$"
      ],
      "text/plain": [
       "Eq(B, Matrix([\n",
       "[ 0, 0, 0, -1, 0],\n",
       "[-a, 0, 0,  0, b],\n",
       "[-c, 0, 0,  0, 0],\n",
       "[-f, 0, 0,  0, 0],\n",
       "[ 0, 1, 0,  0, 0],\n",
       "[-i, 0, 0,  0, 0],\n",
       "[-k, 0, 0,  0, 0],\n",
       "[ 0, 0, 0,  0, 0]]))"
      ]
     },
     "metadata": {},
     "execution_count": 344
    }
   ],
   "metadata": {}
  },
  {
   "cell_type": "code",
   "execution_count": 345,
   "source": [
    "Eq(Symbol('U'), U, evaluate=False)"
   ],
   "outputs": [
    {
     "output_type": "execute_result",
     "data": {
      "text/latex": [
       "$\\displaystyle U = \\left[\\begin{matrix}0\\\\ε_{0}\\\\ε_{1}\\\\ε_{2}\\\\0\\\\ε_{3}\\\\ε_{4}\\\\0\\end{matrix}\\right]$"
      ],
      "text/plain": [
       "Eq(U, Matrix([\n",
       "[ 0],\n",
       "[ε0],\n",
       "[ε1],\n",
       "[ε2],\n",
       "[ 0],\n",
       "[ε3],\n",
       "[ε4],\n",
       "[ 0]]))"
      ]
     },
     "metadata": {},
     "execution_count": 345
    }
   ],
   "metadata": {}
  },
  {
   "cell_type": "markdown",
   "source": [
    "### Приведенная форма (матричная)"
   ],
   "metadata": {}
  },
  {
   "cell_type": "code",
   "execution_count": 346,
   "source": [
    "reduced_form_matrix"
   ],
   "outputs": [
    {
     "output_type": "execute_result",
     "data": {
      "text/latex": [
       "$\\displaystyle \\left[\\begin{matrix}Y\\\\C\\\\I\\\\NX\\\\E\\\\R\\\\L\\\\CF\\end{matrix}\\right] = \\left[\\begin{matrix}- \\frac{a h}{b h - d g + g n - h} - \\frac{c h}{b h - d g + g n - h} + \\frac{f \\left(d - n\\right)}{b h - d g + g n - h} + \\frac{h k}{b h - d g + g n - h} & - \\frac{d - n}{b h - d g + g n - h} & 0 & - \\frac{h}{b h - d g + g n - h} & \\frac{b h}{b h - d g + g n - h}\\\\\\frac{a \\left(- d g + g n - h\\right)}{b h - d g + g n - h} - \\frac{b c h}{b h - d g + g n - h} + \\frac{b h k}{b h - d g + g n - h} + \\frac{f \\left(b d - b n\\right)}{b h - d g + g n - h} & - \\frac{b d - b n}{b h - d g + g n - h} & 0 & - \\frac{b h}{b h - d g + g n - h} & - \\frac{b \\left(- d g + g n - h\\right)}{b h - d g + g n - h}\\\\\\frac{a d g}{b h - d g + g n - h} + \\frac{c \\left(b h + g n - h\\right)}{b h - d g + g n - h} - \\frac{d g k}{b h - d g + g n - h} + \\frac{f \\left(- b d + d\\right)}{b h - d g + g n - h} & - \\frac{- b d + d}{b h - d g + g n - h} & 0 & \\frac{d g}{b h - d g + g n - h} & - \\frac{b d g}{b h - d g + g n - h}\\\\- \\frac{a g n}{b h - d g + g n - h} - \\frac{c g n}{b h - d g + g n - h} + \\frac{f \\left(b n - n\\right)}{b h - d g + g n - h} + \\frac{k \\left(- b h + d g + h\\right)}{b h - d g + g n - h} & - \\frac{b n - n}{b h - d g + g n - h} & 0 & - \\frac{g n}{b h - d g + g n - h} & \\frac{b g n}{b h - d g + g n - h}\\\\- \\frac{a g n}{b h j - d g j + g j n - h j} - \\frac{c g n}{b h j - d g j + g j n - h j} + \\frac{f \\left(b n - n\\right)}{b h j - d g j + g j n - h j} - \\frac{i}{j} + \\frac{k \\left(- b h + d g + h\\right)}{b h j - d g j + g j n - h j} & - \\frac{b n - n}{b h j - d g j + g j n - h j} & 0 & - \\frac{g n}{b h j - d g j + g j n - h j} & \\frac{b g n}{b h j - d g j + g j n - h j}\\\\\\frac{a g}{b h - d g + g n - h} + \\frac{c g}{b h - d g + g n - h} + \\frac{f \\left(1 - b\\right)}{b h - d g + g n - h} - \\frac{g k}{b h - d g + g n - h} & - \\frac{1 - b}{b h - d g + g n - h} & 0 & \\frac{g}{b h - d g + g n - h} & - \\frac{b g}{b h - d g + g n - h}\\\\0 & 1 & 0 & 0 & 0\\\\\\frac{a g n}{b h - d g + g n - h} + \\frac{c g n}{b h - d g + g n - h} + \\frac{f \\left(- b n + n\\right)}{b h - d g + g n - h} + \\frac{k \\left(b h - d g - h\\right)}{b h - d g + g n - h} & - \\frac{- b n + n}{b h - d g + g n - h} & 0 & \\frac{g n}{b h - d g + g n - h} & - \\frac{b g n}{b h - d g + g n - h}\\end{matrix}\\right] \\left[\\begin{matrix}1\\\\M\\\\P\\\\G\\\\T\\end{matrix}\\right] + \\left[\\begin{matrix}- \\frac{h}{b h - d g + g n - h} & - \\frac{h}{b h - d g + g n - h} & - \\frac{h}{b h - d g + g n - h} & \\frac{d - n}{b h - d g + g n - h} & \\frac{d - n}{b h - d g + g n - h} & 0 & \\frac{h}{b h - d g + g n - h} & - \\frac{h}{b h - d g + g n - h}\\\\- \\frac{b h}{b h - d g + g n - h} & \\frac{- d g + g n - h}{b h - d g + g n - h} & - \\frac{b h}{b h - d g + g n - h} & \\frac{b d - b n}{b h - d g + g n - h} & \\frac{b d - b n}{b h - d g + g n - h} & 0 & \\frac{b h}{b h - d g + g n - h} & - \\frac{b h}{b h - d g + g n - h}\\\\\\frac{d g}{b h - d g + g n - h} & \\frac{d g}{b h - d g + g n - h} & \\frac{b h + g n - h}{b h - d g + g n - h} & \\frac{- b d + d}{b h - d g + g n - h} & \\frac{- b d + d}{b h - d g + g n - h} & 0 & - \\frac{d g}{b h - d g + g n - h} & \\frac{d g}{b h - d g + g n - h}\\\\- \\frac{g n}{b h - d g + g n - h} & - \\frac{g n}{b h - d g + g n - h} & - \\frac{g n}{b h - d g + g n - h} & \\frac{b n - n}{b h - d g + g n - h} & \\frac{b n - n}{b h - d g + g n - h} & 0 & \\frac{- b h + d g + h}{b h - d g + g n - h} & \\frac{b h - d g - h}{b h - d g + g n - h}\\\\- \\frac{g n}{b h j - d g j + g j n - h j} & - \\frac{g n}{b h j - d g j + g j n - h j} & - \\frac{g n}{b h j - d g j + g j n - h j} & \\frac{b n - n}{b h j - d g j + g j n - h j} & \\frac{b n - n}{b h j - d g j + g j n - h j} & - \\frac{1}{j} & \\frac{- b h + d g + h}{b h j - d g j + g j n - h j} & \\frac{b h - d g - h}{b h j - d g j + g j n - h j}\\\\\\frac{g}{b h - d g + g n - h} & \\frac{g}{b h - d g + g n - h} & \\frac{g}{b h - d g + g n - h} & \\frac{1 - b}{b h - d g + g n - h} & \\frac{1 - b}{b h - d g + g n - h} & 0 & - \\frac{g}{b h - d g + g n - h} & \\frac{g}{b h - d g + g n - h}\\\\0 & 0 & 0 & 0 & -1 & 0 & 0 & 0\\\\\\frac{g n}{b h - d g + g n - h} & \\frac{g n}{b h - d g + g n - h} & \\frac{g n}{b h - d g + g n - h} & \\frac{- b n + n}{b h - d g + g n - h} & \\frac{- b n + n}{b h - d g + g n - h} & 0 & \\frac{b h - d g - h}{b h - d g + g n - h} & \\frac{g n}{b h - d g + g n - h}\\end{matrix}\\right] \\left[\\begin{matrix}0\\\\ε_{0}\\\\ε_{1}\\\\ε_{2}\\\\0\\\\ε_{3}\\\\ε_{4}\\\\0\\end{matrix}\\right]$"
      ],
      "text/plain": [
       "Eq(Matrix([\n",
       "[ Y],\n",
       "[ C],\n",
       "[ I],\n",
       "[NX],\n",
       "[ E],\n",
       "[ R],\n",
       "[ L],\n",
       "[CF]]), Matrix([\n",
       "[                                                           -a*h/(b*h - d*g + g*n - h) - c*h/(b*h - d*g + g*n - h) + f*(d - n)/(b*h - d*g + g*n - h) + h*k/(b*h - d*g + g*n - h),           -(d - n)/(b*h - d*g + g*n - h), 0,           -h/(b*h - d*g + g*n - h),                 b*h/(b*h - d*g + g*n - h)],\n",
       "[                                     a*(-d*g + g*n - h)/(b*h - d*g + g*n - h) - b*c*h/(b*h - d*g + g*n - h) + b*h*k/(b*h - d*g + g*n - h) + f*(b*d - b*n)/(b*h - d*g + g*n - h),       -(b*d - b*n)/(b*h - d*g + g*n - h), 0,         -b*h/(b*h - d*g + g*n - h), -b*(-d*g + g*n - h)/(b*h - d*g + g*n - h)],\n",
       "[                                       a*d*g/(b*h - d*g + g*n - h) + c*(b*h + g*n - h)/(b*h - d*g + g*n - h) - d*g*k/(b*h - d*g + g*n - h) + f*(-b*d + d)/(b*h - d*g + g*n - h),        -(-b*d + d)/(b*h - d*g + g*n - h), 0,          d*g/(b*h - d*g + g*n - h),              -b*d*g/(b*h - d*g + g*n - h)],\n",
       "[                                      -a*g*n/(b*h - d*g + g*n - h) - c*g*n/(b*h - d*g + g*n - h) + f*(b*n - n)/(b*h - d*g + g*n - h) + k*(-b*h + d*g + h)/(b*h - d*g + g*n - h),         -(b*n - n)/(b*h - d*g + g*n - h), 0,         -g*n/(b*h - d*g + g*n - h),               b*g*n/(b*h - d*g + g*n - h)],\n",
       "[-a*g*n/(b*h*j - d*g*j + g*j*n - h*j) - c*g*n/(b*h*j - d*g*j + g*j*n - h*j) + f*(b*n - n)/(b*h*j - d*g*j + g*j*n - h*j) - i/j + k*(-b*h + d*g + h)/(b*h*j - d*g*j + g*j*n - h*j), -(b*n - n)/(b*h*j - d*g*j + g*j*n - h*j), 0, -g*n/(b*h*j - d*g*j + g*j*n - h*j),       b*g*n/(b*h*j - d*g*j + g*j*n - h*j)],\n",
       "[                                                            a*g/(b*h - d*g + g*n - h) + c*g/(b*h - d*g + g*n - h) + f*(1 - b)/(b*h - d*g + g*n - h) - g*k/(b*h - d*g + g*n - h),           -(1 - b)/(b*h - d*g + g*n - h), 0,            g/(b*h - d*g + g*n - h),                -b*g/(b*h - d*g + g*n - h)],\n",
       "[                                                                                                                                                                              0,                                        1, 0,                                  0,                                         0],\n",
       "[                                       a*g*n/(b*h - d*g + g*n - h) + c*g*n/(b*h - d*g + g*n - h) + f*(-b*n + n)/(b*h - d*g + g*n - h) + k*(b*h - d*g - h)/(b*h - d*g + g*n - h),        -(-b*n + n)/(b*h - d*g + g*n - h), 0,          g*n/(b*h - d*g + g*n - h),              -b*g*n/(b*h - d*g + g*n - h)]])*Matrix([\n",
       "[1],\n",
       "[M],\n",
       "[P],\n",
       "[G],\n",
       "[T]]) + Matrix([\n",
       "[          -h/(b*h - d*g + g*n - h),               -h/(b*h - d*g + g*n - h),              -h/(b*h - d*g + g*n - h),           (d - n)/(b*h - d*g + g*n - h),           (d - n)/(b*h - d*g + g*n - h),    0,                        h/(b*h - d*g + g*n - h),                      -h/(b*h - d*g + g*n - h)],\n",
       "[        -b*h/(b*h - d*g + g*n - h), (-d*g + g*n - h)/(b*h - d*g + g*n - h),            -b*h/(b*h - d*g + g*n - h),       (b*d - b*n)/(b*h - d*g + g*n - h),       (b*d - b*n)/(b*h - d*g + g*n - h),    0,                      b*h/(b*h - d*g + g*n - h),                    -b*h/(b*h - d*g + g*n - h)],\n",
       "[         d*g/(b*h - d*g + g*n - h),              d*g/(b*h - d*g + g*n - h), (b*h + g*n - h)/(b*h - d*g + g*n - h),        (-b*d + d)/(b*h - d*g + g*n - h),        (-b*d + d)/(b*h - d*g + g*n - h),    0,                     -d*g/(b*h - d*g + g*n - h),                     d*g/(b*h - d*g + g*n - h)],\n",
       "[        -g*n/(b*h - d*g + g*n - h),             -g*n/(b*h - d*g + g*n - h),            -g*n/(b*h - d*g + g*n - h),         (b*n - n)/(b*h - d*g + g*n - h),         (b*n - n)/(b*h - d*g + g*n - h),    0,         (-b*h + d*g + h)/(b*h - d*g + g*n - h),         (b*h - d*g - h)/(b*h - d*g + g*n - h)],\n",
       "[-g*n/(b*h*j - d*g*j + g*j*n - h*j),     -g*n/(b*h*j - d*g*j + g*j*n - h*j),    -g*n/(b*h*j - d*g*j + g*j*n - h*j), (b*n - n)/(b*h*j - d*g*j + g*j*n - h*j), (b*n - n)/(b*h*j - d*g*j + g*j*n - h*j), -1/j, (-b*h + d*g + h)/(b*h*j - d*g*j + g*j*n - h*j), (b*h - d*g - h)/(b*h*j - d*g*j + g*j*n - h*j)],\n",
       "[           g/(b*h - d*g + g*n - h),                g/(b*h - d*g + g*n - h),               g/(b*h - d*g + g*n - h),           (1 - b)/(b*h - d*g + g*n - h),           (1 - b)/(b*h - d*g + g*n - h),    0,                       -g/(b*h - d*g + g*n - h),                       g/(b*h - d*g + g*n - h)],\n",
       "[                                 0,                                      0,                                     0,                                       0,                                      -1,    0,                                              0,                                             0],\n",
       "[         g*n/(b*h - d*g + g*n - h),              g*n/(b*h - d*g + g*n - h),             g*n/(b*h - d*g + g*n - h),        (-b*n + n)/(b*h - d*g + g*n - h),        (-b*n + n)/(b*h - d*g + g*n - h),    0,          (b*h - d*g - h)/(b*h - d*g + g*n - h),                     g*n/(b*h - d*g + g*n - h)]])*Matrix([\n",
       "[ 0],\n",
       "[ε0],\n",
       "[ε1],\n",
       "[ε2],\n",
       "[ 0],\n",
       "[ε3],\n",
       "[ε4],\n",
       "[ 0]]))"
      ]
     },
     "metadata": {},
     "execution_count": 346
    }
   ],
   "metadata": {}
  },
  {
   "cell_type": "markdown",
   "source": [
    "### Приведенная форма (система)"
   ],
   "metadata": {}
  },
  {
   "cell_type": "code",
   "execution_count": 347,
   "source": [
    "Eq(Symbol('Y'), reduced_form_system[Symbol('Y')], evaluate=False)"
   ],
   "outputs": [
    {
     "output_type": "execute_result",
     "data": {
      "text/latex": [
       "$\\displaystyle Y = \\frac{- G h - M d + M n + T b h - a h - c h + d f + d ε_{2} - f n + h k - h ε_{0} - h ε_{1} + h ε_{4} - n ε_{2}}{b h - d g + g n - h}$"
      ],
      "text/plain": [
       "Eq(Y, (-G*h - M*d + M*n + T*b*h - a*h - c*h + d*f + d*ε2 - f*n + h*k - h*ε0 - h*ε1 + h*ε4 - n*ε2)/(b*h - d*g + g*n - h))"
      ]
     },
     "metadata": {},
     "execution_count": 347
    }
   ],
   "metadata": {}
  },
  {
   "cell_type": "code",
   "execution_count": 348,
   "source": [
    "Eq(Symbol('С'), reduced_form_system[Symbol('C')], evaluate=False)"
   ],
   "outputs": [
    {
     "output_type": "execute_result",
     "data": {
      "text/latex": [
       "$\\displaystyle С = \\frac{- G b h - M b d + M b n + T b d g - T b g n + T b h - a d g + a g n - a h - b c h + b d f + b d ε_{2} - b f n + b h k - b h ε_{1} + b h ε_{4} - b n ε_{2} - d g ε_{0} + g n ε_{0} - h ε_{0}}{b h - d g + g n - h}$"
      ],
      "text/plain": [
       "Eq(С, (-G*b*h - M*b*d + M*b*n + T*b*d*g - T*b*g*n + T*b*h - a*d*g + a*g*n - a*h - b*c*h + b*d*f + b*d*ε2 - b*f*n + b*h*k - b*h*ε1 + b*h*ε4 - b*n*ε2 - d*g*ε0 + g*n*ε0 - h*ε0)/(b*h - d*g + g*n - h))"
      ]
     },
     "metadata": {},
     "execution_count": 348
    }
   ],
   "metadata": {}
  },
  {
   "cell_type": "code",
   "execution_count": 349,
   "source": [
    "Eq(Symbol('I'), reduced_form_system[Symbol('I')], evaluate=False)"
   ],
   "outputs": [
    {
     "output_type": "execute_result",
     "data": {
      "text/latex": [
       "$\\displaystyle I = \\frac{G d g + M b d - M d - T b d g + a d g + b c h - b d f - b d ε_{2} + b h ε_{1} + c g n - c h + d f - d g k + d g ε_{0} - d g ε_{4} + d ε_{2} + g n ε_{1} - h ε_{1}}{b h - d g + g n - h}$"
      ],
      "text/plain": [
       "Eq(I, (G*d*g + M*b*d - M*d - T*b*d*g + a*d*g + b*c*h - b*d*f - b*d*ε2 + b*h*ε1 + c*g*n - c*h + d*f - d*g*k + d*g*ε0 - d*g*ε4 + d*ε2 + g*n*ε1 - h*ε1)/(b*h - d*g + g*n - h))"
      ]
     },
     "metadata": {},
     "execution_count": 349
    }
   ],
   "metadata": {}
  },
  {
   "cell_type": "code",
   "execution_count": 350,
   "source": [
    "Eq(Symbol('NX'), reduced_form_system[Symbol('NX')], evaluate=False)"
   ],
   "outputs": [
    {
     "output_type": "execute_result",
     "data": {
      "text/latex": [
       "$\\displaystyle NX = \\frac{- G g n - M b n + M n + T b g n - a g n + b f n - b h k - b h ε_{4} + b n ε_{2} - c g n + d g k + d g ε_{4} - f n - g n ε_{0} - g n ε_{1} + h k + h ε_{4} - n ε_{2}}{b h - d g + g n - h}$"
      ],
      "text/plain": [
       "Eq(NX, (-G*g*n - M*b*n + M*n + T*b*g*n - a*g*n + b*f*n - b*h*k - b*h*ε4 + b*n*ε2 - c*g*n + d*g*k + d*g*ε4 - f*n - g*n*ε0 - g*n*ε1 + h*k + h*ε4 - n*ε2)/(b*h - d*g + g*n - h))"
      ]
     },
     "metadata": {},
     "execution_count": 350
    }
   ],
   "metadata": {}
  },
  {
   "cell_type": "code",
   "execution_count": 351,
   "source": [
    "Eq(Symbol('E'), reduced_form_system[Symbol('E')], evaluate=False)"
   ],
   "outputs": [
    {
     "output_type": "execute_result",
     "data": {
      "text/latex": [
       "$\\displaystyle E = \\frac{- G g n - M b n + M n + T b g n - a g n + b f n - b h i - b h k - b h ε_{3} - b h ε_{4} + b n ε_{2} - c g n + d g i + d g k + d g ε_{3} + d g ε_{4} - f n - g i n - g n ε_{0} - g n ε_{1} - g n ε_{3} + h i + h k + h ε_{3} + h ε_{4} - n ε_{2}}{b h j - d g j + g j n - h j}$"
      ],
      "text/plain": [
       "Eq(E, (-G*g*n - M*b*n + M*n + T*b*g*n - a*g*n + b*f*n - b*h*i - b*h*k - b*h*ε3 - b*h*ε4 + b*n*ε2 - c*g*n + d*g*i + d*g*k + d*g*ε3 + d*g*ε4 - f*n - g*i*n - g*n*ε0 - g*n*ε1 - g*n*ε3 + h*i + h*k + h*ε3 + h*ε4 - n*ε2)/(b*h*j - d*g*j + g*j*n - h*j))"
      ]
     },
     "metadata": {},
     "execution_count": 351
    }
   ],
   "metadata": {}
  },
  {
   "cell_type": "code",
   "execution_count": 352,
   "source": [
    "Eq(Symbol('R'), reduced_form_system[Symbol('R')], evaluate=False)"
   ],
   "outputs": [
    {
     "output_type": "execute_result",
     "data": {
      "text/latex": [
       "$\\displaystyle R = \\frac{G g + M b - M - T b g + a g - b f - b ε_{2} + c g + f - g k + g ε_{0} + g ε_{1} - g ε_{4} + ε_{2}}{b h - d g + g n - h}$"
      ],
      "text/plain": [
       "Eq(R, (G*g + M*b - M - T*b*g + a*g - b*f - b*ε2 + c*g + f - g*k + g*ε0 + g*ε1 - g*ε4 + ε2)/(b*h - d*g + g*n - h))"
      ]
     },
     "metadata": {},
     "execution_count": 352
    }
   ],
   "metadata": {}
  },
  {
   "cell_type": "code",
   "execution_count": 353,
   "source": [
    "Eq(Symbol('L'), reduced_form_system[Symbol('L')], evaluate=False)"
   ],
   "outputs": [
    {
     "output_type": "execute_result",
     "data": {
      "text/latex": [
       "$\\displaystyle L = M$"
      ],
      "text/plain": [
       "Eq(L, M)"
      ]
     },
     "metadata": {},
     "execution_count": 353
    }
   ],
   "metadata": {}
  },
  {
   "cell_type": "code",
   "execution_count": 354,
   "source": [
    "Eq(Symbol('CF'), reduced_form_system[Symbol('CF')], evaluate=False)"
   ],
   "outputs": [
    {
     "output_type": "execute_result",
     "data": {
      "text/latex": [
       "$\\displaystyle CF = \\frac{G g n + M b n - M n - T b g n + a g n - b f n + b h k + b h ε_{4} - b n ε_{2} + c g n - d g k - d g ε_{4} + f n + g n ε_{0} + g n ε_{1} - h k - h ε_{4} + n ε_{2}}{b h - d g + g n - h}$"
      ],
      "text/plain": [
       "Eq(CF, (G*g*n + M*b*n - M*n - T*b*g*n + a*g*n - b*f*n + b*h*k + b*h*ε4 - b*n*ε2 + c*g*n - d*g*k - d*g*ε4 + f*n + g*n*ε0 + g*n*ε1 - h*k - h*ε4 + n*ε2)/(b*h - d*g + g*n - h))"
      ]
     },
     "metadata": {},
     "execution_count": 354
    }
   ],
   "metadata": {}
  },
  {
   "cell_type": "markdown",
   "source": [
    "## 2.2 Модель денежного и товарного рынков"
   ],
   "metadata": {}
  },
  {
   "cell_type": "markdown",
   "source": [
    "Представленную ниже структурную форму модели преобразуйте к приведенной. Запишите приведенную форму задачи в матричном виде.\n",
    "Модель денежного и товарного рынков\n",
    "\n",
    "Модель денежного и товарного рынков:<br>\n",
    "R = a1 + b12 * Y + b14 * M               (функция денежного рынка)<br>\n",
    "Y = a2 + b21 * R + b23 * I + b25 * G     (функция товарного рынка)<br>\n",
    "I = a3 + b31 * R                         (функция инвестиций)<br>\n",
    "<br>R - процентные ставки\n",
    "<br>Y - реальный ВВП\n",
    "<br>M - денежная масса\n",
    "<br>I - внутренние инвестиции\n",
    "<br>G - реальные государственные расходы"
   ],
   "metadata": {},
   "attachments": {}
  },
  {
   "cell_type": "code",
   "execution_count": 355,
   "source": [
    "endog = 'R Y I'\n",
    "endog = get_symbols_dict(endog)\n",
    "\n",
    "predifins = 'M G'\n",
    "predifins = get_symbols_dict(predifins)\n",
    "\n",
    "params = 'a1 a2 a3 b12 b14 b21 b23 b25 b31'\n",
    "params = get_symbols_dict(params)\n",
    "\n",
    "# Система\n",
    "\n",
    "eq_system = [\n",
    "    Eq(endog['R'],\n",
    "       params['a1'] + params['b12'] * endog['Y'] + params['b14'] * predifins['M']),\n",
    "    Eq(endog['Y'],\n",
    "       params['a2'] + params['b21'] * endog['R'] + params['b23'] * endog['I'] + params['b25'] * predifins['G']),\n",
    "    Eq(endog['I'],\n",
    "       params['a3'] + params['b31'] * endog['R']),\n",
    "]\n",
    "\n",
    "# Приведенная\n",
    "\n",
    "reduced_form_system = solve(eq_system, *endog.values())\n",
    "\n",
    "\n",
    "Y = create_endog_v(endog)\n",
    "X = create_predifined_v([1], predifins)\n",
    "\n",
    "# матрица коэфф Эндогенных\n",
    "A = Matrix([\n",
    "    [1, -params['b12'], 0],\n",
    "    [-params['b21'], 1, -params['b23']],\n",
    "    [-params['b31'], 0, 1]\n",
    "])\n",
    "\n",
    "# матрица коэфф Предопределенных\n",
    "B = Matrix([\n",
    "    [-params['a1'], -params['b14'], 0],\n",
    "    [-params['a2'], 0, -params['b25']],\n",
    "    [-params['a3'], 0, 0],\n",
    "])\n",
    "\n",
    "U = Matrix([\n",
    "    [0],\n",
    "    [0],\n",
    "    [0]\n",
    "])\n",
    "\n",
    "\n",
    "M = calc_M(A, B)\n",
    "reduced_form_matrix = get_reduced_form(X, Y, A, M, U)"
   ],
   "outputs": [],
   "metadata": {
    "pycharm": {
     "name": "#%%\n"
    }
   }
  },
  {
   "cell_type": "code",
   "execution_count": 356,
   "source": [
    "Eq(Symbol('Y'), Y, evaluate=False)"
   ],
   "outputs": [
    {
     "output_type": "execute_result",
     "data": {
      "text/latex": [
       "$\\displaystyle Y = \\left[\\begin{matrix}R\\\\Y\\\\I\\end{matrix}\\right]$"
      ],
      "text/plain": [
       "Eq(Y, Matrix([\n",
       "[R],\n",
       "[Y],\n",
       "[I]]))"
      ]
     },
     "metadata": {},
     "execution_count": 356
    }
   ],
   "metadata": {
    "pycharm": {
     "name": "#%%\n"
    }
   }
  },
  {
   "cell_type": "code",
   "execution_count": 357,
   "source": [
    "Eq(Symbol('X'), X, evaluate=False)"
   ],
   "outputs": [
    {
     "output_type": "execute_result",
     "data": {
      "text/latex": [
       "$\\displaystyle X = \\left[\\begin{matrix}1\\\\M\\\\G\\end{matrix}\\right]$"
      ],
      "text/plain": [
       "Eq(X, Matrix([\n",
       "[1],\n",
       "[M],\n",
       "[G]]))"
      ]
     },
     "metadata": {},
     "execution_count": 357
    }
   ],
   "metadata": {
    "pycharm": {
     "name": "#%%\n"
    }
   }
  },
  {
   "cell_type": "code",
   "execution_count": 358,
   "source": [
    "Eq(Symbol('A'), A, evaluate=False)"
   ],
   "outputs": [
    {
     "output_type": "execute_result",
     "data": {
      "text/latex": [
       "$\\displaystyle A = \\left[\\begin{matrix}1 & - b_{12} & 0\\\\- b_{21} & 1 & - b_{23}\\\\- b_{31} & 0 & 1\\end{matrix}\\right]$"
      ],
      "text/plain": [
       "Eq(A, Matrix([\n",
       "[   1, -b12,    0],\n",
       "[-b21,    1, -b23],\n",
       "[-b31,    0,    1]]))"
      ]
     },
     "metadata": {},
     "execution_count": 358
    }
   ],
   "metadata": {
    "pycharm": {
     "name": "#%%\n"
    }
   }
  },
  {
   "cell_type": "code",
   "execution_count": 359,
   "source": [
    "Eq(Symbol('B'), B, evaluate=False)"
   ],
   "outputs": [
    {
     "output_type": "execute_result",
     "data": {
      "text/latex": [
       "$\\displaystyle B = \\left[\\begin{matrix}- a_{1} & - b_{14} & 0\\\\- a_{2} & 0 & - b_{25}\\\\- a_{3} & 0 & 0\\end{matrix}\\right]$"
      ],
      "text/plain": [
       "Eq(B, Matrix([\n",
       "[-a1, -b14,    0],\n",
       "[-a2,    0, -b25],\n",
       "[-a3,    0,    0]]))"
      ]
     },
     "metadata": {},
     "execution_count": 359
    }
   ],
   "metadata": {
    "pycharm": {
     "name": "#%%\n"
    }
   }
  },
  {
   "cell_type": "code",
   "execution_count": 360,
   "source": [
    "Eq(Symbol('U'), U, evaluate=False)"
   ],
   "outputs": [
    {
     "output_type": "execute_result",
     "data": {
      "text/latex": [
       "$\\displaystyle U = \\left[\\begin{matrix}0\\\\0\\\\0\\end{matrix}\\right]$"
      ],
      "text/plain": [
       "Eq(U, Matrix([\n",
       "[0],\n",
       "[0],\n",
       "[0]]))"
      ]
     },
     "metadata": {},
     "execution_count": 360
    }
   ],
   "metadata": {
    "pycharm": {
     "name": "#%%\n"
    }
   }
  },
  {
   "cell_type": "markdown",
   "source": [
    "### Приведенная форма (матричная)"
   ],
   "metadata": {}
  },
  {
   "cell_type": "code",
   "execution_count": 361,
   "source": [
    "reduced_form_matrix"
   ],
   "outputs": [
    {
     "output_type": "execute_result",
     "data": {
      "text/latex": [
       "$\\displaystyle \\left[\\begin{matrix}R\\\\Y\\\\I\\end{matrix}\\right] = \\left[\\begin{matrix}- \\frac{a_{1}}{b_{12} b_{21} + b_{12} b_{23} b_{31} - 1} - \\frac{a_{2} b_{12}}{b_{12} b_{21} + b_{12} b_{23} b_{31} - 1} - \\frac{a_{3} b_{12} b_{23}}{b_{12} b_{21} + b_{12} b_{23} b_{31} - 1} & - \\frac{b_{14}}{b_{12} b_{21} + b_{12} b_{23} b_{31} - 1} & - \\frac{b_{12} b_{25}}{b_{12} b_{21} + b_{12} b_{23} b_{31} - 1}\\\\\\frac{a_{1} \\left(- b_{21} - b_{23} b_{31}\\right)}{b_{12} b_{21} + b_{12} b_{23} b_{31} - 1} - \\frac{a_{2}}{b_{12} b_{21} + b_{12} b_{23} b_{31} - 1} - \\frac{a_{3} b_{23}}{b_{12} b_{21} + b_{12} b_{23} b_{31} - 1} & \\frac{b_{14} \\left(- b_{21} - b_{23} b_{31}\\right)}{b_{12} b_{21} + b_{12} b_{23} b_{31} - 1} & - \\frac{b_{25}}{b_{12} b_{21} + b_{12} b_{23} b_{31} - 1}\\\\- \\frac{a_{1} b_{31}}{b_{12} b_{21} + b_{12} b_{23} b_{31} - 1} - \\frac{a_{2} b_{12} b_{31}}{b_{12} b_{21} + b_{12} b_{23} b_{31} - 1} + \\frac{a_{3} \\left(b_{12} b_{21} - 1\\right)}{b_{12} b_{21} + b_{12} b_{23} b_{31} - 1} & - \\frac{b_{14} b_{31}}{b_{12} b_{21} + b_{12} b_{23} b_{31} - 1} & - \\frac{b_{12} b_{25} b_{31}}{b_{12} b_{21} + b_{12} b_{23} b_{31} - 1}\\end{matrix}\\right] \\left[\\begin{matrix}1\\\\M\\\\G\\end{matrix}\\right]$"
      ],
      "text/plain": [
       "Eq(Matrix([\n",
       "[R],\n",
       "[Y],\n",
       "[I]]), Matrix([\n",
       "[              -a1/(b12*b21 + b12*b23*b31 - 1) - a2*b12/(b12*b21 + b12*b23*b31 - 1) - a3*b12*b23/(b12*b21 + b12*b23*b31 - 1),                 -b14/(b12*b21 + b12*b23*b31 - 1),     -b12*b25/(b12*b21 + b12*b23*b31 - 1)],\n",
       "[      a1*(-b21 - b23*b31)/(b12*b21 + b12*b23*b31 - 1) - a2/(b12*b21 + b12*b23*b31 - 1) - a3*b23/(b12*b21 + b12*b23*b31 - 1), b14*(-b21 - b23*b31)/(b12*b21 + b12*b23*b31 - 1),         -b25/(b12*b21 + b12*b23*b31 - 1)],\n",
       "[-a1*b31/(b12*b21 + b12*b23*b31 - 1) - a2*b12*b31/(b12*b21 + b12*b23*b31 - 1) + a3*(b12*b21 - 1)/(b12*b21 + b12*b23*b31 - 1),             -b14*b31/(b12*b21 + b12*b23*b31 - 1), -b12*b25*b31/(b12*b21 + b12*b23*b31 - 1)]])*Matrix([\n",
       "[1],\n",
       "[M],\n",
       "[G]]))"
      ]
     },
     "metadata": {},
     "execution_count": 361
    }
   ],
   "metadata": {
    "pycharm": {
     "name": "#%%\n"
    }
   }
  },
  {
   "cell_type": "markdown",
   "source": [
    "### Приведенная форма (система)"
   ],
   "metadata": {}
  },
  {
   "cell_type": "code",
   "execution_count": 362,
   "source": [
    "Eq(Symbol('R'), reduced_form_system[Symbol('R')], evaluate=False)"
   ],
   "outputs": [
    {
     "output_type": "execute_result",
     "data": {
      "text/latex": [
       "$\\displaystyle R = \\frac{- G b_{12} b_{25} - M b_{14} - a_{1} - a_{2} b_{12} - a_{3} b_{12} b_{23}}{b_{12} b_{21} + b_{12} b_{23} b_{31} - 1}$"
      ],
      "text/plain": [
       "Eq(R, (-G*b12*b25 - M*b14 - a1 - a2*b12 - a3*b12*b23)/(b12*b21 + b12*b23*b31 - 1))"
      ]
     },
     "metadata": {},
     "execution_count": 362
    }
   ],
   "metadata": {
    "pycharm": {
     "name": "#%%\n"
    }
   }
  },
  {
   "cell_type": "code",
   "execution_count": 363,
   "source": [
    "Eq(Symbol('I'), reduced_form_system[Symbol('I')], evaluate=False)"
   ],
   "outputs": [
    {
     "output_type": "execute_result",
     "data": {
      "text/latex": [
       "$\\displaystyle I = \\frac{- G b_{12} b_{25} b_{31} - M b_{14} b_{31} - a_{1} b_{31} - a_{2} b_{12} b_{31} + a_{3} b_{12} b_{21} - a_{3}}{b_{12} b_{21} + b_{12} b_{23} b_{31} - 1}$"
      ],
      "text/plain": [
       "Eq(I, (-G*b12*b25*b31 - M*b14*b31 - a1*b31 - a2*b12*b31 + a3*b12*b21 - a3)/(b12*b21 + b12*b23*b31 - 1))"
      ]
     },
     "metadata": {},
     "execution_count": 363
    }
   ],
   "metadata": {
    "pycharm": {
     "name": "#%%\n"
    }
   }
  },
  {
   "cell_type": "code",
   "execution_count": 364,
   "source": [
    "Eq(Symbol('Y'), reduced_form_system[Symbol('Y')], evaluate=False)"
   ],
   "outputs": [
    {
     "output_type": "execute_result",
     "data": {
      "text/latex": [
       "$\\displaystyle Y = \\frac{- G b_{25} - M b_{14} b_{21} - M b_{14} b_{23} b_{31} - a_{1} b_{21} - a_{1} b_{23} b_{31} - a_{2} - a_{3} b_{23}}{b_{12} b_{21} + b_{12} b_{23} b_{31} - 1}$"
      ],
      "text/plain": [
       "Eq(Y, (-G*b25 - M*b14*b21 - M*b14*b23*b31 - a1*b21 - a1*b23*b31 - a2 - a3*b23)/(b12*b21 + b12*b23*b31 - 1))"
      ]
     },
     "metadata": {},
     "execution_count": 364
    }
   ],
   "metadata": {
    "pycharm": {
     "name": "#%%\n"
    }
   }
  },
  {
   "cell_type": "markdown",
   "source": [
    "## 2.3 Гипотетическая модель экономики"
   ],
   "metadata": {}
  },
  {
   "cell_type": "markdown",
   "source": [
    "Представленную ниже структурную форму модели преобразуйте к приведенной. Запишите приведенную форму задачи в матричном виде.\n",
    "\n",
    "<br>Гипотетическая модель экономики:\n",
    "<br>C = a1 + b11 * Y + b12 * J\n",
    "<br>J = a2 + b21 * Y_t-1\n",
    "<br>T = a3 + b31 * Y\n",
    "<br>Y = C + J + G\n",
    "<br><br>C - совокупное потребление в период t\n",
    "<br>Y - совокупный доход в период t\n",
    "<br>J - инвестиции в период t\n",
    "<br>T - налог в период t\n",
    "<br>G - государственные доходы в период t"
   ],
   "metadata": {}
  },
  {
   "cell_type": "code",
   "execution_count": 365,
   "source": [
    "endog = 'C Y J T'\n",
    "endog = get_symbols_dict(endog)\n",
    "\n",
    "predifins = 'Y_t-1 G'\n",
    "predifins = get_symbols_dict(predifins)\n",
    "\n",
    "params = 'a1 a2 a3 b11 b12 b21 b31'\n",
    "params = get_symbols_dict(params)\n",
    "\n",
    "# Система\n",
    "\n",
    "eq_system = [\n",
    "    Eq(endog['C'],\n",
    "       params['a1'] + params['b11'] * endog['Y'] + params['b12'] * endog['J']),\n",
    "    Eq(endog['J'],\n",
    "       params['a2'] + params['b21'] * predifins['Y_t-1']),\n",
    "    Eq(endog['T'],\n",
    "       params['a3'] + params['b31'] * endog['Y']),\n",
    "    Eq(endog['Y'],\n",
    "       endog['C'] + endog['J'] + predifins['G']),\n",
    "]\n",
    "\n",
    "# Приведенная\n",
    "\n",
    "reduced_form_system = solve(eq_system, *endog.values())\n",
    "\n",
    "\n",
    "Y = create_endog_v(endog)\n",
    "X = create_predifined_v([1], predifins)\n",
    "\n",
    "# матрица коэфф Эндогенных\n",
    "A = Matrix([\n",
    "    [1, -params['b12'], 0, -params['b11']],\n",
    "    [0, 1, 0, 0],\n",
    "    [0, 0, 1, -params['b31']],\n",
    "    [-1, -1, 0, 1],\n",
    "])\n",
    "\n",
    "# матрица коэфф Предопределенных\n",
    "B = Matrix([\n",
    "    [-params['a1'], 0, 0],\n",
    "    [-params['a2'], -params['b21'], 0],\n",
    "    [-params['a3'], 0, 0],\n",
    "    [0, 0, -1],\n",
    "])\n",
    "\n",
    "U = Matrix([\n",
    "    [0],\n",
    "    [0],\n",
    "    [0],\n",
    "    [0],\n",
    "])\n",
    "\n",
    "\n",
    "M = calc_M(A, B)\n",
    "reduced_form_matrix = get_reduced_form(X, Y, A, M, U)\n"
   ],
   "outputs": [],
   "metadata": {}
  },
  {
   "cell_type": "code",
   "execution_count": 366,
   "source": [
    "Eq(Symbol('Y'), Y, evaluate=False)"
   ],
   "outputs": [
    {
     "output_type": "execute_result",
     "data": {
      "text/latex": [
       "$\\displaystyle Y = \\left[\\begin{matrix}C\\\\Y\\\\J\\\\T\\end{matrix}\\right]$"
      ],
      "text/plain": [
       "Eq(Y, Matrix([\n",
       "[C],\n",
       "[Y],\n",
       "[J],\n",
       "[T]]))"
      ]
     },
     "metadata": {},
     "execution_count": 366
    }
   ],
   "metadata": {}
  },
  {
   "cell_type": "code",
   "execution_count": 367,
   "source": [
    "Eq(Symbol('X'), X, evaluate=False)"
   ],
   "outputs": [
    {
     "output_type": "execute_result",
     "data": {
      "text/latex": [
       "$\\displaystyle X = \\left[\\begin{matrix}1\\\\Y_{t-1}\\\\G\\end{matrix}\\right]$"
      ],
      "text/plain": [
       "Eq(X, Matrix([\n",
       "[    1],\n",
       "[Y_t-1],\n",
       "[    G]]))"
      ]
     },
     "metadata": {},
     "execution_count": 367
    }
   ],
   "metadata": {}
  },
  {
   "cell_type": "code",
   "execution_count": 368,
   "source": [
    "Eq(Symbol('A'), A, evaluate=False)"
   ],
   "outputs": [
    {
     "output_type": "execute_result",
     "data": {
      "text/latex": [
       "$\\displaystyle A = \\left[\\begin{matrix}1 & - b_{12} & 0 & - b_{11}\\\\0 & 1 & 0 & 0\\\\0 & 0 & 1 & - b_{31}\\\\-1 & -1 & 0 & 1\\end{matrix}\\right]$"
      ],
      "text/plain": [
       "Eq(A, Matrix([\n",
       "[ 1, -b12, 0, -b11],\n",
       "[ 0,    1, 0,    0],\n",
       "[ 0,    0, 1, -b31],\n",
       "[-1,   -1, 0,    1]]))"
      ]
     },
     "metadata": {},
     "execution_count": 368
    }
   ],
   "metadata": {}
  },
  {
   "cell_type": "code",
   "execution_count": 369,
   "source": [
    "Eq(Symbol('B'), B, evaluate=False)"
   ],
   "outputs": [
    {
     "output_type": "execute_result",
     "data": {
      "text/latex": [
       "$\\displaystyle B = \\left[\\begin{matrix}- a_{1} & 0 & 0\\\\- a_{2} & - b_{21} & 0\\\\- a_{3} & 0 & 0\\\\0 & 0 & -1\\end{matrix}\\right]$"
      ],
      "text/plain": [
       "Eq(B, Matrix([\n",
       "[-a1,    0,  0],\n",
       "[-a2, -b21,  0],\n",
       "[-a3,    0,  0],\n",
       "[  0,    0, -1]]))"
      ]
     },
     "metadata": {},
     "execution_count": 369
    }
   ],
   "metadata": {}
  },
  {
   "cell_type": "code",
   "execution_count": 370,
   "source": [
    "Eq(Symbol('U'), U, evaluate=False)"
   ],
   "outputs": [
    {
     "output_type": "execute_result",
     "data": {
      "text/latex": [
       "$\\displaystyle U = \\left[\\begin{matrix}0\\\\0\\\\0\\\\0\\end{matrix}\\right]$"
      ],
      "text/plain": [
       "Eq(U, Matrix([\n",
       "[0],\n",
       "[0],\n",
       "[0],\n",
       "[0]]))"
      ]
     },
     "metadata": {},
     "execution_count": 370
    }
   ],
   "metadata": {}
  },
  {
   "cell_type": "markdown",
   "source": [
    "### Приведенная форма (матричная)"
   ],
   "metadata": {
    "pycharm": {
     "name": "#%% md\n"
    }
   }
  },
  {
   "cell_type": "code",
   "execution_count": 371,
   "source": [
    "reduced_form_matrix"
   ],
   "outputs": [
    {
     "output_type": "execute_result",
     "data": {
      "text/latex": [
       "$\\displaystyle \\left[\\begin{matrix}C\\\\Y\\\\J\\\\T\\end{matrix}\\right] = \\left[\\begin{matrix}\\frac{a_{1}}{1 - b_{11}} + \\frac{a_{2} \\left(b_{11} + b_{12}\\right)}{1 - b_{11}} & \\frac{b_{21} \\left(b_{11} + b_{12}\\right)}{1 - b_{11}} & \\frac{b_{11}}{1 - b_{11}}\\\\a_{2} & b_{21} & 0\\\\\\frac{a_{1} b_{31}}{1 - b_{11}} + \\frac{a_{2} \\left(- b_{12} b_{31} - b_{31}\\right)}{b_{11} - 1} + a_{3} & \\frac{b_{21} \\left(- b_{12} b_{31} - b_{31}\\right)}{b_{11} - 1} & \\frac{b_{31}}{1 - b_{11}}\\\\\\frac{a_{1}}{1 - b_{11}} - a_{2} \\left(- \\frac{b_{12}}{1 - b_{11}} - \\frac{1}{1 - b_{11}}\\right) & - b_{21} \\left(- \\frac{b_{12}}{1 - b_{11}} - \\frac{1}{1 - b_{11}}\\right) & \\frac{1}{1 - b_{11}}\\end{matrix}\\right] \\left[\\begin{matrix}1\\\\Y_{t-1}\\\\G\\end{matrix}\\right]$"
      ],
      "text/plain": [
       "Eq(Matrix([\n",
       "[C],\n",
       "[Y],\n",
       "[J],\n",
       "[T]]), Matrix([\n",
       "[              a1/(1 - b11) + a2*(b11 + b12)/(1 - b11),           b21*(b11 + b12)/(1 - b11), b11/(1 - b11)],\n",
       "[                                                   a2,                                 b21,             0],\n",
       "[a1*b31/(1 - b11) + a2*(-b12*b31 - b31)/(b11 - 1) + a3,      b21*(-b12*b31 - b31)/(b11 - 1), b31/(1 - b11)],\n",
       "[     a1/(1 - b11) - a2*(-b12/(1 - b11) - 1/(1 - b11)), -b21*(-b12/(1 - b11) - 1/(1 - b11)),   1/(1 - b11)]])*Matrix([\n",
       "[    1],\n",
       "[Y_t-1],\n",
       "[    G]]))"
      ]
     },
     "metadata": {},
     "execution_count": 371
    }
   ],
   "metadata": {}
  },
  {
   "cell_type": "markdown",
   "source": [
    "### Приведенная форма (система)"
   ],
   "metadata": {
    "pycharm": {
     "name": "#%% md\n"
    }
   }
  },
  {
   "cell_type": "code",
   "execution_count": 372,
   "source": [
    "Eq(Symbol('C'), reduced_form_system[Symbol('C')], evaluate=False)"
   ],
   "outputs": [
    {
     "output_type": "execute_result",
     "data": {
      "text/latex": [
       "$\\displaystyle C = \\frac{- G b_{11} - Y_{t-1} b_{11} b_{21} - Y_{t-1} b_{12} b_{21} - a_{1} - a_{2} b_{11} - a_{2} b_{12}}{b_{11} - 1}$"
      ],
      "text/plain": [
       "Eq(C, (-G*b11 - Y_t-1*b11*b21 - Y_t-1*b12*b21 - a1 - a2*b11 - a2*b12)/(b11 - 1))"
      ]
     },
     "metadata": {},
     "execution_count": 372
    }
   ],
   "metadata": {
    "pycharm": {
     "name": "#%%\n"
    }
   }
  },
  {
   "cell_type": "code",
   "execution_count": 373,
   "source": [
    "Eq(Symbol('J'), reduced_form_system[Symbol('J')], evaluate=False)"
   ],
   "outputs": [
    {
     "output_type": "execute_result",
     "data": {
      "text/latex": [
       "$\\displaystyle J = Y_{t-1} b_{21} + a_{2}$"
      ],
      "text/plain": [
       "Eq(J, Y_t-1*b21 + a2)"
      ]
     },
     "metadata": {},
     "execution_count": 373
    }
   ],
   "metadata": {
    "pycharm": {
     "name": "#%%\n"
    }
   }
  },
  {
   "cell_type": "code",
   "execution_count": 374,
   "source": [
    "Eq(Symbol('T'), reduced_form_system[Symbol('T')], evaluate=False)"
   ],
   "outputs": [
    {
     "output_type": "execute_result",
     "data": {
      "text/latex": [
       "$\\displaystyle T = \\frac{- G b_{31} - Y_{t-1} b_{12} b_{21} b_{31} - Y_{t-1} b_{21} b_{31} - a_{1} b_{31} - a_{2} b_{12} b_{31} - a_{2} b_{31} + a_{3} b_{11} - a_{3}}{b_{11} - 1}$"
      ],
      "text/plain": [
       "Eq(T, (-G*b31 - Y_t-1*b12*b21*b31 - Y_t-1*b21*b31 - a1*b31 - a2*b12*b31 - a2*b31 + a3*b11 - a3)/(b11 - 1))"
      ]
     },
     "metadata": {},
     "execution_count": 374
    }
   ],
   "metadata": {
    "pycharm": {
     "name": "#%%\n"
    }
   }
  },
  {
   "cell_type": "code",
   "execution_count": 375,
   "source": [
    "Eq(Symbol('Y'), reduced_form_system[Symbol('Y')], evaluate=False)"
   ],
   "outputs": [
    {
     "output_type": "execute_result",
     "data": {
      "text/latex": [
       "$\\displaystyle Y = \\frac{- G - Y_{t-1} b_{12} b_{21} - Y_{t-1} b_{21} - a_{1} - a_{2} b_{12} - a_{2}}{b_{11} - 1}$"
      ],
      "text/plain": [
       "Eq(Y, (-G - Y_t-1*b12*b21 - Y_t-1*b21 - a1 - a2*b12 - a2)/(b11 - 1))"
      ]
     },
     "metadata": {},
     "execution_count": 375
    }
   ],
   "metadata": {
    "pycharm": {
     "name": "#%%\n"
    }
   }
  }
 ],
 "metadata": {
  "kernelspec": {
   "name": "python3",
   "display_name": "Python 3.7.0 64-bit"
  },
  "language_info": {
   "codemirror_mode": {
    "name": "ipython",
    "version": 3
   },
   "file_extension": ".py",
   "mimetype": "text/x-python",
   "name": "python",
   "nbconvert_exporter": "python",
   "pygments_lexer": "ipython3",
   "version": "3.7.0"
  },
  "interpreter": {
   "hash": "aee8b7b246df8f9039afb4144a1f6fd8d2ca17a180786b69acc140d282b71a49"
  }
 },
 "nbformat": 4,
 "nbformat_minor": 1
}