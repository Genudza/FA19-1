{
 "cells": [
  {
   "cell_type": "code",
   "execution_count": 9,
   "id": "da627a3b",
   "metadata": {},
   "outputs": [],
   "source": [
    "from sympy import symbols, Matrix"
   ]
  },
  {
   "cell_type": "code",
   "execution_count": 10,
   "id": "5b72ada8",
   "metadata": {},
   "outputs": [],
   "source": [
    "a, b, c, d = symbols('a b c d')\n",
    "Yt_1, Yt_2, Gt_1 = symbols('Yt_1 Yt_2 Gt_1')\n",
    "C, I, G, Yt = symbols('C I G Yt')\n",
    "Yt_1, Yt_2, Gt_1 = symbols('Yt_1 Yt_2 Gt_1')\n",
    "e, u, v = symbols('e u v')\n"
   ]
  },
  {
   "cell_type": "code",
   "execution_count": 11,
   "id": "c33fd36b",
   "metadata": {},
   "outputs": [],
   "source": [
    "A = Matrix([\n",
    "    [1, 0, 0, 0],\n",
    "    [0, 1, 0, 0],\n",
    "    [0, 0, 1, 0],\n",
    "    [-1, -1, -1, 1]\n",
    "])"
   ]
  },
  {
   "cell_type": "code",
   "execution_count": 17,
   "id": "6821c643",
   "metadata": {},
   "outputs": [],
   "source": [
    "B = Matrix([\n",
    "    [-b, -a, 0, 0],\n",
    "    [0, -c, c, 0],\n",
    "    [0, 0, 0, -d],\n",
    "    [0, 0, 0, 0]\n",
    "])"
   ]
  },
  {
   "cell_type": "code",
   "execution_count": 18,
   "id": "93cd9381",
   "metadata": {},
   "outputs": [],
   "source": [
    "Y = Matrix([\n",
    "    [C],\n",
    "    [I],\n",
    "    [G],\n",
    "    [Yt]\n",
    "])"
   ]
  },
  {
   "cell_type": "code",
   "execution_count": 19,
   "id": "efee82ff",
   "metadata": {},
   "outputs": [],
   "source": [
    "X = Matrix([\n",
    "    [1],\n",
    "    [Yt_1],\n",
    "    [Yt_2],\n",
    "    [Gt_1]\n",
    "])"
   ]
  },
  {
   "cell_type": "code",
   "execution_count": 20,
   "id": "963f0321",
   "metadata": {},
   "outputs": [],
   "source": [
    "U = Matrix([\n",
    "    [e],\n",
    "    [u],\n",
    "    [v],\n",
    "    [0]\n",
    "])"
   ]
  },
  {
   "cell_type": "code",
   "execution_count": null,
   "id": "198b2316",
   "metadata": {},
   "outputs": [],
   "source": [
    "# Y = M*X + A.inv() * U"
   ]
  },
  {
   "cell_type": "code",
   "execution_count": 27,
   "id": "9bb44f90",
   "metadata": {},
   "outputs": [
    {
     "data": {
      "text/latex": [
       "$\\displaystyle \\left[\\begin{matrix}C\\\\I\\\\G\\\\Yt\\end{matrix}\\right]$"
      ],
      "text/plain": [
       "Matrix([\n",
       "[ C],\n",
       "[ I],\n",
       "[ G],\n",
       "[Yt]])"
      ]
     },
     "execution_count": 27,
     "metadata": {},
     "output_type": "execute_result"
    }
   ],
   "source": [
    "Y"
   ]
  },
  {
   "cell_type": "code",
   "execution_count": 28,
   "id": "eef9a970",
   "metadata": {},
   "outputs": [
    {
     "data": {
      "text/latex": [
       "$\\displaystyle \\left[\\begin{matrix}b & a & 0 & 0\\\\0 & c & - c & 0\\\\0 & 0 & 0 & d\\\\b & a + c & - c & d\\end{matrix}\\right]$"
      ],
      "text/plain": [
       "Matrix([\n",
       "[b,     a,  0, 0],\n",
       "[0,     c, -c, 0],\n",
       "[0,     0,  0, d],\n",
       "[b, a + c, -c, d]])"
      ]
     },
     "execution_count": 28,
     "metadata": {},
     "output_type": "execute_result"
    }
   ],
   "source": [
    "M = -A.inv() * B\n",
    "M"
   ]
  },
  {
   "cell_type": "code",
   "execution_count": 31,
   "id": "c33e023c",
   "metadata": {},
   "outputs": [
    {
     "data": {
      "text/latex": [
       "$\\displaystyle \\left[\\begin{matrix}1\\\\Yt_{1}\\\\Yt_{2}\\\\Gt_{1}\\end{matrix}\\right]$"
      ],
      "text/plain": [
       "Matrix([\n",
       "[   1],\n",
       "[Yt_1],\n",
       "[Yt_2],\n",
       "[Gt_1]])"
      ]
     },
     "execution_count": 31,
     "metadata": {},
     "output_type": "execute_result"
    }
   ],
   "source": [
    "X"
   ]
  },
  {
   "cell_type": "code",
   "execution_count": 29,
   "id": "278c198b",
   "metadata": {},
   "outputs": [
    {
     "data": {
      "text/latex": [
       "$\\displaystyle \\left[\\begin{matrix}1 & 0 & 0 & 0\\\\0 & 1 & 0 & 0\\\\0 & 0 & 1 & 0\\\\1 & 1 & 1 & 1\\end{matrix}\\right]$"
      ],
      "text/plain": [
       "Matrix([\n",
       "[1, 0, 0, 0],\n",
       "[0, 1, 0, 0],\n",
       "[0, 0, 1, 0],\n",
       "[1, 1, 1, 1]])"
      ]
     },
     "execution_count": 29,
     "metadata": {},
     "output_type": "execute_result"
    }
   ],
   "source": [
    "A.inv()"
   ]
  },
  {
   "cell_type": "code",
   "execution_count": 30,
   "id": "f2eb5532",
   "metadata": {},
   "outputs": [
    {
     "data": {
      "text/latex": [
       "$\\displaystyle \\left[\\begin{matrix}e\\\\u\\\\v\\\\0\\end{matrix}\\right]$"
      ],
      "text/plain": [
       "Matrix([\n",
       "[e],\n",
       "[u],\n",
       "[v],\n",
       "[0]])"
      ]
     },
     "execution_count": 30,
     "metadata": {},
     "output_type": "execute_result"
    }
   ],
   "source": [
    "U"
   ]
  },
  {
   "cell_type": "code",
   "execution_count": null,
   "id": "bbb60002",
   "metadata": {},
   "outputs": [],
   "source": []
  }
 ],
 "metadata": {
  "kernelspec": {
   "display_name": "Python 3",
   "language": "python",
   "name": "python3"
  },
  "language_info": {
   "codemirror_mode": {
    "name": "ipython",
    "version": 3
   },
   "file_extension": ".py",
   "mimetype": "text/x-python",
   "name": "python",
   "nbconvert_exporter": "python",
   "pygments_lexer": "ipython3",
   "version": "3.8.10"
  }
 },
 "nbformat": 4,
 "nbformat_minor": 5
}
