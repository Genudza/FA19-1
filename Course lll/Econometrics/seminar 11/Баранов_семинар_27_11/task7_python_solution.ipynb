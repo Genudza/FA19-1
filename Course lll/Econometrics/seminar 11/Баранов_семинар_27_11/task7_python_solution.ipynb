{
 "cells": [
  {
   "cell_type": "code",
   "execution_count": 2,
   "metadata": {
    "collapsed": true
   },
   "outputs": [],
   "source": [
    "import numpy as np\n",
    "import pandas as pd\n",
    "import statsmodels.formula.api as sm\n",
    "import statsmodels.stats as smd\n",
    "import statsmodels.stats.api as sms\n",
    "import scipy.stats"
   ]
  },
  {
   "cell_type": "code",
   "execution_count": 37,
   "metadata": {
    "collapsed": false,
    "pycharm": {
     "name": "#%%\n"
    }
   },
   "outputs": [],
   "source": [
    "data = pd.read_excel(\"task7.xlsx\")\n",
    "# data"
   ]
  },
  {
   "cell_type": "code",
   "execution_count": 4,
   "metadata": {
    "collapsed": false,
    "pycharm": {
     "name": "#%%\n"
    }
   },
   "outputs": [],
   "source": [
    "data_length = len(data)\n",
    "data_len_learning = round(data_length * 0.1)\n",
    "data_len_control = data_length - data_len_learning"
   ]
  },
  {
   "cell_type": "code",
   "execution_count": 5,
   "metadata": {
    "collapsed": false,
    "pycharm": {
     "name": "#%%\n"
    }
   },
   "outputs": [],
   "source": [
    "data_control = data[0: data_len_control]\n",
    "data_learning = data[data_len_control : data_length]"
   ]
  },
  {
   "cell_type": "markdown",
   "metadata": {
    "collapsed": false,
    "pycharm": {
     "name": "#%% md\n"
    }
   },
   "source": [
    "# Проверяем адекватность модели"
   ]
  },
  {
   "cell_type": "code",
   "execution_count": 6,
   "metadata": {
    "collapsed": false,
    "pycharm": {
     "name": "#%%\n"
    }
   },
   "outputs": [
    {
     "data": {
      "text/html": [
       "<table class=\"simpletable\">\n",
       "<caption>OLS Regression Results</caption>\n",
       "<tr>\n",
       "  <th>Dep. Variable:</th>            <td>y</td>        <th>  R-squared:         </th> <td>   0.906</td>\n",
       "</tr>\n",
       "<tr>\n",
       "  <th>Model:</th>                   <td>OLS</td>       <th>  Adj. R-squared:    </th> <td>   0.881</td>\n",
       "</tr>\n",
       "<tr>\n",
       "  <th>Method:</th>             <td>Least Squares</td>  <th>  F-statistic:       </th> <td>   36.15</td>\n",
       "</tr>\n",
       "<tr>\n",
       "  <th>Date:</th>             <td>Sat, 27 Nov 2021</td> <th>  Prob (F-statistic):</th> <td>1.55e-07</td>\n",
       "</tr>\n",
       "<tr>\n",
       "  <th>Time:</th>                 <td>14:41:42</td>     <th>  Log-Likelihood:    </th> <td> -144.58</td>\n",
       "</tr>\n",
       "<tr>\n",
       "  <th>No. Observations:</th>      <td>    20</td>      <th>  AIC:               </th> <td>   299.2</td>\n",
       "</tr>\n",
       "<tr>\n",
       "  <th>Df Residuals:</th>          <td>    15</td>      <th>  BIC:               </th> <td>   304.1</td>\n",
       "</tr>\n",
       "<tr>\n",
       "  <th>Df Model:</th>              <td>     4</td>      <th>                     </th>     <td> </td>   \n",
       "</tr>\n",
       "<tr>\n",
       "  <th>Covariance Type:</th>      <td>nonrobust</td>    <th>                     </th>     <td> </td>   \n",
       "</tr>\n",
       "</table>\n",
       "<table class=\"simpletable\">\n",
       "<tr>\n",
       "      <td></td>         <th>coef</th>     <th>std err</th>      <th>t</th>      <th>P>|t|</th>  <th>[0.025</th>    <th>0.975]</th>  \n",
       "</tr>\n",
       "<tr>\n",
       "  <th>Intercept</th> <td> 1.498e+04</td> <td> 4173.954</td> <td>    3.589</td> <td> 0.003</td> <td> 6084.449</td> <td> 2.39e+04</td>\n",
       "</tr>\n",
       "<tr>\n",
       "  <th>x1</th>        <td>    0.4473</td> <td>    0.130</td> <td>    3.430</td> <td> 0.004</td> <td>    0.169</td> <td>    0.725</td>\n",
       "</tr>\n",
       "<tr>\n",
       "  <th>x2</th>        <td>   36.6988</td> <td>   89.377</td> <td>    0.411</td> <td> 0.687</td> <td> -153.805</td> <td>  227.202</td>\n",
       "</tr>\n",
       "<tr>\n",
       "  <th>x3</th>        <td>  -19.1364</td> <td>   17.123</td> <td>   -1.118</td> <td> 0.281</td> <td>  -55.634</td> <td>   17.361</td>\n",
       "</tr>\n",
       "<tr>\n",
       "  <th>x4</th>        <td> -324.5281</td> <td>   52.813</td> <td>   -6.145</td> <td> 0.000</td> <td> -437.096</td> <td> -211.960</td>\n",
       "</tr>\n",
       "</table>\n",
       "<table class=\"simpletable\">\n",
       "<tr>\n",
       "  <th>Omnibus:</th>       <td> 0.051</td> <th>  Durbin-Watson:     </th> <td>   1.815</td>\n",
       "</tr>\n",
       "<tr>\n",
       "  <th>Prob(Omnibus):</th> <td> 0.975</td> <th>  Jarque-Bera (JB):  </th> <td>   0.203</td>\n",
       "</tr>\n",
       "<tr>\n",
       "  <th>Skew:</th>          <td> 0.100</td> <th>  Prob(JB):          </th> <td>   0.903</td>\n",
       "</tr>\n",
       "<tr>\n",
       "  <th>Kurtosis:</th>      <td> 2.549</td> <th>  Cond. No.          </th> <td>2.25e+05</td>\n",
       "</tr>\n",
       "</table><br/><br/>Notes:<br/>[1] Standard Errors assume that the covariance matrix of the errors is correctly specified.<br/>[2] The condition number is large, 2.25e+05. This might indicate that there are<br/>strong multicollinearity or other numerical problems."
      ],
      "text/plain": [
       "<class 'statsmodels.iolib.summary.Summary'>\n",
       "\"\"\"\n",
       "                            OLS Regression Results                            \n",
       "==============================================================================\n",
       "Dep. Variable:                      y   R-squared:                       0.906\n",
       "Model:                            OLS   Adj. R-squared:                  0.881\n",
       "Method:                 Least Squares   F-statistic:                     36.15\n",
       "Date:                Sat, 27 Nov 2021   Prob (F-statistic):           1.55e-07\n",
       "Time:                        14:41:42   Log-Likelihood:                -144.58\n",
       "No. Observations:                  20   AIC:                             299.2\n",
       "Df Residuals:                      15   BIC:                             304.1\n",
       "Df Model:                           4                                         \n",
       "Covariance Type:            nonrobust                                         \n",
       "==============================================================================\n",
       "                 coef    std err          t      P>|t|      [0.025      0.975]\n",
       "------------------------------------------------------------------------------\n",
       "Intercept   1.498e+04   4173.954      3.589      0.003    6084.449    2.39e+04\n",
       "x1             0.4473      0.130      3.430      0.004       0.169       0.725\n",
       "x2            36.6988     89.377      0.411      0.687    -153.805     227.202\n",
       "x3           -19.1364     17.123     -1.118      0.281     -55.634      17.361\n",
       "x4          -324.5281     52.813     -6.145      0.000    -437.096    -211.960\n",
       "==============================================================================\n",
       "Omnibus:                        0.051   Durbin-Watson:                   1.815\n",
       "Prob(Omnibus):                  0.975   Jarque-Bera (JB):                0.203\n",
       "Skew:                           0.100   Prob(JB):                        0.903\n",
       "Kurtosis:                       2.549   Cond. No.                     2.25e+05\n",
       "==============================================================================\n",
       "\n",
       "Notes:\n",
       "[1] Standard Errors assume that the covariance matrix of the errors is correctly specified.\n",
       "[2] The condition number is large, 2.25e+05. This might indicate that there are\n",
       "strong multicollinearity or other numerical problems.\n",
       "\"\"\""
      ]
     },
     "execution_count": 6,
     "metadata": {},
     "output_type": "execute_result"
    }
   ],
   "source": [
    "model = sm.ols(formula='y ~ x1+x2+x3+x4', data=data_control)\n",
    "results = model.fit()\n",
    "s = results.summary()\n",
    "s"
   ]
  },
  {
   "cell_type": "code",
   "execution_count": 7,
   "metadata": {
    "collapsed": false,
    "pycharm": {
     "name": "#%%\n"
    }
   },
   "outputs": [
    {
     "data": {
      "text/html": [
       "<div>\n",
       "<style scoped>\n",
       "    .dataframe tbody tr th:only-of-type {\n",
       "        vertical-align: middle;\n",
       "    }\n",
       "\n",
       "    .dataframe tbody tr th {\n",
       "        vertical-align: top;\n",
       "    }\n",
       "\n",
       "    .dataframe thead th {\n",
       "        text-align: right;\n",
       "    }\n",
       "</style>\n",
       "<table border=\"1\" class=\"dataframe\">\n",
       "  <thead>\n",
       "    <tr style=\"text-align: right;\">\n",
       "      <th></th>\n",
       "      <th>mean</th>\n",
       "      <th>mean_se</th>\n",
       "      <th>mean_ci_lower</th>\n",
       "      <th>mean_ci_upper</th>\n",
       "      <th>obs_ci_lower</th>\n",
       "      <th>obs_ci_upper</th>\n",
       "    </tr>\n",
       "  </thead>\n",
       "  <tbody>\n",
       "    <tr>\n",
       "      <th>0</th>\n",
       "      <td>14250.571960</td>\n",
       "      <td>126.652990</td>\n",
       "      <td>13980.617503</td>\n",
       "      <td>14520.526417</td>\n",
       "      <td>13385.995225</td>\n",
       "      <td>15115.148696</td>\n",
       "    </tr>\n",
       "    <tr>\n",
       "      <th>1</th>\n",
       "      <td>14155.262839</td>\n",
       "      <td>135.924016</td>\n",
       "      <td>13865.547656</td>\n",
       "      <td>14444.978022</td>\n",
       "      <td>13284.313696</td>\n",
       "      <td>15026.211982</td>\n",
       "    </tr>\n",
       "  </tbody>\n",
       "</table>\n",
       "</div>"
      ],
      "text/plain": [
       "           mean     mean_se  mean_ci_lower  mean_ci_upper  obs_ci_lower  \\\n",
       "0  14250.571960  126.652990   13980.617503   14520.526417  13385.995225   \n",
       "1  14155.262839  135.924016   13865.547656   14444.978022  13284.313696   \n",
       "\n",
       "   obs_ci_upper  \n",
       "0  15115.148696  \n",
       "1  15026.211982  "
      ]
     },
     "execution_count": 7,
     "metadata": {},
     "output_type": "execute_result"
    }
   ],
   "source": [
    "pred = results.get_prediction(data_learning)\n",
    "pred.summary_frame(alpha=0.05)"
   ]
  },
  {
   "cell_type": "code",
   "execution_count": 8,
   "metadata": {
    "collapsed": false,
    "pycharm": {
     "name": "#%%\n"
    }
   },
   "outputs": [
    {
     "data": {
      "text/html": [
       "<div>\n",
       "<style scoped>\n",
       "    .dataframe tbody tr th:only-of-type {\n",
       "        vertical-align: middle;\n",
       "    }\n",
       "\n",
       "    .dataframe tbody tr th {\n",
       "        vertical-align: top;\n",
       "    }\n",
       "\n",
       "    .dataframe thead th {\n",
       "        text-align: right;\n",
       "    }\n",
       "</style>\n",
       "<table border=\"1\" class=\"dataframe\">\n",
       "  <thead>\n",
       "    <tr style=\"text-align: right;\">\n",
       "      <th></th>\n",
       "      <th>y</th>\n",
       "      <th>x1</th>\n",
       "      <th>x2</th>\n",
       "      <th>x3</th>\n",
       "      <th>x4</th>\n",
       "    </tr>\n",
       "  </thead>\n",
       "  <tbody>\n",
       "    <tr>\n",
       "      <th>20</th>\n",
       "      <td>15644.4</td>\n",
       "      <td>5410</td>\n",
       "      <td>30.92</td>\n",
       "      <td>112.0</td>\n",
       "      <td>6.6</td>\n",
       "    </tr>\n",
       "    <tr>\n",
       "      <th>21</th>\n",
       "      <td>15717.8</td>\n",
       "      <td>5023</td>\n",
       "      <td>31.53</td>\n",
       "      <td>110.8</td>\n",
       "      <td>6.5</td>\n",
       "    </tr>\n",
       "  </tbody>\n",
       "</table>\n",
       "</div>"
      ],
      "text/plain": [
       "          y    x1     x2     x3   x4\n",
       "20  15644.4  5410  30.92  112.0  6.6\n",
       "21  15717.8  5023  31.53  110.8  6.5"
      ]
     },
     "execution_count": 8,
     "metadata": {},
     "output_type": "execute_result"
    }
   ],
   "source": [
    "data_learning"
   ]
  },
  {
   "cell_type": "markdown",
   "metadata": {
    "collapsed": false,
    "pycharm": {
     "name": "#%% md\n"
    }
   },
   "source": [
    "## Корреляция"
   ]
  },
  {
   "cell_type": "code",
   "execution_count": 9,
   "metadata": {
    "collapsed": false,
    "pycharm": {
     "name": "#%%\n"
    }
   },
   "outputs": [
    {
     "data": {
      "text/html": [
       "<div>\n",
       "<style scoped>\n",
       "    .dataframe tbody tr th:only-of-type {\n",
       "        vertical-align: middle;\n",
       "    }\n",
       "\n",
       "    .dataframe tbody tr th {\n",
       "        vertical-align: top;\n",
       "    }\n",
       "\n",
       "    .dataframe thead th {\n",
       "        text-align: right;\n",
       "    }\n",
       "</style>\n",
       "<table border=\"1\" class=\"dataframe\">\n",
       "  <thead>\n",
       "    <tr style=\"text-align: right;\">\n",
       "      <th></th>\n",
       "      <th>y</th>\n",
       "      <th>x1</th>\n",
       "      <th>x2</th>\n",
       "      <th>x3</th>\n",
       "      <th>x4</th>\n",
       "    </tr>\n",
       "  </thead>\n",
       "  <tbody>\n",
       "    <tr>\n",
       "      <th>y</th>\n",
       "      <td>1.000000</td>\n",
       "      <td>0.697086</td>\n",
       "      <td>0.690711</td>\n",
       "      <td>0.052676</td>\n",
       "      <td>-0.879374</td>\n",
       "    </tr>\n",
       "    <tr>\n",
       "      <th>x1</th>\n",
       "      <td>0.697086</td>\n",
       "      <td>1.000000</td>\n",
       "      <td>0.493912</td>\n",
       "      <td>0.250510</td>\n",
       "      <td>-0.466012</td>\n",
       "    </tr>\n",
       "    <tr>\n",
       "      <th>x2</th>\n",
       "      <td>0.690711</td>\n",
       "      <td>0.493912</td>\n",
       "      <td>1.000000</td>\n",
       "      <td>-0.402182</td>\n",
       "      <td>-0.565025</td>\n",
       "    </tr>\n",
       "    <tr>\n",
       "      <th>x3</th>\n",
       "      <td>0.052676</td>\n",
       "      <td>0.250510</td>\n",
       "      <td>-0.402182</td>\n",
       "      <td>1.000000</td>\n",
       "      <td>-0.165578</td>\n",
       "    </tr>\n",
       "    <tr>\n",
       "      <th>x4</th>\n",
       "      <td>-0.879374</td>\n",
       "      <td>-0.466012</td>\n",
       "      <td>-0.565025</td>\n",
       "      <td>-0.165578</td>\n",
       "      <td>1.000000</td>\n",
       "    </tr>\n",
       "  </tbody>\n",
       "</table>\n",
       "</div>"
      ],
      "text/plain": [
       "           y        x1        x2        x3        x4\n",
       "y   1.000000  0.697086  0.690711  0.052676 -0.879374\n",
       "x1  0.697086  1.000000  0.493912  0.250510 -0.466012\n",
       "x2  0.690711  0.493912  1.000000 -0.402182 -0.565025\n",
       "x3  0.052676  0.250510 -0.402182  1.000000 -0.165578\n",
       "x4 -0.879374 -0.466012 -0.565025 -0.165578  1.000000"
      ]
     },
     "execution_count": 9,
     "metadata": {},
     "output_type": "execute_result"
    }
   ],
   "source": [
    "data_control.corr()"
   ]
  },
  {
   "cell_type": "markdown",
   "metadata": {
    "collapsed": false,
    "pycharm": {
     "name": "#%% md\n"
    }
   },
   "source": [
    "## Без х3"
   ]
  },
  {
   "cell_type": "code",
   "execution_count": 10,
   "metadata": {
    "collapsed": false,
    "pycharm": {
     "name": "#%%\n"
    }
   },
   "outputs": [
    {
     "data": {
      "text/html": [
       "<table class=\"simpletable\">\n",
       "<caption>OLS Regression Results</caption>\n",
       "<tr>\n",
       "  <th>Dep. Variable:</th>            <td>y</td>        <th>  R-squared:         </th> <td>   0.898</td>\n",
       "</tr>\n",
       "<tr>\n",
       "  <th>Model:</th>                   <td>OLS</td>       <th>  Adj. R-squared:    </th> <td>   0.879</td>\n",
       "</tr>\n",
       "<tr>\n",
       "  <th>Method:</th>             <td>Least Squares</td>  <th>  F-statistic:       </th> <td>   47.05</td>\n",
       "</tr>\n",
       "<tr>\n",
       "  <th>Date:</th>             <td>Sat, 27 Nov 2021</td> <th>  Prob (F-statistic):</th> <td>3.67e-08</td>\n",
       "</tr>\n",
       "<tr>\n",
       "  <th>Time:</th>                 <td>14:42:36</td>     <th>  Log-Likelihood:    </th> <td> -145.38</td>\n",
       "</tr>\n",
       "<tr>\n",
       "  <th>No. Observations:</th>      <td>    20</td>      <th>  AIC:               </th> <td>   298.8</td>\n",
       "</tr>\n",
       "<tr>\n",
       "  <th>Df Residuals:</th>          <td>    16</td>      <th>  BIC:               </th> <td>   302.8</td>\n",
       "</tr>\n",
       "<tr>\n",
       "  <th>Df Model:</th>              <td>     3</td>      <th>                     </th>     <td> </td>   \n",
       "</tr>\n",
       "<tr>\n",
       "  <th>Covariance Type:</th>      <td>nonrobust</td>    <th>                     </th>     <td> </td>   \n",
       "</tr>\n",
       "</table>\n",
       "<table class=\"simpletable\">\n",
       "<tr>\n",
       "      <td></td>         <th>coef</th>     <th>std err</th>      <th>t</th>      <th>P>|t|</th>  <th>[0.025</th>    <th>0.975]</th>  \n",
       "</tr>\n",
       "<tr>\n",
       "  <th>Intercept</th> <td> 1.086e+04</td> <td> 1968.134</td> <td>    5.517</td> <td> 0.000</td> <td> 6686.254</td> <td>  1.5e+04</td>\n",
       "</tr>\n",
       "<tr>\n",
       "  <th>x1</th>        <td>    0.3716</td> <td>    0.112</td> <td>    3.310</td> <td> 0.004</td> <td>    0.134</td> <td>    0.610</td>\n",
       "</tr>\n",
       "<tr>\n",
       "  <th>x2</th>        <td>  108.8831</td> <td>   62.255</td> <td>    1.749</td> <td> 0.099</td> <td>  -23.092</td> <td>  240.858</td>\n",
       "</tr>\n",
       "<tr>\n",
       "  <th>x4</th>        <td> -296.9100</td> <td>   47.036</td> <td>   -6.312</td> <td> 0.000</td> <td> -396.621</td> <td> -197.199</td>\n",
       "</tr>\n",
       "</table>\n",
       "<table class=\"simpletable\">\n",
       "<tr>\n",
       "  <th>Omnibus:</th>       <td> 0.560</td> <th>  Durbin-Watson:     </th> <td>   1.680</td>\n",
       "</tr>\n",
       "<tr>\n",
       "  <th>Prob(Omnibus):</th> <td> 0.756</td> <th>  Jarque-Bera (JB):  </th> <td>   0.626</td>\n",
       "</tr>\n",
       "<tr>\n",
       "  <th>Skew:</th>          <td>-0.184</td> <th>  Prob(JB):          </th> <td>   0.731</td>\n",
       "</tr>\n",
       "<tr>\n",
       "  <th>Kurtosis:</th>      <td> 2.216</td> <th>  Cond. No.          </th> <td>1.05e+05</td>\n",
       "</tr>\n",
       "</table><br/><br/>Notes:<br/>[1] Standard Errors assume that the covariance matrix of the errors is correctly specified.<br/>[2] The condition number is large, 1.05e+05. This might indicate that there are<br/>strong multicollinearity or other numerical problems."
      ],
      "text/plain": [
       "<class 'statsmodels.iolib.summary.Summary'>\n",
       "\"\"\"\n",
       "                            OLS Regression Results                            \n",
       "==============================================================================\n",
       "Dep. Variable:                      y   R-squared:                       0.898\n",
       "Model:                            OLS   Adj. R-squared:                  0.879\n",
       "Method:                 Least Squares   F-statistic:                     47.05\n",
       "Date:                Sat, 27 Nov 2021   Prob (F-statistic):           3.67e-08\n",
       "Time:                        14:42:36   Log-Likelihood:                -145.38\n",
       "No. Observations:                  20   AIC:                             298.8\n",
       "Df Residuals:                      16   BIC:                             302.8\n",
       "Df Model:                           3                                         \n",
       "Covariance Type:            nonrobust                                         \n",
       "==============================================================================\n",
       "                 coef    std err          t      P>|t|      [0.025      0.975]\n",
       "------------------------------------------------------------------------------\n",
       "Intercept   1.086e+04   1968.134      5.517      0.000    6686.254     1.5e+04\n",
       "x1             0.3716      0.112      3.310      0.004       0.134       0.610\n",
       "x2           108.8831     62.255      1.749      0.099     -23.092     240.858\n",
       "x4          -296.9100     47.036     -6.312      0.000    -396.621    -197.199\n",
       "==============================================================================\n",
       "Omnibus:                        0.560   Durbin-Watson:                   1.680\n",
       "Prob(Omnibus):                  0.756   Jarque-Bera (JB):                0.626\n",
       "Skew:                          -0.184   Prob(JB):                        0.731\n",
       "Kurtosis:                       2.216   Cond. No.                     1.05e+05\n",
       "==============================================================================\n",
       "\n",
       "Notes:\n",
       "[1] Standard Errors assume that the covariance matrix of the errors is correctly specified.\n",
       "[2] The condition number is large, 1.05e+05. This might indicate that there are\n",
       "strong multicollinearity or other numerical problems.\n",
       "\"\"\""
      ]
     },
     "execution_count": 10,
     "metadata": {},
     "output_type": "execute_result"
    }
   ],
   "source": [
    "model_without_x3 = sm.ols(formula='y ~ x1+x2+x4', data=data_control)\n",
    "results_without_x3 = model_without_x3.fit()\n",
    "s_wo_x3 = results_without_x3.summary()\n",
    "s_wo_x3"
   ]
  },
  {
   "cell_type": "code",
   "execution_count": 11,
   "metadata": {
    "collapsed": false,
    "pycharm": {
     "name": "#%%\n"
    }
   },
   "outputs": [
    {
     "data": {
      "text/html": [
       "<div>\n",
       "<style scoped>\n",
       "    .dataframe tbody tr th:only-of-type {\n",
       "        vertical-align: middle;\n",
       "    }\n",
       "\n",
       "    .dataframe tbody tr th {\n",
       "        vertical-align: top;\n",
       "    }\n",
       "\n",
       "    .dataframe thead th {\n",
       "        text-align: right;\n",
       "    }\n",
       "</style>\n",
       "<table border=\"1\" class=\"dataframe\">\n",
       "  <thead>\n",
       "    <tr style=\"text-align: right;\">\n",
       "      <th></th>\n",
       "      <th>mean</th>\n",
       "      <th>mean_se</th>\n",
       "      <th>mean_ci_lower</th>\n",
       "      <th>mean_ci_upper</th>\n",
       "      <th>obs_ci_lower</th>\n",
       "      <th>obs_ci_upper</th>\n",
       "    </tr>\n",
       "  </thead>\n",
       "  <tbody>\n",
       "    <tr>\n",
       "      <th>0</th>\n",
       "      <td>14275.686143</td>\n",
       "      <td>125.609252</td>\n",
       "      <td>14009.406423</td>\n",
       "      <td>14541.965863</td>\n",
       "      <td>13410.459547</td>\n",
       "      <td>15140.912739</td>\n",
       "    </tr>\n",
       "    <tr>\n",
       "      <th>1</th>\n",
       "      <td>14228.003972</td>\n",
       "      <td>120.250711</td>\n",
       "      <td>13973.083853</td>\n",
       "      <td>14482.924092</td>\n",
       "      <td>13366.205596</td>\n",
       "      <td>15089.802348</td>\n",
       "    </tr>\n",
       "  </tbody>\n",
       "</table>\n",
       "</div>"
      ],
      "text/plain": [
       "           mean     mean_se  mean_ci_lower  mean_ci_upper  obs_ci_lower  \\\n",
       "0  14275.686143  125.609252   14009.406423   14541.965863  13410.459547   \n",
       "1  14228.003972  120.250711   13973.083853   14482.924092  13366.205596   \n",
       "\n",
       "   obs_ci_upper  \n",
       "0  15140.912739  \n",
       "1  15089.802348  "
      ]
     },
     "execution_count": 11,
     "metadata": {},
     "output_type": "execute_result"
    }
   ],
   "source": [
    "pred_without_x3 = results_without_x3.get_prediction(data_learning)\n",
    "pred_without_x3.summary_frame(alpha=0.05)"
   ]
  },
  {
   "cell_type": "code",
   "execution_count": 12,
   "metadata": {
    "collapsed": false,
    "pycharm": {
     "name": "#%%\n"
    }
   },
   "outputs": [
    {
     "data": {
      "text/html": [
       "<div>\n",
       "<style scoped>\n",
       "    .dataframe tbody tr th:only-of-type {\n",
       "        vertical-align: middle;\n",
       "    }\n",
       "\n",
       "    .dataframe tbody tr th {\n",
       "        vertical-align: top;\n",
       "    }\n",
       "\n",
       "    .dataframe thead th {\n",
       "        text-align: right;\n",
       "    }\n",
       "</style>\n",
       "<table border=\"1\" class=\"dataframe\">\n",
       "  <thead>\n",
       "    <tr style=\"text-align: right;\">\n",
       "      <th></th>\n",
       "      <th>y</th>\n",
       "      <th>x1</th>\n",
       "      <th>x2</th>\n",
       "      <th>x3</th>\n",
       "      <th>x4</th>\n",
       "    </tr>\n",
       "  </thead>\n",
       "  <tbody>\n",
       "    <tr>\n",
       "      <th>20</th>\n",
       "      <td>15644.4</td>\n",
       "      <td>5410</td>\n",
       "      <td>30.92</td>\n",
       "      <td>112.0</td>\n",
       "      <td>6.6</td>\n",
       "    </tr>\n",
       "    <tr>\n",
       "      <th>21</th>\n",
       "      <td>15717.8</td>\n",
       "      <td>5023</td>\n",
       "      <td>31.53</td>\n",
       "      <td>110.8</td>\n",
       "      <td>6.5</td>\n",
       "    </tr>\n",
       "  </tbody>\n",
       "</table>\n",
       "</div>"
      ],
      "text/plain": [
       "          y    x1     x2     x3   x4\n",
       "20  15644.4  5410  30.92  112.0  6.6\n",
       "21  15717.8  5023  31.53  110.8  6.5"
      ]
     },
     "execution_count": 12,
     "metadata": {},
     "output_type": "execute_result"
    }
   ],
   "source": [
    "data_learning\n"
   ]
  },
  {
   "cell_type": "markdown",
   "metadata": {
    "collapsed": false
   },
   "source": [
    "## Без х2"
   ]
  },
  {
   "cell_type": "code",
   "execution_count": 13,
   "metadata": {
    "collapsed": false,
    "pycharm": {
     "name": "#%%\n"
    }
   },
   "outputs": [
    {
     "data": {
      "text/html": [
       "<table class=\"simpletable\">\n",
       "<caption>OLS Regression Results</caption>\n",
       "<tr>\n",
       "  <th>Dep. Variable:</th>            <td>y</td>        <th>  R-squared:         </th> <td>   0.879</td>\n",
       "</tr>\n",
       "<tr>\n",
       "  <th>Model:</th>                   <td>OLS</td>       <th>  Adj. R-squared:    </th> <td>   0.864</td>\n",
       "</tr>\n",
       "<tr>\n",
       "  <th>Method:</th>             <td>Least Squares</td>  <th>  F-statistic:       </th> <td>   61.59</td>\n",
       "</tr>\n",
       "<tr>\n",
       "  <th>Date:</th>             <td>Sat, 27 Nov 2021</td> <th>  Prob (F-statistic):</th> <td>1.63e-08</td>\n",
       "</tr>\n",
       "<tr>\n",
       "  <th>Time:</th>                 <td>14:42:36</td>     <th>  Log-Likelihood:    </th> <td> -147.13</td>\n",
       "</tr>\n",
       "<tr>\n",
       "  <th>No. Observations:</th>      <td>    20</td>      <th>  AIC:               </th> <td>   300.3</td>\n",
       "</tr>\n",
       "<tr>\n",
       "  <th>Df Residuals:</th>          <td>    17</td>      <th>  BIC:               </th> <td>   303.3</td>\n",
       "</tr>\n",
       "<tr>\n",
       "  <th>Df Model:</th>              <td>     2</td>      <th>                     </th>     <td> </td>   \n",
       "</tr>\n",
       "<tr>\n",
       "  <th>Covariance Type:</th>      <td>nonrobust</td>    <th>                     </th>     <td> </td>   \n",
       "</tr>\n",
       "</table>\n",
       "<table class=\"simpletable\">\n",
       "<tr>\n",
       "      <td></td>         <th>coef</th>     <th>std err</th>      <th>t</th>      <th>P>|t|</th>  <th>[0.025</th>    <th>0.975]</th>  \n",
       "</tr>\n",
       "<tr>\n",
       "  <th>Intercept</th> <td> 1.409e+04</td> <td>  714.113</td> <td>   19.734</td> <td> 0.000</td> <td> 1.26e+04</td> <td> 1.56e+04</td>\n",
       "</tr>\n",
       "<tr>\n",
       "  <th>x1</th>        <td>    0.4336</td> <td>    0.113</td> <td>    3.844</td> <td> 0.001</td> <td>    0.196</td> <td>    0.672</td>\n",
       "</tr>\n",
       "<tr>\n",
       "  <th>x4</th>        <td> -332.7165</td> <td>   44.838</td> <td>   -7.420</td> <td> 0.000</td> <td> -427.316</td> <td> -238.117</td>\n",
       "</tr>\n",
       "</table>\n",
       "<table class=\"simpletable\">\n",
       "<tr>\n",
       "  <th>Omnibus:</th>       <td> 0.226</td> <th>  Durbin-Watson:     </th> <td>   1.444</td>\n",
       "</tr>\n",
       "<tr>\n",
       "  <th>Prob(Omnibus):</th> <td> 0.893</td> <th>  Jarque-Bera (JB):  </th> <td>   0.421</td>\n",
       "</tr>\n",
       "<tr>\n",
       "  <th>Skew:</th>          <td> 0.043</td> <th>  Prob(JB):          </th> <td>   0.810</td>\n",
       "</tr>\n",
       "<tr>\n",
       "  <th>Kurtosis:</th>      <td> 2.295</td> <th>  Cond. No.          </th> <td>3.60e+04</td>\n",
       "</tr>\n",
       "</table><br/><br/>Notes:<br/>[1] Standard Errors assume that the covariance matrix of the errors is correctly specified.<br/>[2] The condition number is large, 3.6e+04. This might indicate that there are<br/>strong multicollinearity or other numerical problems."
      ],
      "text/plain": [
       "<class 'statsmodels.iolib.summary.Summary'>\n",
       "\"\"\"\n",
       "                            OLS Regression Results                            \n",
       "==============================================================================\n",
       "Dep. Variable:                      y   R-squared:                       0.879\n",
       "Model:                            OLS   Adj. R-squared:                  0.864\n",
       "Method:                 Least Squares   F-statistic:                     61.59\n",
       "Date:                Sat, 27 Nov 2021   Prob (F-statistic):           1.63e-08\n",
       "Time:                        14:42:36   Log-Likelihood:                -147.13\n",
       "No. Observations:                  20   AIC:                             300.3\n",
       "Df Residuals:                      17   BIC:                             303.3\n",
       "Df Model:                           2                                         \n",
       "Covariance Type:            nonrobust                                         \n",
       "==============================================================================\n",
       "                 coef    std err          t      P>|t|      [0.025      0.975]\n",
       "------------------------------------------------------------------------------\n",
       "Intercept   1.409e+04    714.113     19.734      0.000    1.26e+04    1.56e+04\n",
       "x1             0.4336      0.113      3.844      0.001       0.196       0.672\n",
       "x4          -332.7165     44.838     -7.420      0.000    -427.316    -238.117\n",
       "==============================================================================\n",
       "Omnibus:                        0.226   Durbin-Watson:                   1.444\n",
       "Prob(Omnibus):                  0.893   Jarque-Bera (JB):                0.421\n",
       "Skew:                           0.043   Prob(JB):                        0.810\n",
       "Kurtosis:                       2.295   Cond. No.                     3.60e+04\n",
       "==============================================================================\n",
       "\n",
       "Notes:\n",
       "[1] Standard Errors assume that the covariance matrix of the errors is correctly specified.\n",
       "[2] The condition number is large, 3.6e+04. This might indicate that there are\n",
       "strong multicollinearity or other numerical problems.\n",
       "\"\"\""
      ]
     },
     "execution_count": 13,
     "metadata": {},
     "output_type": "execute_result"
    }
   ],
   "source": [
    "model_without_x2 = sm.ols(formula='y ~ x1+x4', data=data_control)\n",
    "results_without_x2 = model_without_x2.fit()\n",
    "s_wo_x2 = results_without_x2.summary()\n",
    "s_wo_x2"
   ]
  },
  {
   "cell_type": "code",
   "execution_count": 14,
   "metadata": {
    "collapsed": false,
    "pycharm": {
     "name": "#%%\n"
    }
   },
   "outputs": [
    {
     "data": {
      "text/html": [
       "<div>\n",
       "<style scoped>\n",
       "    .dataframe tbody tr th:only-of-type {\n",
       "        vertical-align: middle;\n",
       "    }\n",
       "\n",
       "    .dataframe tbody tr th {\n",
       "        vertical-align: top;\n",
       "    }\n",
       "\n",
       "    .dataframe thead th {\n",
       "        text-align: right;\n",
       "    }\n",
       "</style>\n",
       "<table border=\"1\" class=\"dataframe\">\n",
       "  <thead>\n",
       "    <tr style=\"text-align: right;\">\n",
       "      <th></th>\n",
       "      <th>mean</th>\n",
       "      <th>mean_se</th>\n",
       "      <th>mean_ci_lower</th>\n",
       "      <th>mean_ci_upper</th>\n",
       "      <th>obs_ci_lower</th>\n",
       "      <th>obs_ci_upper</th>\n",
       "    </tr>\n",
       "  </thead>\n",
       "  <tbody>\n",
       "    <tr>\n",
       "      <th>0</th>\n",
       "      <td>14242.075714</td>\n",
       "      <td>131.432766</td>\n",
       "      <td>13964.776816</td>\n",
       "      <td>14519.374611</td>\n",
       "      <td>13331.321865</td>\n",
       "      <td>15152.829562</td>\n",
       "    </tr>\n",
       "    <tr>\n",
       "      <th>1</th>\n",
       "      <td>14107.551642</td>\n",
       "      <td>104.374703</td>\n",
       "      <td>13887.340267</td>\n",
       "      <td>14327.763017</td>\n",
       "      <td>13212.525975</td>\n",
       "      <td>15002.577309</td>\n",
       "    </tr>\n",
       "  </tbody>\n",
       "</table>\n",
       "</div>"
      ],
      "text/plain": [
       "           mean     mean_se  mean_ci_lower  mean_ci_upper  obs_ci_lower  \\\n",
       "0  14242.075714  131.432766   13964.776816   14519.374611  13331.321865   \n",
       "1  14107.551642  104.374703   13887.340267   14327.763017  13212.525975   \n",
       "\n",
       "   obs_ci_upper  \n",
       "0  15152.829562  \n",
       "1  15002.577309  "
      ]
     },
     "execution_count": 14,
     "metadata": {},
     "output_type": "execute_result"
    }
   ],
   "source": [
    "pred_without_x2 = results_without_x2.get_prediction(data_learning)\n",
    "pred_without_x2.summary_frame(alpha=0.05)"
   ]
  },
  {
   "cell_type": "code",
   "execution_count": 15,
   "metadata": {
    "collapsed": false,
    "pycharm": {
     "name": "#%%\n"
    }
   },
   "outputs": [
    {
     "data": {
      "text/html": [
       "<div>\n",
       "<style scoped>\n",
       "    .dataframe tbody tr th:only-of-type {\n",
       "        vertical-align: middle;\n",
       "    }\n",
       "\n",
       "    .dataframe tbody tr th {\n",
       "        vertical-align: top;\n",
       "    }\n",
       "\n",
       "    .dataframe thead th {\n",
       "        text-align: right;\n",
       "    }\n",
       "</style>\n",
       "<table border=\"1\" class=\"dataframe\">\n",
       "  <thead>\n",
       "    <tr style=\"text-align: right;\">\n",
       "      <th></th>\n",
       "      <th>y</th>\n",
       "      <th>x1</th>\n",
       "      <th>x2</th>\n",
       "      <th>x3</th>\n",
       "      <th>x4</th>\n",
       "    </tr>\n",
       "  </thead>\n",
       "  <tbody>\n",
       "    <tr>\n",
       "      <th>20</th>\n",
       "      <td>15644.4</td>\n",
       "      <td>5410</td>\n",
       "      <td>30.92</td>\n",
       "      <td>112.0</td>\n",
       "      <td>6.6</td>\n",
       "    </tr>\n",
       "    <tr>\n",
       "      <th>21</th>\n",
       "      <td>15717.8</td>\n",
       "      <td>5023</td>\n",
       "      <td>31.53</td>\n",
       "      <td>110.8</td>\n",
       "      <td>6.5</td>\n",
       "    </tr>\n",
       "  </tbody>\n",
       "</table>\n",
       "</div>"
      ],
      "text/plain": [
       "          y    x1     x2     x3   x4\n",
       "20  15644.4  5410  30.92  112.0  6.6\n",
       "21  15717.8  5023  31.53  110.8  6.5"
      ]
     },
     "execution_count": 15,
     "metadata": {},
     "output_type": "execute_result"
    }
   ],
   "source": [
    "data_learning"
   ]
  },
  {
   "cell_type": "markdown",
   "metadata": {
    "collapsed": false,
    "pycharm": {
     "name": "#%% md\n"
    }
   },
   "source": [
    "# Тест Чоу"
   ]
  },
  {
   "cell_type": "code",
   "execution_count": 16,
   "metadata": {
    "collapsed": false,
    "pycharm": {
     "name": "#%%\n"
    }
   },
   "outputs": [],
   "source": [
    "data_training1 = data_control[0 : int(data_len_control/2)]\n",
    "data_training2 = data_control[int(data_len_control/2) : int(data_len_control)]"
   ]
  },
  {
   "cell_type": "code",
   "execution_count": null,
   "metadata": {
    "collapsed": false,
    "pycharm": {
     "name": "#%%\n"
    }
   },
   "outputs": [],
   "source": [
    "m1 = sm.ols(formula='y~x1+x2+x3+x4', data=data_training1)\n",
    "results1 = m1.fit()\n",
    "s1 = results1.summary()\n",
    "\n",
    "m2 = sm.ols(formula='y~x1+x2+x3+x4', data=data_training2)\n",
    "results2 = m2.fit()\n",
    "s2 = results2.summary()"
   ]
  },
  {
   "cell_type": "code",
   "execution_count": 18,
   "metadata": {
    "collapsed": false,
    "pycharm": {
     "name": "#%%\n"
    }
   },
   "outputs": [],
   "source": [
    "residuals = results.resid\n",
    "RSS = np.sum((residuals**2))\n",
    "residuals1 = results1.resid\n",
    "RSS1 = np.sum((residuals1**2))\n",
    "residuals2 = results2.resid\n",
    "RSS2 = np.sum((residuals2**2))"
   ]
  },
  {
   "cell_type": "code",
   "execution_count": 19,
   "metadata": {
    "collapsed": false,
    "pycharm": {
     "name": "#%%\n"
    }
   },
   "outputs": [],
   "source": [
    "n1 = len(data_training1)\n",
    "n2 = len(data_training2)\n",
    "k = 4"
   ]
  },
  {
   "cell_type": "code",
   "execution_count": 20,
   "metadata": {
    "collapsed": false,
    "pycharm": {
     "name": "#%%\n"
    }
   },
   "outputs": [
    {
     "data": {
      "text/plain": [
       "0.769403234415594"
      ]
     },
     "execution_count": 20,
     "metadata": {},
     "output_type": "execute_result"
    }
   ],
   "source": [
    "chow = (RSS-(RSS1+RSS2))/(RSS1+RSS2) * (n1+n2-2*(k+1))/(k+1)\n",
    "chow"
   ]
  },
  {
   "cell_type": "code",
   "execution_count": 21,
   "metadata": {
    "collapsed": false,
    "pycharm": {
     "name": "#%%\n"
    }
   },
   "outputs": [
    {
     "data": {
      "text/plain": [
       "0     -45.376742\n",
       "1    -304.504078\n",
       "2    -210.118075\n",
       "3     171.127323\n",
       "4     306.972550\n",
       "5     184.950043\n",
       "6     277.047821\n",
       "7     -29.885340\n",
       "8    -343.359875\n",
       "9    -226.518547\n",
       "10   -169.652456\n",
       "11   -668.999008\n",
       "12    629.511389\n",
       "13   -461.251240\n",
       "14   -305.784857\n",
       "15    155.894082\n",
       "16    104.527158\n",
       "17     69.040175\n",
       "18    221.403032\n",
       "19    644.976643\n",
       "dtype: float64"
      ]
     },
     "execution_count": 21,
     "metadata": {},
     "output_type": "execute_result"
    }
   ],
   "source": [
    "residuals"
   ]
  },
  {
   "cell_type": "code",
   "execution_count": 22,
   "metadata": {
    "collapsed": false,
    "pycharm": {
     "name": "#%%\n"
    }
   },
   "outputs": [
    {
     "data": {
      "text/plain": [
       "Jarque_beraResult(statistic=0.2033185851162602, pvalue=0.9033372729758518)"
      ]
     },
     "execution_count": 22,
     "metadata": {},
     "output_type": "execute_result"
    }
   ],
   "source": [
    "# p-value близится к 1 = принимаем Н0, остатки нормально распределены\n",
    "scipy.stats.jarque_bera(residuals)"
   ]
  },
  {
   "cell_type": "code",
   "execution_count": 23,
   "metadata": {
    "collapsed": false,
    "pycharm": {
     "name": "#%%\n"
    }
   },
   "outputs": [
    {
     "data": {
      "text/html": [
       "<table class=\"simpletable\">\n",
       "<caption>OLS Regression Results</caption>\n",
       "<tr>\n",
       "  <th>Dep. Variable:</th>            <td>y</td>        <th>  R-squared:         </th> <td>   0.773</td>\n",
       "</tr>\n",
       "<tr>\n",
       "  <th>Model:</th>                   <td>OLS</td>       <th>  Adj. R-squared:    </th> <td>   0.761</td>\n",
       "</tr>\n",
       "<tr>\n",
       "  <th>Method:</th>             <td>Least Squares</td>  <th>  F-statistic:       </th> <td>   61.40</td>\n",
       "</tr>\n",
       "<tr>\n",
       "  <th>Date:</th>             <td>Sat, 27 Nov 2021</td> <th>  Prob (F-statistic):</th> <td>3.29e-07</td>\n",
       "</tr>\n",
       "<tr>\n",
       "  <th>Time:</th>                 <td>14:42:36</td>     <th>  Log-Likelihood:    </th> <td> -153.39</td>\n",
       "</tr>\n",
       "<tr>\n",
       "  <th>No. Observations:</th>      <td>    20</td>      <th>  AIC:               </th> <td>   310.8</td>\n",
       "</tr>\n",
       "<tr>\n",
       "  <th>Df Residuals:</th>          <td>    18</td>      <th>  BIC:               </th> <td>   312.8</td>\n",
       "</tr>\n",
       "<tr>\n",
       "  <th>Df Model:</th>              <td>     1</td>      <th>                     </th>     <td> </td>   \n",
       "</tr>\n",
       "<tr>\n",
       "  <th>Covariance Type:</th>      <td>nonrobust</td>    <th>                     </th>     <td> </td>   \n",
       "</tr>\n",
       "</table>\n",
       "<table class=\"simpletable\">\n",
       "<tr>\n",
       "      <td></td>         <th>coef</th>     <th>std err</th>      <th>t</th>      <th>P>|t|</th>  <th>[0.025</th>    <th>0.975]</th>  \n",
       "</tr>\n",
       "<tr>\n",
       "  <th>Intercept</th> <td> 1.661e+04</td> <td>  379.440</td> <td>   43.771</td> <td> 0.000</td> <td> 1.58e+04</td> <td> 1.74e+04</td>\n",
       "</tr>\n",
       "<tr>\n",
       "  <th>x4</th>        <td> -413.0446</td> <td>   52.712</td> <td>   -7.836</td> <td> 0.000</td> <td> -523.789</td> <td> -302.300</td>\n",
       "</tr>\n",
       "</table>\n",
       "<table class=\"simpletable\">\n",
       "<tr>\n",
       "  <th>Omnibus:</th>       <td>10.450</td> <th>  Durbin-Watson:     </th> <td>   0.395</td>\n",
       "</tr>\n",
       "<tr>\n",
       "  <th>Prob(Omnibus):</th> <td> 0.005</td> <th>  Jarque-Bera (JB):  </th> <td>   7.826</td>\n",
       "</tr>\n",
       "<tr>\n",
       "  <th>Skew:</th>          <td> 1.360</td> <th>  Prob(JB):          </th> <td>  0.0200</td>\n",
       "</tr>\n",
       "<tr>\n",
       "  <th>Kurtosis:</th>      <td> 4.412</td> <th>  Cond. No.          </th> <td>    22.7</td>\n",
       "</tr>\n",
       "</table><br/><br/>Notes:<br/>[1] Standard Errors assume that the covariance matrix of the errors is correctly specified."
      ],
      "text/plain": [
       "<class 'statsmodels.iolib.summary.Summary'>\n",
       "\"\"\"\n",
       "                            OLS Regression Results                            \n",
       "==============================================================================\n",
       "Dep. Variable:                      y   R-squared:                       0.773\n",
       "Model:                            OLS   Adj. R-squared:                  0.761\n",
       "Method:                 Least Squares   F-statistic:                     61.40\n",
       "Date:                Sat, 27 Nov 2021   Prob (F-statistic):           3.29e-07\n",
       "Time:                        14:42:36   Log-Likelihood:                -153.39\n",
       "No. Observations:                  20   AIC:                             310.8\n",
       "Df Residuals:                      18   BIC:                             312.8\n",
       "Df Model:                           1                                         \n",
       "Covariance Type:            nonrobust                                         \n",
       "==============================================================================\n",
       "                 coef    std err          t      P>|t|      [0.025      0.975]\n",
       "------------------------------------------------------------------------------\n",
       "Intercept   1.661e+04    379.440     43.771      0.000    1.58e+04    1.74e+04\n",
       "x4          -413.0446     52.712     -7.836      0.000    -523.789    -302.300\n",
       "==============================================================================\n",
       "Omnibus:                       10.450   Durbin-Watson:                   0.395\n",
       "Prob(Omnibus):                  0.005   Jarque-Bera (JB):                7.826\n",
       "Skew:                           1.360   Prob(JB):                       0.0200\n",
       "Kurtosis:                       4.412   Cond. No.                         22.7\n",
       "==============================================================================\n",
       "\n",
       "Notes:\n",
       "[1] Standard Errors assume that the covariance matrix of the errors is correctly specified.\n",
       "\"\"\""
      ]
     },
     "execution_count": 23,
     "metadata": {},
     "output_type": "execute_result"
    }
   ],
   "source": [
    "twin_model = sm.ols(formula='y ~ x4', data=data_control)\n",
    "results_twin_model = twin_model.fit()\n",
    "s_twin_model = results_twin_model.summary()\n",
    "residuals_twin = results_twin_model.resid\n",
    "RSS_twin = np.sum((residuals_twin*residuals_twin))\n",
    "\n",
    "\n",
    "residuals_twin_model = results_twin_model.resid\n",
    "s_twin_model"
   ]
  },
  {
   "cell_type": "code",
   "execution_count": 34,
   "metadata": {
    "collapsed": false,
    "pycharm": {
     "name": "#%%\n"
    }
   },
   "outputs": [
    {
     "data": {
      "text/plain": [
       "7.060842160611111"
      ]
     },
     "execution_count": 34,
     "metadata": {},
     "output_type": "execute_result"
    }
   ],
   "source": [
    "n = len(data_control)\n",
    "q = 3 # удаляемые факторы\n",
    "k = 4 # кол-во Иксов\n",
    "m = k+1\n",
    "F = (RSS_twin-RSS)*(n-m)/q/RSS\n",
    "F"
   ]
  },
  {
   "cell_type": "code",
   "execution_count": 35,
   "metadata": {
    "collapsed": false,
    "pycharm": {
     "name": "#%%\n"
    }
   },
   "outputs": [
    {
     "data": {
      "text/plain": [
       "3.2873821046365115"
      ]
     },
     "execution_count": 35,
     "metadata": {},
     "output_type": "execute_result"
    }
   ],
   "source": [
    "\n",
    "Ftest=scipy.stats.f.ppf(0.95,q,n-m)\n",
    "Ftest\n"
   ]
  },
  {
   "cell_type": "code",
   "execution_count": 44,
   "metadata": {},
   "outputs": [
    {
     "name": "stdout",
     "output_type": "stream",
     "text": [
      "H0 принимается => пропущенные факторы отсутствуют\n"
     ]
    }
   ],
   "source": [
    "from statsmodels.stats.outliers_influence import reset_ramsey\n",
    "res_ram = reset_ramsey(results, degree=3)\n",
    "\n",
    "if res_ram.pvalue < 0.01:\n",
    "    print(\"H0 отвергается => пропущенные факторы присутствуют\")\n",
    "else:\n",
    "    print(\"H0 принимается => пропущенные факторы отсутствуют\")\n"
   ]
  },
  {
   "cell_type": "code",
   "execution_count": 36,
   "metadata": {},
   "outputs": [
    {
     "name": "stdout",
     "output_type": "stream",
     "text": [
      "F > Ftest => H0 принимаем, модель без ограничений лучше\n"
     ]
    }
   ],
   "source": [
    "# Гипотеза Н0 - Бетта коэфициенты модели равны нулю\n",
    "# Гипотеза Н1 - сумма квадратов Бетта коэфициентов модели больше нуля\n",
    "# Бетта коэфициенты - различающиеся коэфициенты модели (т.е. х1, х2, х3)\n",
    "if F > Ftest:\n",
    "    print(\"F > Ftest => H0 принимаем, модель без ограничений лучше\")\n",
    "else:\n",
    "    print(\"F < Ftest => H0 отвергаем, короткая модель лучше\")"
   ]
  }
 ],
 "metadata": {
  "kernelspec": {
   "display_name": "Python 3",
   "language": "python",
   "name": "python3"
  },
  "language_info": {
   "codemirror_mode": {
    "name": "ipython",
    "version": 3
   },
   "file_extension": ".py",
   "mimetype": "text/x-python",
   "name": "python",
   "nbconvert_exporter": "python",
   "pygments_lexer": "ipython3",
   "version": "3.9.7"
  }
 },
 "nbformat": 4,
 "nbformat_minor": 0
}
