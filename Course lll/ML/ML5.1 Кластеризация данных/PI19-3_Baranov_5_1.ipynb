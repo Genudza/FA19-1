{
 "cells": [
  {
   "cell_type": "code",
   "execution_count": 1,
   "metadata": {},
   "outputs": [],
   "source": [
    "import numpy as np\n",
    "import pandas as pd\n",
    "import matplotlib.pyplot as plt\n",
    "from sklearn.preprocessing import StandardScaler\n",
    "from sklearn.cluster import KMeans\n",
    "from sklearn.metrics import silhouette_score\n",
    "from sklearn.metrics import calinski_harabasz_score"
   ]
  },
  {
   "cell_type": "code",
   "execution_count": 2,
   "metadata": {},
   "outputs": [
    {
     "data": {
      "text/html": [
       "<div>\n",
       "<style scoped>\n",
       "    .dataframe tbody tr th:only-of-type {\n",
       "        vertical-align: middle;\n",
       "    }\n",
       "\n",
       "    .dataframe tbody tr th {\n",
       "        vertical-align: top;\n",
       "    }\n",
       "\n",
       "    .dataframe thead th {\n",
       "        text-align: right;\n",
       "    }\n",
       "</style>\n",
       "<table border=\"1\" class=\"dataframe\">\n",
       "  <thead>\n",
       "    <tr style=\"text-align: right;\">\n",
       "      <th></th>\n",
       "      <th>CustomerID</th>\n",
       "      <th>Genre</th>\n",
       "      <th>Age</th>\n",
       "      <th>Annual Income (k$)</th>\n",
       "      <th>Spending Score (1-100)</th>\n",
       "    </tr>\n",
       "  </thead>\n",
       "  <tbody>\n",
       "    <tr>\n",
       "      <th>0</th>\n",
       "      <td>1</td>\n",
       "      <td>Male</td>\n",
       "      <td>19</td>\n",
       "      <td>15</td>\n",
       "      <td>39</td>\n",
       "    </tr>\n",
       "    <tr>\n",
       "      <th>1</th>\n",
       "      <td>2</td>\n",
       "      <td>Male</td>\n",
       "      <td>21</td>\n",
       "      <td>15</td>\n",
       "      <td>81</td>\n",
       "    </tr>\n",
       "    <tr>\n",
       "      <th>2</th>\n",
       "      <td>3</td>\n",
       "      <td>Female</td>\n",
       "      <td>20</td>\n",
       "      <td>16</td>\n",
       "      <td>6</td>\n",
       "    </tr>\n",
       "    <tr>\n",
       "      <th>3</th>\n",
       "      <td>4</td>\n",
       "      <td>Female</td>\n",
       "      <td>23</td>\n",
       "      <td>16</td>\n",
       "      <td>77</td>\n",
       "    </tr>\n",
       "    <tr>\n",
       "      <th>4</th>\n",
       "      <td>5</td>\n",
       "      <td>Female</td>\n",
       "      <td>31</td>\n",
       "      <td>17</td>\n",
       "      <td>40</td>\n",
       "    </tr>\n",
       "  </tbody>\n",
       "</table>\n",
       "</div>"
      ],
      "text/plain": [
       "   CustomerID   Genre  Age  Annual Income (k$)  Spending Score (1-100)\n",
       "0           1    Male   19                  15                      39\n",
       "1           2    Male   21                  15                      81\n",
       "2           3  Female   20                  16                       6\n",
       "3           4  Female   23                  16                      77\n",
       "4           5  Female   31                  17                      40"
      ]
     },
     "execution_count": 2,
     "metadata": {},
     "output_type": "execute_result"
    }
   ],
   "source": [
    "df = pd.read_csv('Mall_Customers.csv')\n",
    "df.head()"
   ]
  },
  {
   "cell_type": "code",
   "execution_count": 3,
   "metadata": {},
   "outputs": [
    {
     "data": {
      "text/html": [
       "<div>\n",
       "<style scoped>\n",
       "    .dataframe tbody tr th:only-of-type {\n",
       "        vertical-align: middle;\n",
       "    }\n",
       "\n",
       "    .dataframe tbody tr th {\n",
       "        vertical-align: top;\n",
       "    }\n",
       "\n",
       "    .dataframe thead th {\n",
       "        text-align: right;\n",
       "    }\n",
       "</style>\n",
       "<table border=\"1\" class=\"dataframe\">\n",
       "  <thead>\n",
       "    <tr style=\"text-align: right;\">\n",
       "      <th></th>\n",
       "      <th>CustomerID</th>\n",
       "      <th>Age</th>\n",
       "      <th>Annual Income (k$)</th>\n",
       "      <th>Spending Score (1-100)</th>\n",
       "    </tr>\n",
       "  </thead>\n",
       "  <tbody>\n",
       "    <tr>\n",
       "      <th>count</th>\n",
       "      <td>200.000000</td>\n",
       "      <td>200.000000</td>\n",
       "      <td>200.000000</td>\n",
       "      <td>200.000000</td>\n",
       "    </tr>\n",
       "    <tr>\n",
       "      <th>mean</th>\n",
       "      <td>100.500000</td>\n",
       "      <td>38.850000</td>\n",
       "      <td>60.560000</td>\n",
       "      <td>50.200000</td>\n",
       "    </tr>\n",
       "    <tr>\n",
       "      <th>std</th>\n",
       "      <td>57.879185</td>\n",
       "      <td>13.969007</td>\n",
       "      <td>26.264721</td>\n",
       "      <td>25.823522</td>\n",
       "    </tr>\n",
       "    <tr>\n",
       "      <th>min</th>\n",
       "      <td>1.000000</td>\n",
       "      <td>18.000000</td>\n",
       "      <td>15.000000</td>\n",
       "      <td>1.000000</td>\n",
       "    </tr>\n",
       "    <tr>\n",
       "      <th>25%</th>\n",
       "      <td>50.750000</td>\n",
       "      <td>28.750000</td>\n",
       "      <td>41.500000</td>\n",
       "      <td>34.750000</td>\n",
       "    </tr>\n",
       "    <tr>\n",
       "      <th>50%</th>\n",
       "      <td>100.500000</td>\n",
       "      <td>36.000000</td>\n",
       "      <td>61.500000</td>\n",
       "      <td>50.000000</td>\n",
       "    </tr>\n",
       "    <tr>\n",
       "      <th>75%</th>\n",
       "      <td>150.250000</td>\n",
       "      <td>49.000000</td>\n",
       "      <td>78.000000</td>\n",
       "      <td>73.000000</td>\n",
       "    </tr>\n",
       "    <tr>\n",
       "      <th>max</th>\n",
       "      <td>200.000000</td>\n",
       "      <td>70.000000</td>\n",
       "      <td>137.000000</td>\n",
       "      <td>99.000000</td>\n",
       "    </tr>\n",
       "  </tbody>\n",
       "</table>\n",
       "</div>"
      ],
      "text/plain": [
       "       CustomerID         Age  Annual Income (k$)  Spending Score (1-100)\n",
       "count  200.000000  200.000000          200.000000              200.000000\n",
       "mean   100.500000   38.850000           60.560000               50.200000\n",
       "std     57.879185   13.969007           26.264721               25.823522\n",
       "min      1.000000   18.000000           15.000000                1.000000\n",
       "25%     50.750000   28.750000           41.500000               34.750000\n",
       "50%    100.500000   36.000000           61.500000               50.000000\n",
       "75%    150.250000   49.000000           78.000000               73.000000\n",
       "max    200.000000   70.000000          137.000000               99.000000"
      ]
     },
     "execution_count": 3,
     "metadata": {},
     "output_type": "execute_result"
    }
   ],
   "source": [
    "df.describe()"
   ]
  },
  {
   "cell_type": "code",
   "execution_count": 4,
   "metadata": {},
   "outputs": [
    {
     "data": {
      "text/plain": [
       "(200, 5)"
      ]
     },
     "execution_count": 4,
     "metadata": {},
     "output_type": "execute_result"
    }
   ],
   "source": [
    "df.shape"
   ]
  },
  {
   "cell_type": "code",
   "execution_count": 5,
   "metadata": {},
   "outputs": [
    {
     "name": "stdout",
     "output_type": "stream",
     "text": [
      "<class 'pandas.core.frame.DataFrame'>\n",
      "RangeIndex: 200 entries, 0 to 199\n",
      "Data columns (total 5 columns):\n",
      " #   Column                  Non-Null Count  Dtype \n",
      "---  ------                  --------------  ----- \n",
      " 0   CustomerID              200 non-null    int64 \n",
      " 1   Genre                   200 non-null    object\n",
      " 2   Age                     200 non-null    int64 \n",
      " 3   Annual Income (k$)      200 non-null    int64 \n",
      " 4   Spending Score (1-100)  200 non-null    int64 \n",
      "dtypes: int64(4), object(1)\n",
      "memory usage: 7.9+ KB\n"
     ]
    }
   ],
   "source": [
    "df.info()"
   ]
  },
  {
   "cell_type": "code",
   "execution_count": 6,
   "metadata": {},
   "outputs": [
    {
     "data": {
      "text/plain": [
       "CustomerID                0\n",
       "Genre                     0\n",
       "Age                       0\n",
       "Annual Income (k$)        0\n",
       "Spending Score (1-100)    0\n",
       "dtype: int64"
      ]
     },
     "execution_count": 6,
     "metadata": {},
     "output_type": "execute_result"
    }
   ],
   "source": [
    "df.isna().sum()"
   ]
  },
  {
   "cell_type": "code",
   "execution_count": 7,
   "metadata": {},
   "outputs": [
    {
     "data": {
      "text/plain": [
       "array([19, 21, 20, 23, 31, 22, 35, 64, 30, 67, 58, 24, 37, 52, 25, 46, 54,\n",
       "       29, 45, 40, 60, 53, 18, 49, 42, 36, 65, 48, 50, 27, 33, 59, 47, 51,\n",
       "       69, 70, 63, 43, 68, 32, 26, 57, 38, 55, 34, 66, 39, 44, 28, 56, 41])"
      ]
     },
     "execution_count": 7,
     "metadata": {},
     "output_type": "execute_result"
    }
   ],
   "source": [
    "df.Age.unique()"
   ]
  },
  {
   "cell_type": "code",
   "execution_count": 8,
   "metadata": {},
   "outputs": [
    {
     "data": {
      "text/plain": [
       "array(['Male', 'Female'], dtype=object)"
      ]
     },
     "execution_count": 8,
     "metadata": {},
     "output_type": "execute_result"
    }
   ],
   "source": [
    "df.Genre.unique()"
   ]
  },
  {
   "cell_type": "code",
   "execution_count": 9,
   "metadata": {},
   "outputs": [
    {
     "data": {
      "text/plain": [
       "195    120\n",
       "196    126\n",
       "197    126\n",
       "198    137\n",
       "199    137\n",
       "Name: Annual Income (k$), dtype: int64"
      ]
     },
     "execution_count": 9,
     "metadata": {},
     "output_type": "execute_result"
    }
   ],
   "source": [
    "df[\"Annual Income (k$)\"].tail()"
   ]
  },
  {
   "cell_type": "code",
   "execution_count": 10,
   "metadata": {},
   "outputs": [],
   "source": [
    "df[\"Gender\"] = df.Genre.map({\n",
    "    'Male': 0,\n",
    "    'Female': 1\n",
    "})\n",
    "df = df.drop(columns=\"Genre\")\n"
   ]
  },
  {
   "cell_type": "code",
   "execution_count": 11,
   "metadata": {},
   "outputs": [
    {
     "data": {
      "text/plain": [
       "array([0, 1])"
      ]
     },
     "execution_count": 11,
     "metadata": {},
     "output_type": "execute_result"
    }
   ],
   "source": [
    "df.Gender.unique()"
   ]
  },
  {
   "cell_type": "code",
   "execution_count": 12,
   "metadata": {},
   "outputs": [
    {
     "data": {
      "text/html": [
       "<div>\n",
       "<style scoped>\n",
       "    .dataframe tbody tr th:only-of-type {\n",
       "        vertical-align: middle;\n",
       "    }\n",
       "\n",
       "    .dataframe tbody tr th {\n",
       "        vertical-align: top;\n",
       "    }\n",
       "\n",
       "    .dataframe thead th {\n",
       "        text-align: right;\n",
       "    }\n",
       "</style>\n",
       "<table border=\"1\" class=\"dataframe\">\n",
       "  <thead>\n",
       "    <tr style=\"text-align: right;\">\n",
       "      <th></th>\n",
       "      <th>CustomerID</th>\n",
       "      <th>Age</th>\n",
       "      <th>Annual Income (k$)</th>\n",
       "      <th>Spending Score (1-100)</th>\n",
       "      <th>Gender</th>\n",
       "    </tr>\n",
       "  </thead>\n",
       "  <tbody>\n",
       "    <tr>\n",
       "      <th>0</th>\n",
       "      <td>1</td>\n",
       "      <td>19</td>\n",
       "      <td>15</td>\n",
       "      <td>39</td>\n",
       "      <td>0</td>\n",
       "    </tr>\n",
       "    <tr>\n",
       "      <th>1</th>\n",
       "      <td>2</td>\n",
       "      <td>21</td>\n",
       "      <td>15</td>\n",
       "      <td>81</td>\n",
       "      <td>0</td>\n",
       "    </tr>\n",
       "    <tr>\n",
       "      <th>2</th>\n",
       "      <td>3</td>\n",
       "      <td>20</td>\n",
       "      <td>16</td>\n",
       "      <td>6</td>\n",
       "      <td>1</td>\n",
       "    </tr>\n",
       "    <tr>\n",
       "      <th>3</th>\n",
       "      <td>4</td>\n",
       "      <td>23</td>\n",
       "      <td>16</td>\n",
       "      <td>77</td>\n",
       "      <td>1</td>\n",
       "    </tr>\n",
       "    <tr>\n",
       "      <th>4</th>\n",
       "      <td>5</td>\n",
       "      <td>31</td>\n",
       "      <td>17</td>\n",
       "      <td>40</td>\n",
       "      <td>1</td>\n",
       "    </tr>\n",
       "  </tbody>\n",
       "</table>\n",
       "</div>"
      ],
      "text/plain": [
       "   CustomerID  Age  Annual Income (k$)  Spending Score (1-100)  Gender\n",
       "0           1   19                  15                      39       0\n",
       "1           2   21                  15                      81       0\n",
       "2           3   20                  16                       6       1\n",
       "3           4   23                  16                      77       1\n",
       "4           5   31                  17                      40       1"
      ]
     },
     "execution_count": 12,
     "metadata": {},
     "output_type": "execute_result"
    }
   ],
   "source": [
    "df.head()"
   ]
  },
  {
   "cell_type": "code",
   "execution_count": 13,
   "metadata": {},
   "outputs": [
    {
     "data": {
      "text/html": [
       "<div>\n",
       "<style scoped>\n",
       "    .dataframe tbody tr th:only-of-type {\n",
       "        vertical-align: middle;\n",
       "    }\n",
       "\n",
       "    .dataframe tbody tr th {\n",
       "        vertical-align: top;\n",
       "    }\n",
       "\n",
       "    .dataframe thead th {\n",
       "        text-align: right;\n",
       "    }\n",
       "</style>\n",
       "<table border=\"1\" class=\"dataframe\">\n",
       "  <thead>\n",
       "    <tr style=\"text-align: right;\">\n",
       "      <th></th>\n",
       "      <th>Annual Income (k$)</th>\n",
       "      <th>Age</th>\n",
       "      <th>Spending Score (1-100)</th>\n",
       "    </tr>\n",
       "  </thead>\n",
       "  <tbody>\n",
       "    <tr>\n",
       "      <th>0</th>\n",
       "      <td>15</td>\n",
       "      <td>19</td>\n",
       "      <td>39</td>\n",
       "    </tr>\n",
       "    <tr>\n",
       "      <th>1</th>\n",
       "      <td>15</td>\n",
       "      <td>21</td>\n",
       "      <td>81</td>\n",
       "    </tr>\n",
       "    <tr>\n",
       "      <th>2</th>\n",
       "      <td>16</td>\n",
       "      <td>20</td>\n",
       "      <td>6</td>\n",
       "    </tr>\n",
       "    <tr>\n",
       "      <th>3</th>\n",
       "      <td>16</td>\n",
       "      <td>23</td>\n",
       "      <td>77</td>\n",
       "    </tr>\n",
       "    <tr>\n",
       "      <th>4</th>\n",
       "      <td>17</td>\n",
       "      <td>31</td>\n",
       "      <td>40</td>\n",
       "    </tr>\n",
       "    <tr>\n",
       "      <th>...</th>\n",
       "      <td>...</td>\n",
       "      <td>...</td>\n",
       "      <td>...</td>\n",
       "    </tr>\n",
       "    <tr>\n",
       "      <th>195</th>\n",
       "      <td>120</td>\n",
       "      <td>35</td>\n",
       "      <td>79</td>\n",
       "    </tr>\n",
       "    <tr>\n",
       "      <th>196</th>\n",
       "      <td>126</td>\n",
       "      <td>45</td>\n",
       "      <td>28</td>\n",
       "    </tr>\n",
       "    <tr>\n",
       "      <th>197</th>\n",
       "      <td>126</td>\n",
       "      <td>32</td>\n",
       "      <td>74</td>\n",
       "    </tr>\n",
       "    <tr>\n",
       "      <th>198</th>\n",
       "      <td>137</td>\n",
       "      <td>32</td>\n",
       "      <td>18</td>\n",
       "    </tr>\n",
       "    <tr>\n",
       "      <th>199</th>\n",
       "      <td>137</td>\n",
       "      <td>30</td>\n",
       "      <td>83</td>\n",
       "    </tr>\n",
       "  </tbody>\n",
       "</table>\n",
       "<p>200 rows × 3 columns</p>\n",
       "</div>"
      ],
      "text/plain": [
       "     Annual Income (k$)  Age  Spending Score (1-100)\n",
       "0                    15   19                      39\n",
       "1                    15   21                      81\n",
       "2                    16   20                       6\n",
       "3                    16   23                      77\n",
       "4                    17   31                      40\n",
       "..                  ...  ...                     ...\n",
       "195                 120   35                      79\n",
       "196                 126   45                      28\n",
       "197                 126   32                      74\n",
       "198                 137   32                      18\n",
       "199                 137   30                      83\n",
       "\n",
       "[200 rows x 3 columns]"
      ]
     },
     "execution_count": 13,
     "metadata": {},
     "output_type": "execute_result"
    }
   ],
   "source": [
    "\n",
    "df[['Annual Income (k$)', 'Age', 'Spending Score (1-100)']]"
   ]
  },
  {
   "cell_type": "markdown",
   "metadata": {},
   "source": [
    "#### Стандартизация"
   ]
  },
  {
   "cell_type": "code",
   "execution_count": 14,
   "metadata": {},
   "outputs": [
    {
     "data": {
      "text/plain": [
       "array([[-1.73899919, -1.42456879, -0.43480148],\n",
       "       [-1.73899919, -1.28103541,  1.19570407],\n",
       "       [-1.70082976, -1.3528021 , -1.71591298],\n",
       "       [-1.70082976, -1.13750203,  1.04041783],\n",
       "       [-1.66266033, -0.56336851, -0.39597992],\n",
       "       [-1.66266033, -1.20926872,  1.00159627],\n",
       "       [-1.62449091, -0.27630176, -1.71591298],\n",
       "       [-1.62449091, -1.13750203,  1.70038436],\n",
       "       [-1.58632148,  1.80493225, -1.83237767],\n",
       "       [-1.58632148, -0.6351352 ,  0.84631002],\n",
       "       [-1.58632148,  2.02023231, -1.4053405 ],\n",
       "       [-1.58632148, -0.27630176,  1.89449216],\n",
       "       [-1.54815205,  1.37433211, -1.36651894],\n",
       "       [-1.54815205, -1.06573534,  1.04041783],\n",
       "       [-1.54815205, -0.13276838, -1.44416206],\n",
       "       [-1.54815205, -1.20926872,  1.11806095],\n",
       "       [-1.50998262, -0.27630176, -0.59008772],\n",
       "       [-1.50998262, -1.3528021 ,  0.61338066],\n",
       "       [-1.43364376,  0.94373197, -0.82301709],\n",
       "       [-1.43364376, -0.27630176,  1.8556706 ],\n",
       "       [-1.39547433, -0.27630176, -0.59008772],\n",
       "       [-1.39547433, -0.99396865,  0.88513158],\n",
       "       [-1.3573049 ,  0.51313183, -1.75473454],\n",
       "       [-1.3573049 , -0.56336851,  0.88513158],\n",
       "       [-1.24279661,  1.08726535, -1.4053405 ],\n",
       "       [-1.24279661, -0.70690189,  1.23452563],\n",
       "       [-1.24279661,  0.44136514, -0.7065524 ],\n",
       "       [-1.24279661, -0.27630176,  0.41927286],\n",
       "       [-1.20462718,  0.08253169, -0.74537397],\n",
       "       [-1.20462718, -1.13750203,  1.42863343],\n",
       "       [-1.16645776,  1.51786549, -1.7935561 ],\n",
       "       [-1.16645776, -1.28103541,  0.88513158],\n",
       "       [-1.05194947,  1.01549866, -1.7935561 ],\n",
       "       [-1.05194947, -1.49633548,  1.62274124],\n",
       "       [-1.05194947,  0.7284319 , -1.4053405 ],\n",
       "       [-1.05194947, -1.28103541,  1.19570407],\n",
       "       [-1.01378004,  0.22606507, -1.28887582],\n",
       "       [-1.01378004, -0.6351352 ,  0.88513158],\n",
       "       [-0.89927175, -0.20453507, -0.93948177],\n",
       "       [-0.89927175, -1.3528021 ,  0.96277471],\n",
       "       [-0.86110232,  1.87669894, -0.59008772],\n",
       "       [-0.86110232, -1.06573534,  1.62274124],\n",
       "       [-0.82293289,  0.65666521, -0.55126616],\n",
       "       [-0.82293289, -0.56336851,  0.41927286],\n",
       "       [-0.82293289,  0.7284319 , -0.86183865],\n",
       "       [-0.82293289, -1.06573534,  0.5745591 ],\n",
       "       [-0.78476346,  0.80019859,  0.18634349],\n",
       "       [-0.78476346, -0.85043527, -0.12422899],\n",
       "       [-0.78476346, -0.70690189, -0.3183368 ],\n",
       "       [-0.78476346, -0.56336851, -0.3183368 ],\n",
       "       [-0.70842461,  0.7284319 ,  0.06987881],\n",
       "       [-0.70842461, -0.41983513,  0.38045129],\n",
       "       [-0.67025518, -0.56336851,  0.14752193],\n",
       "       [-0.67025518,  1.4460988 ,  0.38045129],\n",
       "       [-0.67025518,  0.80019859, -0.20187212],\n",
       "       [-0.67025518,  0.58489852, -0.35715836],\n",
       "       [-0.63208575,  0.87196528, -0.00776431],\n",
       "       [-0.63208575,  2.16376569, -0.16305055],\n",
       "       [-0.55574689, -0.85043527,  0.03105725],\n",
       "       [-0.55574689,  1.01549866, -0.16305055],\n",
       "       [-0.55574689,  2.23553238,  0.22516505],\n",
       "       [-0.55574689, -1.42456879,  0.18634349],\n",
       "       [-0.51757746,  2.02023231,  0.06987881],\n",
       "       [-0.51757746,  1.08726535,  0.34162973],\n",
       "       [-0.47940803,  1.73316556,  0.03105725],\n",
       "       [-0.47940803, -1.49633548,  0.34162973],\n",
       "       [-0.47940803,  0.29783176, -0.00776431],\n",
       "       [-0.47940803,  2.091999  , -0.08540743],\n",
       "       [-0.47940803, -1.42456879,  0.34162973],\n",
       "       [-0.47940803, -0.49160182, -0.12422899],\n",
       "       [-0.4412386 ,  2.23553238,  0.18634349],\n",
       "       [-0.4412386 ,  0.58489852, -0.3183368 ],\n",
       "       [-0.40306917,  1.51786549, -0.04658587],\n",
       "       [-0.40306917,  1.51786549,  0.22516505],\n",
       "       [-0.25039146,  1.4460988 , -0.12422899],\n",
       "       [-0.25039146, -0.92220196,  0.14752193],\n",
       "       [-0.25039146,  0.44136514,  0.10870037],\n",
       "       [-0.25039146,  0.08253169, -0.08540743],\n",
       "       [-0.25039146, -1.13750203,  0.06987881],\n",
       "       [-0.25039146,  0.7284319 , -0.3183368 ],\n",
       "       [-0.25039146,  1.30256542,  0.03105725],\n",
       "       [-0.25039146, -0.06100169,  0.18634349],\n",
       "       [-0.25039146,  2.02023231, -0.35715836],\n",
       "       [-0.25039146,  0.51313183, -0.24069368],\n",
       "       [-0.25039146, -1.28103541,  0.26398661],\n",
       "       [-0.25039146,  0.65666521, -0.16305055],\n",
       "       [-0.13588317,  1.15903204,  0.30280817],\n",
       "       [-0.13588317, -1.20926872,  0.18634349],\n",
       "       [-0.09771374, -0.34806844,  0.38045129],\n",
       "       [-0.09771374,  0.80019859, -0.16305055],\n",
       "       [-0.05954431,  2.091999  ,  0.18634349],\n",
       "       [-0.05954431, -1.49633548, -0.35715836],\n",
       "       [-0.02137488,  0.65666521, -0.04658587],\n",
       "       [-0.02137488,  0.08253169, -0.39597992],\n",
       "       [-0.02137488, -0.49160182, -0.3183368 ],\n",
       "       [-0.02137488, -1.06573534,  0.06987881],\n",
       "       [-0.02137488,  0.58489852, -0.12422899],\n",
       "       [-0.02137488, -0.85043527, -0.00776431],\n",
       "       [ 0.01679455,  0.65666521, -0.3183368 ],\n",
       "       [ 0.01679455, -1.3528021 , -0.04658587],\n",
       "       [ 0.05496398, -1.13750203, -0.35715836],\n",
       "       [ 0.05496398,  0.7284319 , -0.08540743],\n",
       "       [ 0.05496398,  2.02023231,  0.34162973],\n",
       "       [ 0.05496398, -0.92220196,  0.18634349],\n",
       "       [ 0.05496398,  0.7284319 ,  0.22516505],\n",
       "       [ 0.05496398, -1.28103541, -0.3183368 ],\n",
       "       [ 0.09313341,  1.94846562, -0.00776431],\n",
       "       [ 0.09313341,  1.08726535, -0.16305055],\n",
       "       [ 0.09313341,  2.091999  , -0.27951524],\n",
       "       [ 0.09313341,  1.94846562, -0.08540743],\n",
       "       [ 0.09313341,  1.87669894,  0.06987881],\n",
       "       [ 0.09313341, -1.42456879,  0.14752193],\n",
       "       [ 0.13130284, -0.06100169, -0.3183368 ],\n",
       "       [ 0.13130284, -1.42456879, -0.16305055],\n",
       "       [ 0.16947227, -1.49633548, -0.08540743],\n",
       "       [ 0.16947227, -1.42456879, -0.00776431],\n",
       "       [ 0.16947227,  1.73316556, -0.27951524],\n",
       "       [ 0.16947227,  0.7284319 ,  0.34162973],\n",
       "       [ 0.24581112,  0.87196528, -0.27951524],\n",
       "       [ 0.24581112,  0.80019859,  0.26398661],\n",
       "       [ 0.24581112, -0.85043527,  0.22516505],\n",
       "       [ 0.24581112, -0.06100169, -0.39597992],\n",
       "       [ 0.32214998,  0.08253169,  0.30280817],\n",
       "       [ 0.32214998,  0.010765  ,  1.58391968],\n",
       "       [ 0.36031941, -1.13750203, -0.82301709],\n",
       "       [ 0.36031941, -0.56336851,  1.04041783],\n",
       "       [ 0.39848884,  0.29783176, -0.59008772],\n",
       "       [ 0.39848884,  0.08253169,  1.73920592],\n",
       "       [ 0.39848884,  1.4460988 , -1.52180518],\n",
       "       [ 0.39848884, -0.06100169,  0.96277471],\n",
       "       [ 0.39848884,  0.58489852, -1.5994483 ],\n",
       "       [ 0.39848884,  0.010765  ,  0.96277471],\n",
       "       [ 0.43665827, -0.99396865, -0.62890928],\n",
       "       [ 0.43665827, -0.56336851,  0.80748846],\n",
       "       [ 0.4748277 , -1.3528021 , -1.75473454],\n",
       "       [ 0.4748277 , -0.70690189,  1.46745499],\n",
       "       [ 0.4748277 ,  0.36959845, -1.67709142],\n",
       "       [ 0.4748277 , -0.49160182,  0.88513158],\n",
       "       [ 0.51299713, -1.42456879, -1.56062674],\n",
       "       [ 0.51299713, -0.27630176,  0.84631002],\n",
       "       [ 0.55116656,  1.30256542, -1.75473454],\n",
       "       [ 0.55116656, -0.49160182,  1.6615628 ],\n",
       "       [ 0.58933599, -0.77866858, -0.39597992],\n",
       "       [ 0.58933599, -0.49160182,  1.42863343],\n",
       "       [ 0.62750542, -0.99396865, -1.48298362],\n",
       "       [ 0.62750542, -0.77866858,  1.81684904],\n",
       "       [ 0.62750542,  0.65666521, -0.55126616],\n",
       "       [ 0.62750542, -0.49160182,  0.92395314],\n",
       "       [ 0.66567484, -0.34806844, -1.09476801],\n",
       "       [ 0.66567484, -0.34806844,  1.54509812],\n",
       "       [ 0.66567484,  0.29783176, -1.28887582],\n",
       "       [ 0.66567484,  0.010765  ,  1.46745499],\n",
       "       [ 0.66567484,  0.36959845, -1.17241113],\n",
       "       [ 0.66567484, -0.06100169,  1.00159627],\n",
       "       [ 0.66567484,  0.58489852, -1.32769738],\n",
       "       [ 0.66567484, -0.85043527,  1.50627656],\n",
       "       [ 0.66567484, -0.13276838, -1.91002079],\n",
       "       [ 0.66567484, -0.6351352 ,  1.07923939],\n",
       "       [ 0.66567484, -0.34806844, -1.91002079],\n",
       "       [ 0.66567484, -0.6351352 ,  0.88513158],\n",
       "       [ 0.70384427,  1.23079873, -0.59008772],\n",
       "       [ 0.70384427, -0.70690189,  1.27334719],\n",
       "       [ 0.78018313, -1.42456879, -1.75473454],\n",
       "       [ 0.78018313, -0.56336851,  1.6615628 ],\n",
       "       [ 0.93286085,  0.80019859, -0.93948177],\n",
       "       [ 0.93286085, -0.20453507,  0.96277471],\n",
       "       [ 0.97103028,  0.22606507, -1.17241113],\n",
       "       [ 0.97103028, -0.41983513,  1.73920592],\n",
       "       [ 1.00919971, -0.20453507, -0.90066021],\n",
       "       [ 1.00919971, -0.49160182,  0.49691598],\n",
       "       [ 1.00919971,  0.08253169, -1.44416206],\n",
       "       [ 1.00919971, -0.77866858,  0.96277471],\n",
       "       [ 1.00919971, -0.20453507, -1.56062674],\n",
       "       [ 1.00919971, -0.20453507,  1.62274124],\n",
       "       [ 1.04736914,  0.94373197, -1.44416206],\n",
       "       [ 1.04736914, -0.6351352 ,  1.38981187],\n",
       "       [ 1.04736914,  1.37433211, -1.36651894],\n",
       "       [ 1.04736914, -0.85043527,  0.72984534],\n",
       "       [ 1.23821628,  1.4460988 , -1.4053405 ],\n",
       "       [ 1.23821628, -0.27630176,  1.54509812],\n",
       "       [ 1.390894  , -0.13276838, -0.7065524 ],\n",
       "       [ 1.390894  , -0.49160182,  1.38981187],\n",
       "       [ 1.42906343,  0.51313183, -1.36651894],\n",
       "       [ 1.42906343, -0.70690189,  1.46745499],\n",
       "       [ 1.46723286,  0.15429838, -0.43480148],\n",
       "       [ 1.46723286, -0.6351352 ,  1.81684904],\n",
       "       [ 1.54357172,  1.08726535, -1.01712489],\n",
       "       [ 1.54357172, -0.77866858,  0.69102378],\n",
       "       [ 1.61991057,  0.15429838, -1.28887582],\n",
       "       [ 1.61991057, -0.20453507,  1.35099031],\n",
       "       [ 1.61991057, -0.34806844, -1.05594645],\n",
       "       [ 1.61991057, -0.49160182,  0.72984534],\n",
       "       [ 2.00160487, -0.41983513, -1.63826986],\n",
       "       [ 2.00160487, -0.06100169,  1.58391968],\n",
       "       [ 2.26879087,  0.58489852, -1.32769738],\n",
       "       [ 2.26879087, -0.27630176,  1.11806095],\n",
       "       [ 2.49780745,  0.44136514, -0.86183865],\n",
       "       [ 2.49780745, -0.49160182,  0.92395314],\n",
       "       [ 2.91767117, -0.49160182, -1.25005425],\n",
       "       [ 2.91767117, -0.6351352 ,  1.27334719]])"
      ]
     },
     "execution_count": 14,
     "metadata": {},
     "output_type": "execute_result"
    }
   ],
   "source": [
    "scaled_features = StandardScaler().fit_transform(df[['Annual Income (k$)', 'Age', 'Spending Score (1-100)']].values)\n",
    "scaled_features"
   ]
  },
  {
   "cell_type": "code",
   "execution_count": 15,
   "metadata": {},
   "outputs": [
    {
     "data": {
      "text/html": [
       "<div>\n",
       "<style scoped>\n",
       "    .dataframe tbody tr th:only-of-type {\n",
       "        vertical-align: middle;\n",
       "    }\n",
       "\n",
       "    .dataframe tbody tr th {\n",
       "        vertical-align: top;\n",
       "    }\n",
       "\n",
       "    .dataframe thead th {\n",
       "        text-align: right;\n",
       "    }\n",
       "</style>\n",
       "<table border=\"1\" class=\"dataframe\">\n",
       "  <thead>\n",
       "    <tr style=\"text-align: right;\">\n",
       "      <th></th>\n",
       "      <th>Annual Income (k$)</th>\n",
       "      <th>Age</th>\n",
       "      <th>Spending Score (1-100)</th>\n",
       "    </tr>\n",
       "  </thead>\n",
       "  <tbody>\n",
       "    <tr>\n",
       "      <th>0</th>\n",
       "      <td>-1.738999</td>\n",
       "      <td>-1.424569</td>\n",
       "      <td>-0.434801</td>\n",
       "    </tr>\n",
       "    <tr>\n",
       "      <th>1</th>\n",
       "      <td>-1.738999</td>\n",
       "      <td>-1.281035</td>\n",
       "      <td>1.195704</td>\n",
       "    </tr>\n",
       "    <tr>\n",
       "      <th>2</th>\n",
       "      <td>-1.700830</td>\n",
       "      <td>-1.352802</td>\n",
       "      <td>-1.715913</td>\n",
       "    </tr>\n",
       "    <tr>\n",
       "      <th>3</th>\n",
       "      <td>-1.700830</td>\n",
       "      <td>-1.137502</td>\n",
       "      <td>1.040418</td>\n",
       "    </tr>\n",
       "    <tr>\n",
       "      <th>4</th>\n",
       "      <td>-1.662660</td>\n",
       "      <td>-0.563369</td>\n",
       "      <td>-0.395980</td>\n",
       "    </tr>\n",
       "    <tr>\n",
       "      <th>...</th>\n",
       "      <td>...</td>\n",
       "      <td>...</td>\n",
       "      <td>...</td>\n",
       "    </tr>\n",
       "    <tr>\n",
       "      <th>195</th>\n",
       "      <td>2.268791</td>\n",
       "      <td>-0.276302</td>\n",
       "      <td>1.118061</td>\n",
       "    </tr>\n",
       "    <tr>\n",
       "      <th>196</th>\n",
       "      <td>2.497807</td>\n",
       "      <td>0.441365</td>\n",
       "      <td>-0.861839</td>\n",
       "    </tr>\n",
       "    <tr>\n",
       "      <th>197</th>\n",
       "      <td>2.497807</td>\n",
       "      <td>-0.491602</td>\n",
       "      <td>0.923953</td>\n",
       "    </tr>\n",
       "    <tr>\n",
       "      <th>198</th>\n",
       "      <td>2.917671</td>\n",
       "      <td>-0.491602</td>\n",
       "      <td>-1.250054</td>\n",
       "    </tr>\n",
       "    <tr>\n",
       "      <th>199</th>\n",
       "      <td>2.917671</td>\n",
       "      <td>-0.635135</td>\n",
       "      <td>1.273347</td>\n",
       "    </tr>\n",
       "  </tbody>\n",
       "</table>\n",
       "<p>200 rows × 3 columns</p>\n",
       "</div>"
      ],
      "text/plain": [
       "     Annual Income (k$)       Age  Spending Score (1-100)\n",
       "0             -1.738999 -1.424569               -0.434801\n",
       "1             -1.738999 -1.281035                1.195704\n",
       "2             -1.700830 -1.352802               -1.715913\n",
       "3             -1.700830 -1.137502                1.040418\n",
       "4             -1.662660 -0.563369               -0.395980\n",
       "..                  ...       ...                     ...\n",
       "195            2.268791 -0.276302                1.118061\n",
       "196            2.497807  0.441365               -0.861839\n",
       "197            2.497807 -0.491602                0.923953\n",
       "198            2.917671 -0.491602               -1.250054\n",
       "199            2.917671 -0.635135                1.273347\n",
       "\n",
       "[200 rows x 3 columns]"
      ]
     },
     "execution_count": 15,
     "metadata": {},
     "output_type": "execute_result"
    }
   ],
   "source": [
    "scaled_df = pd.DataFrame(data=scaled_features, columns=['Annual Income (k$)', 'Age', 'Spending Score (1-100)'])\n",
    "scaled_df"
   ]
  },
  {
   "cell_type": "code",
   "execution_count": 16,
   "metadata": {},
   "outputs": [],
   "source": [
    "df = df[['CustomerID', 'Gender']].join(scaled_df)"
   ]
  },
  {
   "cell_type": "code",
   "execution_count": 17,
   "metadata": {},
   "outputs": [
    {
     "data": {
      "text/html": [
       "<div>\n",
       "<style scoped>\n",
       "    .dataframe tbody tr th:only-of-type {\n",
       "        vertical-align: middle;\n",
       "    }\n",
       "\n",
       "    .dataframe tbody tr th {\n",
       "        vertical-align: top;\n",
       "    }\n",
       "\n",
       "    .dataframe thead th {\n",
       "        text-align: right;\n",
       "    }\n",
       "</style>\n",
       "<table border=\"1\" class=\"dataframe\">\n",
       "  <thead>\n",
       "    <tr style=\"text-align: right;\">\n",
       "      <th></th>\n",
       "      <th>CustomerID</th>\n",
       "      <th>Gender</th>\n",
       "      <th>Annual Income (k$)</th>\n",
       "      <th>Age</th>\n",
       "      <th>Spending Score (1-100)</th>\n",
       "    </tr>\n",
       "  </thead>\n",
       "  <tbody>\n",
       "    <tr>\n",
       "      <th>0</th>\n",
       "      <td>1</td>\n",
       "      <td>0</td>\n",
       "      <td>-1.738999</td>\n",
       "      <td>-1.424569</td>\n",
       "      <td>-0.434801</td>\n",
       "    </tr>\n",
       "    <tr>\n",
       "      <th>1</th>\n",
       "      <td>2</td>\n",
       "      <td>0</td>\n",
       "      <td>-1.738999</td>\n",
       "      <td>-1.281035</td>\n",
       "      <td>1.195704</td>\n",
       "    </tr>\n",
       "    <tr>\n",
       "      <th>2</th>\n",
       "      <td>3</td>\n",
       "      <td>1</td>\n",
       "      <td>-1.700830</td>\n",
       "      <td>-1.352802</td>\n",
       "      <td>-1.715913</td>\n",
       "    </tr>\n",
       "    <tr>\n",
       "      <th>3</th>\n",
       "      <td>4</td>\n",
       "      <td>1</td>\n",
       "      <td>-1.700830</td>\n",
       "      <td>-1.137502</td>\n",
       "      <td>1.040418</td>\n",
       "    </tr>\n",
       "    <tr>\n",
       "      <th>4</th>\n",
       "      <td>5</td>\n",
       "      <td>1</td>\n",
       "      <td>-1.662660</td>\n",
       "      <td>-0.563369</td>\n",
       "      <td>-0.395980</td>\n",
       "    </tr>\n",
       "  </tbody>\n",
       "</table>\n",
       "</div>"
      ],
      "text/plain": [
       "   CustomerID  Gender  Annual Income (k$)       Age  Spending Score (1-100)\n",
       "0           1       0           -1.738999 -1.424569               -0.434801\n",
       "1           2       0           -1.738999 -1.281035                1.195704\n",
       "2           3       1           -1.700830 -1.352802               -1.715913\n",
       "3           4       1           -1.700830 -1.137502                1.040418\n",
       "4           5       1           -1.662660 -0.563369               -0.395980"
      ]
     },
     "execution_count": 17,
     "metadata": {},
     "output_type": "execute_result"
    }
   ],
   "source": [
    "df.head()"
   ]
  },
  {
   "cell_type": "code",
   "execution_count": 18,
   "metadata": {},
   "outputs": [
    {
     "data": {
      "image/png": "[encoded data removed]",
      "text/plain": [
       "<Figure size 1152x720 with 1 Axes>"
      ]
     },
     "metadata": {
      "needs_background": "light"
     },
     "output_type": "display_data"
    }
   ],
   "source": [
    "plt.figure(figsize = (16 , 10))\n",
    "for gender in df.Gender.unique():\n",
    "    plt.scatter(x='Annual Income (k$)', y='Spending Score (1-100)',\n",
    "                data=df[df['Gender'] == gender], alpha=0.8, label=gender)\n",
    "\n",
    "plt.xlabel('Annual Income (k$)')\n",
    "plt.ylabel('Spending Score (1-100)')\n",
    "plt.legend(labels=[\"Male\", \"Female\"])\n",
    "plt.show()\n"
   ]
  },
  {
   "cell_type": "code",
   "execution_count": 19,
   "metadata": {},
   "outputs": [
    {
     "data": {
      "image/png": "[encoded data removed]",
      "text/plain": [
       "<Figure size 1080x432 with 1 Axes>"
      ]
     },
     "metadata": {
      "needs_background": "light"
     },
     "output_type": "display_data"
    }
   ],
   "source": [
    "K = range(1, 11)\n",
    "inertia = []\n",
    "X1 = df.drop(columns=[\"CustomerID\", \"Gender\"])\n",
    "\n",
    "for k in K:\n",
    "    kmeanModel = (KMeans(n_clusters=k, init='k-means++', n_init=10, max_iter=300, random_state=11))\n",
    "    kmeanModel.fit(X1)\n",
    "    inertia.append(kmeanModel.inertia_)\n",
    "\n",
    "plt.figure(figsize=(15, 6))\n",
    "plt.plot(K, inertia, 'bo')\n",
    "plt.plot(K, inertia, 'g')\n",
    "plt.xlabel('Number of Clusters')\n",
    "plt.ylabel('Inertia')\n",
    "plt.show()\n"
   ]
  },
  {
   "cell_type": "code",
   "execution_count": 20,
   "metadata": {},
   "outputs": [
    {
     "data": {
      "text/plain": [
       "array([2, 2, 2, 2, 2, 2, 1, 2, 1, 2, 1, 2, 1, 2, 1, 2, 2, 2, 1, 2, 2, 2,\n",
       "       1, 2, 1, 2, 1, 2, 1, 2, 1, 2, 1, 2, 1, 2, 1, 2, 1, 2, 1, 2, 1, 2,\n",
       "       1, 2, 1, 2, 2, 2, 1, 2, 2, 1, 1, 1, 1, 1, 2, 1, 1, 2, 1, 1, 1, 2,\n",
       "       1, 1, 2, 2, 1, 1, 1, 1, 1, 2, 1, 1, 2, 1, 1, 2, 1, 1, 2, 1, 1, 2,\n",
       "       2, 1, 1, 2, 1, 1, 2, 2, 1, 2, 1, 2, 2, 1, 1, 2, 1, 2, 1, 1, 1, 1,\n",
       "       1, 2, 3, 2, 2, 2, 1, 1, 1, 1, 2, 3, 0, 0, 3, 0, 3, 0, 1, 0, 3, 0,\n",
       "       3, 0, 3, 0, 3, 0, 3, 0, 3, 0, 3, 0, 3, 0, 3, 0, 3, 0, 3, 0, 3, 0,\n",
       "       3, 0, 3, 0, 3, 0, 1, 0, 3, 0, 3, 0, 3, 0, 3, 0, 3, 0, 3, 0, 3, 0,\n",
       "       3, 0, 3, 0, 3, 0, 3, 0, 3, 0, 3, 0, 3, 0, 3, 0, 3, 0, 3, 0, 3, 0,\n",
       "       3, 0], dtype=int32)"
      ]
     },
     "execution_count": 20,
     "metadata": {},
     "output_type": "execute_result"
    }
   ],
   "source": [
    "kmeans = KMeans(n_clusters = 4, init = 'k-means++', max_iter = 300, n_init = 10, random_state = 11)\n",
    "y_pred = kmeans.fit_predict(X1)\n",
    "y_pred"
   ]
  },
  {
   "cell_type": "code",
   "execution_count": 21,
   "metadata": {},
   "outputs": [
    {
     "data": {
      "image/png": "[encoded data removed]",
      "text/plain": [
       "<Figure size 936x576 with 1 Axes>"
      ]
     },
     "metadata": {
      "needs_background": "light"
     },
     "output_type": "display_data"
    }
   ],
   "source": [
    "fig = plt.figure(figsize=(13, 8))\n",
    "centers = kmeans.cluster_centers_\n",
    "plt.scatter(X1[\"Annual Income (k$)\"], X1[\"Spending Score (1-100)\"], c=y_pred, cmap='inferno')\n",
    "plt.scatter(centers[:, 0], centers[:, 1], s=200, alpha=0.8);"
   ]
  },
  {
   "cell_type": "code",
   "execution_count": 22,
   "metadata": {},
   "outputs": [
    {
     "data": {
      "image/png": "[encoded data removed]",
      "text/plain": [
       "<Figure size 1080x432 with 1 Axes>"
      ]
     },
     "metadata": {
      "needs_background": "light"
     },
     "output_type": "display_data"
    }
   ],
   "source": [
    "inertia = []\n",
    "K = range(1, 11)\n",
    "X2 = df[[\"Spending Score (1-100)\", \"Age\"]]\n",
    "\n",
    "for k in K:\n",
    "    kmeanModel = (KMeans(n_clusters=k, init='k-means++', n_init=10, max_iter=300, random_state=11))\n",
    "    kmeanModel.fit(X2)\n",
    "    inertia.append(kmeanModel.inertia_)\n",
    "\n",
    "plt.figure(figsize=(15, 6))\n",
    "plt.plot(K, inertia, 'bo')\n",
    "plt.plot(K, inertia, 'g')\n",
    "plt.xlabel('Number of Clusters')\n",
    "plt.ylabel('Inertia')\n",
    "plt.show()"
   ]
  },
  {
   "cell_type": "code",
   "execution_count": 23,
   "metadata": {},
   "outputs": [
    {
     "data": {
      "text/plain": [
       "0.4039582785148566"
      ]
     },
     "execution_count": 23,
     "metadata": {},
     "output_type": "execute_result"
    }
   ],
   "source": [
    "# Коэффицент зависит от числа кластеров\n",
    "# нужен для изучения расстояния между кластерами\n",
    "silhouette_score(X1, y_pred)"
   ]
  },
  {
   "cell_type": "code",
   "execution_count": 24,
   "metadata": {},
   "outputs": [
    {
     "data": {
      "text/plain": [
       "125.67639662405028"
      ]
     },
     "execution_count": 24,
     "metadata": {},
     "output_type": "execute_result"
    }
   ],
   "source": [
    "# Оценка определяется как отношение между дисперсией внутри кластера и дисперсией между кластерами.\n",
    "# может быть использован для оценки модели, где более высокое значение относится к модели\n",
    "# с более четко определенными кластерами.\n",
    "calinski_harabasz_score(X1, y_pred)"
   ]
  },
  {
   "cell_type": "code",
   "execution_count": 25,
   "metadata": {},
   "outputs": [
    {
     "data": {
      "text/plain": [
       "array([[ 0.97484722, -0.42880597,  1.21608539],\n",
       "       [-0.49056525,  1.08616125, -0.39717443],\n",
       "       [-0.78476346, -0.96249203,  0.39202966],\n",
       "       [ 0.99011499,  0.03720536, -1.18875705]])"
      ]
     },
     "execution_count": 25,
     "metadata": {},
     "output_type": "execute_result"
    }
   ],
   "source": [
    "centers"
   ]
  },
  {
   "cell_type": "code",
   "execution_count": 26,
   "metadata": {},
   "outputs": [
    {
     "data": {
      "text/plain": [
       "array([4, 0, 3, 0, 4, 0, 3, 0, 1, 0, 1, 0, 1, 0, 3, 0, 3, 4, 1, 0, 3, 0,\n",
       "       1, 0, 1, 0, 2, 4, 3, 0, 1, 0, 1, 0, 1, 0, 3, 0, 3, 0, 5, 0, 2, 4,\n",
       "       1, 4, 2, 4, 4, 4, 2, 4, 4, 5, 2, 2, 2, 5, 4, 2, 5, 4, 5, 2, 5, 4,\n",
       "       2, 5, 4, 4, 5, 2, 5, 5, 5, 4, 2, 2, 4, 2, 5, 2, 5, 2, 4, 2, 2, 4,\n",
       "       4, 2, 5, 4, 2, 2, 4, 4, 2, 4, 2, 4, 4, 2, 5, 4, 2, 4, 5, 2, 5, 5,\n",
       "       5, 4, 2, 4, 4, 4, 5, 2, 2, 2, 4, 2, 2, 0, 4, 0, 2, 0, 1, 0, 1, 0,\n",
       "       4, 0, 3, 0, 1, 0, 3, 0, 1, 0, 4, 0, 3, 0, 2, 0, 3, 0, 3, 0, 1, 0,\n",
       "       1, 0, 3, 0, 3, 0, 2, 0, 3, 0, 1, 0, 3, 0, 3, 4, 3, 0, 3, 0, 1, 0,\n",
       "       1, 0, 1, 0, 3, 0, 1, 0, 2, 0, 1, 0, 3, 0, 3, 0, 3, 0, 1, 0, 2, 0,\n",
       "       3, 0], dtype=int32)"
      ]
     },
     "execution_count": 26,
     "metadata": {},
     "output_type": "execute_result"
    }
   ],
   "source": [
    "kmeans = KMeans(n_clusters = 6, init = 'k-means++', max_iter = 300, n_init = 10, random_state = 11)\n",
    "y_pred = kmeans.fit_predict(X2)\n",
    "y_pred"
   ]
  },
  {
   "cell_type": "code",
   "execution_count": 27,
   "metadata": {},
   "outputs": [
    {
     "data": {
      "image/png": "[encoded data removed]",
      "text/plain": [
       "<Figure size 936x576 with 1 Axes>"
      ]
     },
     "metadata": {
      "needs_background": "light"
     },
     "output_type": "display_data"
    }
   ],
   "source": [
    "fig = plt.figure(figsize=(13, 8))\n",
    "centers = kmeans.cluster_centers_\n",
    "plt.scatter(X2[\"Spending Score (1-100)\"], X2[\"Age\"], c=y_pred, cmap='inferno')\n",
    "plt.xlabel('Spending Score (1-100)')\n",
    "plt.ylabel('Age')\n",
    "plt.scatter(centers[:, 0], centers[:, 1], s=200, alpha=0.8);"
   ]
  },
  {
   "cell_type": "code",
   "execution_count": 28,
   "metadata": {},
   "outputs": [
    {
     "data": {
      "text/plain": [
       "0.4566283030197353"
      ]
     },
     "execution_count": 28,
     "metadata": {},
     "output_type": "execute_result"
    }
   ],
   "source": [
    "silhouette_score(X2, y_pred)"
   ]
  },
  {
   "cell_type": "code",
   "execution_count": 29,
   "metadata": {},
   "outputs": [
    {
     "data": {
      "text/plain": [
       "253.3222697328047"
      ]
     },
     "execution_count": 29,
     "metadata": {},
     "output_type": "execute_result"
    }
   ],
   "source": [
    "calinski_harabasz_score(X2, y_pred)"
   ]
  }
 ],
 "metadata": {
  "interpreter": {
   "hash": "aee8b7b246df8f9039afb4144a1f6fd8d2ca17a180786b69acc140d282b71a49"
  },
  "kernelspec": {
   "display_name": "Python 3.9.9 64-bit",
   "language": "python",
   "name": "python3"
  },
  "language_info": {
   "codemirror_mode": {
    "name": "ipython",
    "version": 3
   },
   "file_extension": ".py",
   "mimetype": "text/x-python",
   "name": "python",
   "nbconvert_exporter": "python",
   "pygments_lexer": "ipython3",
   "version": "3.9.9"
  },
  "orig_nbformat": 4
 },
 "nbformat": 4,
 "nbformat_minor": 2
}
