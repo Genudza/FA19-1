{
 "cells": [
  {
   "cell_type": "code",
   "execution_count": 1,
   "metadata": {},
   "outputs": [],
   "source": [
    "import numpy as np\n",
    "import pandas as pd\n",
    "import matplotlib.pyplot as plt\n",
    "import os"
   ]
  },
  {
   "cell_type": "code",
   "execution_count": 48,
   "metadata": {},
   "outputs": [
    {
     "data": {
      "text/plain": [
       "['MVID_101001_171001.txt', 'SBER_101001_171001.txt', 'PI19-3_Baranov_03.ipynb']"
      ]
     },
     "execution_count": 48,
     "metadata": {},
     "output_type": "execute_result"
    }
   ],
   "source": [
    "cwd = os.getcwd()\n",
    "l = os.listdir(path=cwd)\n",
    "l"
   ]
  },
  {
   "cell_type": "code",
   "execution_count": 51,
   "metadata": {},
   "outputs": [],
   "source": [
    "mvid = pd.read_csv(os.path.join(cwd, l[0]))\n",
    "sber = pd.read_csv(os.path.join(cwd, l[1]))"
   ]
  },
  {
   "cell_type": "code",
   "execution_count": 59,
   "metadata": {},
   "outputs": [
    {
     "data": {
      "text/plain": [
       "((1758, 6), (1758, 6))"
      ]
     },
     "execution_count": 59,
     "metadata": {},
     "output_type": "execute_result"
    }
   ],
   "source": [
    "sber.shape, mvid.shape"
   ]
  },
  {
   "cell_type": "code",
   "execution_count": 60,
   "metadata": {},
   "outputs": [
    {
     "data": {
      "text/html": [
       "<div>\n",
       "<style scoped>\n",
       "    .dataframe tbody tr th:only-of-type {\n",
       "        vertical-align: middle;\n",
       "    }\n",
       "\n",
       "    .dataframe tbody tr th {\n",
       "        vertical-align: top;\n",
       "    }\n",
       "\n",
       "    .dataframe thead th {\n",
       "        text-align: right;\n",
       "    }\n",
       "</style>\n",
       "<table border=\"1\" class=\"dataframe\">\n",
       "  <thead>\n",
       "    <tr style=\"text-align: right;\">\n",
       "      <th></th>\n",
       "      <th>&lt;TICKER&gt;_x</th>\n",
       "      <th>&lt;PER&gt;_x</th>\n",
       "      <th>&lt;DATE&gt;</th>\n",
       "      <th>&lt;TIME&gt;_x</th>\n",
       "      <th>&lt;CLOSE&gt;_x</th>\n",
       "      <th>&lt;VOL&gt;_x</th>\n",
       "      <th>&lt;TICKER&gt;_y</th>\n",
       "      <th>&lt;PER&gt;_y</th>\n",
       "      <th>&lt;TIME&gt;_y</th>\n",
       "      <th>&lt;CLOSE&gt;_y</th>\n",
       "      <th>&lt;VOL&gt;_y</th>\n",
       "    </tr>\n",
       "  </thead>\n",
       "  <tbody>\n",
       "    <tr>\n",
       "      <th>0</th>\n",
       "      <td>SBER</td>\n",
       "      <td>D</td>\n",
       "      <td>20101001</td>\n",
       "      <td>0</td>\n",
       "      <td>89.09</td>\n",
       "      <td>332429890</td>\n",
       "      <td>MVID</td>\n",
       "      <td>D</td>\n",
       "      <td>0</td>\n",
       "      <td>194.38</td>\n",
       "      <td>19406</td>\n",
       "    </tr>\n",
       "    <tr>\n",
       "      <th>1</th>\n",
       "      <td>SBER</td>\n",
       "      <td>D</td>\n",
       "      <td>20101004</td>\n",
       "      <td>0</td>\n",
       "      <td>89.88</td>\n",
       "      <td>194032721</td>\n",
       "      <td>MVID</td>\n",
       "      <td>D</td>\n",
       "      <td>0</td>\n",
       "      <td>190.00</td>\n",
       "      <td>31039</td>\n",
       "    </tr>\n",
       "    <tr>\n",
       "      <th>2</th>\n",
       "      <td>SBER</td>\n",
       "      <td>D</td>\n",
       "      <td>20101005</td>\n",
       "      <td>0</td>\n",
       "      <td>91.97</td>\n",
       "      <td>198775753</td>\n",
       "      <td>MVID</td>\n",
       "      <td>D</td>\n",
       "      <td>0</td>\n",
       "      <td>187.00</td>\n",
       "      <td>17651</td>\n",
       "    </tr>\n",
       "    <tr>\n",
       "      <th>3</th>\n",
       "      <td>SBER</td>\n",
       "      <td>D</td>\n",
       "      <td>20101006</td>\n",
       "      <td>0</td>\n",
       "      <td>91.20</td>\n",
       "      <td>210406027</td>\n",
       "      <td>MVID</td>\n",
       "      <td>D</td>\n",
       "      <td>0</td>\n",
       "      <td>190.04</td>\n",
       "      <td>36482</td>\n",
       "    </tr>\n",
       "    <tr>\n",
       "      <th>4</th>\n",
       "      <td>SBER</td>\n",
       "      <td>D</td>\n",
       "      <td>20101007</td>\n",
       "      <td>0</td>\n",
       "      <td>90.40</td>\n",
       "      <td>145137617</td>\n",
       "      <td>MVID</td>\n",
       "      <td>D</td>\n",
       "      <td>0</td>\n",
       "      <td>199.85</td>\n",
       "      <td>204248</td>\n",
       "    </tr>\n",
       "  </tbody>\n",
       "</table>\n",
       "</div>"
      ],
      "text/plain": [
       "  <TICKER>_x <PER>_x    <DATE>  <TIME>_x  <CLOSE>_x    <VOL>_x <TICKER>_y  \\\n",
       "0       SBER       D  20101001         0      89.09  332429890       MVID   \n",
       "1       SBER       D  20101004         0      89.88  194032721       MVID   \n",
       "2       SBER       D  20101005         0      91.97  198775753       MVID   \n",
       "3       SBER       D  20101006         0      91.20  210406027       MVID   \n",
       "4       SBER       D  20101007         0      90.40  145137617       MVID   \n",
       "\n",
       "  <PER>_y  <TIME>_y  <CLOSE>_y  <VOL>_y  \n",
       "0       D         0     194.38    19406  \n",
       "1       D         0     190.00    31039  \n",
       "2       D         0     187.00    17651  \n",
       "3       D         0     190.04    36482  \n",
       "4       D         0     199.85   204248  "
      ]
     },
     "execution_count": 60,
     "metadata": {},
     "output_type": "execute_result"
    }
   ],
   "source": [
    "res = pd.merge(sber, mvid, on='<DATE>')\n",
    "res.head()"
   ]
  },
  {
   "cell_type": "code",
   "execution_count": 61,
   "metadata": {},
   "outputs": [
    {
     "data": {
      "image/png": "[encoded data removed]",
      "text/plain": [
       "<Figure size 432x288 with 1 Axes>"
      ]
     },
     "metadata": {
      "needs_background": "light"
     },
     "output_type": "display_data"
    }
   ],
   "source": [
    "x = res['<CLOSE>_x']\n",
    "y = res['<CLOSE>_y']\n",
    "plt.figure()\n",
    "plt.scatter(x,y)\n",
    "plt.show()"
   ]
  },
  {
   "cell_type": "code",
   "execution_count": 82,
   "metadata": {},
   "outputs": [
    {
     "name": "stdout",
     "output_type": "stream",
     "text": [
      "0\n",
      "0\n",
      "Нач. ошибка: 36271.58344889084\n"
     ]
    }
   ],
   "source": [
    "class hypothesis():\n",
    "    \"\"\"Модель парной линейной регрессии\"\"\"\n",
    "    def __init__(self):\n",
    "        self.b0 = 0\n",
    "        self.b1 = 0\n",
    "    def predict(self, x):\n",
    "        return self.b0 + self.b1 * x\n",
    "    def error(self, X, Y):\n",
    "        \"\"\"MSE\"\"\"\n",
    "        return sum((self.predict(X) - Y)**2) / (2 * len(X))\n",
    "    def BGD(self, X, Y, alpha = 0.00005):\n",
    "        dJ0 = sum(self.predict(X) - Y) / len(X)\n",
    "        dJ1 = sum((self.predict(X) - Y) * X) / len(X)\n",
    "        self.b0 -= alpha * dJ0\n",
    "        self.b1 -= alpha * dJ1\n",
    "\n",
    "reg = hypothesis()\n",
    "print(reg.predict(0))\n",
    "print(reg.predict(100))\n",
    "print('Нач. ошибка:', reg.error(x, y))"
   ]
  },
  {
   "cell_type": "code",
   "execution_count": 83,
   "metadata": {},
   "outputs": [
    {
     "data": {
      "image/png": "[encoded data removed]",
      "text/plain": [
       "<Figure size 432x288 with 1 Axes>"
      ]
     },
     "metadata": {
      "needs_background": "light"
     },
     "output_type": "display_data"
    }
   ],
   "source": [
    "X0 = np.linspace(55, 195, 100)\n",
    "Y0 = reg.predict(X0)\n",
    "plt.figure()\n",
    "plt.scatter(x, y)\n",
    "plt.plot(X0, Y0, 'r')\n",
    "plt.show()\n"
   ]
  },
  {
   "cell_type": "code",
   "execution_count": 84,
   "metadata": {},
   "outputs": [
    {
     "name": "stdout",
     "output_type": "stream",
     "text": [
      "error after gradient descent: 6734.135540194945\n"
     ]
    },
    {
     "data": {
      "image/png": "[encoded data removed]",
      "text/plain": [
       "<Figure size 432x288 with 1 Axes>"
      ]
     },
     "metadata": {
      "needs_background": "light"
     },
     "output_type": "display_data"
    }
   ],
   "source": [
    "reg.BGD(x, y)\n",
    "J = reg.error(x, y)\n",
    "print(\"error after gradient descent:\", J)\n",
    " \n",
    " \n",
    "X0 = np.linspace(55, 195, 100)\n",
    "Y0 = reg.predict(X0)\n",
    " \n",
    "plt.figure()\n",
    "plt.scatter(x, y)\n",
    "plt.plot(X0, Y0, 'r')\n",
    "plt.show()\n"
   ]
  },
  {
   "cell_type": "code",
   "execution_count": 85,
   "metadata": {},
   "outputs": [],
   "source": [
    "class hypothesis():\n",
    "    def __init__(self):\n",
    "        self.b0 = 0\n",
    "        self.b1 = 0\n",
    "    def predict(self, x):\n",
    "        return self.b0 + self.b1 * x\n",
    "    def error (self, X, Y):\n",
    "        return sum((self.predict(X) - Y) ** 2) / (2 * len(X))\n",
    "    def BGD(self, X, Y, alpha = 0.000005, accuracy = 0.0001, max_steps = 5000):\n",
    "        steps, errors = [], []\n",
    "        step = 0\n",
    "        old_err = self.error(X, Y)\n",
    "        new_err = self.error(X, Y) - 1\n",
    "        dJ = 1\n",
    "        while dJ > accuracy and (step < max_steps):\n",
    "            dJ0 = sum(self.predict(X)-Y) / len(X)\n",
    "            dJ1 = sum((self.predict(X) - Y) * X) / len(X)\n",
    "            self.b0 -= alpha * dJ0\n",
    "            self.b1 -= alpha * dJ1\n",
    "            old_err = new_err\n",
    "            new_err = self.error(X, Y)\n",
    "            dJ = abs(old_err - new_err)\n",
    "            print(dJ)\n",
    "            step += 1\n",
    "            steps.append(step)\n",
    "            errors.append(new_err)\n",
    "        return steps, errors"
   ]
  },
  {
   "cell_type": "code",
   "execution_count": 86,
   "metadata": {},
   "outputs": [
    {
     "name": "stdout",
     "output_type": "stream",
     "text": [
      "4030.7644014108337\n",
      "3579.892778205929\n",
      "3178.6659716137\n",
      "2822.4078176128023\n",
      "2506.078324650829\n",
      "2225.202372777512\n",
      "1975.806404029965\n",
      "1754.3622084242652\n",
      "1557.7370102957593\n",
      "1383.1491488558422\n",
      "1228.128725978766\n",
      "1090.4826645013254\n",
      "968.263682714095\n",
      "859.7427461266725\n",
      "763.3846067803725\n",
      "677.8260840634812\n",
      "601.8567797663327\n",
      "534.40195455291\n",
      "474.5073236006933\n",
      "421.32555631342393\n",
      "374.1042891174802\n",
      "332.1754817586484\n",
      "294.94596652264363\n",
      "261.8890566791388\n",
      "232.53709543344303\n",
      "206.47483997622066\n",
      "183.3335870346416\n",
      "162.7859568195497\n",
      "144.54126157675978\n",
      "128.34139322120586\n",
      "113.95717187661626\n",
      "101.18510366290093\n",
      "89.84450186403217\n",
      "79.77493074928213\n",
      "70.83393588557215\n",
      "62.89502883164482\n",
      "55.84589770344007\n",
      "49.58681829551995\n",
      "44.02924328065046\n",
      "39.09454952890974\n",
      "34.71292582462888\n",
      "30.822385245658552\n",
      "27.367888233098938\n",
      "24.300563945493536\n",
      "21.577018882018706\n",
      "19.15872299372478\n",
      "17.01146459812844\n",
      "15.104866385813182\n",
      "13.41195567201163\n",
      "11.908782813464825\n",
      "10.574082392324271\n",
      "9.388972373820195\n",
      "8.336686981752962\n",
      "7.402339512682261\n",
      "6.572711733427411\n",
      "5.836066882455157\n",
      "5.181983629659669\n",
      "4.601208645587803\n",
      "4.085525694402463\n",
      "3.627639398611848\n",
      "3.221072031217716\n",
      "2.8600718751758336\n",
      "2.5395318537306935\n",
      "2.254917280503264\n",
      "2.0022017071704568\n",
      "1.7778099612397682\n",
      "1.5785675679885003\n",
      "1.4016558411179858\n",
      "1.2445720067249795\n",
      "1.1050937965281946\n",
      "0.9812480093684712\n",
      "0.8712825963088449\n",
      "0.7736418743528475\n",
      "0.6869445181650917\n",
      "0.6099640184387454\n",
      "0.5416113304332271\n",
      "0.48091946724548507\n",
      "0.4270298198190403\n",
      "0.37918001018385894\n",
      "0.3366931060873526\n",
      "0.2989680444072178\n",
      "0.2654711279099615\n",
      "0.23572847501770866\n",
      "0.20931931579929142\n",
      "0.1858700393285062\n",
      "0.16504890820323226\n",
      "0.1465613654447111\n",
      "0.13014586740058576\n",
      "0.11557018368051786\n",
      "0.10262811178097309\n",
      "0.09113655994070768\n",
      "0.08093295693828395\n",
      "0.07187295218903955\n",
      "0.06382837361741167\n",
      "0.056685414404284984\n",
      "0.05034302295678117\n",
      "0.044711473329755336\n",
      "0.03971109587632782\n",
      "0.03527115015197069\n",
      "0.03132882415400218\n",
      "0.027828345714056013\n",
      "0.0247201934917598\n",
      "0.021960396392842085\n",
      "0.0195099115143762\n",
      "0.017334071792276973\n",
      "0.015402095579588604\n",
      "0.013686651171212816\n",
      "0.012163470137124932\n",
      "0.010811004006995972\n",
      "0.00961011941342349\n",
      "0.008543827419032368\n",
      "0.007597043169539575\n",
      "0.006756372489917339\n",
      "0.006009922394582645\n",
      "0.005347132840086033\n",
      "0.004758627330147647\n",
      "0.004236080265343389\n",
      "0.0037720991625178613\n",
      "0.003360120073239159\n",
      "0.0029943147220592436\n",
      "0.002669508051099001\n",
      "0.002381105018173457\n",
      "0.0021250255789482253\n",
      "0.0018976469751237346\n",
      "0.0016957524733811624\n",
      "0.0015164858754133093\n",
      "0.0013573110873039695\n",
      "0.0012159762673036312\n",
      "0.0010904819453685377\n",
      "0.0009790527540189942\n",
      "0.0008801123019566148\n",
      "0.0007922608783701435\n",
      "0.0007142556483472617\n",
      "0.0006449930708072316\n",
      "0.0005834932898096667\n",
      "0.0005288862637371494\n",
      "0.0004803994697795133\n",
      "0.00043734696544106555\n",
      "0.00039911968599426473\n",
      "0.0003651768299732794\n",
      "0.0003350382116309447\n",
      "0.0003082774547920053\n",
      "0.0002845159793878338\n",
      "0.00026341763179971167\n",
      "0.0002446839337153506\n",
      "0.0002280498605387038\n",
      "0.00021328009069065956\n",
      "0.00020016567702896282\n",
      "0.00018852109087674762\n",
      "0.00017818159642501996\n",
      "0.00016900092253990806\n",
      "0.00016084918939895942\n",
      "0.00015361107949729558\n",
      "0.0001471841904390203\n",
      "0.00014147760720106817\n",
      "0.00013641059712199421\n",
      "0.00013191147689894933\n",
      "0.0001279166008885113\n",
      "0.00012436945297622515\n",
      "0.00012121985548674274\n",
      "0.00011842324698818629\n",
      "0.00011594007025905739\n",
      "0.00011373519390645015\n",
      "0.00011177742652535017\n",
      "0.00011003907218309905\n",
      "0.00010849554229253044\n",
      "0.00010712499801002195\n",
      "0.00010590805459287367\n",
      "0.00010482749382845213\n",
      "0.00010386803131723354\n",
      "0.00010301609597718198\n",
      "0.00010225963490029244\n",
      "0.00010158794782455516\n",
      "0.00010099153331566413\n",
      "0.00010046195632185118\n",
      "9.999172272046053e-05\n",
      "Конечное значение ошибки: 298.6871203038979\n"
     ]
    },
    {
     "data": {
      "image/png": "[encoded data removed]",
      "text/plain": [
       "<Figure size 432x288 with 1 Axes>"
      ]
     },
     "metadata": {
      "needs_background": "light"
     },
     "output_type": "display_data"
    }
   ],
   "source": [
    "reg = hypothesis()\n",
    "steps, errors = reg.BGD(x, y)\n",
    "J = reg.error(x, y)\n",
    "print('Конечное значение ошибки:', J)\n",
    "plt.figure()\n",
    "plt.plot(steps, errors, 'r')\n",
    "plt.show()"
   ]
  },
  {
   "cell_type": "code",
   "execution_count": 87,
   "metadata": {},
   "outputs": [
    {
     "name": "stdout",
     "output_type": "stream",
     "text": [
      "4030.7644014108337\n",
      "3579.892778205929\n",
      "3178.6659716137\n",
      "2822.4078176128023\n",
      "2506.078324650829\n",
      "2225.202372777512\n",
      "1975.806404029965\n",
      "1754.3622084242652\n",
      "1557.7370102957593\n",
      "1383.1491488558422\n",
      "1228.128725978766\n",
      "1090.4826645013254\n",
      "968.263682714095\n",
      "859.7427461266725\n",
      "763.3846067803725\n",
      "677.8260840634812\n",
      "601.8567797663327\n",
      "534.40195455291\n",
      "474.5073236006933\n",
      "421.32555631342393\n",
      "374.1042891174802\n",
      "332.1754817586484\n",
      "294.94596652264363\n",
      "261.8890566791388\n",
      "232.53709543344303\n",
      "206.47483997622066\n",
      "183.3335870346416\n",
      "162.7859568195497\n",
      "144.54126157675978\n",
      "128.34139322120586\n",
      "113.95717187661626\n",
      "101.18510366290093\n",
      "89.84450186403217\n",
      "79.77493074928213\n",
      "70.83393588557215\n",
      "62.89502883164482\n",
      "55.84589770344007\n",
      "49.58681829551995\n",
      "44.02924328065046\n",
      "39.09454952890974\n",
      "34.71292582462888\n",
      "30.822385245658552\n",
      "27.367888233098938\n",
      "24.300563945493536\n",
      "21.577018882018706\n",
      "19.15872299372478\n",
      "17.01146459812844\n",
      "15.104866385813182\n",
      "13.41195567201163\n",
      "11.908782813464825\n",
      "10.574082392324271\n",
      "9.388972373820195\n",
      "8.336686981752962\n",
      "7.402339512682261\n",
      "6.572711733427411\n",
      "5.836066882455157\n",
      "5.181983629659669\n",
      "4.601208645587803\n",
      "4.085525694402463\n",
      "3.627639398611848\n",
      "3.221072031217716\n",
      "2.8600718751758336\n",
      "2.5395318537306935\n",
      "2.254917280503264\n",
      "2.0022017071704568\n",
      "1.7778099612397682\n",
      "1.5785675679885003\n",
      "1.4016558411179858\n",
      "1.2445720067249795\n",
      "1.1050937965281946\n",
      "0.9812480093684712\n",
      "0.8712825963088449\n",
      "0.7736418743528475\n",
      "0.6869445181650917\n",
      "0.6099640184387454\n",
      "0.5416113304332271\n",
      "0.48091946724548507\n",
      "0.4270298198190403\n",
      "0.37918001018385894\n",
      "0.3366931060873526\n",
      "0.2989680444072178\n",
      "0.2654711279099615\n",
      "0.23572847501770866\n",
      "0.20931931579929142\n",
      "0.1858700393285062\n",
      "0.16504890820323226\n",
      "0.1465613654447111\n",
      "0.13014586740058576\n",
      "0.11557018368051786\n",
      "0.10262811178097309\n",
      "0.09113655994070768\n",
      "0.08093295693828395\n",
      "0.07187295218903955\n",
      "0.06382837361741167\n",
      "0.056685414404284984\n",
      "0.05034302295678117\n",
      "0.044711473329755336\n",
      "0.03971109587632782\n",
      "0.03527115015197069\n",
      "0.03132882415400218\n",
      "0.027828345714056013\n",
      "0.0247201934917598\n",
      "0.021960396392842085\n",
      "0.0195099115143762\n",
      "0.017334071792276973\n",
      "0.015402095579588604\n",
      "0.013686651171212816\n",
      "0.012163470137124932\n",
      "0.010811004006995972\n",
      "0.00961011941342349\n",
      "0.008543827419032368\n",
      "0.007597043169539575\n",
      "0.006756372489917339\n",
      "0.006009922394582645\n",
      "0.005347132840086033\n",
      "0.004758627330147647\n",
      "0.004236080265343389\n",
      "0.0037720991625178613\n",
      "0.003360120073239159\n",
      "0.0029943147220592436\n",
      "0.002669508051099001\n",
      "0.002381105018173457\n",
      "0.0021250255789482253\n",
      "0.0018976469751237346\n",
      "0.0016957524733811624\n",
      "0.0015164858754133093\n",
      "0.0013573110873039695\n",
      "0.0012159762673036312\n",
      "0.0010904819453685377\n",
      "0.0009790527540189942\n",
      "0.0008801123019566148\n",
      "0.0007922608783701435\n",
      "0.0007142556483472617\n",
      "0.0006449930708072316\n",
      "0.0005834932898096667\n",
      "0.0005288862637371494\n",
      "0.0004803994697795133\n",
      "0.00043734696544106555\n",
      "0.00039911968599426473\n",
      "0.0003651768299732794\n",
      "0.0003350382116309447\n",
      "0.0003082774547920053\n",
      "0.0002845159793878338\n",
      "0.00026341763179971167\n",
      "0.0002446839337153506\n",
      "0.0002280498605387038\n",
      "0.00021328009069065956\n",
      "0.00020016567702896282\n",
      "0.00018852109087674762\n",
      "0.00017818159642501996\n",
      "0.00016900092253990806\n",
      "0.00016084918939895942\n",
      "0.00015361107949729558\n",
      "0.0001471841904390203\n",
      "0.00014147760720106817\n",
      "0.00013641059712199421\n",
      "0.00013191147689894933\n",
      "0.0001279166008885113\n",
      "0.00012436945297622515\n",
      "0.00012121985548674274\n",
      "0.00011842324698818629\n",
      "0.00011594007025905739\n",
      "0.00011373519390645015\n",
      "0.00011177742652535017\n",
      "0.00011003907218309905\n",
      "0.00010849554229253044\n",
      "0.00010712499801002195\n",
      "0.00010590805459287367\n",
      "0.00010482749382845213\n",
      "0.00010386803131723354\n",
      "0.00010301609597718198\n",
      "0.00010225963490029244\n",
      "0.00010158794782455516\n",
      "0.00010099153331566413\n",
      "0.00010046195632185118\n",
      "9.999172272046053e-05\n"
     ]
    },
    {
     "data": {
      "text/plain": [
       "298.6871203038979"
      ]
     },
     "execution_count": 87,
     "metadata": {},
     "output_type": "execute_result"
    }
   ],
   "source": [
    "reg = hypothesis()\n",
    "reg.BGD(x,y)\n",
    "X0 = np.linspace(55, 198, 100)\n",
    "Y0 = reg.predict(X0)\n",
    "reg.error(x, y)"
   ]
  },
  {
   "cell_type": "code",
   "execution_count": 38,
   "metadata": {},
   "outputs": [
    {
     "data": {
      "image/png": "[encoded data removed]",
      "text/plain": [
       "<Figure size 432x288 with 1 Axes>"
      ]
     },
     "metadata": {
      "needs_background": "light"
     },
     "output_type": "display_data"
    }
   ],
   "source": [
    "plt.figure()\n",
    "plt.scatter(x, y)\n",
    "plt.plot(X0, Y0, 'r')\n",
    "plt.show()"
   ]
  }
 ],
 "metadata": {
  "interpreter": {
   "hash": "aee8b7b246df8f9039afb4144a1f6fd8d2ca17a180786b69acc140d282b71a49"
  },
  "kernelspec": {
   "display_name": "Python 3.9.9 64-bit",
   "language": "python",
   "name": "python3"
  },
  "language_info": {
   "codemirror_mode": {
    "name": "ipython",
    "version": 3
   },
   "file_extension": ".py",
   "mimetype": "text/x-python",
   "name": "python",
   "nbconvert_exporter": "python",
   "pygments_lexer": "ipython3",
   "version": "3.9.9"
  },
  "orig_nbformat": 4
 },
 "nbformat": 4,
 "nbformat_minor": 2
}
