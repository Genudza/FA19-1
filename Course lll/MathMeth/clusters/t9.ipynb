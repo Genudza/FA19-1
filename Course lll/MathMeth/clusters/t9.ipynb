{
 "cells": [
  {
   "cell_type": "code",
   "execution_count": 1,
   "metadata": {},
   "outputs": [],
   "source": [
    "import numpy as np\n",
    "import sympy as sp\n",
    "from IPython.display import display, Math"
   ]
  },
  {
   "cell_type": "markdown",
   "metadata": {},
   "source": [
    "p+10x=100 - уравнение спроса   \n",
    "найти предельную выручку в точке p=80   \n",
    "найти эластичность спроса и выручки"
   ]
  },
  {
   "cell_type": "code",
   "execution_count": 2,
   "metadata": {},
   "outputs": [],
   "source": [
    "x = sp.symbols('x')\n",
    "p_symb = sp.symbols('p')\n",
    "p = 100 - 10*x\n",
    "p_val = 80\n"
   ]
  },
  {
   "cell_type": "code",
   "execution_count": 3,
   "metadata": {},
   "outputs": [],
   "source": [
    "def express(a, b, name):\n",
    "    # выразить одну через другую\n",
    "    sym = sp.symbols(name)\n",
    "    sol = sp.solve(a-sym, b)\n",
    "    assert len(sol) == 1\n",
    "    return (sym, sol[0])"
   ]
  },
  {
   "cell_type": "code",
   "execution_count": 4,
   "metadata": {},
   "outputs": [
    {
     "data": {
      "text/latex": [
       "$\\displaystyle 10 - \\frac{p}{10}$"
      ],
      "text/plain": [
       "10 - p/10"
      ]
     },
     "execution_count": 4,
     "metadata": {},
     "output_type": "execute_result"
    }
   ],
   "source": [
    "D = express(p, x, \"p\")[1]\n",
    "D"
   ]
  },
  {
   "cell_type": "code",
   "execution_count": 5,
   "metadata": {},
   "outputs": [
    {
     "data": {
      "text/latex": [
       "$\\displaystyle - \\frac{1}{10}$"
      ],
      "text/plain": [
       "-1/10"
      ]
     },
     "execution_count": 5,
     "metadata": {},
     "output_type": "execute_result"
    }
   ],
   "source": [
    "D_diff = D.diff() #x_val\n",
    "D_diff"
   ]
  },
  {
   "cell_type": "code",
   "execution_count": 6,
   "metadata": {},
   "outputs": [
    {
     "data": {
      "text/latex": [
       "$\\displaystyle p \\left(10 - \\frac{p}{10}\\right)$"
      ],
      "text/plain": [
       "p*(10 - p/10)"
      ]
     },
     "execution_count": 6,
     "metadata": {},
     "output_type": "execute_result"
    }
   ],
   "source": [
    "R = p_symb*D\n",
    "R\n"
   ]
  },
  {
   "cell_type": "code",
   "execution_count": 7,
   "metadata": {},
   "outputs": [
    {
     "data": {
      "text/latex": [
       "$\\displaystyle 10 - \\frac{p}{5}$"
      ],
      "text/plain": [
       "10 - p/5"
      ]
     },
     "execution_count": 7,
     "metadata": {},
     "output_type": "execute_result"
    }
   ],
   "source": [
    "R_diff = R.diff()\n",
    "R_diff"
   ]
  },
  {
   "cell_type": "code",
   "execution_count": 8,
   "metadata": {},
   "outputs": [
    {
     "data": {
      "text/latex": [
       "$\\displaystyle -6$"
      ],
      "text/plain": [
       "-6"
      ]
     },
     "execution_count": 8,
     "metadata": {},
     "output_type": "execute_result"
    }
   ],
   "source": [
    "R_value = R_diff.subs({\"p\":p_val})\n",
    "R_value"
   ]
  },
  {
   "cell_type": "code",
   "execution_count": 9,
   "metadata": {},
   "outputs": [
    {
     "data": {
      "text/latex": [
       "$\\displaystyle -4$"
      ],
      "text/plain": [
       "-4"
      ]
     },
     "execution_count": 9,
     "metadata": {},
     "output_type": "execute_result"
    }
   ],
   "source": [
    "E_d = D_diff * p_val / D\n",
    "E_d = sp.simplify(E_d)\n",
    "E_d = E_d.subs({\"p\":p_val})\n",
    "E_d"
   ]
  },
  {
   "cell_type": "code",
   "execution_count": 10,
   "metadata": {},
   "outputs": [
    {
     "data": {
      "text/latex": [
       "$\\displaystyle -3$"
      ],
      "text/plain": [
       "-3"
      ]
     },
     "execution_count": 10,
     "metadata": {},
     "output_type": "execute_result"
    }
   ],
   "source": [
    "E_r = 1 + E_d\n",
    "E_r = E_r.subs({\"p\":p_val})\n",
    "E_r"
   ]
  },
  {
   "cell_type": "markdown",
   "metadata": {},
   "source": [
    "## Отчет"
   ]
  },
  {
   "cell_type": "code",
   "execution_count": 14,
   "metadata": {},
   "outputs": [
    {
     "data": {
      "text/latex": [
       "$\\displaystyle D(p) = 10 - \\frac{p}{10}$"
      ],
      "text/plain": [
       "Eq(D(p), 10 - p/10)"
      ]
     },
     "metadata": {},
     "output_type": "display_data"
    },
    {
     "data": {
      "text/latex": [
       "$\\displaystyle D' = - \\frac{1}{10}$"
      ],
      "text/plain": [
       "Eq(D', -1/10)"
      ]
     },
     "metadata": {},
     "output_type": "display_data"
    },
    {
     "data": {
      "text/latex": [
       "$\\displaystyle R(p) = p \\left(10 - \\frac{p}{10}\\right)$"
      ],
      "text/plain": [
       "Eq(R(p), p*(10 - p/10))"
      ]
     },
     "metadata": {},
     "output_type": "display_data"
    },
    {
     "data": {
      "text/latex": [
       "$\\displaystyle R' = 10 - \\frac{p}{5}$"
      ],
      "text/plain": [
       "Eq(R', 10 - p/5)"
      ]
     },
     "metadata": {},
     "output_type": "display_data"
    },
    {
     "data": {
      "text/latex": [
       "$\\displaystyle R(80) = -6$"
      ],
      "text/plain": [
       "Eq(R(80), -6)"
      ]
     },
     "metadata": {},
     "output_type": "display_data"
    },
    {
     "data": {
      "text/latex": [
       "$\\displaystyle E_{d} = \\frac{80}{p - 100}$"
      ],
      "text/plain": [
       "Eq(E_d, 80/(p - 100))"
      ]
     },
     "metadata": {},
     "output_type": "display_data"
    },
    {
     "data": {
      "text/latex": [
       "$\\displaystyle E_{d} = -4$"
      ],
      "text/plain": [
       "Eq(E_d, -4)"
      ]
     },
     "metadata": {},
     "output_type": "display_data"
    },
    {
     "data": {
      "text/latex": [
       "$\\displaystyle E_r=1+E_d$"
      ],
      "text/plain": [
       "<IPython.core.display.Math object>"
      ]
     },
     "metadata": {},
     "output_type": "display_data"
    },
    {
     "data": {
      "text/latex": [
       "$\\displaystyle E_{r} = -3$"
      ],
      "text/plain": [
       "Eq(E_r, -3)"
      ]
     },
     "metadata": {},
     "output_type": "display_data"
    }
   ],
   "source": [
    "display(sp.Eq(sp.symbols(\"D(p)\"), D))\n",
    "display(sp.Eq(sp.symbols(\"D'\"), D_diff))\n",
    "display(sp.Eq(sp.symbols(\"R(p)\"), R))\n",
    "display(sp.Eq(sp.symbols(\"R'\"), R_diff))\n",
    "display(sp.Eq(sp.symbols(\"R(80)\"), R_value))\n",
    "display(sp.Eq(sp.symbols(\"E_d\"), sp.simplify(D_diff * p_val / D)))\n",
    "display(sp.Eq(sp.symbols(\"E_d\"), E_d))\n",
    "display(Math(r'E_r=1+E_d'))\n",
    "display(sp.Eq(sp.symbols(\"E_r\"), E_r))\n"
   ]
  }
 ],
 "metadata": {
  "interpreter": {
   "hash": "aee8b7b246df8f9039afb4144a1f6fd8d2ca17a180786b69acc140d282b71a49"
  },
  "kernelspec": {
   "display_name": "Python 3.9.9 64-bit",
   "language": "python",
   "name": "python3"
  },
  "language_info": {
   "codemirror_mode": {
    "name": "ipython",
    "version": 3
   },
   "file_extension": ".py",
   "mimetype": "text/x-python",
   "name": "python",
   "nbconvert_exporter": "python",
   "pygments_lexer": "ipython3",
   "version": "3.9.9"
  },
  "orig_nbformat": 4
 },
 "nbformat": 4,
 "nbformat_minor": 2
}
