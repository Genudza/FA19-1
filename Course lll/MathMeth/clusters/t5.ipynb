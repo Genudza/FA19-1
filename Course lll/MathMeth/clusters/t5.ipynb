{
 "cells": [
  {
   "cell_type": "markdown",
   "metadata": {},
   "source": [
    "<img src=\"../img/t5.png\" width=\"500\"/>"
   ]
  },
  {
   "cell_type": "code",
   "execution_count": 1,
   "metadata": {},
   "outputs": [],
   "source": [
    "import numpy as np\n",
    "import sympy as sp\n",
    "from IPython.display import display, Math"
   ]
  },
  {
   "cell_type": "code",
   "execution_count": 2,
   "metadata": {},
   "outputs": [
    {
     "name": "stdout",
     "output_type": "stream",
     "text": [
      "\n",
      "Задача монополист:\n",
      "Даны функции спроса на каждый продукт:\n"
     ]
    },
    {
     "data": {
      "text/latex": [
       "$\\displaystyle x_1=50-p_1,\\ x_2=80-\\frac{p_2}{2}$"
      ],
      "text/plain": [
       "<IPython.core.display.Math object>"
      ]
     },
     "metadata": {},
     "output_type": "display_data"
    },
    {
     "name": "stdout",
     "output_type": "stream",
     "text": [
      "Функция издержек фирмы-монополиста имеет вид\n"
     ]
    },
    {
     "data": {
      "text/latex": [
       "$\\displaystyle C(x_1,x_2) = 4x_1^{2}+5x_1x_2 + 6x_2^{2}$"
      ],
      "text/plain": [
       "<IPython.core.display.Math object>"
      ]
     },
     "metadata": {},
     "output_type": "display_data"
    },
    {
     "name": "stdout",
     "output_type": "stream",
     "text": [
      "Найти производственный план, максимизируюзий прибыль фирмы.\n",
      "Найти эластичность спроса на каждый продукт по цене\n"
     ]
    }
   ],
   "source": [
    "print(\"\\nЗадача монополист:\")\n",
    "print(\"Даны функции спроса на каждый продукт:\")\n",
    "display(Math(r'x_1=50-p_1,\\ x_2=80-\\frac{p_2}{2}'))\n",
    "print(\"Функция издержек фирмы-монополиста имеет вид\")\n",
    "display(Math(r'C(x_1,x_2) = 4x_1^{2}+5x_1x_2 + 6x_2^{2}'))\n",
    "print(\"Найти производственный план, максимизируюзий прибыль фирмы.\\nНайти эластичность спроса на каждый продукт по цене\")"
   ]
  },
  {
   "cell_type": "code",
   "execution_count": 3,
   "metadata": {},
   "outputs": [
    {
     "data": {
      "text/latex": [
       "$\\displaystyle 4 x_{1}^{2} + 5 x_{1} x_{2} + 6 x_{2}^{2}$"
      ],
      "text/plain": [
       "4*x_1**2 + 5*x_1*x_2 + 6*x_2**2"
      ]
     },
     "execution_count": 3,
     "metadata": {},
     "output_type": "execute_result"
    }
   ],
   "source": [
    "x1, x2 = sp.symbols('x_1, x_2')\n",
    "p_1, p_2 = sp.symbols('p_1, p_2')\n",
    "\n",
    "x_1 = 50 - p_1\n",
    "x_2 = 80 - p_2 / 2\n",
    "C = 4 * x1 ** 2 + 5 * x1 * x2 + 6 * x2 ** 2\n",
    "C"
   ]
  },
  {
   "cell_type": "code",
   "execution_count": 4,
   "metadata": {},
   "outputs": [],
   "source": [
    "def express(a, b, name):\n",
    "    # выразить одну через другую\n",
    "    sym = sp.symbols(name)\n",
    "    sol = sp.solve(a-sym, b)\n",
    "    assert len(sol) == 1\n",
    "    return (sym, sol[0])"
   ]
  },
  {
   "cell_type": "code",
   "execution_count": 5,
   "metadata": {},
   "outputs": [],
   "source": [
    "p1 = express(x_1, p_1, \"x_1\")[1]\n",
    "p2 = express(x_2, p_2, \"x_2\")[1]"
   ]
  },
  {
   "cell_type": "code",
   "execution_count": 6,
   "metadata": {},
   "outputs": [
    {
     "data": {
      "text/latex": [
       "$\\displaystyle x_{1} \\cdot \\left(50 - x_{1}\\right) + x_{2} \\cdot \\left(160 - 2 x_{2}\\right)$"
      ],
      "text/plain": [
       "x_1*(50 - x_1) + x_2*(160 - 2*x_2)"
      ]
     },
     "execution_count": 6,
     "metadata": {},
     "output_type": "execute_result"
    }
   ],
   "source": [
    "R = p1*x1 + p2*x2\n",
    "R"
   ]
  },
  {
   "cell_type": "code",
   "execution_count": 7,
   "metadata": {},
   "outputs": [
    {
     "data": {
      "text/latex": [
       "$\\displaystyle - 4 x_{1}^{2} - 5 x_{1} x_{2} + x_{1} \\cdot \\left(50 - x_{1}\\right) - 6 x_{2}^{2} + x_{2} \\cdot \\left(160 - 2 x_{2}\\right)$"
      ],
      "text/plain": [
       "-4*x_1**2 - 5*x_1*x_2 + x_1*(50 - x_1) - 6*x_2**2 + x_2*(160 - 2*x_2)"
      ]
     },
     "execution_count": 7,
     "metadata": {},
     "output_type": "execute_result"
    }
   ],
   "source": [
    "P = R - C # тоже какая-то формула\n",
    "P"
   ]
  },
  {
   "cell_type": "code",
   "execution_count": 8,
   "metadata": {},
   "outputs": [
    {
     "name": "stdout",
     "output_type": "stream",
     "text": [
      "x_1 = 0\n",
      "x_2 = 10\n"
     ]
    }
   ],
   "source": [
    "res = sp.solve([sp.Eq(0, P.diff(x1)), sp.Eq(0, P.diff(x2))])\n",
    "x_1_val = res[x1]\n",
    "x_2_val = res[x2]\n",
    "print(f'x_1 = {x_1_val}\\nx_2 = {x_2_val}')\n"
   ]
  },
  {
   "cell_type": "code",
   "execution_count": 9,
   "metadata": {},
   "outputs": [
    {
     "name": "stdout",
     "output_type": "stream",
     "text": [
      "p_1 = 50, p_2 = 140\n"
     ]
    }
   ],
   "source": [
    "p_1_val = p1.subs({x1: x_1_val})\n",
    "p_2_val = p2.subs({x2: x_2_val})\n",
    "print(f'p_1 = {p_1_val}, p_2 = {p_2_val}')"
   ]
  },
  {
   "cell_type": "code",
   "execution_count": 10,
   "metadata": {},
   "outputs": [],
   "source": [
    "E_d1 = x_1.diff() * p_1/x_1 # формула для эластичности\n",
    "E_d2 = (x_2.diff() * p_2/x_2).simplify()\n"
   ]
  },
  {
   "cell_type": "code",
   "execution_count": 11,
   "metadata": {},
   "outputs": [
    {
     "data": {
      "text/latex": [
       "$\\displaystyle - \\frac{p_{1}}{50 - p_{1}}$"
      ],
      "text/plain": [
       "-p_1/(50 - p_1)"
      ]
     },
     "execution_count": 11,
     "metadata": {},
     "output_type": "execute_result"
    }
   ],
   "source": [
    "E_d1\n"
   ]
  },
  {
   "cell_type": "code",
   "execution_count": 12,
   "metadata": {},
   "outputs": [
    {
     "data": {
      "text/latex": [
       "$\\displaystyle \\frac{p_{2}}{p_{2} - 160}$"
      ],
      "text/plain": [
       "p_2/(p_2 - 160)"
      ]
     },
     "execution_count": 12,
     "metadata": {},
     "output_type": "execute_result"
    }
   ],
   "source": [
    "E_d2\n"
   ]
  },
  {
   "cell_type": "code",
   "execution_count": 13,
   "metadata": {},
   "outputs": [
    {
     "data": {
      "text/latex": [
       "$\\displaystyle - 4 x_{1}^{2} - 5 x_{1} x_{2} + x_{1} \\cdot \\left(50 - x_{1}\\right) - 6 x_{2}^{2} + x_{2} \\cdot \\left(160 - 2 x_{2}\\right)$"
      ],
      "text/plain": [
       "-4*x_1**2 - 5*x_1*x_2 + x_1*(50 - x_1) - 6*x_2**2 + x_2*(160 - 2*x_2)"
      ]
     },
     "execution_count": 13,
     "metadata": {},
     "output_type": "execute_result"
    }
   ],
   "source": [
    "P"
   ]
  },
  {
   "cell_type": "code",
   "execution_count": 14,
   "metadata": {},
   "outputs": [],
   "source": [
    "# вторая производная коэфф матрицы\n",
    "coef1 = P.diff(x1).diff(x1) # глав диагональ\n",
    "coef2 = P.diff(x2).diff(x2) # глав диагональ\n",
    "coef3 = P.diff(x1).diff(x2) # смешанные =>побочная диагональ\n",
    "coef4 = P.diff(x2).diff(x1) # смешанные =>побочная диагональ\n"
   ]
  },
  {
   "cell_type": "code",
   "execution_count": 15,
   "metadata": {},
   "outputs": [
    {
     "data": {
      "text/plain": [
       "(-10, 135)"
      ]
     },
     "execution_count": 15,
     "metadata": {},
     "output_type": "execute_result"
    }
   ],
   "source": [
    "delta1 = coef1 # 1-ый минор\n",
    "delta2 = coef1*coef2 - coef3*coef4 # 2-ой минор\n",
    "delta1, delta2"
   ]
  },
  {
   "cell_type": "code",
   "execution_count": 16,
   "metadata": {},
   "outputs": [],
   "source": [
    "income = R.subs({x1: x_1_val, x2: x_2_val})"
   ]
  },
  {
   "cell_type": "code",
   "execution_count": 17,
   "metadata": {},
   "outputs": [
    {
     "data": {
      "text/plain": [
       "array([[-10.,  -5.],\n",
       "       [ -5., -16.]])"
      ]
     },
     "execution_count": 17,
     "metadata": {},
     "output_type": "execute_result"
    }
   ],
   "source": [
    "m = np.array([\n",
    "    [coef1, coef3],\n",
    "    [coef4, coef2],\n",
    "], dtype=float)\n",
    "m"
   ]
  },
  {
   "cell_type": "markdown",
   "metadata": {},
   "source": [
    "## Отчет"
   ]
  },
  {
   "cell_type": "code",
   "execution_count": 18,
   "metadata": {},
   "outputs": [],
   "source": [
    "C_symb = sp.symbols(\"C\")\n",
    "R_symb = sp.symbols(\"R\")\n",
    "E_d1_symb = sp.symbols(\"E_{d_1}\")\n",
    "E_d2_symb = sp.symbols(\"E_{d_2}\")\n",
    "E_d1_symb_value = sp.symbols(\"E_{d_1}\"+f\"({p_1_val})\")\n",
    "E_d2_symb_value = sp.symbols(\"E_{d_2}\"+f\"({p_2_val})\")"
   ]
  },
  {
   "cell_type": "code",
   "execution_count": 20,
   "metadata": {},
   "outputs": [
    {
     "data": {
      "text/latex": [
       "$\\displaystyle p_{1} = 50 - x_{1}$"
      ],
      "text/plain": [
       "Eq(p_1, 50 - x_1)"
      ]
     },
     "metadata": {},
     "output_type": "display_data"
    },
    {
     "data": {
      "text/latex": [
       "$\\displaystyle p_{2} = 160 - 2 x_{2}$"
      ],
      "text/plain": [
       "Eq(p_2, 160 - 2*x_2)"
      ]
     },
     "metadata": {},
     "output_type": "display_data"
    },
    {
     "data": {
      "text/latex": [
       "$\\displaystyle C = 4 x_{1}^{2} + 5 x_{1} x_{2} + 6 x_{2}^{2}$"
      ],
      "text/plain": [
       "Eq(C, 4*x_1**2 + 5*x_1*x_2 + 6*x_2**2)"
      ]
     },
     "metadata": {},
     "output_type": "display_data"
    },
    {
     "data": {
      "text/latex": [
       "$\\displaystyle x_{1} \\cdot \\left(50 - x_{1}\\right) + x_{2} \\cdot \\left(160 - 2 x_{2}\\right)$"
      ],
      "text/plain": [
       "x_1*(50 - x_1) + x_2*(160 - 2*x_2)"
      ]
     },
     "metadata": {},
     "output_type": "display_data"
    },
    {
     "data": {
      "text/latex": [
       "$\\displaystyle - 4 x_{1}^{2} - 5 x_{1} x_{2} + x_{1} \\cdot \\left(50 - x_{1}\\right) - 6 x_{2}^{2} + x_{2} \\cdot \\left(160 - 2 x_{2}\\right)$"
      ],
      "text/plain": [
       "-4*x_1**2 - 5*x_1*x_2 + x_1*(50 - x_1) - 6*x_2**2 + x_2*(160 - 2*x_2)"
      ]
     },
     "metadata": {},
     "output_type": "display_data"
    },
    {
     "name": "stdout",
     "output_type": "stream",
     "text": [
      "x_1 = 0\n",
      "x_2 = 10\n"
     ]
    },
    {
     "data": {
      "text/latex": [
       "$\\displaystyle x_{1} \\cdot \\left(50 - x_{1}\\right) + x_{2} \\cdot \\left(160 - 2 x_{2}\\right)$"
      ],
      "text/plain": [
       "x_1*(50 - x_1) + x_2*(160 - 2*x_2)"
      ]
     },
     "metadata": {},
     "output_type": "display_data"
    },
    {
     "name": "stdout",
     "output_type": "stream",
     "text": [
      "доход: 1400\n",
      "p_1 = 50, p_2 = 140\n"
     ]
    },
    {
     "data": {
      "text/latex": [
       "$\\displaystyle E_{d_1} = - \\frac{p_{1}}{50 - p_{1}}$"
      ],
      "text/plain": [
       "Eq(E_{d_1}, -p_1/(50 - p_1))"
      ]
     },
     "metadata": {},
     "output_type": "display_data"
    },
    {
     "data": {
      "text/latex": [
       "$\\displaystyle E_{d_1}(50) = \\tilde{\\infty}$"
      ],
      "text/plain": [
       "Eq(E_{d_1}(50), zoo)"
      ]
     },
     "metadata": {},
     "output_type": "display_data"
    },
    {
     "data": {
      "text/latex": [
       "$\\displaystyle E_{d_2} = \\frac{p_{2}}{p_{2} - 160}$"
      ],
      "text/plain": [
       "Eq(E_{d_2}, p_2/(p_2 - 160))"
      ]
     },
     "metadata": {},
     "output_type": "display_data"
    },
    {
     "data": {
      "text/latex": [
       "$\\displaystyle E_{d_2}(140) = -7$"
      ],
      "text/plain": [
       "Eq(E_{d_2}(140), -7)"
      ]
     },
     "metadata": {},
     "output_type": "display_data"
    },
    {
     "name": "stdout",
     "output_type": "stream",
     "text": [
      "[[-10.  -5.]\n",
      " [ -5. -16.]]\n",
      "Чтобы убедиться в том, что мы нашли точку максимума\n",
      "Δ_1<0, а Δ_2>0\n",
      "Δ_1 = -10\n",
      "Δ_2 = 135\n"
     ]
    }
   ],
   "source": [
    "display(sp.Eq(p_1, p1))\n",
    "display(sp.Eq(p_2, p2))\n",
    "display(sp.Eq(C_symb, C))\n",
    "display(R)\n",
    "display(P)\n",
    "print(f'x_1 = {x_1_val}\\nx_2 = {x_2_val}')\n",
    "display(R)\n",
    "print(\"доход:\", income)\n",
    "print(f'p_1 = {p_1_val}, p_2 = {p_2_val}')\n",
    "display(sp.Eq(E_d1_symb, E_d1))\n",
    "display(sp.Eq(E_d1_symb_value, E_d1.subs({p_1: p_1_val}), evaluate=False))\n",
    "display(sp.Eq(E_d2_symb, E_d2))\n",
    "display(sp.Eq(E_d2_symb_value, E_d2.subs({p_2: p_2_val})))\n",
    "print(m)\n",
    "print(\"Чтобы убедиться в том, что мы нашли точку максимума\\nΔ_1<0, а Δ_2>0\")\n",
    "print(f\"Δ_1 = {delta1}\\nΔ_2 = {delta2}\")\n"
   ]
  }
 ],
 "metadata": {
  "interpreter": {
   "hash": "aee8b7b246df8f9039afb4144a1f6fd8d2ca17a180786b69acc140d282b71a49"
  },
  "kernelspec": {
   "display_name": "Python 3.9.9 64-bit",
   "language": "python",
   "name": "python3"
  },
  "language_info": {
   "codemirror_mode": {
    "name": "ipython",
    "version": 3
   },
   "file_extension": ".py",
   "mimetype": "text/x-python",
   "name": "python",
   "nbconvert_exporter": "python",
   "pygments_lexer": "ipython3",
   "version": "3.9.9"
  },
  "orig_nbformat": 4
 },
 "nbformat": 4,
 "nbformat_minor": 2
}
