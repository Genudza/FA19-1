{
 "cells": [
  {
   "cell_type": "code",
   "execution_count": 2,
   "metadata": {},
   "outputs": [],
   "source": [
    "import numpy as np\n",
    "import sympy as sp\n",
    "from IPython.display import display, Math"
   ]
  },
  {
   "cell_type": "markdown",
   "metadata": {},
   "source": [
    "<img src=\"another_tasks/Хамикоева дз 15_02 мат методы.jpg\" width=\"600\"/>\n"
   ]
  },
  {
   "cell_type": "markdown",
   "metadata": {},
   "source": [
    "<img src=\"../img/00_elastic.png\" width=\"500\"/>"
   ]
  },
  {
   "cell_type": "code",
   "execution_count": 14,
   "metadata": {},
   "outputs": [
    {
     "name": "stdout",
     "output_type": "stream",
     "text": [
      "\n",
      "Уравнение спроса:\n"
     ]
    },
    {
     "data": {
      "text/latex": [
       "$\\displaystyle 3p+\\sqrt{x}=50$"
      ],
      "text/plain": [
       "<IPython.core.display.Math object>"
      ]
     },
     "metadata": {},
     "output_type": "display_data"
    },
    {
     "name": "stdout",
     "output_type": "stream",
     "text": [
      "найти предельную выручку в точке p=10\n",
      "найти эластичность спроса и выручки\n",
      "найти максимальную прибыль, если\n"
     ]
    },
    {
     "data": {
      "text/latex": [
       "$\\displaystyle C(x) = 40 + x$"
      ],
      "text/plain": [
       "<IPython.core.display.Math object>"
      ]
     },
     "metadata": {},
     "output_type": "display_data"
    }
   ],
   "source": [
    "from IPython.display import display, Math\n",
    "\n",
    "# print(\"\"\"Формулы и термины:\\nR - выручка\\nC - затраты(издержки)\\nE_r - эластичность выручки\"\"\")\n",
    "\n",
    "print(\"\\nУравнение спроса:\")\n",
    "display(Math(r'3p+\\sqrt{x}=50'))\n",
    "print(\"найти предельную выручку в точке p=10\\nнайти эластичность спроса и выручки\\nнайти максимальную прибыль, если\")\n",
    "display(Math(r'C(x) = 40 + x'))"
   ]
  },
  {
   "cell_type": "code",
   "execution_count": 4,
   "metadata": {},
   "outputs": [
    {
     "data": {
      "text/latex": [
       "$\\displaystyle 3 p + \\sqrt{x} = 50$"
      ],
      "text/plain": [
       "Eq(3*p + sqrt(x), 50)"
      ]
     },
     "execution_count": 4,
     "metadata": {},
     "output_type": "execute_result"
    }
   ],
   "source": [
    "# Дано\n",
    "p, x = sp.symbols('p, x')\n",
    "C = 40 + x  # расходы C(x)\n",
    "f = sp.Eq(3 * p + sp.sqrt(x), 50)  # уравнение Спроса\n",
    "p_val = {p: 10}\n",
    "f"
   ]
  },
  {
   "cell_type": "code",
   "execution_count": 5,
   "metadata": {},
   "outputs": [
    {
     "data": {
      "text/latex": [
       "$\\displaystyle \\left(3 p - 50\\right)^{2}$"
      ],
      "text/plain": [
       "(3*p - 50)**2"
      ]
     },
     "execution_count": 5,
     "metadata": {},
     "output_type": "execute_result"
    }
   ],
   "source": [
    "x_val = sp.solve(f, x)[0]  # функция Спроса D(p)\n",
    "x_val"
   ]
  },
  {
   "cell_type": "code",
   "execution_count": 6,
   "metadata": {},
   "outputs": [
    {
     "data": {
      "text/latex": [
       "$\\displaystyle p \\left(3 p - 50\\right)^{2}$"
      ],
      "text/plain": [
       "p*(3*p - 50)**2"
      ]
     },
     "execution_count": 6,
     "metadata": {},
     "output_type": "execute_result"
    }
   ],
   "source": [
    "R = p * x_val\n",
    "R"
   ]
  },
  {
   "cell_type": "code",
   "execution_count": 7,
   "metadata": {},
   "outputs": [
    {
     "data": {
      "text/latex": [
       "$\\displaystyle p \\left(18 p - 300\\right) + \\left(3 p - 50\\right)^{2}$"
      ],
      "text/plain": [
       "p*(18*p - 300) + (3*p - 50)**2"
      ]
     },
     "execution_count": 7,
     "metadata": {},
     "output_type": "execute_result"
    }
   ],
   "source": [
    "R_diff = R.diff()  # максимум прибыли \n",
    "R_diff"
   ]
  },
  {
   "cell_type": "code",
   "execution_count": 8,
   "metadata": {},
   "outputs": [
    {
     "data": {
      "text/latex": [
       "$\\displaystyle -800$"
      ],
      "text/plain": [
       "-800"
      ]
     },
     "execution_count": 8,
     "metadata": {},
     "output_type": "execute_result"
    }
   ],
   "source": [
    "R_diff_10 = R_diff.subs(p_val)\n",
    "R_diff_10 # выручка p=10"
   ]
  },
  {
   "cell_type": "code",
   "execution_count": 9,
   "metadata": {},
   "outputs": [
    {
     "data": {
      "text/latex": [
       "$\\displaystyle \\frac{6 p}{3 p - 50}$"
      ],
      "text/plain": [
       "6*p/(3*p - 50)"
      ]
     },
     "execution_count": 9,
     "metadata": {},
     "output_type": "execute_result"
    }
   ],
   "source": [
    "# эластичность Спроса\n",
    "# E_d = D' * p / D\n",
    "E_d = x_val.diff() * p / x_val\n",
    "E_d = sp.simplify(E_d)\n",
    "E_d"
   ]
  },
  {
   "cell_type": "code",
   "execution_count": 10,
   "metadata": {},
   "outputs": [
    {
     "data": {
      "text/latex": [
       "$\\displaystyle \\frac{6 p}{3 p - 50} + 1$"
      ],
      "text/plain": [
       "6*p/(3*p - 50) + 1"
      ]
     },
     "execution_count": 10,
     "metadata": {},
     "output_type": "execute_result"
    }
   ],
   "source": [
    "# эластичность Выручки\n",
    "# E_r = R' * p / R или E_r = 1 + E_d\n",
    "E_r = 1 + E_d\n",
    "E_r"
   ]
  },
  {
   "cell_type": "code",
   "execution_count": 11,
   "metadata": {},
   "outputs": [
    {
     "data": {
      "text/latex": [
       "$\\displaystyle p \\left(3 p - 50\\right)^{2} - \\left(3 p - 50\\right)^{2} - 40$"
      ],
      "text/plain": [
       "p*(3*p - 50)**2 - (3*p - 50)**2 - 40"
      ]
     },
     "execution_count": 11,
     "metadata": {},
     "output_type": "execute_result"
    }
   ],
   "source": [
    "# 3\n",
    "# Прибыль\n",
    "P = (R - C).subs({x: x_val})\n",
    "P"
   ]
  },
  {
   "cell_type": "code",
   "execution_count": 12,
   "metadata": {},
   "outputs": [
    {
     "data": {
      "text/latex": [
       "$\\displaystyle \\frac{56}{9}$"
      ],
      "text/plain": [
       "56/9"
      ]
     },
     "execution_count": 12,
     "metadata": {},
     "output_type": "execute_result"
    }
   ],
   "source": [
    "p_val = sp.solve(sp.Eq(0, P.diff()))[0]\n",
    "p_val"
   ]
  },
  {
   "cell_type": "markdown",
   "metadata": {},
   "source": [
    "## Отчет"
   ]
  },
  {
   "cell_type": "code",
   "execution_count": 13,
   "metadata": {},
   "outputs": [
    {
     "name": "stdout",
     "output_type": "stream",
     "text": [
      "\n",
      "# 1\n",
      "x = (3*p - 50)**2\n",
      "R' = p*(18*p - 300) + (3*p - 50)**2\n",
      "Предельная выручка в точке p=10: -800\n",
      "\n",
      "# 2\n",
      "E_d = 6*p/(3*p - 50)\n",
      "E_d(10) = -3\n",
      "E_r = 6*p/(3*p - 50) + 1\n",
      "E_r(10) = -2\n",
      "\n",
      "# 3\n"
     ]
    },
    {
     "data": {
      "text/latex": [
       "$\\displaystyle p \\left(18 p - 300\\right) - 18 p + \\left(3 p - 50\\right)^{2} + 300 = 0$"
      ],
      "text/plain": [
       "Eq(p*(18*p - 300) - 18*p + (3*p - 50)**2 + 300, 0)"
      ]
     },
     "metadata": {},
     "output_type": "display_data"
    },
    {
     "name": "stdout",
     "output_type": "stream",
     "text": [
      "p = 6.22\n",
      "P_max = 5087.06\n"
     ]
    },
    {
     "data": {
      "text/latex": [
       "$\\displaystyle \\left(3 p - 50\\right)^{2} = 0$"
      ],
      "text/plain": [
       "Eq((3*p - 50)**2, 0)"
      ]
     },
     "metadata": {},
     "output_type": "display_data"
    },
    {
     "name": "stdout",
     "output_type": "stream",
     "text": [
      "x = 981.78\n"
     ]
    }
   ],
   "source": [
    "print('\\n# 1')\n",
    "print(f'x = {x_val}')\n",
    "print(f'R\\' = {R_diff}')\n",
    "print(f\"Предельная выручка в точке p=10: {R_diff_10}\")\n",
    "\n",
    "print('\\n# 2')\n",
    "print(f'E_d = {E_d}')\n",
    "print(f'E_d(10) = {E_d.subs({p: 10})}')\n",
    "print(f'E_r = {E_r}')\n",
    "print(f'E_r(10) = {E_r.subs({p: 10})}')\n",
    "\n",
    "print('\\n# 3')\n",
    "display(sp.Eq(P.diff(), 0))\n",
    "print(f'p = {p_val.round(2)}')\n",
    "print(f'P_max = {P.subs({p: p_val}).round(2)}')\n",
    "display(sp.Eq(x_val, 0))\n",
    "print(f'x = {x_val.subs({p: p_val}).round(2)}')\n"
   ]
  }
 ],
 "metadata": {
  "interpreter": {
   "hash": "aee8b7b246df8f9039afb4144a1f6fd8d2ca17a180786b69acc140d282b71a49"
  },
  "kernelspec": {
   "display_name": "Python 3.9.9 64-bit",
   "language": "python",
   "name": "python3"
  },
  "language_info": {
   "codemirror_mode": {
    "name": "ipython",
    "version": 3
   },
   "file_extension": ".py",
   "mimetype": "text/x-python",
   "name": "python",
   "nbconvert_exporter": "python",
   "pygments_lexer": "ipython3",
   "version": "3.9.9"
  },
  "orig_nbformat": 4
 },
 "nbformat": 4,
 "nbformat_minor": 2
}
