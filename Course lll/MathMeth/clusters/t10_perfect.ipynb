{
 "cells": [
  {
   "cell_type": "code",
   "execution_count": 73,
   "metadata": {},
   "outputs": [],
   "source": [
    "import numpy as np\n",
    "import sympy as sp\n",
    "from IPython.display import display, Math"
   ]
  },
  {
   "cell_type": "markdown",
   "metadata": {},
   "source": [
    "# Variables"
   ]
  },
  {
   "cell_type": "code",
   "execution_count": 74,
   "metadata": {},
   "outputs": [],
   "source": [
    "x_1, x_2 = 100, 130  # конечный продукт\n",
    "X = np.array([[11, 30],  # матрица потребителей\n",
    "              [17, 20]])\n",
    "# Валовый продукт:\n",
    "vvp_1 = 141\n",
    "vvp_2 = 167\n",
    "\n",
    "# Как изменяется объем валового выпуска\n",
    "coef_vvp_1 = 2  # 1 - by defalut(не изменится)\n",
    "coef_vvp_2 = 1  # 1 - by defalut(не изменится)\n",
    "Y = np.array([[vvp_1 * coef_vvp_1],\n",
    "              [vvp_2 * coef_vvp_2]]).T\n",
    "\n",
    "# конечное потребление первой/второй отрасли увеличилось 'в' %\n",
    "consumption_coef_1 = 0   # 0 - by defalut(не изменится)\n",
    "consumption_coef_2 = 0     # 0 - by defalut(не изменится)\n",
    "\n",
    "# конечное потребление первой/второй отрасли увеличилось 'на'\n",
    "consumption_units_1 = 20  # 0 - by defalut(не изменится)\n",
    "consumption_units_2 = 0  # 0 - by defalut(не изменится)\n",
    "\n",
    "# если написано увеличлось 'до', тогда считаем разницу в ручную и дописываем коэфф в consumption_units\n",
    "# TODO может быть доделать с условием ДО\n",
    " \n",
    "Y_ = np.array([x_1 * (1+consumption_coef_1/100) + consumption_units_1,\n",
    "               x_2 * (1+consumption_coef_2/100) + consumption_units_2])\n"
   ]
  },
  {
   "cell_type": "markdown",
   "metadata": {},
   "source": [
    "# Task\n",
    "\n",
    "Дана балансовая таблица в двухотраслевой модели Леонтьева.   \n",
    "Постройте структурную матрицу (матрицу прямых затрат) и проверьте её продуктивность.   \n",
    "| **Производители** | **Потребители I** | **Потребители II** | **Конечный продукт** | **Валовый продукт** |\n",
    "|-------------------|-------------------|--------------------|----------------------|---------------------|\n",
    "| I                 | 13                | 38                 | 100                  | 151                 |\n",
    "| II                | 24                | 30                 | 160                  | 214                 |\n",
    "\n",
    "Вычислите конечное потребление каждой отрасли, если объем валового выпуска первой отрасли не изменится, а второй увеличится вдвое   \n",
    "найдите в данном случае чистую продукцию отраслей. Найдите валовой выпуск, если конечное потребление первой отрасли увеличилось на 12%,   \n",
    "а второй — не изменилось   "
   ]
  },
  {
   "cell_type": "markdown",
   "metadata": {},
   "source": [
    "# Solution"
   ]
  },
  {
   "cell_type": "code",
   "execution_count": 75,
   "metadata": {},
   "outputs": [
    {
     "data": {
      "text/plain": [
       "array([[0.07801418, 0.17964072],\n",
       "       [0.12056738, 0.11976048]])"
      ]
     },
     "execution_count": 75,
     "metadata": {},
     "output_type": "execute_result"
    }
   ],
   "source": [
    "A = X / np.array([[vvp_1, vvp_1],\n",
    "                    [vvp_2, vvp_2]]).T\n",
    "A"
   ]
  },
  {
   "cell_type": "code",
   "execution_count": 76,
   "metadata": {},
   "outputs": [
    {
     "data": {
      "text/plain": [
       "array([[ 0.92198582, -0.17964072],\n",
       "       [-0.12056738,  0.88023952]])"
      ]
     },
     "execution_count": 76,
     "metadata": {},
     "output_type": "execute_result"
    }
   ],
   "source": [
    "E_A = np.eye(2)-A\n",
    "E_A"
   ]
  },
  {
   "cell_type": "code",
   "execution_count": 77,
   "metadata": {},
   "outputs": [
    {
     "data": {
      "text/plain": [
       "array([[1.11435484, 0.22741935],\n",
       "       [0.15263441, 1.1672043 ]])"
      ]
     },
     "execution_count": 77,
     "metadata": {},
     "output_type": "execute_result"
    }
   ],
   "source": [
    "# 1) > 0, матрица продуктивна\n",
    "# A^-1\n",
    "E_A_inv = np.linalg.inv(E_A)\n",
    "E_A_inv"
   ]
  },
  {
   "cell_type": "code",
   "execution_count": 78,
   "metadata": {},
   "outputs": [
    {
     "data": {
      "text/plain": [
       "array([[22., 30.],\n",
       "       [34., 20.]])"
      ]
     },
     "execution_count": 78,
     "metadata": {},
     "output_type": "execute_result"
    }
   ],
   "source": [
    "B = A * Y\n",
    "B"
   ]
  },
  {
   "cell_type": "code",
   "execution_count": 79,
   "metadata": {},
   "outputs": [
    {
     "data": {
      "text/plain": [
       "array([226., 117.])"
      ]
     },
     "execution_count": 79,
     "metadata": {},
     "output_type": "execute_result"
    }
   ],
   "source": [
    "# 2)\n",
    "t2 = (Y - B.sum(axis=0))[0]\n",
    "t2"
   ]
  },
  {
   "cell_type": "code",
   "execution_count": 80,
   "metadata": {},
   "outputs": [
    {
     "data": {
      "text/plain": [
       "array([163.28709677, 170.05268817])"
      ]
     },
     "execution_count": 80,
     "metadata": {},
     "output_type": "execute_result"
    }
   ],
   "source": [
    "# 3)\n",
    "t3 = E_A_inv.dot(Y_)\n",
    "t3\n"
   ]
  },
  {
   "cell_type": "markdown",
   "metadata": {},
   "source": [
    "# Отчет"
   ]
  },
  {
   "cell_type": "code",
   "execution_count": 81,
   "metadata": {},
   "outputs": [
    {
     "data": {
      "text/latex": [
       "$\\displaystyle A = \\left[\\begin{matrix}0.078 & 0.1796\\\\0.1206 & 0.1198\\end{matrix}\\right]$"
      ],
      "text/plain": [
       "<IPython.core.display.Math object>"
      ]
     },
     "metadata": {},
     "output_type": "display_data"
    },
    {
     "data": {
      "text/latex": [
       "$\\displaystyle E - A = \\left[\\begin{matrix}0.922 & -0.1796\\\\-0.1206 & 0.8802\\end{matrix}\\right]$"
      ],
      "text/plain": [
       "<IPython.core.display.Math object>"
      ]
     },
     "metadata": {},
     "output_type": "display_data"
    },
    {
     "name": "stdout",
     "output_type": "stream",
     "text": [
      "ответ на вопрос пункта 1:\n"
     ]
    },
    {
     "data": {
      "text/latex": [
       "$\\displaystyle (E-A)^-1 = \\left[\\begin{matrix}1.1144 & 0.2274\\\\0.1526 & 1.1672\\end{matrix}\\right]$"
      ],
      "text/plain": [
       "<IPython.core.display.Math object>"
      ]
     },
     "metadata": {},
     "output_type": "display_data"
    },
    {
     "name": "stdout",
     "output_type": "stream",
     "text": [
      "------------------------------------\n"
     ]
    },
    {
     "data": {
      "text/latex": [
       "$\\displaystyle X = \\left[\\begin{matrix}282\\\\167\\end{matrix}\\right]$"
      ],
      "text/plain": [
       "<IPython.core.display.Math object>"
      ]
     },
     "metadata": {},
     "output_type": "display_data"
    },
    {
     "data": {
      "text/latex": [
       "$\\displaystyle B = \\left[\\begin{matrix}22.0 & 30.0\\\\34.0 & 20.0\\end{matrix}\\right]$"
      ],
      "text/plain": [
       "<IPython.core.display.Math object>"
      ]
     },
     "metadata": {},
     "output_type": "display_data"
    },
    {
     "name": "stdout",
     "output_type": "stream",
     "text": [
      "ответ на вопрос пункта 2:\n",
      "I = 282 - 22.0 - 34.0 = 226.0\n",
      "II = 167 - 30.0 - 20.0 = 117.0\n",
      "------------------------------------\n",
      "ответ на вопрос пункта 3:\n"
     ]
    },
    {
     "data": {
      "text/latex": [
       "$\\displaystyle  \\bar{X}^{\\star} = (E-A)^-1 *  \\bar{y}^{\\star}= \\left[\\begin{matrix}163.2871\\\\170.0527\\end{matrix}\\right]$"
      ],
      "text/plain": [
       "<IPython.core.display.Math object>"
      ]
     },
     "metadata": {},
     "output_type": "display_data"
    }
   ],
   "source": [
    "display(Math(rf\"A = {sp.latex(sp.Matrix(np.round(A, 4)))}\"))\n",
    "display(Math(rf\"E - A = {sp.latex(sp.Matrix(np.round(E_A, 4)))}\"))\n",
    "print(\"ответ на вопрос пункта 1:\")\n",
    "display(Math(rf\"(E-A)^{-1} = {sp.latex(sp.Matrix(np.round(E_A_inv, 4)))}\"))\n",
    "print(\"------------------------------------\")\n",
    "display(Math(rf\"X = {sp.latex(sp.Matrix(Y.T))}\"))\n",
    "display(Math(rf\"B = {sp.latex(sp.Matrix(B))}\"))\n",
    "print(\"ответ на вопрос пункта 2:\")\n",
    "print(f\"I = {Y[0][0]} - {round(B[0][0], 2)} - {round(B[1][0], 2)} = {t2[0]}\")\n",
    "print(f\"II = {Y[0][1]} - {round(B[0][1], 2)} - {round(B[1][1], 2)} = {t2[1]}\")\n",
    "print(\"------------------------------------\")\n",
    "print(\"ответ на вопрос пункта 3:\")\n",
    "display(Math(rf\" \\bar{{X}}^{{\\star}} = (E-A)^{-1} *  \\bar{{y}}^{{\\star}}= {sp.latex(sp.Matrix(np.round(t3, 4)))}\"))"
   ]
  }
 ],
 "metadata": {
  "interpreter": {
   "hash": "aee8b7b246df8f9039afb4144a1f6fd8d2ca17a180786b69acc140d282b71a49"
  },
  "kernelspec": {
   "display_name": "Python 3.9.9 64-bit",
   "language": "python",
   "name": "python3"
  },
  "language_info": {
   "codemirror_mode": {
    "name": "ipython",
    "version": 3
   },
   "file_extension": ".py",
   "mimetype": "text/x-python",
   "name": "python",
   "nbconvert_exporter": "python",
   "pygments_lexer": "ipython3",
   "version": "3.9.9"
  },
  "orig_nbformat": 4
 },
 "nbformat": 4,
 "nbformat_minor": 2
}
