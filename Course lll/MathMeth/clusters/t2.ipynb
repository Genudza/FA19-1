{
 "cells": [
  {
   "cell_type": "markdown",
   "metadata": {},
   "source": [
    "<img src=\"../img/t2.png\" width=\"500\"/>"
   ]
  },
  {
   "cell_type": "code",
   "execution_count": 1,
   "metadata": {},
   "outputs": [],
   "source": [
    "import numpy as np\n",
    "import sympy as sp\n",
    "from IPython.display import display, Math"
   ]
  },
  {
   "cell_type": "code",
   "execution_count": 2,
   "metadata": {},
   "outputs": [],
   "source": [
    "x = sp.Symbol('x')\n",
    "p_D = -2*x + 250\n",
    "p_S = x + 100\n",
    "t = 10\n",
    "s = 5"
   ]
  },
  {
   "cell_type": "code",
   "execution_count": 3,
   "metadata": {},
   "outputs": [
    {
     "data": {
      "text/latex": [
       "$\\displaystyle 50$"
      ],
      "text/plain": [
       "50"
      ]
     },
     "execution_count": 3,
     "metadata": {},
     "output_type": "execute_result"
    }
   ],
   "source": [
    "# 1\n",
    "x_equilibrium = sp.solve(sp.Eq(p_D, p_S), x)[0] # точка рын равновесия\n",
    "x_equilibrium"
   ]
  },
  {
   "cell_type": "code",
   "execution_count": 4,
   "metadata": {},
   "outputs": [
    {
     "data": {
      "text/latex": [
       "$\\displaystyle 46.67$"
      ],
      "text/plain": [
       "46.67"
      ]
     },
     "execution_count": 4,
     "metadata": {},
     "output_type": "execute_result"
    }
   ],
   "source": [
    "# 2\n",
    "p_S_delta = p_S + t\n",
    "x_new_equilibrium = round(sp.solve(sp.Eq(p_D, p_S_delta), x)[0], 2) # новая точка рын равновесия\n",
    "x_new_equilibrium\n"
   ]
  },
  {
   "cell_type": "code",
   "execution_count": 5,
   "metadata": {},
   "outputs": [],
   "source": [
    "income = x_new_equilibrium*t # доход"
   ]
  },
  {
   "cell_type": "code",
   "execution_count": 6,
   "metadata": {},
   "outputs": [
    {
     "data": {
      "text/latex": [
       "$\\displaystyle 51.67$"
      ],
      "text/plain": [
       "51.67"
      ]
     },
     "execution_count": 6,
     "metadata": {},
     "output_type": "execute_result"
    }
   ],
   "source": [
    "# 3\n",
    "p_D_delta = p_D + s\n",
    "x_equilibrium_t3 = round(sp.solve(sp.Eq(p_D_delta, p_S), x)[0], 2) # новая точка рын равновесия\n",
    "x_equilibrium_t3\n"
   ]
  },
  {
   "cell_type": "code",
   "execution_count": 7,
   "metadata": {},
   "outputs": [
    {
     "data": {
      "text/latex": [
       "$\\displaystyle - 2 x^{2} + 250 x = x^{2} + x z + 100 x$"
      ],
      "text/plain": [
       "Eq(-2*x**2 + 250*x, x**2 + x*z + 100*x)"
      ]
     },
     "execution_count": 7,
     "metadata": {},
     "output_type": "execute_result"
    }
   ],
   "source": [
    "# 4\n",
    "z = sp.Symbol('z') # налог\n",
    "f = sp.Eq(p_D*x, (p_S+z)*x).expand(basic=True)\n",
    "f"
   ]
  },
  {
   "cell_type": "code",
   "execution_count": 8,
   "metadata": {},
   "outputs": [
    {
     "data": {
      "text/latex": [
       "$\\displaystyle 150 - 6 x$"
      ],
      "text/plain": [
       "150 - 6*x"
      ]
     },
     "execution_count": 8,
     "metadata": {},
     "output_type": "execute_result"
    }
   ],
   "source": [
    "res = (sp.solve(f)[1][z]*x).diff() # домножаем на x\n",
    "res"
   ]
  },
  {
   "cell_type": "code",
   "execution_count": 9,
   "metadata": {},
   "outputs": [
    {
     "data": {
      "text/latex": [
       "$\\displaystyle 150 - 3 x$"
      ],
      "text/plain": [
       "150 - 3*x"
      ]
     },
     "execution_count": 9,
     "metadata": {},
     "output_type": "execute_result"
    }
   ],
   "source": [
    "z_func = sp.solve(f, z)[0]\n",
    "z_func"
   ]
  },
  {
   "cell_type": "code",
   "execution_count": 10,
   "metadata": {},
   "outputs": [],
   "source": [
    "x_val = sp.solve(sp.Eq(res, 0))[0]"
   ]
  },
  {
   "cell_type": "code",
   "execution_count": 11,
   "metadata": {},
   "outputs": [],
   "source": [
    "z_tax = z_func.subs({x:x_val}) # величина налога"
   ]
  },
  {
   "cell_type": "markdown",
   "metadata": {},
   "source": [
    "## Отчет"
   ]
  },
  {
   "cell_type": "code",
   "execution_count": 12,
   "metadata": {},
   "outputs": [
    {
     "data": {
      "text/latex": [
       "$\\displaystyle 250 - 2 x = x + 100$"
      ],
      "text/plain": [
       "Eq(250 - 2*x, x + 100)"
      ]
     },
     "metadata": {},
     "output_type": "display_data"
    },
    {
     "name": "stdout",
     "output_type": "stream",
     "text": [
      "x = 50\n"
     ]
    },
    {
     "data": {
      "text/latex": [
       "$\\displaystyle 250 - 2 x = x + 110$"
      ],
      "text/plain": [
       "Eq(250 - 2*x, x + 110)"
      ]
     },
     "metadata": {},
     "output_type": "display_data"
    },
    {
     "name": "stdout",
     "output_type": "stream",
     "text": [
      "x = 46.67\n",
      "доход: 466.7\n"
     ]
    },
    {
     "data": {
      "text/latex": [
       "$\\displaystyle 255 - 2 x = x + 100$"
      ],
      "text/plain": [
       "Eq(255 - 2*x, x + 100)"
      ]
     },
     "metadata": {},
     "output_type": "display_data"
    },
    {
     "name": "stdout",
     "output_type": "stream",
     "text": [
      "x = 51.67\n"
     ]
    },
    {
     "data": {
      "text/latex": [
       "$\\displaystyle - 2 x^{2} + 250 x = x^{2} + x z + 100 x$"
      ],
      "text/plain": [
       "Eq(-2*x**2 + 250*x, x**2 + x*z + 100*x)"
      ]
     },
     "metadata": {},
     "output_type": "display_data"
    },
    {
     "data": {
      "text/latex": [
       "$\\displaystyle x \\left(150 - 3 x\\right) = 0$"
      ],
      "text/plain": [
       "Eq(x*(150 - 3*x), 0)"
      ]
     },
     "metadata": {},
     "output_type": "display_data"
    },
    {
     "data": {
      "text/latex": [
       "$\\displaystyle 150 - 6 x = 0$"
      ],
      "text/plain": [
       "Eq(150 - 6*x, 0)"
      ]
     },
     "metadata": {},
     "output_type": "display_data"
    },
    {
     "name": "stdout",
     "output_type": "stream",
     "text": [
      "x = 25\n"
     ]
    },
    {
     "data": {
      "text/latex": [
       "$\\displaystyle z = 150 - 3 x$"
      ],
      "text/plain": [
       "Eq(z, 150 - 3*x)"
      ]
     },
     "metadata": {},
     "output_type": "display_data"
    },
    {
     "name": "stdout",
     "output_type": "stream",
     "text": [
      "z = 75\n"
     ]
    }
   ],
   "source": [
    "display(sp.Eq(p_D, p_S))\n",
    "print(\"x =\", x_equilibrium)\n",
    "display(sp.Eq(p_D, p_S_delta))\n",
    "print(\"x =\", x_new_equilibrium)\n",
    "print(\"доход:\", income)\n",
    "display(sp.Eq(p_D_delta, p_S))\n",
    "print(\"x =\", x_equilibrium_t3)\n",
    "display(f)\n",
    "display(sp.Eq(sp.solve(f)[1][z]*x, 0))\n",
    "display(sp.Eq(res, 0))\n",
    "print(f\"x = {x_val}\")\n",
    "display(sp.Eq(z, z_func))\n",
    "print(\"z =\", z_tax)"
   ]
  }
 ],
 "metadata": {
  "interpreter": {
   "hash": "aee8b7b246df8f9039afb4144a1f6fd8d2ca17a180786b69acc140d282b71a49"
  },
  "kernelspec": {
   "display_name": "Python 3.9.9 64-bit",
   "language": "python",
   "name": "python3"
  },
  "language_info": {
   "codemirror_mode": {
    "name": "ipython",
    "version": 3
   },
   "file_extension": ".py",
   "mimetype": "text/x-python",
   "name": "python",
   "nbconvert_exporter": "python",
   "pygments_lexer": "ipython3",
   "version": "3.9.9"
  },
  "orig_nbformat": 4
 },
 "nbformat": 4,
 "nbformat_minor": 2
}
