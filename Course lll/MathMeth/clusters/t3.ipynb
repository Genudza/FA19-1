{
 "cells": [
  {
   "cell_type": "markdown",
   "metadata": {},
   "source": [
    "<img src=\"../img/t3.png\" width=\"500\"/>"
   ]
  },
  {
   "cell_type": "markdown",
   "metadata": {},
   "source": [
    "### Инфа:\n",
    "- Субсидия — выплаты, предоставляемые за счёт государственного или местного бюджета, а также выплаты из специальных фондов для юридических и физических лиц, местных органов власти, других государств."
   ]
  },
  {
   "cell_type": "code",
   "execution_count": 9,
   "metadata": {},
   "outputs": [],
   "source": [
    "import numpy as np\n",
    "import sympy as sp\n",
    "from IPython.display import display, Math"
   ]
  },
  {
   "cell_type": "code",
   "execution_count": 10,
   "metadata": {},
   "outputs": [],
   "source": [
    "x = sp.Symbol('x')\n",
    "t = sp.Symbol('t') # налог\n",
    "p_D = -x + 100\n",
    "p_S = 3 * x + 20\n",
    "value_15 = 15\n",
    "s_value = 384"
   ]
  },
  {
   "cell_type": "code",
   "execution_count": 11,
   "metadata": {},
   "outputs": [],
   "source": [
    "#1\n",
    "x_equilibrium = sp.solve(sp.Eq(p_D, p_S), x)[0]"
   ]
  },
  {
   "cell_type": "code",
   "execution_count": 12,
   "metadata": {},
   "outputs": [
    {
     "data": {
      "text/latex": [
       "$\\displaystyle 20$"
      ],
      "text/plain": [
       "20"
      ]
     },
     "execution_count": 12,
     "metadata": {},
     "output_type": "execute_result"
    }
   ],
   "source": [
    "# 2\n",
    "tax = sp.solve(sp.Eq(p_D, p_S + t), t)[0].subs({x: value_15}) # налог\n",
    "tax"
   ]
  },
  {
   "cell_type": "code",
   "execution_count": 13,
   "metadata": {},
   "outputs": [],
   "source": [
    "# 3\n",
    "s = s_value / x\n",
    "x_val = max(sp.solve(sp.Eq(p_D, p_S - s), x)) #24"
   ]
  },
  {
   "cell_type": "markdown",
   "metadata": {},
   "source": [
    "## Отчет"
   ]
  },
  {
   "cell_type": "code",
   "execution_count": 15,
   "metadata": {},
   "outputs": [
    {
     "data": {
      "text/latex": [
       "$\\displaystyle 100 - x = 3 x + 20$"
      ],
      "text/plain": [
       "Eq(100 - x, 3*x + 20)"
      ]
     },
     "metadata": {},
     "output_type": "display_data"
    },
    {
     "name": "stdout",
     "output_type": "stream",
     "text": [
      "x = 20\n"
     ]
    },
    {
     "data": {
      "text/latex": [
       "$\\displaystyle 100 - x = t + 3 x + 20$"
      ],
      "text/plain": [
       "Eq(100 - x, t + 3*x + 20)"
      ]
     },
     "metadata": {},
     "output_type": "display_data"
    },
    {
     "data": {
      "text/latex": [
       "$\\displaystyle 80 - 4 x = t$"
      ],
      "text/plain": [
       "Eq(80 - 4*x, t)"
      ]
     },
     "metadata": {},
     "output_type": "display_data"
    },
    {
     "name": "stdout",
     "output_type": "stream",
     "text": [
      "t = 20\n"
     ]
    },
    {
     "data": {
      "text/latex": [
       "$\\displaystyle 100 - x = 3 x + 20 - \\frac{384}{x}$"
      ],
      "text/plain": [
       "Eq(100 - x, 3*x + 20 - 384/x)"
      ]
     },
     "metadata": {},
     "output_type": "display_data"
    },
    {
     "name": "stdout",
     "output_type": "stream",
     "text": [
      "x = 24\n",
      "s = 384/x\n",
      "s = 16\n"
     ]
    }
   ],
   "source": [
    "display(sp.Eq(p_D, p_S))\n",
    "print(\"x =\", x_equilibrium)\n",
    "display(sp.Eq(p_D, p_S + t))\n",
    "display(sp.Eq(sp.solve(sp.Eq(p_D, p_S + t), t)[0], t))\n",
    "print(\"t =\", tax)\n",
    "display(sp.Eq(p_D, p_S - s))\n",
    "print(\"x =\", x_val)\n",
    "print(\"s =\", s)\n",
    "print(\"s =\", s.subs({x:x_val}))"
   ]
  }
 ],
 "metadata": {
  "interpreter": {
   "hash": "aee8b7b246df8f9039afb4144a1f6fd8d2ca17a180786b69acc140d282b71a49"
  },
  "kernelspec": {
   "display_name": "Python 3.9.9 64-bit",
   "language": "python",
   "name": "python3"
  },
  "language_info": {
   "codemirror_mode": {
    "name": "ipython",
    "version": 3
   },
   "file_extension": ".py",
   "mimetype": "text/x-python",
   "name": "python",
   "nbconvert_exporter": "python",
   "pygments_lexer": "ipython3",
   "version": "3.9.9"
  },
  "orig_nbformat": 4
 },
 "nbformat": 4,
 "nbformat_minor": 2
}
