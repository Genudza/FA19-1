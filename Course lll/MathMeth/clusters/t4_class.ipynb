{
 "cells": [
  {
   "cell_type": "code",
   "execution_count": 1,
   "metadata": {},
   "outputs": [],
   "source": [
    "import numpy as np\n",
    "import sympy as sp\n",
    "from IPython.display import display, Math"
   ]
  },
  {
   "cell_type": "markdown",
   "metadata": {},
   "source": [
    "# Class"
   ]
  },
  {
   "cell_type": "code",
   "execution_count": 49,
   "metadata": {},
   "outputs": [],
   "source": [
    "from abc import ABC, abstractmethod\n",
    "from typing import Tuple\n",
    "\n",
    "\n",
    "class Task(ABC):\n",
    "    @abstractmethod\n",
    "    def get_result(self):\n",
    "        pass\n",
    "\n",
    "\n",
    "class MonopolistTask(Task):\n",
    "    x1, x2 = sp.symbols('x_1, x_2')\n",
    "    p1, p2 = sp.symbols('p_1, p_2')\n",
    "\n",
    "    def __init__(self, x_1, x_2, C):\n",
    "        self.x_1 = x_1\n",
    "        self.x_2 = x_2\n",
    "        self.C = C\n",
    "\n",
    "    def __do_calculations(self):\n",
    "        p_1 = self.__express(self.x_1, self.p1, \"x_1\")[1]\n",
    "        p_2 = self.__express(self.x_2, self.p2, \"x_2\")[1]\n",
    "        p1, p2 = self.p1, self.p2\n",
    "        x1, x2 = self.x1, self.x2\n",
    "        R = p1*x1 + p2*x2\n",
    "        R_simp = R.subs({p1: p_1, p2: p_2})\n",
    "\n",
    "        P_uneval = R_simp - sp.UnevaluatedExpr(C)\n",
    "        P = P_uneval.doit()\n",
    "\n",
    "        res = sp.solve([sp.Eq(0, P.diff(x1)), sp.Eq(0, P.diff(x2))])\n",
    "        p_1_val = res[x1]\n",
    "        p_2_val = res[x2]\n",
    "\n",
    "        x_1_val = x_1.subs({p1: p_1_val})\n",
    "        x_2_val = x_2.subs({p2: p_2_val})\n",
    "\n",
    "        E_d1 = (x_1.diff() * p1/x_1).simplify()\n",
    "        E_d2 = (x_2.diff() * p2/x_2).simplify()\n",
    "        E_d1_value = E_d1.subs(p1, p_1_val)\n",
    "        E_d2_value = E_d2.subs(p2, p_2_val)\n",
    "\n",
    "        coef1 = P.diff(x1).diff(x1)  # глав диагональ\n",
    "        coef2 = P.diff(x2).diff(x2)  # глав диагональ\n",
    "        coef3 = P.diff(x1).diff(x2)  # смешанные =>побочная диагональ\n",
    "        coef4 = P.diff(x2).diff(x1)  # смешанные =>побочная диагональ\n",
    "        delta1 = coef1  # 1-ый минор\n",
    "        delta2 = coef1*coef2 - coef3*coef4  # 2-ой минор\n",
    "        income = R_simp.subs({x1: p_1_val, x2: p_2_val})\n",
    "        m = np.array([\n",
    "            [coef1, coef3],\n",
    "            [coef4, coef2],\n",
    "        ], dtype=float)\n",
    "\n",
    "        return p_1, p_2, R, R_simp, P_uneval, P, p_1_val, p_2_val,\\\n",
    "            E_d1, E_d2, E_d1_value, E_d2_value,\\\n",
    "            delta1, delta2, income, m\n",
    "\n",
    "    def get_result(self):\n",
    "        result = self.__do_calculations()\n",
    "        result_out = DisplaySolution(result).display()\n",
    "        return result_out\n",
    "\n",
    "    def __express(self, a, b, name: str) -> tuple:\n",
    "        # выразить одну через другую\n",
    "        sym = sp.symbols(name)\n",
    "        sol = sp.solve(a-sym, b)\n",
    "        assert len(sol) == 1\n",
    "        return (sym, sol[0])\n",
    "\n",
    "\n",
    "class DisplaySolution:\n",
    "\n",
    "    def __init__(self, variables):\n",
    "        self.variables = variables\n",
    "\n",
    "    def display(self):\n",
    "        p_1, p_2, R, R_simp, P_uneval, P, p_1_val, p_2_val,\\\n",
    "            E_d1, E_d2, E_d1_value, E_d2_value,\\\n",
    "            delta1, delta2, income, m = self.variables\n",
    "        C_symb = sp.symbols(\"C\")\n",
    "        R_symb = sp.symbols(\"R\")\n",
    "        P_symb = sp.symbols(\"P\")\n",
    "        E_d1_symb = sp.symbols(\"E_d_1\")\n",
    "        E_d2_symb = sp.symbols(\"E_d_2\")\n",
    "        p1, p2 = sp.symbols('p_1, p_2')\n",
    "\n",
    "        display(sp.Eq(p_1, p1))\n",
    "        display(sp.Eq(p_2, p2))\n",
    "        display(sp.Eq(C_symb, C))\n",
    "        display(sp.Eq(R_symb, R))\n",
    "        # display(sp.Eq(R_symb-sp.UnevaluatedExpr(C_symb), P_uneval))\n",
    "        display(Math(rf\"П(x_1,\\ x_2)= {sp.latex(P)}\"))\n",
    "        display(Math(f\"П(x_1)'= {sp.latex(sp.Eq(P.diff(x1), 0))}\"))\n",
    "        display(Math(f\"П(x_2)'= {sp.latex(sp.Eq(P.diff(x2), 0))}\"))\n",
    "        display(Math(f\"x_1 = {p_1_val}\"))\n",
    "        display(Math(f\"x_2 = {p_2_val}\"))\n",
    "        display(R)\n",
    "        display(R_simp)\n",
    "        display(Math(f\"Доход:\\ {income}\"))\n",
    "        display(sp.Eq(E_d1_symb, E_d1))\n",
    "        # оно того стоило\n",
    "        display(Math(rf\"E_{{d_1}}(p_1={p_1_val}) = {sp.latex(E_d1_value)}\"))\n",
    "        display(sp.Eq(E_d2_symb, E_d2))\n",
    "        display(Math(rf\"E_{{d_2}}(p_2={p_2_val}) = {sp.latex(E_d2_value)}\"))\n",
    "        display(Math(rf\"G = {sp.latex(sp.Matrix(m))}\"))\n",
    "        display(Math(\n",
    "            r\"Чтобы\\ убедиться\\ в\\ том,\\ что\\ мы\\ нашли\\ точку\\ максимума\\ Δ_1 < 0;\\ Δ_2 > 0\"))\n",
    "        display(Math(rf\"Δ_1 = {delta1};\\ Δ_2 = {delta2}\"))\n"
   ]
  },
  {
   "cell_type": "markdown",
   "metadata": {},
   "source": [
    "# Task text"
   ]
  },
  {
   "cell_type": "code",
   "execution_count": 50,
   "metadata": {},
   "outputs": [
    {
     "name": "stdout",
     "output_type": "stream",
     "text": [
      "\n",
      "Задача монополист:\n",
      "Даны функции спроса на каждый продукт:\n"
     ]
    },
    {
     "data": {
      "text/latex": [
       "$\\displaystyle x_1=70-p_1,\\ x_2=76-2p_2$"
      ],
      "text/plain": [
       "<IPython.core.display.Math object>"
      ]
     },
     "metadata": {},
     "output_type": "display_data"
    },
    {
     "name": "stdout",
     "output_type": "stream",
     "text": [
      "Функция издержек фирмы-монополиста имеет вид\n"
     ]
    },
    {
     "data": {
      "text/latex": [
       "$\\displaystyle C(x_1,x_2) = 4x_1^{2}+5x_1x_2 + x_2^{2}$"
      ],
      "text/plain": [
       "<IPython.core.display.Math object>"
      ]
     },
     "metadata": {},
     "output_type": "display_data"
    },
    {
     "name": "stdout",
     "output_type": "stream",
     "text": [
      "Найти производственный план, максимизируюзий прибыль фирмы.\n",
      "Найти эластичность спроса на каждый продукт по цене\n"
     ]
    }
   ],
   "source": [
    "print(\"\\nЗадача монополист:\")\n",
    "print(\"Даны функции спроса на каждый продукт:\")\n",
    "display(Math(r'x_1=70-p_1,\\ x_2=76-2p_2'))\n",
    "print(\"Функция издержек фирмы-монополиста имеет вид\")\n",
    "display(Math(r'C(x_1,x_2) = 4x_1^{2}+5x_1x_2 + x_2^{2}'))\n",
    "print(\"Найти производственный план, максимизируюзий прибыль фирмы.\\nНайти эластичность спроса на каждый продукт по цене\")"
   ]
  },
  {
   "cell_type": "markdown",
   "metadata": {},
   "source": [
    "# Variables"
   ]
  },
  {
   "cell_type": "code",
   "execution_count": 51,
   "metadata": {},
   "outputs": [
    {
     "data": {
      "text/latex": [
       "$\\displaystyle 70 - x_{1} = p_{1}$"
      ],
      "text/plain": [
       "Eq(70 - x_1, p_1)"
      ]
     },
     "metadata": {},
     "output_type": "display_data"
    },
    {
     "data": {
      "text/latex": [
       "$\\displaystyle 38 - \\frac{x_{2}}{2} = p_{2}$"
      ],
      "text/plain": [
       "Eq(38 - x_2/2, p_2)"
      ]
     },
     "metadata": {},
     "output_type": "display_data"
    },
    {
     "data": {
      "text/latex": [
       "$\\displaystyle C = 4 x_{1}^{2} + 5 x_{1} x_{2} + x_{2}^{2}$"
      ],
      "text/plain": [
       "Eq(C, 4*x_1**2 + 5*x_1*x_2 + x_2**2)"
      ]
     },
     "metadata": {},
     "output_type": "display_data"
    },
    {
     "data": {
      "text/latex": [
       "$\\displaystyle R = p_{1} x_{1} + p_{2} x_{2}$"
      ],
      "text/plain": [
       "Eq(R, p_1*x_1 + p_2*x_2)"
      ]
     },
     "metadata": {},
     "output_type": "display_data"
    },
    {
     "data": {
      "text/latex": [
       "$\\displaystyle П(x_1,\\ x_2)= - 4 x_{1}^{2} - 5 x_{1} x_{2} + x_{1} \\cdot \\left(70 - x_{1}\\right) - x_{2}^{2} + x_{2} \\cdot \\left(38 - \\frac{x_{2}}{2}\\right)$"
      ],
      "text/plain": [
       "<IPython.core.display.Math object>"
      ]
     },
     "metadata": {},
     "output_type": "display_data"
    },
    {
     "data": {
      "text/latex": [
       "$\\displaystyle П(x_1)'= - 10 x_{1} - 5 x_{2} + 70 = 0$"
      ],
      "text/plain": [
       "<IPython.core.display.Math object>"
      ]
     },
     "metadata": {},
     "output_type": "display_data"
    },
    {
     "data": {
      "text/latex": [
       "$\\displaystyle П(x_2)'= - 5 x_{1} - 3 x_{2} + 38 = 0$"
      ],
      "text/plain": [
       "<IPython.core.display.Math object>"
      ]
     },
     "metadata": {},
     "output_type": "display_data"
    },
    {
     "data": {
      "text/latex": [
       "$\\displaystyle x_1 = 4$"
      ],
      "text/plain": [
       "<IPython.core.display.Math object>"
      ]
     },
     "metadata": {},
     "output_type": "display_data"
    },
    {
     "data": {
      "text/latex": [
       "$\\displaystyle x_2 = 6$"
      ],
      "text/plain": [
       "<IPython.core.display.Math object>"
      ]
     },
     "metadata": {},
     "output_type": "display_data"
    },
    {
     "data": {
      "text/latex": [
       "$\\displaystyle p_{1} x_{1} + p_{2} x_{2}$"
      ],
      "text/plain": [
       "p_1*x_1 + p_2*x_2"
      ]
     },
     "metadata": {},
     "output_type": "display_data"
    },
    {
     "data": {
      "text/latex": [
       "$\\displaystyle x_{1} \\cdot \\left(70 - x_{1}\\right) + x_{2} \\cdot \\left(38 - \\frac{x_{2}}{2}\\right)$"
      ],
      "text/plain": [
       "x_1*(70 - x_1) + x_2*(38 - x_2/2)"
      ]
     },
     "metadata": {},
     "output_type": "display_data"
    },
    {
     "data": {
      "text/latex": [
       "$\\displaystyle Доход:\\ 474$"
      ],
      "text/plain": [
       "<IPython.core.display.Math object>"
      ]
     },
     "metadata": {},
     "output_type": "display_data"
    },
    {
     "data": {
      "text/latex": [
       "$\\displaystyle E_{d 1} = \\frac{p_{1}}{p_{1} - 70}$"
      ],
      "text/plain": [
       "Eq(E_d_1, p_1/(p_1 - 70))"
      ]
     },
     "metadata": {},
     "output_type": "display_data"
    },
    {
     "data": {
      "text/latex": [
       "$\\displaystyle E_{d_1}(p_1=4) = - \\frac{2}{33}$"
      ],
      "text/plain": [
       "<IPython.core.display.Math object>"
      ]
     },
     "metadata": {},
     "output_type": "display_data"
    },
    {
     "data": {
      "text/latex": [
       "$\\displaystyle E_{d 2} = \\frac{p_{2}}{p_{2} - 38}$"
      ],
      "text/plain": [
       "Eq(E_d_2, p_2/(p_2 - 38))"
      ]
     },
     "metadata": {},
     "output_type": "display_data"
    },
    {
     "data": {
      "text/latex": [
       "$\\displaystyle E_{d_2}(p_2=6) = - \\frac{3}{16}$"
      ],
      "text/plain": [
       "<IPython.core.display.Math object>"
      ]
     },
     "metadata": {},
     "output_type": "display_data"
    },
    {
     "data": {
      "text/latex": [
       "$\\displaystyle G = \\left[\\begin{matrix}-10.0 & -5.0\\\\-5.0 & -3.0\\end{matrix}\\right]$"
      ],
      "text/plain": [
       "<IPython.core.display.Math object>"
      ]
     },
     "metadata": {},
     "output_type": "display_data"
    },
    {
     "data": {
      "text/latex": [
       "$\\displaystyle Чтобы\\ убедиться\\ в\\ том,\\ что\\ мы\\ нашли\\ точку\\ максимума\\ Δ_1 < 0;\\ Δ_2 > 0$"
      ],
      "text/plain": [
       "<IPython.core.display.Math object>"
      ]
     },
     "metadata": {},
     "output_type": "display_data"
    },
    {
     "data": {
      "text/latex": [
       "$\\displaystyle Δ_1 = -10;\\ Δ_2 = 5$"
      ],
      "text/plain": [
       "<IPython.core.display.Math object>"
      ]
     },
     "metadata": {},
     "output_type": "display_data"
    }
   ],
   "source": [
    "x1, x2 = sp.symbols('x_1, x_2')\n",
    "p1, p2 = sp.symbols('p_1, p_2')\n",
    "\n",
    "x_1 = 70 - p1\n",
    "x_2 = 76 - 2*p2\n",
    "C = (4 * x1 ** 2) + (5 * x1 * x2) + (x2 ** 2)\n",
    "\n",
    "m = MonopolistTask(x_1, x_2, C)\n",
    "\n",
    "m.get_result()"
   ]
  }
 ],
 "metadata": {
  "interpreter": {
   "hash": "aee8b7b246df8f9039afb4144a1f6fd8d2ca17a180786b69acc140d282b71a49"
  },
  "kernelspec": {
   "display_name": "Python 3.9.9 64-bit",
   "language": "python",
   "name": "python3"
  },
  "language_info": {
   "codemirror_mode": {
    "name": "ipython",
    "version": 3
   },
   "file_extension": ".py",
   "mimetype": "text/x-python",
   "name": "python",
   "nbconvert_exporter": "python",
   "pygments_lexer": "ipython3",
   "version": "3.9.9"
  },
  "orig_nbformat": 4
 },
 "nbformat": 4,
 "nbformat_minor": 2
}
