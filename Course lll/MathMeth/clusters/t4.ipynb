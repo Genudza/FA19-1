{
 "cells": [
  {
   "cell_type": "markdown",
   "metadata": {},
   "source": [
    "<img src=\"../img/t4.png\" width=\"500\"/>"
   ]
  },
  {
   "cell_type": "code",
   "execution_count": 271,
   "metadata": {},
   "outputs": [],
   "source": [
    "import numpy as np\n",
    "import sympy as sp\n",
    "from IPython.display import display, Math"
   ]
  },
  {
   "cell_type": "code",
   "execution_count": 272,
   "metadata": {},
   "outputs": [
    {
     "name": "stdout",
     "output_type": "stream",
     "text": [
      "\n",
      "Задача монополист:\n",
      "Даны функции спроса на каждый продукт:\n"
     ]
    },
    {
     "data": {
      "text/latex": [
       "$\\displaystyle x_1=70-p_1,\\ x_2=76-2p_2$"
      ],
      "text/plain": [
       "<IPython.core.display.Math object>"
      ]
     },
     "metadata": {},
     "output_type": "display_data"
    },
    {
     "name": "stdout",
     "output_type": "stream",
     "text": [
      "Функция издержек фирмы-монополиста имеет вид\n"
     ]
    },
    {
     "data": {
      "text/latex": [
       "$\\displaystyle C(x_1,x_2) = 4x_1^{2}+5x_1x_2 + x_2^{2}$"
      ],
      "text/plain": [
       "<IPython.core.display.Math object>"
      ]
     },
     "metadata": {},
     "output_type": "display_data"
    },
    {
     "name": "stdout",
     "output_type": "stream",
     "text": [
      "Найти производственный план, максимизируюзий прибыль фирмы.\n",
      "Найти эластичность спроса на каждый продукт по цене\n"
     ]
    }
   ],
   "source": [
    "print(\"\\nЗадача монополист:\")\n",
    "print(\"Даны функции спроса на каждый продукт:\")\n",
    "display(Math(r'x_1=70-p_1,\\ x_2=76-2p_2'))\n",
    "print(\"Функция издержек фирмы-монополиста имеет вид\")\n",
    "display(Math(r'C(x_1,x_2) = 4x_1^{2}+5x_1x_2 + x_2^{2}'))\n",
    "print(\"Найти производственный план, максимизируюзий прибыль фирмы.\\nНайти эластичность спроса на каждый продукт по цене\")"
   ]
  },
  {
   "cell_type": "code",
   "execution_count": 273,
   "metadata": {},
   "outputs": [],
   "source": [
    "x1, x2 = sp.symbols('x_1, x_2')\n",
    "p_1, p_2 = sp.symbols('p_1, p_2')\n",
    "x_1 = 70 - p_1\n",
    "x_2 = 76 - 2*p_2"
   ]
  },
  {
   "cell_type": "code",
   "execution_count": 274,
   "metadata": {},
   "outputs": [],
   "source": [
    "def express(a, b, name):\n",
    "    # выразить одну через другую\n",
    "    sym = sp.symbols(name)\n",
    "    sol = sp.solve(a-sym, b)\n",
    "    assert len(sol) == 1\n",
    "    return (sym, sol[0])"
   ]
  },
  {
   "cell_type": "code",
   "execution_count": 275,
   "metadata": {},
   "outputs": [],
   "source": [
    "p1 = express(x_1, p_1, \"x_1\")[1]\n",
    "p2 = express(x_2, p_2, \"x_2\")[1]"
   ]
  },
  {
   "cell_type": "code",
   "execution_count": 276,
   "metadata": {},
   "outputs": [],
   "source": [
    "C = (4 * x1 ** 2) + (5 * x1 * x2) + (x2 ** 2)"
   ]
  },
  {
   "cell_type": "code",
   "execution_count": 277,
   "metadata": {},
   "outputs": [
    {
     "data": {
      "text/latex": [
       "$\\displaystyle x_{1} \\cdot \\left(68 - x_{1}\\right) + x_{2} \\cdot \\left(48 - \\frac{x_{2}}{2}\\right)$"
      ],
      "text/plain": [
       "x_1*(68 - x_1) + x_2*(48 - x_2/2)"
      ]
     },
     "execution_count": 277,
     "metadata": {},
     "output_type": "execute_result"
    }
   ],
   "source": [
    "R = p1*x1 + p2*x2\n",
    "R"
   ]
  },
  {
   "cell_type": "code",
   "execution_count": 278,
   "metadata": {},
   "outputs": [],
   "source": [
    "P_uneval = R - sp.UnevaluatedExpr(C)\n",
    "P = P_uneval.doit()"
   ]
  },
  {
   "cell_type": "code",
   "execution_count": 279,
   "metadata": {},
   "outputs": [
    {
     "name": "stdout",
     "output_type": "stream",
     "text": [
      "p_1 = 6\n",
      "p_2 = 4\n"
     ]
    }
   ],
   "source": [
    "res = sp.solve([sp.Eq(0, P.diff(x1)), sp.Eq(0, P.diff(x2))])\n",
    "p_1_val = res[x1]\n",
    "p_2_val = res[x2]\n",
    "print(f'p_1 = {p_1_val}\\np_2 = {p_2_val}')\n"
   ]
  },
  {
   "cell_type": "code",
   "execution_count": 280,
   "metadata": {},
   "outputs": [
    {
     "name": "stdout",
     "output_type": "stream",
     "text": [
      "x_1 = 62, x_2 = 88\n"
     ]
    }
   ],
   "source": [
    "x_1_val = x_1.subs({p_1: p_1_val})\n",
    "x_2_val = x_2.subs({p_2: p_2_val})\n",
    "print(f'x_1 = {x_1_val}, x_2 = {x_2_val}')"
   ]
  },
  {
   "cell_type": "code",
   "execution_count": 281,
   "metadata": {},
   "outputs": [],
   "source": [
    "E_d1 = x_1.diff() * p_1/x_1 # формула для эластичности\n",
    "E_d2 = (x_2.diff() * p_2/x_2).simplify()\n"
   ]
  },
  {
   "cell_type": "code",
   "execution_count": 282,
   "metadata": {},
   "outputs": [
    {
     "data": {
      "text/latex": [
       "$\\displaystyle - \\frac{p_{1}}{68 - p_{1}}$"
      ],
      "text/plain": [
       "-p_1/(68 - p_1)"
      ]
     },
     "execution_count": 282,
     "metadata": {},
     "output_type": "execute_result"
    }
   ],
   "source": [
    "E_d1\n"
   ]
  },
  {
   "cell_type": "code",
   "execution_count": 283,
   "metadata": {},
   "outputs": [
    {
     "data": {
      "text/latex": [
       "$\\displaystyle \\frac{p_{2}}{p_{2} - 48}$"
      ],
      "text/plain": [
       "p_2/(p_2 - 48)"
      ]
     },
     "execution_count": 283,
     "metadata": {},
     "output_type": "execute_result"
    }
   ],
   "source": [
    "E_d2\n"
   ]
  },
  {
   "cell_type": "code",
   "execution_count": 284,
   "metadata": {},
   "outputs": [
    {
     "data": {
      "text/latex": [
       "$\\displaystyle - \\frac{3}{31}$"
      ],
      "text/plain": [
       "-3/31"
      ]
     },
     "execution_count": 284,
     "metadata": {},
     "output_type": "execute_result"
    }
   ],
   "source": [
    "E_d1_value = E_d1.subs(p_1, p_1_val)\n",
    "E_d1_value"
   ]
  },
  {
   "cell_type": "code",
   "execution_count": 285,
   "metadata": {},
   "outputs": [
    {
     "data": {
      "text/latex": [
       "$\\displaystyle - \\frac{1}{11}$"
      ],
      "text/plain": [
       "-1/11"
      ]
     },
     "execution_count": 285,
     "metadata": {},
     "output_type": "execute_result"
    }
   ],
   "source": [
    "E_d2_value = E_d2.subs(p_2, p_2_val)\n",
    "E_d2_value"
   ]
  },
  {
   "cell_type": "code",
   "execution_count": 286,
   "metadata": {},
   "outputs": [],
   "source": [
    "# вторая производная коэфф матрицы\n",
    "coef1 = P.diff(x1).diff(x1) # глав диагональ\n",
    "coef2 = P.diff(x2).diff(x2) # глав диагональ\n",
    "coef3 = P.diff(x1).diff(x2) # смешанные =>побочная диагональ\n",
    "coef4 = P.diff(x2).diff(x1) # смешанные =>побочная диагональ\n"
   ]
  },
  {
   "cell_type": "code",
   "execution_count": 287,
   "metadata": {},
   "outputs": [
    {
     "data": {
      "text/plain": [
       "(-10, 86)"
      ]
     },
     "execution_count": 287,
     "metadata": {},
     "output_type": "execute_result"
    }
   ],
   "source": [
    "delta1 = coef1 # 1-ый минор\n",
    "delta2 = coef1*coef2 - coef3*coef4 # 2-ой минор\n",
    "delta1, delta2"
   ]
  },
  {
   "cell_type": "code",
   "execution_count": 288,
   "metadata": {},
   "outputs": [],
   "source": [
    "income = R.subs({x1: p_1_val, x2: p_2_val})"
   ]
  },
  {
   "cell_type": "code",
   "execution_count": 289,
   "metadata": {},
   "outputs": [
    {
     "data": {
      "text/plain": [
       "array([[-10.,  -2.],\n",
       "       [ -2.,  -9.]])"
      ]
     },
     "execution_count": 289,
     "metadata": {},
     "output_type": "execute_result"
    }
   ],
   "source": [
    "m = np.array([\n",
    "    [coef1, coef3],\n",
    "    [coef4, coef2],\n",
    "], dtype=float)\n",
    "m"
   ]
  },
  {
   "cell_type": "markdown",
   "metadata": {},
   "source": [
    "## Отчет"
   ]
  },
  {
   "cell_type": "code",
   "execution_count": 290,
   "metadata": {},
   "outputs": [],
   "source": [
    "C_symb = sp.symbols(\"C\")\n",
    "R_symb = sp.symbols(\"R\")\n",
    "P_symb = sp.symbols(\"P\")\n",
    "E_d1_symb = sp.symbols(\"E_d_1\")\n",
    "E_d2_symb = sp.symbols(\"E_d_2\")"
   ]
  },
  {
   "cell_type": "code",
   "execution_count": 291,
   "metadata": {},
   "outputs": [
    {
     "data": {
      "text/latex": [
       "$\\displaystyle E_{d 1}$"
      ],
      "text/plain": [
       "E_d_1"
      ]
     },
     "execution_count": 291,
     "metadata": {},
     "output_type": "execute_result"
    }
   ],
   "source": [
    "# Cell for test\n",
    "E_d1_symb"
   ]
  },
  {
   "cell_type": "code",
   "execution_count": 292,
   "metadata": {},
   "outputs": [
    {
     "data": {
      "text/latex": [
       "$\\displaystyle p_{1} = 68 - x_{1}$"
      ],
      "text/plain": [
       "Eq(p_1, 68 - x_1)"
      ]
     },
     "metadata": {},
     "output_type": "display_data"
    },
    {
     "data": {
      "text/latex": [
       "$\\displaystyle p_{2} = 48 - \\frac{x_{2}}{2}$"
      ],
      "text/plain": [
       "Eq(p_2, 48 - x_2/2)"
      ]
     },
     "metadata": {},
     "output_type": "display_data"
    },
    {
     "data": {
      "text/latex": [
       "$\\displaystyle C = 4 x_{1}^{2} + 2 x_{1} x_{2} + 4 x_{2}^{2} + 3$"
      ],
      "text/plain": [
       "Eq(C, 4*x_1**2 + 2*x_1*x_2 + 4*x_2**2 + 3)"
      ]
     },
     "metadata": {},
     "output_type": "display_data"
    },
    {
     "data": {
      "text/latex": [
       "$\\displaystyle R = x_{1} \\cdot \\left(68 - x_{1}\\right) + x_{2} \\cdot \\left(48 - \\frac{x_{2}}{2}\\right)$"
      ],
      "text/plain": [
       "Eq(R, x_1*(68 - x_1) + x_2*(48 - x_2/2))"
      ]
     },
     "metadata": {},
     "output_type": "display_data"
    },
    {
     "data": {
      "text/latex": [
       "$\\displaystyle R - C = x_{1} \\cdot \\left(68 - x_{1}\\right) + x_{2} \\cdot \\left(48 - \\frac{x_{2}}{2}\\right) - 4 x_{1}^{2} + 2 x_{1} x_{2} + 4 x_{2}^{2} + 3$"
      ],
      "text/plain": [
       "Eq(R - C, x_1*(68 - x_1) + x_2*(48 - x_2/2) - (4*x_1**2 + 2*x_1*x_2 + 4*x_2**2 + 3))"
      ]
     },
     "metadata": {},
     "output_type": "display_data"
    },
    {
     "data": {
      "text/latex": [
       "$\\displaystyle P = - 4 x_{1}^{2} - 2 x_{1} x_{2} + x_{1} \\cdot \\left(68 - x_{1}\\right) - 4 x_{2}^{2} + x_{2} \\cdot \\left(48 - \\frac{x_{2}}{2}\\right) - 3$"
      ],
      "text/plain": [
       "Eq(P, -4*x_1**2 - 2*x_1*x_2 + x_1*(68 - x_1) - 4*x_2**2 + x_2*(48 - x_2/2) - 3)"
      ]
     },
     "metadata": {},
     "output_type": "display_data"
    },
    {
     "data": {
      "text/latex": [
       "$\\displaystyle - 10 x_{1} - 2 x_{2} + 68 = 0$"
      ],
      "text/plain": [
       "Eq(-10*x_1 - 2*x_2 + 68, 0)"
      ]
     },
     "metadata": {},
     "output_type": "display_data"
    },
    {
     "data": {
      "text/latex": [
       "$\\displaystyle - 2 x_{1} - 9 x_{2} + 48 = 0$"
      ],
      "text/plain": [
       "Eq(-2*x_1 - 9*x_2 + 48, 0)"
      ]
     },
     "metadata": {},
     "output_type": "display_data"
    },
    {
     "data": {
      "text/latex": [
       "$\\displaystyle x_1 = 6$"
      ],
      "text/plain": [
       "<IPython.core.display.Math object>"
      ]
     },
     "metadata": {},
     "output_type": "display_data"
    },
    {
     "data": {
      "text/latex": [
       "$\\displaystyle x_2 = 4$"
      ],
      "text/plain": [
       "<IPython.core.display.Math object>"
      ]
     },
     "metadata": {},
     "output_type": "display_data"
    },
    {
     "data": {
      "text/latex": [
       "$\\displaystyle x_{1} \\cdot \\left(68 - x_{1}\\right) + x_{2} \\cdot \\left(48 - \\frac{x_{2}}{2}\\right)$"
      ],
      "text/plain": [
       "x_1*(68 - x_1) + x_2*(48 - x_2/2)"
      ]
     },
     "metadata": {},
     "output_type": "display_data"
    },
    {
     "data": {
      "text/latex": [
       "$\\displaystyle Доход:\\ 556$"
      ],
      "text/plain": [
       "<IPython.core.display.Math object>"
      ]
     },
     "metadata": {},
     "output_type": "display_data"
    },
    {
     "data": {
      "text/latex": [
       "$\\displaystyle E_{d 1} = - \\frac{p_{1}}{68 - p_{1}}$"
      ],
      "text/plain": [
       "Eq(E_d_1, -p_1/(68 - p_1))"
      ]
     },
     "metadata": {},
     "output_type": "display_data"
    },
    {
     "data": {
      "text/latex": [
       "$\\displaystyle E_{d_1}(p_1=6) = - \\frac{3}{31}$"
      ],
      "text/plain": [
       "<IPython.core.display.Math object>"
      ]
     },
     "metadata": {},
     "output_type": "display_data"
    },
    {
     "data": {
      "text/latex": [
       "$\\displaystyle E_{d 2} = \\frac{p_{2}}{p_{2} - 48}$"
      ],
      "text/plain": [
       "Eq(E_d_2, p_2/(p_2 - 48))"
      ]
     },
     "metadata": {},
     "output_type": "display_data"
    },
    {
     "data": {
      "text/latex": [
       "$\\displaystyle E_{d_2}(p_2=4) = - \\frac{1}{11}$"
      ],
      "text/plain": [
       "<IPython.core.display.Math object>"
      ]
     },
     "metadata": {},
     "output_type": "display_data"
    },
    {
     "data": {
      "text/latex": [
       "$\\displaystyle G = \\left[\\begin{matrix}-10.0 & -2.0\\\\-2.0 & -9.0\\end{matrix}\\right]$"
      ],
      "text/plain": [
       "<IPython.core.display.Math object>"
      ]
     },
     "metadata": {},
     "output_type": "display_data"
    },
    {
     "data": {
      "text/latex": [
       "$\\displaystyle Чтобы\\ убедиться\\ в\\ том,\\ что\\ мы\\ нашли\\ точку\\ максимума\\ Δ_1 < 0;\\ Δ_2 > 0$"
      ],
      "text/plain": [
       "<IPython.core.display.Math object>"
      ]
     },
     "metadata": {},
     "output_type": "display_data"
    },
    {
     "data": {
      "text/latex": [
       "$\\displaystyle Δ_1 = -10;\\ Δ_2 = 86$"
      ],
      "text/plain": [
       "<IPython.core.display.Math object>"
      ]
     },
     "metadata": {},
     "output_type": "display_data"
    }
   ],
   "source": [
    "display(sp.Eq(p_1, p1))\n",
    "display(sp.Eq(p_2, p2))\n",
    "display(sp.Eq(C_symb, C))\n",
    "display(sp.Eq(R_symb, R))\n",
    "display(sp.Eq(R_symb-sp.UnevaluatedExpr(C_symb), P_uneval))\n",
    "display(sp.Eq(P_symb,P))\n",
    "display(sp.Eq(P.diff(x1), 0))\n",
    "display(sp.Eq(P.diff(x2), 0))\n",
    "display(Math(f\"x_1 = {p_1_val}\"))\n",
    "display(Math(f\"x_2 = {p_2_val}\"))\n",
    "display(R)\n",
    "display(Math(f\"Доход:\\ {income}\"))\n",
    "display(sp.Eq(E_d1_symb, E_d1))\n",
    "display(Math(rf\"E_{{d_1}}(p_1={p_1_val}) = {sp.latex(E_d1_value)}\")) # оно того стоило\n",
    "display(sp.Eq(E_d2_symb, E_d2))\n",
    "display(Math(rf\"E_{{d_2}}(p_2={p_2_val}) = {sp.latex(E_d2_value)}\"))\n",
    "display(Math(rf\"G = {sp.latex(sp.Matrix(m))}\"))\n",
    "display(Math(r\"Чтобы\\ убедиться\\ в\\ том,\\ что\\ мы\\ нашли\\ точку\\ максимума\\ Δ_1 < 0;\\ Δ_2 > 0\"))\n",
    "display(Math(rf\"Δ_1 = {delta1};\\ Δ_2 = {delta2}\"))"
   ]
  }
 ],
 "metadata": {
  "interpreter": {
   "hash": "aee8b7b246df8f9039afb4144a1f6fd8d2ca17a180786b69acc140d282b71a49"
  },
  "kernelspec": {
   "display_name": "Python 3.9.9 64-bit",
   "language": "python",
   "name": "python3"
  },
  "language_info": {
   "codemirror_mode": {
    "name": "ipython",
    "version": 3
   },
   "file_extension": ".py",
   "mimetype": "text/x-python",
   "name": "python",
   "nbconvert_exporter": "python",
   "pygments_lexer": "ipython3",
   "version": "3.9.9"
  },
  "orig_nbformat": 4
 },
 "nbformat": 4,
 "nbformat_minor": 2
}
