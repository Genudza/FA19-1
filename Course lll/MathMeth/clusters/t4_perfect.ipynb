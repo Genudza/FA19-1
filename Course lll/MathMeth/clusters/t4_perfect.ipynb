{
 "cells": [
  {
   "cell_type": "code",
   "execution_count": 1,
   "metadata": {},
   "outputs": [],
   "source": [
    "import numpy as np\n",
    "import sympy as sp\n",
    "from IPython.display import display, Math"
   ]
  },
  {
   "cell_type": "markdown",
   "metadata": {},
   "source": [
    "# Variables"
   ]
  },
  {
   "cell_type": "code",
   "execution_count": 2,
   "metadata": {},
   "outputs": [],
   "source": [
    "x1, x2 = sp.symbols('x_1, x_2')\n",
    "p1, p2 = sp.symbols('p_1, p_2')\n",
    "x_1 = 70 - p1\n",
    "x_2 = 76 - 2*p2\n",
    "C = (4 * x1 ** 2) + (5 * x1 * x2) + (x2 ** 2)"
   ]
  },
  {
   "cell_type": "markdown",
   "metadata": {},
   "source": [
    "# Task"
   ]
  },
  {
   "cell_type": "code",
   "execution_count": 3,
   "metadata": {},
   "outputs": [
    {
     "name": "stdout",
     "output_type": "stream",
     "text": [
      "\n",
      "Задача монополист:\n",
      "Даны функции спроса на каждый продукт:\n"
     ]
    },
    {
     "data": {
      "text/latex": [
       "$\\displaystyle x_1=70-p_1,\\ x_2=76-2p_2$"
      ],
      "text/plain": [
       "<IPython.core.display.Math object>"
      ]
     },
     "metadata": {},
     "output_type": "display_data"
    },
    {
     "name": "stdout",
     "output_type": "stream",
     "text": [
      "Функция издержек фирмы-монополиста имеет вид\n"
     ]
    },
    {
     "data": {
      "text/latex": [
       "$\\displaystyle C(x_1,x_2) = 4x_1^{2}+5x_1x_2 + x_2^{2}$"
      ],
      "text/plain": [
       "<IPython.core.display.Math object>"
      ]
     },
     "metadata": {},
     "output_type": "display_data"
    },
    {
     "name": "stdout",
     "output_type": "stream",
     "text": [
      "Найти производственный план, максимизируюзий прибыль фирмы.\n",
      "Найти эластичность спроса на каждый продукт по цене\n"
     ]
    }
   ],
   "source": [
    "print(\"\\nЗадача монополист:\")\n",
    "print(\"Даны функции спроса на каждый продукт:\")\n",
    "display(Math(r'x_1=70-p_1,\\ x_2=76-2p_2'))\n",
    "print(\"Функция издержек фирмы-монополиста имеет вид\")\n",
    "display(Math(r'C(x_1,x_2) = 4x_1^{2}+5x_1x_2 + x_2^{2}'))\n",
    "print(\"Найти производственный план, максимизируюзий прибыль фирмы.\\nНайти эластичность спроса на каждый продукт по цене\")"
   ]
  },
  {
   "cell_type": "markdown",
   "metadata": {},
   "source": [
    "# Solution"
   ]
  },
  {
   "cell_type": "code",
   "execution_count": 4,
   "metadata": {},
   "outputs": [],
   "source": [
    "def express(a, b, name):\n",
    "    # выразить одну через другую\n",
    "    sym = sp.symbols(name)\n",
    "    sol = sp.solve(a-sym, b)\n",
    "    assert len(sol) == 1\n",
    "    return (sym, sol[0])"
   ]
  },
  {
   "cell_type": "code",
   "execution_count": 5,
   "metadata": {},
   "outputs": [],
   "source": [
    "p_1 = express(x_1, p1, \"x_1\")[1]\n",
    "p_2 = express(x_2, p2, \"x_2\")[1]"
   ]
  },
  {
   "cell_type": "code",
   "execution_count": 6,
   "metadata": {},
   "outputs": [
    {
     "data": {
      "text/latex": [
       "$\\displaystyle p_{1} x_{1} + p_{2} x_{2}$"
      ],
      "text/plain": [
       "p_1*x_1 + p_2*x_2"
      ]
     },
     "execution_count": 6,
     "metadata": {},
     "output_type": "execute_result"
    }
   ],
   "source": [
    "R = p1*x1 + p2*x2\n",
    "R"
   ]
  },
  {
   "cell_type": "code",
   "execution_count": 7,
   "metadata": {},
   "outputs": [
    {
     "data": {
      "text/latex": [
       "$\\displaystyle x_{1} \\cdot \\left(70 - x_{1}\\right) + x_{2} \\cdot \\left(38 - \\frac{x_{2}}{2}\\right)$"
      ],
      "text/plain": [
       "x_1*(70 - x_1) + x_2*(38 - x_2/2)"
      ]
     },
     "execution_count": 7,
     "metadata": {},
     "output_type": "execute_result"
    }
   ],
   "source": [
    "R = R.subs({p1:p_1, p2:p_2})\n",
    "R"
   ]
  },
  {
   "cell_type": "code",
   "execution_count": 8,
   "metadata": {},
   "outputs": [],
   "source": [
    "P_uneval = R - sp.UnevaluatedExpr(C)\n",
    "P = P_uneval.doit()"
   ]
  },
  {
   "cell_type": "code",
   "execution_count": 9,
   "metadata": {},
   "outputs": [
    {
     "name": "stdout",
     "output_type": "stream",
     "text": [
      "p_1 = 4\n",
      "p_2 = 6\n"
     ]
    }
   ],
   "source": [
    "res = sp.solve([sp.Eq(0, P.diff(x1)), sp.Eq(0, P.diff(x2))])\n",
    "p_1_val = res[x1]\n",
    "p_2_val = res[x2]\n",
    "print(f'p_1 = {p_1_val}\\np_2 = {p_2_val}')\n"
   ]
  },
  {
   "cell_type": "code",
   "execution_count": 10,
   "metadata": {},
   "outputs": [
    {
     "name": "stdout",
     "output_type": "stream",
     "text": [
      "x_1 = 66, x_2 = 64\n"
     ]
    }
   ],
   "source": [
    "x_1_val = x_1.subs({p1: p_1_val})\n",
    "x_2_val = x_2.subs({p2: p_2_val})\n",
    "print(f'x_1 = {x_1_val}, x_2 = {x_2_val}')"
   ]
  },
  {
   "cell_type": "code",
   "execution_count": 11,
   "metadata": {},
   "outputs": [],
   "source": [
    "E_d1 = (x_1.diff() * p1/x_1).simplify()\n",
    "E_d2 = (x_2.diff() * p2/x_2).simplify()\n"
   ]
  },
  {
   "cell_type": "code",
   "execution_count": 12,
   "metadata": {},
   "outputs": [
    {
     "data": {
      "text/latex": [
       "$\\displaystyle \\frac{p_{1}}{p_{1} - 70}$"
      ],
      "text/plain": [
       "p_1/(p_1 - 70)"
      ]
     },
     "execution_count": 12,
     "metadata": {},
     "output_type": "execute_result"
    }
   ],
   "source": [
    "E_d1"
   ]
  },
  {
   "cell_type": "code",
   "execution_count": 13,
   "metadata": {},
   "outputs": [
    {
     "data": {
      "text/latex": [
       "$\\displaystyle - \\frac{2}{33}$"
      ],
      "text/plain": [
       "-2/33"
      ]
     },
     "execution_count": 13,
     "metadata": {},
     "output_type": "execute_result"
    }
   ],
   "source": [
    "E_d1_value = E_d1.subs(p1, p_1_val)\n",
    "E_d1_value"
   ]
  },
  {
   "cell_type": "code",
   "execution_count": 14,
   "metadata": {},
   "outputs": [
    {
     "data": {
      "text/latex": [
       "$\\displaystyle - \\frac{3}{16}$"
      ],
      "text/plain": [
       "-3/16"
      ]
     },
     "execution_count": 14,
     "metadata": {},
     "output_type": "execute_result"
    }
   ],
   "source": [
    "E_d2_value = E_d2.subs(p2, p_2_val)\n",
    "E_d2_value"
   ]
  },
  {
   "cell_type": "code",
   "execution_count": 15,
   "metadata": {},
   "outputs": [],
   "source": [
    "coef1 = P.diff(x1).diff(x1) # глав диагональ\n",
    "coef2 = P.diff(x2).diff(x2) # глав диагональ\n",
    "coef3 = P.diff(x1).diff(x2) # смешанные =>побочная диагональ\n",
    "coef4 = P.diff(x2).diff(x1) # смешанные =>побочная диагональ\n"
   ]
  },
  {
   "cell_type": "code",
   "execution_count": 16,
   "metadata": {},
   "outputs": [
    {
     "data": {
      "text/plain": [
       "(-10, 5)"
      ]
     },
     "execution_count": 16,
     "metadata": {},
     "output_type": "execute_result"
    }
   ],
   "source": [
    "delta1 = coef1 # 1-ый минор\n",
    "delta2 = coef1*coef2 - coef3*coef4 # 2-ой минор\n",
    "delta1, delta2"
   ]
  },
  {
   "cell_type": "code",
   "execution_count": 17,
   "metadata": {},
   "outputs": [
    {
     "data": {
      "text/latex": [
       "$\\displaystyle 474$"
      ],
      "text/plain": [
       "474"
      ]
     },
     "execution_count": 17,
     "metadata": {},
     "output_type": "execute_result"
    }
   ],
   "source": [
    "income = R.subs({x1: p_1_val, x2: p_2_val})\n",
    "income"
   ]
  },
  {
   "cell_type": "code",
   "execution_count": 18,
   "metadata": {},
   "outputs": [
    {
     "data": {
      "text/plain": [
       "array([[-10.,  -5.],\n",
       "       [ -5.,  -3.]])"
      ]
     },
     "execution_count": 18,
     "metadata": {},
     "output_type": "execute_result"
    }
   ],
   "source": [
    "m = np.array([\n",
    "    [coef1, coef3],\n",
    "    [coef4, coef2],\n",
    "], dtype=float)\n",
    "m"
   ]
  },
  {
   "cell_type": "code",
   "execution_count": 19,
   "metadata": {},
   "outputs": [],
   "source": [
    "C_symb = sp.symbols(\"C\")\n",
    "R_symb = sp.symbols(\"R\")\n",
    "P_symb = sp.symbols(\"P\")\n",
    "E_d1_symb = sp.symbols(\"E_d_1\")\n",
    "E_d2_symb = sp.symbols(\"E_d_2\")"
   ]
  },
  {
   "cell_type": "markdown",
   "metadata": {},
   "source": [
    "## Отчет"
   ]
  },
  {
   "cell_type": "code",
   "execution_count": 20,
   "metadata": {},
   "outputs": [
    {
     "data": {
      "text/latex": [
       "$\\displaystyle 70 - x_{1} = p_{1}$"
      ],
      "text/plain": [
       "Eq(70 - x_1, p_1)"
      ]
     },
     "metadata": {},
     "output_type": "display_data"
    },
    {
     "data": {
      "text/latex": [
       "$\\displaystyle 38 - \\frac{x_{2}}{2} = p_{2}$"
      ],
      "text/plain": [
       "Eq(38 - x_2/2, p_2)"
      ]
     },
     "metadata": {},
     "output_type": "display_data"
    },
    {
     "data": {
      "text/latex": [
       "$\\displaystyle C = 4 x_{1}^{2} + 5 x_{1} x_{2} + x_{2}^{2}$"
      ],
      "text/plain": [
       "Eq(C, 4*x_1**2 + 5*x_1*x_2 + x_2**2)"
      ]
     },
     "metadata": {},
     "output_type": "display_data"
    },
    {
     "data": {
      "text/latex": [
       "$\\displaystyle R = x_{1} \\cdot \\left(70 - x_{1}\\right) + x_{2} \\cdot \\left(38 - \\frac{x_{2}}{2}\\right)$"
      ],
      "text/plain": [
       "Eq(R, x_1*(70 - x_1) + x_2*(38 - x_2/2))"
      ]
     },
     "metadata": {},
     "output_type": "display_data"
    },
    {
     "data": {
      "text/latex": [
       "$\\displaystyle П(x_1,\\ x_2)= - 4 x_{1}^{2} - 5 x_{1} x_{2} + x_{1} \\cdot \\left(70 - x_{1}\\right) - x_{2}^{2} + x_{2} \\cdot \\left(38 - \\frac{x_{2}}{2}\\right)$"
      ],
      "text/plain": [
       "<IPython.core.display.Math object>"
      ]
     },
     "metadata": {},
     "output_type": "display_data"
    },
    {
     "data": {
      "text/latex": [
       "$\\displaystyle П(x_1)'= - 10 x_{1} - 5 x_{2} + 70 = 0$"
      ],
      "text/plain": [
       "<IPython.core.display.Math object>"
      ]
     },
     "metadata": {},
     "output_type": "display_data"
    },
    {
     "data": {
      "text/latex": [
       "$\\displaystyle П(x_2)'= - 5 x_{1} - 3 x_{2} + 38 = 0$"
      ],
      "text/plain": [
       "<IPython.core.display.Math object>"
      ]
     },
     "metadata": {},
     "output_type": "display_data"
    },
    {
     "data": {
      "text/latex": [
       "$\\displaystyle x_1 = 4$"
      ],
      "text/plain": [
       "<IPython.core.display.Math object>"
      ]
     },
     "metadata": {},
     "output_type": "display_data"
    },
    {
     "data": {
      "text/latex": [
       "$\\displaystyle x_2 = 6$"
      ],
      "text/plain": [
       "<IPython.core.display.Math object>"
      ]
     },
     "metadata": {},
     "output_type": "display_data"
    },
    {
     "data": {
      "text/latex": [
       "$\\displaystyle x_{1} \\cdot \\left(70 - x_{1}\\right) + x_{2} \\cdot \\left(38 - \\frac{x_{2}}{2}\\right)$"
      ],
      "text/plain": [
       "x_1*(70 - x_1) + x_2*(38 - x_2/2)"
      ]
     },
     "metadata": {},
     "output_type": "display_data"
    },
    {
     "data": {
      "text/latex": [
       "$\\displaystyle Доход:\\ 474$"
      ],
      "text/plain": [
       "<IPython.core.display.Math object>"
      ]
     },
     "metadata": {},
     "output_type": "display_data"
    },
    {
     "data": {
      "text/latex": [
       "$\\displaystyle E_{d 1} = \\frac{p_{1}}{p_{1} - 70}$"
      ],
      "text/plain": [
       "Eq(E_d_1, p_1/(p_1 - 70))"
      ]
     },
     "metadata": {},
     "output_type": "display_data"
    },
    {
     "data": {
      "text/latex": [
       "$\\displaystyle E_{d_1}(p_1=4) = - \\frac{2}{33}$"
      ],
      "text/plain": [
       "<IPython.core.display.Math object>"
      ]
     },
     "metadata": {},
     "output_type": "display_data"
    },
    {
     "data": {
      "text/latex": [
       "$\\displaystyle E_{d 2} = \\frac{p_{2}}{p_{2} - 38}$"
      ],
      "text/plain": [
       "Eq(E_d_2, p_2/(p_2 - 38))"
      ]
     },
     "metadata": {},
     "output_type": "display_data"
    },
    {
     "data": {
      "text/latex": [
       "$\\displaystyle E_{d_2}(p_2=6) = - \\frac{3}{16}$"
      ],
      "text/plain": [
       "<IPython.core.display.Math object>"
      ]
     },
     "metadata": {},
     "output_type": "display_data"
    },
    {
     "data": {
      "text/latex": [
       "$\\displaystyle G = \\left[\\begin{matrix}-10.0 & -5.0\\\\-5.0 & -3.0\\end{matrix}\\right]$"
      ],
      "text/plain": [
       "<IPython.core.display.Math object>"
      ]
     },
     "metadata": {},
     "output_type": "display_data"
    },
    {
     "data": {
      "text/latex": [
       "$\\displaystyle Чтобы\\ убедиться\\ в\\ том,\\ что\\ мы\\ нашли\\ точку\\ максимума\\ Δ_1 < 0;\\ Δ_2 > 0$"
      ],
      "text/plain": [
       "<IPython.core.display.Math object>"
      ]
     },
     "metadata": {},
     "output_type": "display_data"
    },
    {
     "data": {
      "text/latex": [
       "$\\displaystyle Δ_1 = -10;\\ Δ_2 = 5$"
      ],
      "text/plain": [
       "<IPython.core.display.Math object>"
      ]
     },
     "metadata": {},
     "output_type": "display_data"
    }
   ],
   "source": [
    "display(sp.Eq(p_1, p1))\n",
    "display(sp.Eq(p_2, p2))\n",
    "display(sp.Eq(C_symb, C))\n",
    "display(sp.Eq(R_symb, R))\n",
    "# display(sp.Eq(R_symb-sp.UnevaluatedExpr(C_symb), P_uneval))\n",
    "display(Math(rf\"П(x_1,\\ x_2)= {sp.latex(P)}\"))\n",
    "display(Math(f\"П(x_1)'= {sp.latex(sp.Eq(P.diff(x1), 0))}\"))\n",
    "display(Math(f\"П(x_2)'= {sp.latex(sp.Eq(P.diff(x2), 0))}\"))\n",
    "display(Math(f\"x_1 = {p_1_val}\"))\n",
    "display(Math(f\"x_2 = {p_2_val}\"))\n",
    "display(R)\n",
    "display(Math(f\"Доход:\\ {income}\"))\n",
    "display(sp.Eq(E_d1_symb, E_d1))\n",
    "display(Math(rf\"E_{{d_1}}(p_1={p_1_val}) = {sp.latex(E_d1_value)}\")) # оно того стоило\n",
    "display(sp.Eq(E_d2_symb, E_d2))\n",
    "display(Math(rf\"E_{{d_2}}(p_2={p_2_val}) = {sp.latex(E_d2_value)}\"))\n",
    "display(Math(rf\"G = {sp.latex(sp.Matrix(m))}\"))\n",
    "display(Math(r\"Чтобы\\ убедиться\\ в\\ том,\\ что\\ мы\\ нашли\\ точку\\ максимума\\ Δ_1 < 0;\\ Δ_2 > 0\"))\n",
    "display(Math(rf\"Δ_1 = {delta1};\\ Δ_2 = {delta2}\"))"
   ]
  },
  {
   "cell_type": "code",
   "execution_count": 21,
   "metadata": {},
   "outputs": [],
   "source": [
    "# sp.preview([sp.Eq(p_1, p1),sp.Eq(p_2, p2), sp.Eq(C_symb, C), sp.Eq(R_symb, R)], viewer=\"file\", filename=\"out1.png\")"
   ]
  },
  {
   "cell_type": "code",
   "execution_count": 22,
   "metadata": {},
   "outputs": [],
   "source": [
    "sp.preview(sp.Eq(p_1, p1), viewer=\"file\", filename=\"t4_img/out1.png\")\n",
    "sp.preview(sp.Eq(p_2, p2), viewer=\"file\", filename=\"t4_img/out2.png\")\n",
    "sp.preview(sp.Eq(C_symb, C), viewer=\"file\", filename=\"t4_img/out3.png\")\n",
    "sp.preview(sp.Eq(R_symb, R), viewer=\"file\", filename=\"t4_img/out4.png\")\n",
    "sp.preview(rf'$$P(x_1,x_2) = {sp.latex(P)}$$', viewer=\"file\", filename=\"t4_img/out5.png\")\n",
    "sp.preview(rf\"$$P(x_1)'= {sp.latex(sp.Eq(P.diff(x1), 0))}$$\", viewer=\"file\", filename=\"t4_img/out6.png\")\n",
    "sp.preview(rf\"$$P(x_2)'= {sp.latex(sp.Eq(P.diff(x2), 0))}$$\", viewer=\"file\", filename=\"t4_img/out7.png\")\n",
    "sp.preview([sp.Eq(x1, p_1_val), sp.Eq(x2, p_2_val)], viewer=\"file\", filename=\"t4_img/out8.png\")\n",
    "sp.preview(fr'$$Income = {income}$$', viewer=\"file\", filename=\"t4_img/out9.png\")\n",
    "sp.preview(sp.Eq(E_d1_symb, E_d1), viewer=\"file\", filename=\"t4_img/out10.png\")\n",
    "sp.preview(rf\"$$E_{{d_1}}(p_1={p_1_val}) = {sp.latex(E_d1_value)}$$\", viewer=\"file\", filename=\"t4_img/out11.png\")\n",
    "sp.preview(sp.Eq(E_d2_symb, E_d2), viewer=\"file\", filename=\"t4_img/out12.png\")\n",
    "sp.preview(rf\"$$E_{{d_2}}(p_2={p_2_val}) = {sp.latex(E_d2_value)}$$\", viewer=\"file\", filename=\"t4_img/out13.png\")\n",
    "sp.preview(rf\"$$G = {sp.latex(sp.Matrix(m))}$$\", viewer=\"file\", filename=\"t4_img/out14.png\")\n",
    "sp.preview(rf\"$$Chtobi\\ ubeditsya\\ v\\ tom\\ chto\\ mi\\ nashli\\ tochku\\ max\\ \\triangle_1<0;\\ \\triangle_2>0 $$\", viewer=\"file\", filename=\"t4_img/out15.png\")\n",
    "sp.preview(rf\"$$\\triangle_1 = {delta1};\\ \\triangle_2 = {delta2}$$\", viewer=\"file\", filename=\"t4_img/out16.png\")"
   ]
  },
  {
   "cell_type": "code",
   "execution_count": 23,
   "metadata": {},
   "outputs": [],
   "source": [
    "import numpy as np\n",
    "from PIL import Image\n",
    "\n",
    "list_im = []\n",
    "for i in range(1,16+1):\n",
    "    list_im.append(f\"t4_img/out{i}.png\")\n",
    "\n",
    "images = [Image.open(x) for x in list_im]\n",
    "widths, heights = zip(*(i.size for i in images))\n",
    "\n",
    "total_heights = 550\n",
    "max_widths = max(widths)-70\n",
    "\n",
    "new_im = Image.new('RGB', (total_heights, max_widths))\n",
    "\n",
    "x_offset = 0\n",
    "y_offset = 20\n",
    "for im in images:\n",
    "    new_im.paste(im, (0,y_offset))\n",
    "#   x_offset += im.size[0]\n",
    "    y_offset += im.size[1]\n",
    "    # y_offset += 50\n",
    "new_im.save('t4_img/result.png')\n"
   ]
  },
  {
   "cell_type": "code",
   "execution_count": 24,
   "metadata": {},
   "outputs": [
    {
     "data": {
      "image/png": "[encoded data removed]",
      "text/plain": [
       "<PIL.Image.Image image mode=RGB size=550x460 at 0x119F03BE0>"
      ]
     },
     "execution_count": 24,
     "metadata": {},
     "output_type": "execute_result"
    }
   ],
   "source": [
    "new_im"
   ]
  }
 ],
 "metadata": {
  "interpreter": {
   "hash": "aee8b7b246df8f9039afb4144a1f6fd8d2ca17a180786b69acc140d282b71a49"
  },
  "kernelspec": {
   "display_name": "Python 3.9.9 64-bit",
   "language": "python",
   "name": "python3"
  },
  "language_info": {
   "codemirror_mode": {
    "name": "ipython",
    "version": 3
   },
   "file_extension": ".py",
   "mimetype": "text/x-python",
   "name": "python",
   "nbconvert_exporter": "python",
   "pygments_lexer": "ipython3",
   "version": "3.9.9"
  },
  "orig_nbformat": 4
 },
 "nbformat": 4,
 "nbformat_minor": 2
}
