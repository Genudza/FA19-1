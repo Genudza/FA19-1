{
 "cells": [
  {
   "cell_type": "code",
   "execution_count": 10,
   "metadata": {},
   "outputs": [],
   "source": [
    "import numpy as np\n",
    "import sympy as sp\n",
    "from IPython.display import display, Math"
   ]
  },
  {
   "cell_type": "markdown",
   "metadata": {},
   "source": [
    "Дана балансовая таблица в двухотраслевой модели Леонтьева.   \n",
    "Постройте структурную матрицу (матрицу прямых затрат) и проверьте её продуктивность.   \n",
    "Производители, Потребители(I,II), конечный продукт, ввп   \n",
    "Производитель 1(row1):   3, 8, 89, 100   \n",
    "Производитель 2(row1):   5, 7, 88, 100   \n",
    "Вычислите конечное потребление каждой отрасли, если объем валового выпуска каждой отрасли увеличится соответственно на 100% И 50%;   \n",
    "найдите в данном случае чистую продукцию отраслей. Найдите валовой выпуск,   \n",
    "если конечное потребление первой отрасли не изменилось, а второй — увеличилось на 10%.   "
   ]
  },
  {
   "cell_type": "code",
   "execution_count": 11,
   "metadata": {},
   "outputs": [],
   "source": [
    "x_1, x_2 = 89, 88 # конечный продукт\n",
    "X = np.array([[3, 8],\n",
    "              [5, 7]])\n",
    "vvp_1 = 100\n",
    "vvp_2 = 100              \n",
    "Y = np.array([[vvp_1 * 2], # 2 - 100%, 1,5 - 50%\n",
    "              [vvp_2 * 1.5]])\n",
    "x_10_perc = 1.1"
   ]
  },
  {
   "cell_type": "code",
   "execution_count": 12,
   "metadata": {},
   "outputs": [
    {
     "data": {
      "text/plain": [
       "array([[0.03, 0.08],\n",
       "       [0.05, 0.07]])"
      ]
     },
     "execution_count": 12,
     "metadata": {},
     "output_type": "execute_result"
    }
   ],
   "source": [
    "A = X / np.array([[vvp_1, vvp_1],\n",
    "                    [vvp_2, vvp_2]]).T\n",
    "A                "
   ]
  },
  {
   "cell_type": "code",
   "execution_count": 13,
   "metadata": {},
   "outputs": [
    {
     "data": {
      "text/plain": [
       "array([[ 0.97, -0.08],\n",
       "       [-0.05,  0.93]])"
      ]
     },
     "execution_count": 13,
     "metadata": {},
     "output_type": "execute_result"
    }
   ],
   "source": [
    "E_A = np.eye(2)-A\n",
    "E_A"
   ]
  },
  {
   "cell_type": "code",
   "execution_count": 14,
   "metadata": {},
   "outputs": [
    {
     "data": {
      "text/plain": [
       "array([[1.03551943, 0.08907694],\n",
       "       [0.05567309, 1.0800579 ]])"
      ]
     },
     "execution_count": 14,
     "metadata": {},
     "output_type": "execute_result"
    }
   ],
   "source": [
    "# 1) > 0, матрица продуктивна\n",
    "# A^-1\n",
    "E_A_inv = np.linalg.inv(E_A)\n",
    "E_A_inv"
   ]
  },
  {
   "cell_type": "code",
   "execution_count": 15,
   "metadata": {},
   "outputs": [
    {
     "data": {
      "text/plain": [
       "array([[ 6. , 12. ],\n",
       "       [10. , 10.5]])"
      ]
     },
     "execution_count": 15,
     "metadata": {},
     "output_type": "execute_result"
    }
   ],
   "source": [
    "B = A * Y.T\n",
    "B"
   ]
  },
  {
   "cell_type": "code",
   "execution_count": 16,
   "metadata": {},
   "outputs": [
    {
     "data": {
      "text/plain": [
       "array([184. , 127.5])"
      ]
     },
     "execution_count": 16,
     "metadata": {},
     "output_type": "execute_result"
    }
   ],
   "source": [
    "# 2)\n",
    "t2 = (Y.T - B.sum(axis=0))[0]\n",
    "t2"
   ]
  },
  {
   "cell_type": "code",
   "execution_count": 17,
   "metadata": {},
   "outputs": [
    {
     "data": {
      "text/plain": [
       "array([100.78387707, 109.50450952])"
      ]
     },
     "execution_count": 17,
     "metadata": {},
     "output_type": "execute_result"
    }
   ],
   "source": [
    "# 3)\n",
    "Y_ = np.array([x_1, x_2 * x_10_perc])  # увеличилось на 10\n",
    "t3 = E_A_inv.dot(Y_)\n",
    "t3\n"
   ]
  },
  {
   "cell_type": "markdown",
   "metadata": {},
   "source": [
    "## Отчет"
   ]
  },
  {
   "cell_type": "code",
   "execution_count": 18,
   "metadata": {},
   "outputs": [
    {
     "name": "stdout",
     "output_type": "stream",
     "text": [
      "A =\n",
      " [[0.03 0.08]\n",
      " [0.05 0.07]]\n",
      "\n",
      "E - A =\n",
      " [[ 0.97 -0.08]\n",
      " [-0.05  0.93]]\n",
      "ответ на вопрос пункта 1:\n"
     ]
    },
    {
     "data": {
      "text/latex": [
       "$\\displaystyle (E-A)^{-1} =$"
      ],
      "text/plain": [
       "<IPython.core.display.Math object>"
      ]
     },
     "metadata": {},
     "output_type": "display_data"
    },
    {
     "name": "stdout",
     "output_type": "stream",
     "text": [
      "[[1.03551943 0.08907694]\n",
      " [0.05567309 1.0800579 ]]\n",
      "------------------------------------\n",
      "Y = [[200. 150.]]\n",
      "B =\n",
      " [[ 6.  12. ]\n",
      " [10.  10.5]]\n",
      "ответ на вопрос пункта 2:\n",
      "I = 200.0 - 6.0 - 10.0 = 184.0\n",
      "II = 150.0 - 12.0 - 10.500000000000002 = 127.5\n",
      "------------------------------------\n",
      "ответ на вопрос пункта 3:\n",
      "Y = [[1.03551943 0.08907694]\n",
      " [0.05567309 1.0800579 ]] * [89.  96.8] = [100.78387707 109.50450952]\n"
     ]
    }
   ],
   "source": [
    "print(\"A =\\n\", A)\n",
    "print(\"\\nE - A =\\n\",E_A)\n",
    "print(\"ответ на вопрос пункта 1:\")\n",
    "display(Math(r\"(E-A)^{-1} =\"))\n",
    "print(E_A_inv)\n",
    "print(\"------------------------------------\")\n",
    "print(\"Y =\", Y.T)\n",
    "print(\"B =\\n\",B)\n",
    "print(\"ответ на вопрос пункта 2:\")\n",
    "print(f\"I = {Y.T[0][0]} - {B[0][0]} - {B[1][0]} = {t2[0]}\")\n",
    "print(f\"II = {Y.T[0][1]} - {B[0][1]} - {B[1][1]} = {t2[1]}\")\n",
    "print(\"------------------------------------\")\n",
    "print(\"ответ на вопрос пункта 3:\")\n",
    "print(\"Y =\",E_A_inv,\"*\",Y_, \"=\", t3)"
   ]
  }
 ],
 "metadata": {
  "interpreter": {
   "hash": "aee8b7b246df8f9039afb4144a1f6fd8d2ca17a180786b69acc140d282b71a49"
  },
  "kernelspec": {
   "display_name": "Python 3.9.9 64-bit",
   "language": "python",
   "name": "python3"
  },
  "language_info": {
   "codemirror_mode": {
    "name": "ipython",
    "version": 3
   },
   "file_extension": ".py",
   "mimetype": "text/x-python",
   "name": "python",
   "nbconvert_exporter": "python",
   "pygments_lexer": "ipython3",
   "version": "3.9.9"
  },
  "orig_nbformat": 4
 },
 "nbformat": 4,
 "nbformat_minor": 2
}
