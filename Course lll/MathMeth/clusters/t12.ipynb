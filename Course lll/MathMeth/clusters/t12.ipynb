{
 "cells": [
  {
   "cell_type": "code",
   "execution_count": 10,
   "metadata": {},
   "outputs": [],
   "source": [
    "import numpy as np\n",
    "import sympy as sp\n",
    "from IPython.display import display, Math\n"
   ]
  },
  {
   "cell_type": "markdown",
   "metadata": {},
   "source": [
    "<img src=\"../img/t12.jpeg\" width=\"500\"/>"
   ]
  },
  {
   "cell_type": "code",
   "execution_count": 11,
   "metadata": {},
   "outputs": [
    {
     "data": {
      "text/plain": [
       "(278/35, 11/5)"
      ]
     },
     "execution_count": 11,
     "metadata": {},
     "output_type": "execute_result"
    }
   ],
   "source": [
    "x, y = sp.symbols('x y')\n",
    "p, q = 7, 2\n",
    "I = 60\n",
    "eq_I = sp.Eq(x * p + y * q, I)\n",
    "U = 5*(x-7) * y ** sp.Rational(5/6).limit_denominator()\n",
    "\n",
    "U_x = sp.simplify(U.diff(x))\n",
    "U_y = sp.simplify(U.diff(y))\n",
    "# U_x\n",
    "eq_U = sp.Eq(U_x / U_y, sp.Rational(p / q).limit_denominator())\n",
    "# eq_U\n",
    "res = sp.solve((eq_I, eq_U))\n",
    "x_val = res[x]\n",
    "y_val = res[y]\n",
    "x_val, y_val\n"
   ]
  },
  {
   "cell_type": "code",
   "execution_count": 12,
   "metadata": {},
   "outputs": [
    {
     "data": {
      "text/latex": [
       "$\\displaystyle y^{\\frac{2}{3}} \\cdot \\left(5 x - 35\\right)$"
      ],
      "text/plain": [
       "y**(2/3)*(5*x - 35)"
      ]
     },
     "execution_count": 12,
     "metadata": {},
     "output_type": "execute_result"
    }
   ],
   "source": [
    "U"
   ]
  },
  {
   "cell_type": "markdown",
   "metadata": {},
   "source": [
    "# Отчет"
   ]
  },
  {
   "cell_type": "code",
   "execution_count": 13,
   "metadata": {},
   "outputs": [
    {
     "name": "stdout",
     "output_type": "stream",
     "text": [
      "Cистема из трех уравнений:\n",
      "----------------------------------------\n"
     ]
    },
    {
     "data": {
      "text/latex": [
       "$\\displaystyle y^{\\frac{2}{3}} \\cdot \\left(5 x - 35\\right) \\rightarrow max$"
      ],
      "text/plain": [
       "<IPython.core.display.Math object>"
      ]
     },
     "metadata": {},
     "output_type": "display_data"
    },
    {
     "data": {
      "text/latex": [
       "$\\displaystyle 7x +2y \\leq60$"
      ],
      "text/plain": [
       "<IPython.core.display.Math object>"
      ]
     },
     "metadata": {},
     "output_type": "display_data"
    },
    {
     "data": {
      "text/latex": [
       "$\\displaystyle x, y \\geq0$"
      ],
      "text/plain": [
       "<IPython.core.display.Math object>"
      ]
     },
     "metadata": {},
     "output_type": "display_data"
    },
    {
     "name": "stdout",
     "output_type": "stream",
     "text": [
      "----------------------------------------\n"
     ]
    },
    {
     "data": {
      "text/latex": [
       "$\\displaystyle U(x_1)'= 5 y^{\\frac{2}{3}}$"
      ],
      "text/plain": [
       "<IPython.core.display.Math object>"
      ]
     },
     "metadata": {},
     "output_type": "display_data"
    },
    {
     "data": {
      "text/latex": [
       "$\\displaystyle U(y_1)'= \\frac{10 \\left(x - 7\\right)}{3 \\sqrt[3]{y}}$"
      ],
      "text/plain": [
       "<IPython.core.display.Math object>"
      ]
     },
     "metadata": {},
     "output_type": "display_data"
    },
    {
     "data": {
      "text/latex": [
       "$\\displaystyle \\frac{3 \\sqrt[3]{y} 5 y^{\\frac{2}{3}}}{10 x - 70} = \\frac{7}{2}$"
      ],
      "text/plain": [
       "<IPython.core.display.Math object>"
      ]
     },
     "metadata": {},
     "output_type": "display_data"
    },
    {
     "name": "stdout",
     "output_type": "stream",
     "text": [
      "Cистема из двух уравнений:\n",
      "----------------------------------------\n"
     ]
    },
    {
     "data": {
      "text/latex": [
       "$\\displaystyle \\frac{3 y}{2 x - 14} = \\frac{7}{2}$"
      ],
      "text/plain": [
       "<IPython.core.display.Math object>"
      ]
     },
     "metadata": {},
     "output_type": "display_data"
    },
    {
     "data": {
      "text/latex": [
       "$\\displaystyle 7 x + 2 y = 60$"
      ],
      "text/plain": [
       "Eq(7*x + 2*y, 60)"
      ]
     },
     "metadata": {},
     "output_type": "display_data"
    },
    {
     "name": "stdout",
     "output_type": "stream",
     "text": [
      "----------------------------------------\n"
     ]
    },
    {
     "data": {
      "text/latex": [
       "$\\displaystyle x = \\frac{278}{35} = 7.94;\\ y = \\frac{11}{5} = 2.20$"
      ],
      "text/plain": [
       "<IPython.core.display.Math object>"
      ]
     },
     "metadata": {},
     "output_type": "display_data"
    }
   ],
   "source": [
    "print(\"Cистема из трех уравнений:\")\n",
    "print(\"-\"*40)\n",
    "display(Math(rf\"{sp.latex(U)} \\rightarrow max\"))\n",
    "display(Math(rf\"{p}x +{q}y \\leq{I}\"))\n",
    "display(Math(rf\"x, y \\geq0\"))\n",
    "print(\"-\"*40)\n",
    "\n",
    "display(Math(f\"U(x_1)'= {sp.latex(U_x)}\"))\n",
    "display(Math(f\"U(y_1)'= {sp.latex(U_y)}\"))\n",
    "display(Math(rf\"{sp.latex(sp.cancel(sp.UnevaluatedExpr(U_x)/U_y))} = {sp.latex(sp.Rational(p/q).limit_denominator())}\"))\n",
    "\n",
    "print(\"Cистема из двух уравнений:\")\n",
    "print(\"-\"*40)\n",
    "display(Math(rf\"{sp.latex(sp.cancel(U_x/U_y))} = {sp.latex(sp.Rational(p/q).limit_denominator())}\"))\n",
    "display(eq_I)\n",
    "print(\"-\"*40)\n",
    "display(Math(f\"x = {sp.latex(x_val)} = {x_val.evalf(3)};\\ y = {sp.latex(y_val)} = {y_val.evalf(3)}\"))"
   ]
  }
 ],
 "metadata": {
  "interpreter": {
   "hash": "aee8b7b246df8f9039afb4144a1f6fd8d2ca17a180786b69acc140d282b71a49"
  },
  "kernelspec": {
   "display_name": "Python 3.9.9 64-bit",
   "language": "python",
   "name": "python3"
  },
  "language_info": {
   "codemirror_mode": {
    "name": "ipython",
    "version": 3
   },
   "file_extension": ".py",
   "mimetype": "text/x-python",
   "name": "python",
   "nbconvert_exporter": "python",
   "pygments_lexer": "ipython3",
   "version": "3.9.9"
  },
  "orig_nbformat": 4
 },
 "nbformat": 4,
 "nbformat_minor": 2
}
