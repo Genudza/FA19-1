{
 "cells": [
  {
   "cell_type": "code",
   "execution_count": 1,
   "metadata": {},
   "outputs": [],
   "source": [
    "import numpy as np\n",
    "import sympy as sp\n",
    "from IPython.display import display, Math"
   ]
  },
  {
   "cell_type": "markdown",
   "metadata": {},
   "source": [
    "Дана балансовая таблица в двухотраслевой модели Леонтьева.   \n",
    "Постройте структурную матрицу (матрицу прямых затрат) и проверьте её продуктивность.   \n",
    "Производители, Потребители(I,II), конечный продукт, ввп   \n",
    "Производитель 1(row1):   11, 30, 100, 141   \n",
    "Производитель 2(row1):   17, 20, 130, 167   \n",
    "Вычислите конечное потребление каждой отрасли, если объем валового выпуска первой отрасли увеличится вдвое, а второй не изменится   \n",
    "найдите в данном случае чистую продукцию отраслей. Найдите валовой выпуск,   \n",
    "если конечное потребление первой отрасли увеличилось до 120, а второй не изменилось.   "
   ]
  },
  {
   "cell_type": "code",
   "execution_count": 2,
   "metadata": {},
   "outputs": [],
   "source": [
    "x_1, x_2 = 100, 130\n",
    "X = np.array([[11, 30],\n",
    "              [17, 20]])\n",
    "vvp_1 = 141\n",
    "vvp_2 = 167              \n",
    "Y = np.array([[vvp_1 * 2], # вдвое\n",
    "              [vvp_2]])\n",
    "x_120 = 120"
   ]
  },
  {
   "cell_type": "code",
   "execution_count": 3,
   "metadata": {},
   "outputs": [
    {
     "data": {
      "text/plain": [
       "array([[0.07801418, 0.17964072],\n",
       "       [0.12056738, 0.11976048]])"
      ]
     },
     "execution_count": 3,
     "metadata": {},
     "output_type": "execute_result"
    }
   ],
   "source": [
    "A = X / np.array([[vvp_1, vvp_1],\n",
    "                    [vvp_2, vvp_2]]).T\n",
    "A                    "
   ]
  },
  {
   "cell_type": "code",
   "execution_count": 4,
   "metadata": {},
   "outputs": [
    {
     "data": {
      "text/plain": [
       "array([[ 0.92198582, -0.17964072],\n",
       "       [-0.12056738,  0.88023952]])"
      ]
     },
     "execution_count": 4,
     "metadata": {},
     "output_type": "execute_result"
    }
   ],
   "source": [
    "E_A = np.eye(2)-A\n",
    "E_A"
   ]
  },
  {
   "cell_type": "code",
   "execution_count": 5,
   "metadata": {},
   "outputs": [
    {
     "data": {
      "text/plain": [
       "array([[1.11435484, 0.22741935],\n",
       "       [0.15263441, 1.1672043 ]])"
      ]
     },
     "execution_count": 5,
     "metadata": {},
     "output_type": "execute_result"
    }
   ],
   "source": [
    "# 1) > 0, матрица продуктивна\n",
    "# A^-1\n",
    "E_A_inv = np.linalg.inv(E_A)\n",
    "E_A_inv"
   ]
  },
  {
   "cell_type": "code",
   "execution_count": 6,
   "metadata": {},
   "outputs": [
    {
     "data": {
      "text/plain": [
       "array([[22., 30.],\n",
       "       [34., 20.]])"
      ]
     },
     "execution_count": 6,
     "metadata": {},
     "output_type": "execute_result"
    }
   ],
   "source": [
    "B = A * Y.T\n",
    "B"
   ]
  },
  {
   "cell_type": "code",
   "execution_count": 7,
   "metadata": {},
   "outputs": [
    {
     "data": {
      "text/plain": [
       "array([226., 117.])"
      ]
     },
     "execution_count": 7,
     "metadata": {},
     "output_type": "execute_result"
    }
   ],
   "source": [
    "# 2)\n",
    "t2 = (Y.T - B.sum(axis=0))[0]\n",
    "t2"
   ]
  },
  {
   "cell_type": "code",
   "execution_count": 8,
   "metadata": {},
   "outputs": [
    {
     "data": {
      "text/plain": [
       "array([163.28709677, 170.05268817])"
      ]
     },
     "execution_count": 8,
     "metadata": {},
     "output_type": "execute_result"
    }
   ],
   "source": [
    "# 3)\n",
    "Y_ = np.array([x_120, x_2])  # первой стало 120(условие задачи)\n",
    "t3 = E_A_inv.dot(Y_)\n",
    "t3\n"
   ]
  },
  {
   "cell_type": "markdown",
   "metadata": {},
   "source": [
    "## Отчет"
   ]
  },
  {
   "cell_type": "code",
   "execution_count": 9,
   "metadata": {},
   "outputs": [
    {
     "name": "stdout",
     "output_type": "stream",
     "text": [
      "A =\n",
      " [[0.07801418 0.17964072]\n",
      " [0.12056738 0.11976048]]\n",
      "\n",
      "E - A =\n",
      " [[ 0.92198582 -0.17964072]\n",
      " [-0.12056738  0.88023952]]\n",
      "ответ на вопрос пункта 1:\n"
     ]
    },
    {
     "data": {
      "text/latex": [
       "$\\displaystyle (E-A)^{-1} =$"
      ],
      "text/plain": [
       "<IPython.core.display.Math object>"
      ]
     },
     "metadata": {},
     "output_type": "display_data"
    },
    {
     "name": "stdout",
     "output_type": "stream",
     "text": [
      "[[1.11435484 0.22741935]\n",
      " [0.15263441 1.1672043 ]]\n",
      "------------------------------------\n",
      "Y = [[282 167]]\n",
      "B =\n",
      " [[22. 30.]\n",
      " [34. 20.]]\n",
      "ответ на вопрос пункта 2:\n",
      "I = 282 - 22.0 - 34.0 = 226.0\n",
      "II = 167 - 30.0 - 20.0 = 117.0\n",
      "------------------------------------\n",
      "ответ на вопрос пункта 3:\n",
      "Y = [[1.11435484 0.22741935]\n",
      " [0.15263441 1.1672043 ]] * [120 130] = [163.28709677 170.05268817]\n"
     ]
    }
   ],
   "source": [
    "print(\"A =\\n\", A)\n",
    "print(\"\\nE - A =\\n\",E_A)\n",
    "print(\"ответ на вопрос пункта 1:\")\n",
    "display(Math(r\"(E-A)^{-1} =\"))\n",
    "print(E_A_inv)\n",
    "print(\"------------------------------------\")\n",
    "print(\"Y =\", Y.T)\n",
    "print(\"B =\\n\",B)\n",
    "print(\"ответ на вопрос пункта 2:\")\n",
    "print(f\"I = {Y.T[0][0]} - {B[0][0]} - {B[1][0]} = {t2[0]}\")\n",
    "print(f\"II = {Y.T[0][1]} - {B[0][1]} - {B[1][1]} = {t2[1]}\")\n",
    "print(\"------------------------------------\")\n",
    "print(\"ответ на вопрос пункта 3:\")\n",
    "print(\"Y =\",E_A_inv,\"*\",Y_, \"=\", t3)"
   ]
  }
 ],
 "metadata": {
  "interpreter": {
   "hash": "aee8b7b246df8f9039afb4144a1f6fd8d2ca17a180786b69acc140d282b71a49"
  },
  "kernelspec": {
   "display_name": "Python 3.9.9 64-bit",
   "language": "python",
   "name": "python3"
  },
  "language_info": {
   "codemirror_mode": {
    "name": "ipython",
    "version": 3
   },
   "file_extension": ".py",
   "mimetype": "text/x-python",
   "name": "python",
   "nbconvert_exporter": "python",
   "pygments_lexer": "ipython3",
   "version": "3.9.9"
  },
  "orig_nbformat": 4
 },
 "nbformat": 4,
 "nbformat_minor": 2
}
