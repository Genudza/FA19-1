{
 "cells": [
  {
   "cell_type": "markdown",
   "metadata": {},
   "source": [
    "## Задача 1 (15:40)\n",
    "$$F(x)=15x_1+6x_2+4x_3=> max  $$\n",
    "$$\\begin{cases}  \n",
    "3x_1+2x_2-x_3 <= 9\\\\\n",
    "5x_1-3x_2+4x_3<=25  \\end{cases}$$ "
   ]
  },
  {
   "cell_type": "markdown",
   "metadata": {},
   "source": [
    "$$9y_1+25y_2=>min$$\n",
    "$$\\begin{cases}  \n",
    "3y_1+5y_2>=15\\\\\n",
    "2y_1-3y_2>=6\\\\  \n",
    "-y_1+4y_2>=4\\end{cases}$$ "
   ]
  },
  {
   "cell_type": "markdown",
   "metadata": {},
   "source": [
    "<img src=\"t14/t1_1.png\" width=\"500\"/>\n",
    "<img src=\"t14/t1_2.png\" width=\"500\"/>"
   ]
  },
  {
   "cell_type": "markdown",
   "metadata": {},
   "source": [
    "$$\\begin{cases}  y_1  (3x_1+2x_2-x_3-9)=0 \\\\  \n",
    "y_2  (5x_1-3x_2+4x_3-25)=0\\\\\n",
    "x_1  (3y_1+5y_2-15)=0\\\\\n",
    "x_2  (2y_1-3y_2-6)=0\\\\\n",
    "x_3  (-y_1+4y_2-4)=0\\end{cases}   $$\n",
    "\n",
    "$$\\begin{cases}  \n",
    "y_1=7.2\\\\\n",
    "y_2=2.8\\end{cases}$$ \n",
    "$$F(x)= 9  7.2 + 25 * 2.8 = 134.8 $$\n",
    "точка (7.2, 2.8)   \n"
   ]
  },
  {
   "cell_type": "markdown",
   "metadata": {},
   "source": [
    "Подставляем значения `y`\n",
    "\n",
    "$$\\begin{cases}  \n",
    "3 * 7.2+5 * 2.8>=15 => 35.6 != 15 => x_1 = 0\\\\\n",
    "2 * 7.2-3 * 2.8>=6 => 6 = 6 => x_2 != 0\\\\\n",
    "-7.2+4 * 2.8>=4 => 4 = 4 => x_3 !=0\n",
    "\\end{cases}$$ \n"
   ]
  },
  {
   "cell_type": "markdown",
   "metadata": {},
   "source": [
    "$$\\begin{cases}\n",
    "2x_2-x_3-9=0\\\\\n",
    "-3x_2+4x_3-25=0\n",
    "\\end{cases}$$ \n",
    "\n",
    "$$\\begin{cases}\n",
    "x_2=12.2\\\\\n",
    "x_3=15.4\n",
    "\\end{cases}$$ \n",
    "\n",
    "$$ F(x)=15 * 0 + 6 * 12.2 + 4 * 15.4 = 134,8  $$"
   ]
  },
  {
   "cell_type": "markdown",
   "metadata": {},
   "source": [
    "## Задача 2(16:10)   \n",
    "\n",
    " \n",
    " \n",
    "\n",
    "$$F(x)=2x_1+3x_2+4x_3=>max  $$\n",
    "$$\\begin{cases}  \n",
    "x_1+2x_2+x_3<=10   \\\\\n",
    "-x_1+4x_2+x_4 <=8  \\end{cases}$$ \n",
    "$$10y_1+8y_2=>min  $$\n",
    "$$\\begin{cases}  \n",
    "y_1-y_2>=2   \\\\\n",
    "2y_1+4y_2>=3 \\\\  \n",
    "y_1>=4   \\\\\n",
    "y_2>=0 \\end{cases}$$ "
   ]
  },
  {
   "cell_type": "markdown",
   "metadata": {},
   "source": [
    "<img src=\"t14/t2_1.png\" width=\"500\"/>\n",
    "<img src=\"t14/t2_2.png\" width=\"500\"/>"
   ]
  },
  {
   "cell_type": "markdown",
   "metadata": {},
   "source": [
    "$$\\begin{cases}  y_1  (x_1+2x_2+x_3-10)=0 \\\\  \n",
    "y_2  (-x_1+4x_2+x_4-8)=0   \\\\\n",
    "x_1  (y_1-y_2-2)=0   \\\\\n",
    "x_2  (2y_1+4y_2-3)=0   \\\\\n",
    "x_3  (y_1-4)=0   \\\\\n",
    "x_4  y_2 = 0 \\end{cases}   $$\n",
    "\n",
    "$$\\begin{cases}  \n",
    "y_1=4\\\\\n",
    "y_2=0\\end{cases}$$ \n",
    "$$F(x)= 10 * 4 + 8 * 0 = 40$$\n",
    "точка (4, 0)   \n",
    "\n",
    "Подставляем значения `y` в систему  \n",
    "$$\\begin{cases}  4 - 0 >= 2 => 4 != 2 => x_1 = 0   \\\\\n",
    "2 * 4 + 4 * 0 >= 3 => 8 != 3 => x_2 = 0   \\\\\n",
    "4 >= 4 => 4 = 4 => x_3 != 0   \\\\\n",
    "0 >= 0 => 0 = 0 => x_4 != 0\\end{cases}   $$\n",
    "$$\\begin{cases} 0 + 2 * 0 + x_3 - 10 = 0 \\\\ -0 + 4 * 0 + x_4 - 8 = 0\\end{cases}$$\n",
    "Получили значения:\n",
    "$$\\begin{cases} x_3 = 10 \\\\ x_4 = 8\\end{cases}$$\n",
    "$$ F(x)= 2 * 0 + 3 * 0 + 4 * 10 = 40 $$"
   ]
  },
  {
   "cell_type": "markdown",
   "metadata": {},
   "source": [
    "## Задача 3(16:30)   \n",
    "$$ z = x_1+x_2 =>max $$\n",
    "$$\\begin{cases}  \n",
    "2x_1+x_2<=6\\\\\n",
    "2x_1+4x_2<=10\n",
    "\\end{cases}$$  \n",
    "\n",
    "$$\\begin{cases}  \n",
    "2x_1+x_2+x_3=6\\\\\n",
    "2x_1+4x_2+x_4=10\n",
    "\\end{cases}$$ \n",
    "\n",
    "| Б     | С  | $x_1$ | $x_2$   | $x_3$ | $x_4$ |\n",
    "|-------|----|-------|---------|-------|-------|\n",
    "| $x_3$ | 6  | 2     | 1       | 1     | 0     |\n",
    "| $x_4$ | 10 | 2     | <u>4<u> | 0     | 1     |\n",
    "| z     | 0  | -1    | -1      | 0     | 0     |\n",
    "\n",
    "$x_1$ и $x_2$ равны -1 => выбираем наибольший коэфф по модулю => 4\n",
    "\n",
    "$min(6:1, 10:4)=2.5$ \n",
    "\n",
    "Первый пересчет\n",
    "| Б     | С   | $x_1$     | $x_2$ | $x_3$ | $x_4$ |\n",
    "|-------|-----|-----------|-------|-------|-------|\n",
    "| $x_3$ | 3.5 | <u>1.5<u> | 0     | 1     | -0.25 |\n",
    "| $x_2$ | 2.5 | 0.5       | 1     | 0     | 0.25  |\n",
    "| z     | 2.5 | -0.5      | 0     | 0     | 0.25  |\n",
    "\n",
    "$min(3.5:1.5, 2.5:0.5)=2\\frac{1}{3}$ \n",
    "\n",
    "Второй пересчет\n",
    "| Б     | С              | $x_1$ | $x_2$ | $x_3$          | $x_4$          |\n",
    "|-------|----------------|-------|-------|----------------|----------------|\n",
    "| $x_1$ | $2\\frac{1}{3}$ | 1     | 0     | $\\frac{2}{3}$  | -$\\frac{1}{6}$ |\n",
    "| $x_2$ | $\\frac{4}{3}$  | 0     | 1     | -$\\frac{1}{3}$ | $\\frac{1}{3}$  |\n",
    "| z     | $\\frac{11}{3}$ | 0     | 0     | $\\frac{1}{3}$  | $\\frac{1}{6}$  |\n",
    "\n",
    "Отрицательных элементов нет => ОПР\n",
    "\n",
    "$X^{*}=(2\\frac{1}{3},\\frac{4}{3},0,0)$\n",
    "\n",
    "$z = 2\\frac{1}{3}+\\frac{4}{3}=3\\frac{2}{3}$"
   ]
  },
  {
   "cell_type": "markdown",
   "metadata": {},
   "source": [
    "# ДЗ стр 79 №(5, 11)"
   ]
  },
  {
   "cell_type": "markdown",
   "metadata": {},
   "source": [
    "### 5-ая задача\n",
    "<div style=\"text-align:center\">\n",
    "  <img src=\"t14/dz_t5.jpeg\" width=\"500\"/>\n",
    "</div>"
   ]
  },
  {
   "cell_type": "markdown",
   "metadata": {},
   "source": [
    "$$z = x_1 +154x_2 - 21x_3 \\rightarrow min$$\n",
    "\n",
    "$$\\begin{cases}  \n",
    "-13x_1+8x_2+5x_3>=-18\\\\\n",
    "7x_1+6x_2-13x_3>=20\n",
    "\\end{cases}$$ "
   ]
  },
  {
   "cell_type": "markdown",
   "metadata": {},
   "source": [
    "$$-18y_1+20y_2 \\rightarrow max$$\n",
    "$$\\begin{cases}  \n",
    "-13y_1+7y_2<=1\\\\\n",
    "8y_1+6y_2<=154\\\\\n",
    "5y_1-13y_2<=-21\\end{cases}$$ "
   ]
  },
  {
   "cell_type": "markdown",
   "metadata": {},
   "source": [
    "<div style=\"text-align:center\">\n",
    "  <img src=\"t14/t5_1.png\" width=\"500\"/>\n",
    "  <img src=\"t14/t5_2.png\" width=\"500\"/>\n",
    "</div>\n",
    "\n",
    "<!-- <img src=\"t14/dz_t5_1.png\" width=\"500\"/>\n",
    "<img src=\"t14/dz_t5_2.png\" width=\"500\"/> -->"
   ]
  },
  {
   "cell_type": "markdown",
   "metadata": {},
   "source": [
    "<!-- $$\\begin{cases}  \n",
    "y_1 * (-13x_1+8x_2+5x_3+18)=0\\\\  \n",
    "y_2 * (7x_1+6x_2-13x_3-20)=0\\\\\n",
    "x_1 * (-13y_1+7y_2-1)=0\\\\\n",
    "x_2 * (8y_1+6y_2-154)=0\\\\\n",
    "x_3 * (5y_1-13y_2+21)=0\\end{cases}   $$ -->\n",
    "\n",
    "$$\\begin{cases}  \n",
    "y_1=8\\\\\n",
    "y_2=15\\end{cases}$$ \n",
    "$$F(x)= -18 * 8 + 20 * 15 = 156 $$\n",
    "точка (8, 15) \n"
   ]
  },
  {
   "cell_type": "markdown",
   "metadata": {},
   "source": [
    "Подставляем значения `y` в систему\n",
    "$$\\begin{cases}  \n",
    "-13 * 8 + 7 * 15 <= 1 =>  1 = 1 => x_1 != 0\\\\\n",
    "8 * 8 + 6 * 15 <= 154 => 154 = 154 => x_2 != 0\\\\\n",
    "5 * 8 - 13 * 15 <= -21 => - 155 != -21 => x_3 = 0\n",
    "\\end{cases}$$"
   ]
  },
  {
   "cell_type": "markdown",
   "metadata": {},
   "source": [
    "$$\\begin{cases}  \n",
    "-13x_1+8x_2+5*0+18=0\\\\\n",
    "7x_1+6x_2-13*0-20=0\n",
    "\\end{cases}$$ \n",
    "\n",
    "$$\\begin{cases}  \n",
    "x_1=2\\\\\n",
    "x_2=1\\\\\n",
    "x_3=0\n",
    "\\end{cases}$$\n",
    "\n",
    "$X^{*}=(2,1,0)$\n",
    "\n",
    "$z = 2 + 154*1 = 156$"
   ]
  },
  {
   "cell_type": "markdown",
   "metadata": {},
   "source": [
    "### 11-ая задача\n",
    "\n",
    "\n",
    "<div style=\"text-align:center\">\n",
    "  <img src=\"t14/dz_t11.jpeg\" width=\"500\"/>  \n",
    "</div>"
   ]
  },
  {
   "cell_type": "markdown",
   "metadata": {},
   "source": [
    "$$z = x_1+3x_2+3x_3+x_4+x_5+7 \\rightarrow max$$\n",
    "\n",
    "$$\\begin{cases}  \n",
    "4x_1+3x_2+x_3-2x_5=5\\\\\n",
    "2x_1+2x_2+x_4+2x_5=2\n",
    "\\end{cases}$$ "
   ]
  },
  {
   "cell_type": "markdown",
   "metadata": {},
   "source": [
    "| Б     | С  | $x_1$ | $x_2$ | $x_3$ | $x_4$ | $x_5$     |\n",
    "|-------|----|-------|-------|-------|-------|-----------|\n",
    "| $x_3$ | 5  | 4     | 3     | 1     | 0     | -2        |\n",
    "| $x_4$ | 2  | 2     | 2     | 0     | 1     | <u>2</u>  |\n",
    "| z     | 17 | 13    | 8     | 0     | 0     | -5        |\n",
    "\n",
    "$min(-, 2:2) = 1$\n",
    "\n",
    "Первый пересчет\n",
    "| Б     | С  | $x_1$ | $x_2$ | $x_3$ | $x_4$ | $x_5$ |\n",
    "|-------|----|-------|-------|-------|-------|-------|\n",
    "| $x_3$ | 7  | 6     | 5     | 1     | 1     | 0     |\n",
    "| $x_5$ | 1  | 1     | 1     | 0     | 0.5   | 1     |\n",
    "| z     | 22 | 18    | 13    | 0     | 2.5   | 0     |\n",
    "\n",
    "Отрицательных элементов нет => ОПР\n",
    "\n",
    "$X^{*}=(0,0,7,0,1)$\n",
    "\n",
    "$5y_1+2y_2+7\\rightarrow min$\n",
    "$\\begin{cases}  \n",
    "4y_1+2y_2>=1\\\\\n",
    "3y_1+2y_2>=3\\\\\n",
    "y_1>=3\\\\\n",
    "y_2>=1\\\\\n",
    "-2y_1+2y_2>=1\n",
    "\\end{cases}$\n",
    "\n",
    "$P=\\begin{bmatrix}1 & 0 \\\\-2 & 2 \\end{bmatrix}$\n",
    "\n",
    "$c_{баз}=(3,1)$\n",
    "\n",
    "$Y^{*}=\\begin{bmatrix}3 & 1\\end{bmatrix}\\begin{bmatrix}1 & -2 \\\\0 & 2 \\end{bmatrix}^{-1}=\\begin{bmatrix}3 & \\frac{7}{2}\\end{bmatrix}$\n",
    "\n",
    "$T_{min}=T(Y^{*})= 5 * 3 + 2 * \\frac{7}{2} + 7 = 29$"
   ]
  },
  {
   "cell_type": "markdown",
   "metadata": {},
   "source": [
    "# Решение графическим методом\n",
    "<div style=\"text-align:center\">\n",
    "  <img src=\"t14/t11.png\" width=\"500\"/>\n",
    "</div>\n",
    "<!-- <img src=\"t14/dz_t11_1.png\" width=\"500\"/>\n",
    "<img src=\"t14/dz_t11_2.png\" width=\"500\"/> -->"
   ]
  },
  {
   "cell_type": "markdown",
   "metadata": {},
   "source": [
    "$$5y_1+2y_2+7\\rightarrow min$$\n",
    "$$\\begin{cases}  \n",
    "4y_1+2y_2>=1\\\\\n",
    "3y_1+2y_2>=3\\\\\n",
    "y_1>=3\\\\\n",
    "y_2>=1\\\\\n",
    "-2y_1+2y_2>=1\n",
    "\\end{cases}$$ "
   ]
  },
  {
   "cell_type": "markdown",
   "metadata": {},
   "source": [
    "$$\\begin{cases}  \n",
    "y_1=3\\\\\n",
    "y_2=3.5\\end{cases}$$ \n",
    "$$F(x)= 5 * 3 + 2 * 3.5 + 7 = 29 $$\n",
    "точка (3, 3.5) "
   ]
  },
  {
   "cell_type": "markdown",
   "metadata": {},
   "source": [
    "Подставляем значения `y` в систему\n",
    "$$\\begin{cases}  \n",
    "4 * 3 + 2 * 3.5 >= 1 =>  19 != 1 => x_1 = 0\\\\\n",
    "3 * 3 + 2 * 3.5 >= 3 => 16 != 3 => x_2 = 0\\\\\n",
    "3 = 3 => x_3 != 0\\\\\n",
    "3.5 != 1 => x_4 = 0\\\\\n",
    "-2 * 3 + 2 * 3.5 >= 1 => 1 = 1 => x_5 != 0\n",
    "\\end{cases}$$\n",
    "\n",
    "$$\\begin{cases}  \n",
    "x_1 = 0\\\\\n",
    "x_2 = 0\\\\\n",
    "x_3 != 0\\\\\n",
    "x_4 = 0\\\\\n",
    "x_5 != 0\n",
    "\\end{cases}$$\n",
    "\n",
    "$$\\begin{cases}  \n",
    "4*0+3*0+x_3-2x_5=5\\\\\n",
    "2*0+2*0+0+2x_5=2\n",
    "\\end{cases}$$ \n",
    "\n",
    "$$\\begin{cases}  \n",
    "x_3=7\\\\\n",
    "x_5=1\n",
    "\\end{cases}$$ \n",
    "\n",
    "$X^{*}=(0,0,7,0,1)$\n",
    "\n",
    "$z = 0+3*0+3*7+0+1+7=29$"
   ]
  }
 ],
 "metadata": {
  "interpreter": {
   "hash": "aee8b7b246df8f9039afb4144a1f6fd8d2ca17a180786b69acc140d282b71a49"
  },
  "kernelspec": {
   "display_name": "Python 3.9.9 64-bit",
   "language": "python",
   "name": "python3"
  },
  "language_info": {
   "codemirror_mode": {
    "name": "ipython",
    "version": 3
   },
   "file_extension": ".py",
   "mimetype": "text/x-python",
   "name": "python",
   "nbconvert_exporter": "python",
   "pygments_lexer": "ipython3",
   "version": "3.9.9"
  },
  "orig_nbformat": 4
 },
 "nbformat": 4,
 "nbformat_minor": 2
}
