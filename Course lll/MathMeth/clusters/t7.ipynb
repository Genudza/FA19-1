{
 "cells": [
  {
   "cell_type": "code",
   "execution_count": 1,
   "metadata": {},
   "outputs": [],
   "source": [
    "import numpy as np\n",
    "import sympy as sp\n",
    "from IPython.display import display, Math"
   ]
  },
  {
   "cell_type": "markdown",
   "metadata": {},
   "source": [
    "p=1.2, FC=300 в день, VC=0.9 за штуку, n=30\n",
    "- A) найти точку безубыточности, если считается, что в месяце 30 дней\n",
    "- Б) фабрика может купить новый станок; при этом FC вырастут до 360 в день,    \n",
    "а переменные снизятся до 0.8 за штуку.Выгодно ли это?"
   ]
  },
  {
   "cell_type": "code",
   "execution_count": 3,
   "metadata": {},
   "outputs": [],
   "source": [
    "p=1.2\n",
    "FC=300\n",
    "VC=0.9\n",
    "n=30\n",
    "\n",
    "FC_b = 360\n",
    "VC_b = 0.8\n",
    "x = sp.symbols(\"x\")"
   ]
  },
  {
   "cell_type": "code",
   "execution_count": 13,
   "metadata": {},
   "outputs": [
    {
     "data": {
      "text/latex": [
       "$\\displaystyle 30000.0$"
      ],
      "text/plain": [
       "30000.0000000000"
      ]
     },
     "execution_count": 13,
     "metadata": {},
     "output_type": "execute_result"
    }
   ],
   "source": [
    "x_val = sp.solve(sp.Eq(p*x, FC*n+VC*x))[0]\n",
    "x_val"
   ]
  },
  {
   "cell_type": "code",
   "execution_count": 26,
   "metadata": {},
   "outputs": [
    {
     "data": {
      "text/latex": [
       "$\\displaystyle 27000.0$"
      ],
      "text/plain": [
       "27000.0000000000"
      ]
     },
     "execution_count": 26,
     "metadata": {},
     "output_type": "execute_result"
    }
   ],
   "source": [
    "x_val_b = sp.solve(sp.Eq(p*x, FC_b*n+VC_b*x))[0]\n",
    "x_val_b"
   ]
  },
  {
   "cell_type": "markdown",
   "metadata": {},
   "source": [
    "## Отчет"
   ]
  },
  {
   "cell_type": "code",
   "execution_count": 28,
   "metadata": {},
   "outputs": [
    {
     "data": {
      "text/latex": [
       "$\\displaystyle 1.2 x = 0.9 x + 9000$"
      ],
      "text/plain": [
       "Eq(1.2*x, 0.9*x + 9000)"
      ]
     },
     "metadata": {},
     "output_type": "display_data"
    },
    {
     "name": "stdout",
     "output_type": "stream",
     "text": [
      "x = 30000.0000000000\n"
     ]
    },
    {
     "data": {
      "text/latex": [
       "$\\displaystyle 1.2 x = 0.8 x + 10800$"
      ],
      "text/plain": [
       "Eq(1.2*x, 0.8*x + 10800)"
      ]
     },
     "metadata": {},
     "output_type": "display_data"
    },
    {
     "name": "stdout",
     "output_type": "stream",
     "text": [
      "x = 27000.0000000000\n"
     ]
    }
   ],
   "source": [
    "display(sp.Eq(p*x, FC*n+VC*x))\n",
    "print(\"x =\", x_val)\n",
    "display(sp.Eq(p*x, FC_b*n+VC_b*x))\n",
    "print(\"x =\", x_val_b)"
   ]
  }
 ],
 "metadata": {
  "interpreter": {
   "hash": "aee8b7b246df8f9039afb4144a1f6fd8d2ca17a180786b69acc140d282b71a49"
  },
  "kernelspec": {
   "display_name": "Python 3.9.9 64-bit",
   "language": "python",
   "name": "python3"
  },
  "language_info": {
   "codemirror_mode": {
    "name": "ipython",
    "version": 3
   },
   "file_extension": ".py",
   "mimetype": "text/x-python",
   "name": "python",
   "nbconvert_exporter": "python",
   "pygments_lexer": "ipython3",
   "version": "3.9.9"
  },
  "orig_nbformat": 4
 },
 "nbformat": 4,
 "nbformat_minor": 2
}
