{
 "cells": [
  {
   "cell_type": "code",
   "execution_count": 1,
   "metadata": {},
   "outputs": [],
   "source": [
    "import numpy as np\n",
    "import sympy as sp\n",
    "from IPython.display import display, Math"
   ]
  },
  {
   "cell_type": "markdown",
   "metadata": {},
   "source": [
    "p=1200, FC=24000 в месяц, VC=800 за лампу\n",
    "- A) найти точку безубыточности\n",
    "- Б) сколько ламп фабрика должна произвести и продать,   \n",
    "чтобы получить 15% дохода на деньги, вложенные в фиксированные затраты"
   ]
  },
  {
   "cell_type": "code",
   "execution_count": 11,
   "metadata": {},
   "outputs": [],
   "source": [
    "p=1200\n",
    "FC=24000\n",
    "VC=800\n",
    "perc_15 = 0.15\n",
    "x = sp.symbols(\"x\")"
   ]
  },
  {
   "cell_type": "code",
   "execution_count": 8,
   "metadata": {},
   "outputs": [],
   "source": [
    "x_val = sp.solve(sp.Eq(FC+VC*x, p*x))[0]"
   ]
  },
  {
   "cell_type": "code",
   "execution_count": 26,
   "metadata": {},
   "outputs": [
    {
     "data": {
      "text/latex": [
       "$\\displaystyle 69.0$"
      ],
      "text/plain": [
       "69.0000000000000"
      ]
     },
     "execution_count": 26,
     "metadata": {},
     "output_type": "execute_result"
    }
   ],
   "source": [
    "x_val_15 = sp.solve(sp.Eq(p*x-FC-VC*x, FC*perc_15))[0]\n",
    "x_val_15"
   ]
  },
  {
   "cell_type": "markdown",
   "metadata": {},
   "source": [
    "## Отчет"
   ]
  },
  {
   "cell_type": "code",
   "execution_count": 27,
   "metadata": {},
   "outputs": [
    {
     "data": {
      "text/latex": [
       "$\\displaystyle 800 x + 24000 = 1200 x$"
      ],
      "text/plain": [
       "Eq(800*x + 24000, 1200*x)"
      ]
     },
     "metadata": {},
     "output_type": "display_data"
    },
    {
     "name": "stdout",
     "output_type": "stream",
     "text": [
      "x = 60\n"
     ]
    },
    {
     "data": {
      "text/latex": [
       "$\\displaystyle 400 x - 24000 = 3600.0$"
      ],
      "text/plain": [
       "Eq(400*x - 24000, 3600.0)"
      ]
     },
     "metadata": {},
     "output_type": "display_data"
    },
    {
     "name": "stdout",
     "output_type": "stream",
     "text": [
      "x = 69.0000000000000\n"
     ]
    }
   ],
   "source": [
    "display(sp.Eq(FC+VC*x, p*x))\n",
    "print(\"x =\", x_val)\n",
    "display(sp.Eq(p*x-FC-VC*x, FC*perc_15))\n",
    "print(\"x =\", x_val_15)\n"
   ]
  },
  {
   "cell_type": "code",
   "execution_count": 7,
   "metadata": {},
   "outputs": [
    {
     "data": {
      "text/latex": [
       "$\\displaystyle 60$"
      ],
      "text/plain": [
       "60"
      ]
     },
     "execution_count": 7,
     "metadata": {},
     "output_type": "execute_result"
    }
   ],
   "source": []
  }
 ],
 "metadata": {
  "interpreter": {
   "hash": "aee8b7b246df8f9039afb4144a1f6fd8d2ca17a180786b69acc140d282b71a49"
  },
  "kernelspec": {
   "display_name": "Python 3.9.9 64-bit",
   "language": "python",
   "name": "python3"
  },
  "language_info": {
   "codemirror_mode": {
    "name": "ipython",
    "version": 3
   },
   "file_extension": ".py",
   "mimetype": "text/x-python",
   "name": "python",
   "nbconvert_exporter": "python",
   "pygments_lexer": "ipython3",
   "version": "3.9.9"
  },
  "orig_nbformat": 4
 },
 "nbformat": 4,
 "nbformat_minor": 2
}
