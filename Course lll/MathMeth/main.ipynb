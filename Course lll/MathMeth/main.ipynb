{
 "cells": [
  {
   "cell_type": "code",
   "execution_count": 1,
   "metadata": {},
   "outputs": [],
   "source": [
    "import numpy as np\n",
    "import sympy as sp"
   ]
  },
  {
   "cell_type": "markdown",
   "metadata": {
    "pycharm": {
     "name": "#%% md\n"
    }
   },
   "source": [
    "<img src=\"img/00_elastic.png\" width=\"500\"/>"
   ]
  },
  {
   "cell_type": "markdown",
   "metadata": {},
   "source": [
    "### Формулы и термины:\n",
    "\n",
    "R - выручка\n",
    "\n",
    "C - затраты(издержки)\n",
    "\n",
    "E_d - ?\n",
    "\n",
    "E_r - ?"
   ]
  },
  {
   "cell_type": "code",
   "execution_count": 163,
   "metadata": {
    "pycharm": {
     "name": "#%%\n"
    }
   },
   "outputs": [
    {
     "data": {
      "text/plain": [
       "(x + 40, Eq(3*p + sqrt(x), 50))"
      ]
     },
     "execution_count": 163,
     "metadata": {},
     "output_type": "execute_result"
    }
   ],
   "source": [
    "# Дано\n",
    "p, x = sp.symbols('p, x')\n",
    "C = 40 + x  # расходы C(x)\n",
    "f = sp.Eq(3 * p + sp.sqrt(x), 50)  # уравнение Спроса\n",
    "C, f"
   ]
  },
  {
   "cell_type": "code",
   "execution_count": 164,
   "metadata": {
    "pycharm": {
     "name": "#%%\n"
    }
   },
   "outputs": [
    {
     "data": {
      "text/latex": [
       "$\\displaystyle p x$"
      ],
      "text/plain": [
       "p*x"
      ]
     },
     "execution_count": 164,
     "metadata": {},
     "output_type": "execute_result"
    }
   ],
   "source": [
    "R = p * x  # Выручка\n",
    "R"
   ]
  },
  {
   "cell_type": "code",
   "execution_count": 165,
   "metadata": {
    "pycharm": {
     "name": "#%%\n"
    }
   },
   "outputs": [
    {
     "data": {
      "text/latex": [
       "$\\displaystyle \\left(3 p - 50\\right)^{2}$"
      ],
      "text/plain": [
       "(3*p - 50)**2"
      ]
     },
     "execution_count": 165,
     "metadata": {},
     "output_type": "execute_result"
    }
   ],
   "source": [
    "x_val = sp.solve(f, x)[0]  # функция Спроса D(p)\n",
    "x_val"
   ]
  },
  {
   "cell_type": "code",
   "execution_count": 166,
   "metadata": {
    "pycharm": {
     "name": "#%%\n"
    }
   },
   "outputs": [
    {
     "data": {
      "text/latex": [
       "$\\displaystyle p \\left(3 p - 50\\right)^{2}$"
      ],
      "text/plain": [
       "p*(3*p - 50)**2"
      ]
     },
     "execution_count": 166,
     "metadata": {},
     "output_type": "execute_result"
    }
   ],
   "source": [
    "R = R.subs({x: x_val}) # замена x на значение\n",
    "R"
   ]
  },
  {
   "cell_type": "code",
   "execution_count": 167,
   "metadata": {
    "pycharm": {
     "name": "#%%\n"
    }
   },
   "outputs": [
    {
     "data": {
      "text/latex": [
       "$\\displaystyle p \\left(18 p - 300\\right) + \\left(3 p - 50\\right)^{2}$"
      ],
      "text/plain": [
       "p*(18*p - 300) + (3*p - 50)**2"
      ]
     },
     "execution_count": 167,
     "metadata": {},
     "output_type": "execute_result"
    }
   ],
   "source": [
    "R_diff = R.diff()  # максимум прибыли \n",
    "# производная по p\n",
    "R_diff"
   ]
  },
  {
   "cell_type": "code",
   "execution_count": 168,
   "metadata": {
    "pycharm": {
     "name": "#%%\n"
    }
   },
   "outputs": [
    {
     "data": {
      "text/latex": [
       "$\\displaystyle -800$"
      ],
      "text/plain": [
       "-800"
      ]
     },
     "execution_count": 168,
     "metadata": {},
     "output_type": "execute_result"
    }
   ],
   "source": [
    "# Решаем уравнение при # p=10\n",
    "TR_diff_10 = R_diff.subs({p: 10})\n",
    "TR_diff_10"
   ]
  },
  {
   "cell_type": "code",
   "execution_count": 169,
   "metadata": {
    "pycharm": {
     "name": "#%%\n"
    }
   },
   "outputs": [
    {
     "data": {
      "text/latex": [
       "$\\displaystyle \\frac{6 p}{3 p - 50}$"
      ],
      "text/plain": [
       "6*p/(3*p - 50)"
      ]
     },
     "execution_count": 169,
     "metadata": {},
     "output_type": "execute_result"
    }
   ],
   "source": [
    "# эластичность Спроса\n",
    "# E_d = D' * p / D\n",
    "E_d = x_val.diff() * p / x_val\n",
    "E_d = sp.simplify(E_d)\n",
    "E_d"
   ]
  },
  {
   "cell_type": "code",
   "execution_count": 170,
   "metadata": {
    "pycharm": {
     "name": "#%%\n"
    }
   },
   "outputs": [
    {
     "data": {
      "text/latex": [
       "$\\displaystyle \\frac{6 p}{3 p - 50} + 1$"
      ],
      "text/plain": [
       "6*p/(3*p - 50) + 1"
      ]
     },
     "execution_count": 170,
     "metadata": {},
     "output_type": "execute_result"
    }
   ],
   "source": [
    "# эластичность Выручки\n",
    "# E_r = R' * p / R или E_r = 1 + E_d\n",
    "E_r = 1 + E_d\n",
    "E_r"
   ]
  },
  {
   "cell_type": "code",
   "execution_count": 171,
   "metadata": {
    "pycharm": {
     "name": "#%%\n"
    }
   },
   "outputs": [
    {
     "data": {
      "text/latex": [
       "$\\displaystyle p \\left(3 p - 50\\right)^{2} - x - 40$"
      ],
      "text/plain": [
       "p*(3*p - 50)**2 - x - 40"
      ]
     },
     "execution_count": 171,
     "metadata": {},
     "output_type": "execute_result"
    }
   ],
   "source": [
    "# Прибыль\n",
    "P = R - C\n",
    "P"
   ]
  },
  {
   "cell_type": "code",
   "execution_count": 172,
   "metadata": {
    "pycharm": {
     "name": "#%%\n"
    }
   },
   "outputs": [
    {
     "data": {
      "text/latex": [
       "$\\displaystyle p \\left(3 p - 50\\right)^{2} - \\left(3 p - 50\\right)^{2} - 40$"
      ],
      "text/plain": [
       "p*(3*p - 50)**2 - (3*p - 50)**2 - 40"
      ]
     },
     "execution_count": 172,
     "metadata": {},
     "output_type": "execute_result"
    }
   ],
   "source": [
    "P = P.subs({x: x_val})\n",
    "P"
   ]
  },
  {
   "cell_type": "code",
   "execution_count": 173,
   "metadata": {
    "pycharm": {
     "name": "#%%\n"
    }
   },
   "outputs": [
    {
     "data": {
      "text/latex": [
       "$\\displaystyle p \\left(18 p - 300\\right) - 18 p + \\left(3 p - 50\\right)^{2} + 300$"
      ],
      "text/plain": [
       "p*(18*p - 300) - 18*p + (3*p - 50)**2 + 300"
      ]
     },
     "execution_count": 173,
     "metadata": {},
     "output_type": "execute_result"
    }
   ],
   "source": [
    "P_diff = P.diff()\n",
    "P_diff"
   ]
  },
  {
   "cell_type": "code",
   "execution_count": 174,
   "metadata": {
    "pycharm": {
     "name": "#%%\n"
    }
   },
   "outputs": [
    {
     "data": {
      "text/latex": [
       "$\\displaystyle \\frac{56}{9}$"
      ],
      "text/plain": [
       "56/9"
      ]
     },
     "execution_count": 174,
     "metadata": {},
     "output_type": "execute_result"
    }
   ],
   "source": [
    "p_val = sp.solve(sp.Eq(0, P_diff))[0]\n",
    "p_val"
   ]
  },
  {
   "cell_type": "code",
   "execution_count": 175,
   "metadata": {},
   "outputs": [
    {
     "name": "stdout",
     "output_type": "stream",
     "text": [
      "x = (3*p - 50)**2\n",
      "R' = p*(18*p - 300) + (3*p - 50)**2\n",
      "Предельная выручка в точке p=10: -800\n"
     ]
    }
   ],
   "source": [
    "# 1\n",
    "print(f'x = {x_val}')\n",
    "print(f'R\\' = {R_diff}')\n",
    "print(f\"Предельная выручка в точке p=10: {TR_diff_10}\")\n"
   ]
  },
  {
   "cell_type": "code",
   "execution_count": 176,
   "metadata": {},
   "outputs": [
    {
     "name": "stdout",
     "output_type": "stream",
     "text": [
      "E_d = 6*p/(3*p - 50)\n",
      "E_d(10) = -3\n",
      "E_r=6*p/(3*p - 50) + 1\n",
      "E_r(10)=-2\n"
     ]
    }
   ],
   "source": [
    "# 2\n",
    "print(f'E_d = {E_d}')\n",
    "print(f'E_d(10) = {E_d.subs({p: 10})}')\n",
    "\n",
    "print(f'E_r={E_r}')\n",
    "print(f'E_r(10)={E_r.subs({p: 10})}')\n"
   ]
  },
  {
   "cell_type": "code",
   "execution_count": 177,
   "metadata": {},
   "outputs": [
    {
     "name": "stdout",
     "output_type": "stream",
     "text": [
      "C(x) = x + 40\n",
      "p=6.22\n",
      "P_max = 5087.06\n",
      "x = 981.78\n"
     ]
    }
   ],
   "source": [
    "# 3\n",
    "\n",
    "print(f'C(x) = {C}')\n",
    "print(f'p = {p_val.round(2)}')\n",
    "print(f'P_max = {P.subs({p: p_val}).round(2)}')\n",
    "print(f'x = {x_val.subs({p: p_val}).round(2)}')\n"
   ]
  },
  {
   "cell_type": "markdown",
   "metadata": {},
   "source": [
    "<img src=\"img/t2.png\" width=\"500\"/>"
   ]
  },
  {
   "cell_type": "code",
   "execution_count": 178,
   "metadata": {},
   "outputs": [],
   "source": [
    "x = sp.Symbol('x')\n",
    "p_D = -2*x + 250\n",
    "p_S = x + 100\n"
   ]
  },
  {
   "cell_type": "code",
   "execution_count": 179,
   "metadata": {},
   "outputs": [
    {
     "data": {
      "text/latex": [
       "$\\displaystyle 50$"
      ],
      "text/plain": [
       "50"
      ]
     },
     "execution_count": 179,
     "metadata": {},
     "output_type": "execute_result"
    }
   ],
   "source": [
    "# 1\n",
    "sp.solve(sp.Eq(p_D, p_S), x)[0]"
   ]
  },
  {
   "cell_type": "code",
   "execution_count": 180,
   "metadata": {},
   "outputs": [
    {
     "data": {
      "text/latex": [
       "$\\displaystyle 46.67$"
      ],
      "text/plain": [
       "46.67"
      ]
     },
     "execution_count": 180,
     "metadata": {},
     "output_type": "execute_result"
    }
   ],
   "source": [
    "# 2\n",
    "p_S_delta = p_S + 10\n",
    "round(sp.solve(sp.Eq(p_D, p_S_delta), x)[0], 2)\n"
   ]
  },
  {
   "cell_type": "code",
   "execution_count": 181,
   "metadata": {},
   "outputs": [
    {
     "data": {
      "text/latex": [
       "$\\displaystyle 51.67$"
      ],
      "text/plain": [
       "51.67"
      ]
     },
     "execution_count": 181,
     "metadata": {},
     "output_type": "execute_result"
    }
   ],
   "source": [
    "# 3\n",
    "p_D_delta = p_D + 5\n",
    "round(sp.solve(sp.Eq(p_D_delta, p_S), x)[0], 2)"
   ]
  },
  {
   "cell_type": "code",
   "execution_count": 182,
   "metadata": {},
   "outputs": [
    {
     "data": {
      "text/latex": [
       "$\\displaystyle 3 x + z = 150$"
      ],
      "text/plain": [
       "Eq(3*x + z, 150)"
      ]
     },
     "execution_count": 182,
     "metadata": {},
     "output_type": "execute_result"
    }
   ],
   "source": [
    "# 4\n",
    "z = sp.Symbol('z')\n",
    "\n",
    "res = sp.simplify(sp.Eq(p_D, p_S+z))\n",
    "res"
   ]
  },
  {
   "cell_type": "code",
   "execution_count": 183,
   "metadata": {},
   "outputs": [],
   "source": [
    "# x*z => max"
   ]
  },
  {
   "cell_type": "code",
   "execution_count": 184,
   "metadata": {},
   "outputs": [
    {
     "name": "stdout",
     "output_type": "stream",
     "text": [
      "x = 25\n"
     ]
    }
   ],
   "source": [
    "x_val = sp.solve(sp.Eq((150*x-3*x**2).diff(), 0))[0]\n",
    "print(f\"x = {x_val}\")"
   ]
  },
  {
   "cell_type": "markdown",
   "metadata": {},
   "source": [
    "<img src=\"img/t3.png\" width=\"500\"/>"
   ]
  },
  {
   "cell_type": "markdown",
   "metadata": {},
   "source": [
    "### Инфа:\n",
    "- Субсидия — выплаты, предоставляемые за счёт государственного или местного бюджета, а также выплаты из специальных фондов для юридических и физических лиц, местных органов власти, других государств."
   ]
  },
  {
   "cell_type": "code",
   "execution_count": 185,
   "metadata": {
    "collapsed": false,
    "pycharm": {
     "name": "#%%\n"
    }
   },
   "outputs": [],
   "source": [
    "x = sp.Symbol('x')\n",
    "t = sp.Symbol('t') # налог\n",
    "p_D = -x + 100\n",
    "p_S = 3 * x + 20"
   ]
  },
  {
   "cell_type": "code",
   "execution_count": 186,
   "metadata": {
    "collapsed": false,
    "pycharm": {
     "name": "#%%\n"
    }
   },
   "outputs": [
    {
     "data": {
      "text/latex": [
       "$\\displaystyle 20$"
      ],
      "text/plain": [
       "20"
      ]
     },
     "execution_count": 186,
     "metadata": {},
     "output_type": "execute_result"
    }
   ],
   "source": [
    "# 1\n",
    "sp.solve(sp.Eq(p_D, p_S), x)[0]"
   ]
  },
  {
   "cell_type": "code",
   "execution_count": 187,
   "metadata": {
    "collapsed": false,
    "pycharm": {
     "name": "#%%\n"
    }
   },
   "outputs": [
    {
     "data": {
      "text/latex": [
       "$\\displaystyle 20$"
      ],
      "text/plain": [
       "20"
      ]
     },
     "execution_count": 187,
     "metadata": {},
     "output_type": "execute_result"
    }
   ],
   "source": [
    "# 2\n",
    "sp.solve(sp.Eq(p_D, p_S + t), t)[0].subs({x: 15})"
   ]
  },
  {
   "cell_type": "code",
   "execution_count": 188,
   "metadata": {
    "collapsed": false,
    "pycharm": {
     "name": "#%%\n"
    }
   },
   "outputs": [
    {
     "data": {
      "text/latex": [
       "$\\displaystyle 16$"
      ],
      "text/plain": [
       "16"
      ]
     },
     "execution_count": 188,
     "metadata": {},
     "output_type": "execute_result"
    }
   ],
   "source": [
    "# 3\n",
    "s = 384 / x\n",
    "x_val = max(sp.solve(sp.Eq(p_D, p_S - s), x)) #24\n",
    "s.subs({x: x_val}) # субсидии"
   ]
  },
  {
   "cell_type": "markdown",
   "metadata": {
    "collapsed": false,
    "pycharm": {
     "name": "#%%\n"
    }
   },
   "source": [
    "<img src=\"img/t4.png\" width=\"500\"/>"
   ]
  },
  {
   "cell_type": "code",
   "execution_count": 480,
   "metadata": {},
   "outputs": [],
   "source": [
    "x1, x2 = sp.symbols('x_1, x_2')\n",
    "p_1, p_2 = sp.symbols('p_1, p_2')"
   ]
  },
  {
   "cell_type": "code",
   "execution_count": 481,
   "metadata": {},
   "outputs": [],
   "source": [
    "def express(a, b, name):\n",
    "    # выразить одну через другую\n",
    "    sym = sp.symbols(name)\n",
    "    sol = sp.solve(a-sym, b)\n",
    "    assert len(sol) == 1\n",
    "    return (sym, sol[0])"
   ]
  },
  {
   "cell_type": "code",
   "execution_count": 482,
   "metadata": {},
   "outputs": [],
   "source": [
    "x_1 = 70 - p_1\n",
    "x_2 = 76 - 2*p_2\n"
   ]
  },
  {
   "cell_type": "code",
   "execution_count": 483,
   "metadata": {},
   "outputs": [
    {
     "data": {
      "text/plain": [
       "(70 - x_1, 38 - x_2/2)"
      ]
     },
     "execution_count": 483,
     "metadata": {},
     "output_type": "execute_result"
    }
   ],
   "source": [
    "p1 = express(x_1, p_1, \"x_1\")[1]\n",
    "p2 = express(x_2, p_2, \"x_2\")[1]\n",
    "p1, p2"
   ]
  },
  {
   "cell_type": "code",
   "execution_count": 484,
   "metadata": {},
   "outputs": [
    {
     "data": {
      "text/latex": [
       "$\\displaystyle 4 x_{1}^{2} + 5 x_{1} x_{2} + x_{2}^{2}$"
      ],
      "text/plain": [
       "4*x_1**2 + 5*x_1*x_2 + x_2**2"
      ]
     },
     "execution_count": 484,
     "metadata": {},
     "output_type": "execute_result"
    }
   ],
   "source": [
    "C = (4 * x1 ** 2) + (5 * x1 * x2) + (x2 ** 2)\n",
    "C"
   ]
  },
  {
   "cell_type": "code",
   "execution_count": 485,
   "metadata": {},
   "outputs": [
    {
     "data": {
      "text/latex": [
       "$\\displaystyle x_{1} \\cdot \\left(70 - x_{1}\\right) + x_{2} \\cdot \\left(38 - \\frac{x_{2}}{2}\\right)$"
      ],
      "text/plain": [
       "x_1*(70 - x_1) + x_2*(38 - x_2/2)"
      ]
     },
     "execution_count": 485,
     "metadata": {},
     "output_type": "execute_result"
    }
   ],
   "source": [
    "R = p1*x1 + p2*x2\n",
    "R"
   ]
  },
  {
   "cell_type": "code",
   "execution_count": 486,
   "metadata": {},
   "outputs": [
    {
     "data": {
      "text/latex": [
       "$\\displaystyle - 4 x_{1}^{2} - 5 x_{1} x_{2} + x_{1} \\cdot \\left(70 - x_{1}\\right) - x_{2}^{2} + x_{2} \\cdot \\left(38 - \\frac{x_{2}}{2}\\right)$"
      ],
      "text/plain": [
       "-4*x_1**2 - 5*x_1*x_2 + x_1*(70 - x_1) - x_2**2 + x_2*(38 - x_2/2)"
      ]
     },
     "execution_count": 486,
     "metadata": {},
     "output_type": "execute_result"
    }
   ],
   "source": [
    "P = R - C # тоже какая-то формула\n",
    "P"
   ]
  },
  {
   "cell_type": "code",
   "execution_count": 494,
   "metadata": {},
   "outputs": [
    {
     "name": "stdout",
     "output_type": "stream",
     "text": [
      "p_1 = 4\n",
      "p_2 = 6\n"
     ]
    }
   ],
   "source": [
    "res = sp.solve([sp.Eq(0, P.diff(x1)), sp.Eq(0, P.diff(x2))])\n",
    "p_1_val = res[x1]\n",
    "p_2_val = res[x2]\n",
    "print(f'p_1 = {p_1_val}\\np_2 = {p_2_val}')"
   ]
  },
  {
   "cell_type": "code",
   "execution_count": 488,
   "metadata": {},
   "outputs": [],
   "source": [
    "E_d1 = x_1.diff() * p_1/x_1 # формула для эластичности\n",
    "E_d2 = (x_2.diff() * p_2/x_2).simplify()\n"
   ]
  },
  {
   "cell_type": "code",
   "execution_count": 453,
   "metadata": {},
   "outputs": [
    {
     "data": {
      "text/latex": [
       "$\\displaystyle - \\frac{p_{1}}{70 - p_{1}}$"
      ],
      "text/plain": [
       "-p_1/(70 - p_1)"
      ]
     },
     "execution_count": 453,
     "metadata": {},
     "output_type": "execute_result"
    }
   ],
   "source": [
    "E_d1"
   ]
  },
  {
   "cell_type": "code",
   "execution_count": 454,
   "metadata": {},
   "outputs": [
    {
     "data": {
      "text/latex": [
       "$\\displaystyle \\frac{p_{2}}{p_{2} - 38}$"
      ],
      "text/plain": [
       "p_2/(p_2 - 38)"
      ]
     },
     "execution_count": 454,
     "metadata": {},
     "output_type": "execute_result"
    }
   ],
   "source": [
    "E_d2"
   ]
  },
  {
   "cell_type": "code",
   "execution_count": 465,
   "metadata": {},
   "outputs": [],
   "source": [
    "# вторая производная коэфф матрицы\n",
    "coef1 = P.diff(x1).diff(x1) # глав диагональ\n",
    "coef2 = P.diff(x2).diff(x2) # глав диагональ\n",
    "coef3 = P.diff(x1).diff(x2) # смешанные =>побочная диагональ\n",
    "coef4 = P.diff(x2).diff(x1) # смешанные =>побочная диагональ\n"
   ]
  },
  {
   "cell_type": "code",
   "execution_count": 467,
   "metadata": {},
   "outputs": [
    {
     "data": {
      "text/plain": [
       "(-10, 5)"
      ]
     },
     "execution_count": 467,
     "metadata": {},
     "output_type": "execute_result"
    }
   ],
   "source": [
    "delta1 = coef1 # 1-ый минор\n",
    "delta2 = coef1*coef2 - coef3*coef4 # 2-ой минор\n",
    "delta1, delta2"
   ]
  },
  {
   "cell_type": "code",
   "execution_count": 499,
   "metadata": {},
   "outputs": [
    {
     "data": {
      "text/latex": [
       "$\\displaystyle 474$"
      ],
      "text/plain": [
       "474"
      ]
     },
     "execution_count": 499,
     "metadata": {},
     "output_type": "execute_result"
    }
   ],
   "source": [
    "R.subs({x1: p_1_val, x2: p_2_val})"
   ]
  },
  {
   "cell_type": "code",
   "execution_count": 475,
   "metadata": {},
   "outputs": [
    {
     "data": {
      "text/plain": [
       "array([[-10.,  -5.],\n",
       "       [ -5.,  -3.]])"
      ]
     },
     "execution_count": 475,
     "metadata": {},
     "output_type": "execute_result"
    }
   ],
   "source": [
    "m = np.array([\n",
    "    [coef1, coef3],\n",
    "    [coef4, coef2],\n",
    "], dtype=float)\n",
    "m"
   ]
  },
  {
   "cell_type": "code",
   "execution_count": 474,
   "metadata": {},
   "outputs": [
    {
     "data": {
      "text/plain": [
       "5.000000000000001"
      ]
     },
     "execution_count": 474,
     "metadata": {},
     "output_type": "execute_result"
    }
   ],
   "source": [
    "np.linalg.det(m) # с этим не разобрался"
   ]
  },
  {
   "cell_type": "markdown",
   "metadata": {},
   "source": [
    "<img src=\"img/t5.png\" width=\"500\"/>"
   ]
  },
  {
   "cell_type": "code",
   "execution_count": 489,
   "metadata": {
    "collapsed": false,
    "pycharm": {
     "name": "#%%\n"
    }
   },
   "outputs": [],
   "source": [
    "p_1, p_2 = sp.symbols('p_1, p_2')"
   ]
  },
  {
   "cell_type": "code",
   "execution_count": 490,
   "metadata": {
    "collapsed": false,
    "pycharm": {
     "name": "#%%\n"
    }
   },
   "outputs": [
    {
     "data": {
      "text/latex": [
       "$\\displaystyle 4 \\left(50 - p_{1}\\right)^{2} + 6 \\left(80 - \\frac{p_{2}}{2}\\right)^{2} + \\left(80 - \\frac{p_{2}}{2}\\right) \\left(250 - 5 p_{1}\\right)$"
      ],
      "text/plain": [
       "4*(50 - p_1)**2 + 6*(80 - p_2/2)**2 + (80 - p_2/2)*(250 - 5*p_1)"
      ]
     },
     "execution_count": 490,
     "metadata": {},
     "output_type": "execute_result"
    }
   ],
   "source": [
    "x_1 = 50 - p_1\n",
    "x_2 = 80 - p_2 / 2\n",
    "C = 4 * x_1 ** 2 + 5 * x_1 * x_2 + 6 * x_2 ** 2\n",
    "C"
   ]
  },
  {
   "cell_type": "code",
   "execution_count": 22,
   "metadata": {
    "collapsed": false,
    "pycharm": {
     "name": "#%%\n"
    }
   },
   "outputs": [
    {
     "data": {
      "text/latex": [
       "$\\displaystyle p_{1} \\left(50 - p_{1}\\right) + p_{2} \\left(80 - \\frac{p_{2}}{2}\\right)$"
      ],
      "text/plain": [
       "p_1*(50 - p_1) + p_2*(80 - p_2/2)"
      ]
     },
     "execution_count": 22,
     "metadata": {},
     "output_type": "execute_result"
    }
   ],
   "source": [
    "R = p_1 * x_1 + p_2 * x_2\n",
    "R"
   ]
  },
  {
   "cell_type": "code",
   "execution_count": 23,
   "metadata": {
    "collapsed": false,
    "pycharm": {
     "name": "#%%\n"
    }
   },
   "outputs": [
    {
     "data": {
      "text/latex": [
       "$\\displaystyle p_{1} \\left(50 - p_{1}\\right) + p_{2} \\left(80 - \\frac{p_{2}}{2}\\right) - 4 \\left(50 - p_{1}\\right)^{2} - 6 \\left(80 - \\frac{p_{2}}{2}\\right)^{2} - \\left(80 - \\frac{p_{2}}{2}\\right) \\left(250 - 5 p_{1}\\right)$"
      ],
      "text/plain": [
       "p_1*(50 - p_1) + p_2*(80 - p_2/2) - 4*(50 - p_1)**2 - 6*(80 - p_2/2)**2 - (80 - p_2/2)*(250 - 5*p_1)"
      ]
     },
     "execution_count": 23,
     "metadata": {},
     "output_type": "execute_result"
    }
   ],
   "source": [
    "P = R - C\n",
    "P"
   ]
  },
  {
   "cell_type": "code",
   "execution_count": 24,
   "metadata": {
    "collapsed": false,
    "pycharm": {
     "name": "#%%\n"
    }
   },
   "outputs": [
    {
     "data": {
      "text/latex": [
       "$\\displaystyle - 10 p_{1} - \\frac{5 p_{2}}{2} + 850$"
      ],
      "text/plain": [
       "-10*p_1 - 5*p_2/2 + 850"
      ]
     },
     "execution_count": 24,
     "metadata": {},
     "output_type": "execute_result"
    }
   ],
   "source": [
    "P_diff_p_1 = P.diff(p_1)\n",
    "P_diff_p_1"
   ]
  },
  {
   "cell_type": "code",
   "execution_count": 25,
   "metadata": {
    "collapsed": false,
    "pycharm": {
     "name": "#%%\n"
    }
   },
   "outputs": [
    {
     "data": {
      "text/latex": [
       "$\\displaystyle - \\frac{5 p_{1}}{2} - 4 p_{2} + 685$"
      ],
      "text/plain": [
       "-5*p_1/2 - 4*p_2 + 685"
      ]
     },
     "execution_count": 25,
     "metadata": {},
     "output_type": "execute_result"
    }
   ],
   "source": [
    "P_diff_p_2 = P.diff(p_2)\n",
    "P_diff_p_2"
   ]
  },
  {
   "cell_type": "code",
   "execution_count": 26,
   "metadata": {
    "collapsed": false,
    "pycharm": {
     "name": "#%%\n"
    }
   },
   "outputs": [
    {
     "name": "stdout",
     "output_type": "stream",
     "text": [
      "p_1 = 50, p_2 = 140\n"
     ]
    }
   ],
   "source": [
    "res = sp.solve([sp.Eq(0, P_diff_p_1), sp.Eq(0, P_diff_p_2)])\n",
    "p_1_val = res[p_1]\n",
    "p_2_val = res[p_2]\n",
    "print(f'p_1 = {p_1_val}, p_2 = {p_2_val}')"
   ]
  },
  {
   "cell_type": "code",
   "execution_count": 27,
   "metadata": {
    "collapsed": false,
    "pycharm": {
     "name": "#%%\n"
    }
   },
   "outputs": [
    {
     "name": "stdout",
     "output_type": "stream",
     "text": [
      "x_1 = 0, x_2 = 10\n"
     ]
    }
   ],
   "source": [
    "x_1_val = x_1.subs({p_1: p_1_val})\n",
    "x_2_val = x_2.subs({p_2: p_2_val})\n",
    "print(f'x_1 = {x_1_val}, x_2 = {x_2_val}')"
   ]
  },
  {
   "cell_type": "code",
   "execution_count": 28,
   "metadata": {
    "collapsed": false,
    "pycharm": {
     "name": "#%%\n"
    }
   },
   "outputs": [
    {
     "data": {
      "text/latex": [
       "$\\displaystyle 1400$"
      ],
      "text/plain": [
       "1400"
      ]
     },
     "execution_count": 28,
     "metadata": {},
     "output_type": "execute_result"
    }
   ],
   "source": [
    "R.subs({p_1: p_1_val, p_2: p_2_val})"
   ]
  },
  {
   "cell_type": "code",
   "execution_count": 500,
   "metadata": {
    "collapsed": false,
    "pycharm": {
     "name": "#%%\n"
    }
   },
   "outputs": [
    {
     "data": {
      "text/latex": [
       "$\\displaystyle \\frac{p_{1}}{p_{1} - 50}$"
      ],
      "text/plain": [
       "p_1/(p_1 - 50)"
      ]
     },
     "execution_count": 500,
     "metadata": {},
     "output_type": "execute_result"
    }
   ],
   "source": [
    "E_d_1 = x_1.diff() * p_1/ x_1\n",
    "E_d_1 = sp.simplify(E_d_1)\n",
    "E_d_1"
   ]
  },
  {
   "cell_type": "code",
   "execution_count": 501,
   "metadata": {
    "collapsed": false,
    "pycharm": {
     "name": "#%%\n"
    }
   },
   "outputs": [
    {
     "data": {
      "text/latex": [
       "$\\displaystyle \\frac{p_{2}}{p_{2} - 160}$"
      ],
      "text/plain": [
       "p_2/(p_2 - 160)"
      ]
     },
     "execution_count": 501,
     "metadata": {},
     "output_type": "execute_result"
    }
   ],
   "source": [
    "E_d_2 = x_2.diff() * p_2 / x_2\n",
    "E_d_2 = sp.simplify(E_d_2)\n",
    "E_d_2"
   ]
  },
  {
   "cell_type": "code",
   "execution_count": 31,
   "metadata": {
    "collapsed": false,
    "pycharm": {
     "name": "#%%\n"
    }
   },
   "outputs": [
    {
     "name": "stdout",
     "output_type": "stream",
     "text": [
      "E_d_1(50) = zoo\n",
      "E_d_2(140) = -7\n"
     ]
    }
   ],
   "source": [
    "print(f'E_d_1({p_1_val}) = {E_d_1.subs({p_1: p_1_val})}')\n",
    "print(f'E_d_2({p_2_val}) = {E_d_2.subs({p_2: p_2_val})}')"
   ]
  },
  {
   "cell_type": "code",
   "execution_count": 32,
   "metadata": {
    "collapsed": false,
    "pycharm": {
     "name": "#%%\n"
    }
   },
   "outputs": [
    {
     "data": {
      "text/plain": [
       "array([[-10. ,  -2.5],\n",
       "       [ -2.5,  -4. ]])"
      ]
     },
     "execution_count": 32,
     "metadata": {},
     "output_type": "execute_result"
    }
   ],
   "source": [
    "m = np.array([\n",
    "    [float(P.diff(p_1).diff(p_1)), float(P.diff(p_1).diff(p_2))],\n",
    "    [float(P.diff(p_2).diff(p_1)), float(P.diff(p_2).diff(p_2))],\n",
    "])\n",
    "m"
   ]
  },
  {
   "cell_type": "code",
   "execution_count": 33,
   "metadata": {
    "collapsed": false,
    "pycharm": {
     "name": "#%%\n"
    }
   },
   "outputs": [
    {
     "data": {
      "text/plain": [
       "33.75"
      ]
     },
     "execution_count": 33,
     "metadata": {},
     "output_type": "execute_result"
    }
   ],
   "source": [
    "np.linalg.det(m)"
   ]
  },
  {
   "cell_type": "code",
   "execution_count": 34,
   "metadata": {
    "collapsed": false,
    "pycharm": {
     "name": "#%%\n"
    }
   },
   "outputs": [
    {
     "data": {
      "text/latex": [
       "$\\displaystyle p_{1} \\left(50 - p_{1}\\right) + p_{2} \\left(80 - \\frac{p_{2}}{2}\\right) - 4 \\left(50 - p_{1}\\right)^{2} - 6 \\left(80 - \\frac{p_{2}}{2}\\right)^{2} - \\left(80 - \\frac{p_{2}}{2}\\right) \\left(250 - 5 p_{1}\\right)$"
      ],
      "text/plain": [
       "p_1*(50 - p_1) + p_2*(80 - p_2/2) - 4*(50 - p_1)**2 - 6*(80 - p_2/2)**2 - (80 - p_2/2)*(250 - 5*p_1)"
      ]
     },
     "execution_count": 34,
     "metadata": {},
     "output_type": "execute_result"
    }
   ],
   "source": [
    "P"
   ]
  },
  {
   "cell_type": "code",
   "execution_count": 502,
   "metadata": {
    "collapsed": false,
    "pycharm": {
     "name": "#%%\n"
    }
   },
   "outputs": [],
   "source": [
    "# 15.02 - все просмотрено, лучше смотреть предыдущую задачу"
   ]
  },
  {
   "cell_type": "code",
   "execution_count": 34,
   "metadata": {
    "collapsed": false,
    "pycharm": {
     "name": "#%%\n"
    }
   },
   "outputs": [],
   "source": []
  },
  {
   "cell_type": "code",
   "execution_count": 34,
   "metadata": {
    "collapsed": false,
    "pycharm": {
     "name": "#%%\n"
    }
   },
   "outputs": [],
   "source": []
  },
  {
   "cell_type": "code",
   "execution_count": 34,
   "metadata": {
    "collapsed": false,
    "pycharm": {
     "name": "#%%\n"
    }
   },
   "outputs": [],
   "source": []
  },
  {
   "cell_type": "markdown",
   "metadata": {
    "collapsed": false,
    "pycharm": {
     "name": "#%% md\n"
    }
   },
   "source": [
    "<img src=\"img/01_equilibrium_point.png\" width=\"500\"/>"
   ]
  },
  {
   "cell_type": "code",
   "execution_count": 19,
   "metadata": {
    "collapsed": false,
    "pycharm": {
     "name": "#%%\n"
    }
   },
   "outputs": [],
   "source": [
    "x = sp.Symbol('x')\n",
    "p_D, p_S = sp.symbols('p_D p_S')\n",
    "p_D = sp.solve(sp.Eq(4 * p_D + x, 34), p_D)[0]\n",
    "p_S = sp.solve(sp.Eq(6 * p_S - x, 38), p_S)[0]"
   ]
  },
  {
   "cell_type": "code",
   "execution_count": 20,
   "metadata": {},
   "outputs": [
    {
     "data": {
      "text/latex": [
       "$\\displaystyle \\frac{17}{2} - \\frac{x}{4}$"
      ],
      "text/plain": [
       "17/2 - x/4"
      ]
     },
     "execution_count": 20,
     "metadata": {},
     "output_type": "execute_result"
    }
   ],
   "source": [
    "p_D\n"
   ]
  },
  {
   "cell_type": "code",
   "execution_count": 21,
   "metadata": {},
   "outputs": [
    {
     "data": {
      "text/latex": [
       "$\\displaystyle \\frac{x}{6} + \\frac{19}{3}$"
      ],
      "text/plain": [
       "x/6 + 19/3"
      ]
     },
     "execution_count": 21,
     "metadata": {},
     "output_type": "execute_result"
    }
   ],
   "source": [
    "p_S"
   ]
  },
  {
   "cell_type": "code",
   "execution_count": 22,
   "metadata": {
    "collapsed": false,
    "pycharm": {
     "name": "#%%\n"
    }
   },
   "outputs": [
    {
     "data": {
      "text/latex": [
       "$\\displaystyle \\frac{26}{5}$"
      ],
      "text/plain": [
       "26/5"
      ]
     },
     "execution_count": 22,
     "metadata": {},
     "output_type": "execute_result"
    }
   ],
   "source": [
    "# 1) найти точку рыночного равновесия\n",
    "p_eq = sp.solve(sp.Eq(p_D, p_S), x)[0]  # точка рыночного равновесия\n",
    "p_eq\n"
   ]
  },
  {
   "cell_type": "code",
   "execution_count": 23,
   "metadata": {
    "collapsed": false,
    "pycharm": {
     "name": "#%%\n"
    }
   },
   "outputs": [
    {
     "data": {
      "text/latex": [
       "$\\displaystyle 0.0333333333333333 x + 1.26666666666667$"
      ],
      "text/plain": [
       "0.0333333333333333*x + 1.26666666666667"
      ]
     },
     "execution_count": 23,
     "metadata": {},
     "output_type": "execute_result"
    }
   ],
   "source": [
    "# 2) найти точку рыночного равновесия с учетом налога с продавцов 20%. Доход государства от налога\n",
    "(t := p_S*0.2)  # налог 20% от стоимости ед. продукции"
   ]
  },
  {
   "cell_type": "code",
   "execution_count": 24,
   "metadata": {
    "collapsed": false,
    "pycharm": {
     "name": "#%%\n"
    }
   },
   "outputs": [
    {
     "data": {
      "text/latex": [
       "$\\displaystyle 2.0$"
      ],
      "text/plain": [
       "2.00000000000000"
      ]
     },
     "execution_count": 24,
     "metadata": {},
     "output_type": "execute_result"
    }
   ],
   "source": [
    "(new_p_eq := sp.solve(sp.Eq(p_D, p_S + t), x)[0])  # новая точка рыночного равновесия с учетом налога"
   ]
  },
  {
   "cell_type": "code",
   "execution_count": 25,
   "metadata": {
    "collapsed": false,
    "pycharm": {
     "name": "#%%\n"
    }
   },
   "outputs": [
    {
     "data": {
      "text/latex": [
       "$\\displaystyle 2.66666666666667$"
      ],
      "text/plain": [
       "2.66666666666667"
      ]
     },
     "execution_count": 25,
     "metadata": {},
     "output_type": "execute_result"
    }
   ],
   "source": [
    "(S_p := new_p_eq * t.subs({x: new_p_eq}))  # доход государства"
   ]
  },
  {
   "cell_type": "code",
   "execution_count": null,
   "metadata": {},
   "outputs": [],
   "source": []
  },
  {
   "cell_type": "code",
   "execution_count": 516,
   "metadata": {
    "collapsed": false,
    "pycharm": {
     "name": "#%%\n"
    }
   },
   "outputs": [
    {
     "data": {
      "text/plain": [
       "(4.00000000000000, 7.00000000000000)"
      ]
     },
     "execution_count": 516,
     "metadata": {},
     "output_type": "execute_result"
    }
   ],
   "source": [
    "# 3) правительство покупает излишки продукции, установив цену = 7.5\n",
    "x_D, x_S = sp.symbols('x_D x_S')\n",
    "p_val = 7.5\n",
    "x_D_val = sp.solve(sp.Eq(4 * p_val + x_D, 34), x_D)[0]\n",
    "x_S_val = sp.solve(sp.Eq(6 * p_val - x_S, 38), x_S)[0]\n",
    "x_D_val, x_S_val  # могут купить, предлагают\n",
    "# x_D - спрос\n",
    "# x_S - предложение"
   ]
  },
  {
   "cell_type": "code",
   "execution_count": 517,
   "metadata": {
    "collapsed": false,
    "pycharm": {
     "name": "#%%\n"
    }
   },
   "outputs": [
    {
     "data": {
      "text/latex": [
       "$\\displaystyle 22.5$"
      ],
      "text/plain": [
       "22.5000000000000"
      ]
     },
     "execution_count": 517,
     "metadata": {},
     "output_type": "execute_result"
    }
   ],
   "source": [
    "(x_S_val - x_D_val) * p_val  # на эту сумму правительству придется выкупить"
   ]
  },
  {
   "cell_type": "code",
   "execution_count": 518,
   "metadata": {
    "collapsed": false,
    "pycharm": {
     "name": "#%%\n"
    }
   },
   "outputs": [],
   "source": [
    "# следующая задача\n",
    "# найти (x_1;x_2) - прибыль -> max\n",
    "x_1, x_2 = sp.symbols('x_1 x_2')\n",
    "p_1, p_2 = sp.symbols('p_1 p_2')\n",
    "x_1 = sp.solve(sp.Eq(4 * p_1 + x_1, 34), x_1)[0]  # функция спроса на продукт 1\n",
    "x_2 = sp.solve(sp.Eq(6 * p_2 + x_2, 38), x_2)[0]  # функция предложения на продукт 2\n",
    "C = 4 * x_1 ** 2 + 5 * x_1 * x_2 + 6 * x_2 ** 2  # функция издержек фирмы"
   ]
  },
  {
   "cell_type": "code",
   "execution_count": 519,
   "metadata": {
    "collapsed": false,
    "pycharm": {
     "name": "#%%\n"
    }
   },
   "outputs": [
    {
     "data": {
      "text/latex": [
       "$\\displaystyle p_{1} \\cdot \\left(34 - 4 p_{1}\\right) + p_{2} \\cdot \\left(38 - 6 p_{2}\\right)$"
      ],
      "text/plain": [
       "p_1*(34 - 4*p_1) + p_2*(38 - 6*p_2)"
      ]
     },
     "execution_count": 519,
     "metadata": {},
     "output_type": "execute_result"
    }
   ],
   "source": [
    "(R := p_1 * x_1 + p_2 * x_2)  # выручка"
   ]
  },
  {
   "cell_type": "code",
   "execution_count": 520,
   "metadata": {
    "collapsed": false,
    "pycharm": {
     "name": "#%%\n"
    }
   },
   "outputs": [
    {
     "data": {
      "text/latex": [
       "$\\displaystyle p_{1} \\cdot \\left(34 - 4 p_{1}\\right) + p_{2} \\cdot \\left(38 - 6 p_{2}\\right) - 4 \\left(34 - 4 p_{1}\\right)^{2} - 6 \\left(38 - 6 p_{2}\\right)^{2} - \\left(38 - 6 p_{2}\\right) \\left(170 - 20 p_{1}\\right)$"
      ],
      "text/plain": [
       "p_1*(34 - 4*p_1) + p_2*(38 - 6*p_2) - 4*(34 - 4*p_1)**2 - 6*(38 - 6*p_2)**2 - (38 - 6*p_2)*(170 - 20*p_1)"
      ]
     },
     "execution_count": 520,
     "metadata": {},
     "output_type": "execute_result"
    }
   ],
   "source": [
    "(P := R - C)  # прибыль"
   ]
  },
  {
   "cell_type": "code",
   "execution_count": 521,
   "metadata": {
    "collapsed": false,
    "pycharm": {
     "name": "#%%\n"
    }
   },
   "outputs": [
    {
     "data": {
      "text/latex": [
       "$\\displaystyle - 136 p_{1} - 120 p_{2} + 1882$"
      ],
      "text/plain": [
       "-136*p_1 - 120*p_2 + 1882"
      ]
     },
     "execution_count": 521,
     "metadata": {},
     "output_type": "execute_result"
    }
   ],
   "source": [
    "(P_diff_p_1 := P.diff(p_1))"
   ]
  },
  {
   "cell_type": "code",
   "execution_count": 522,
   "metadata": {
    "collapsed": false,
    "pycharm": {
     "name": "#%%\n"
    }
   },
   "outputs": [
    {
     "data": {
      "text/latex": [
       "$\\displaystyle - 120 p_{1} - 444 p_{2} + 3794$"
      ],
      "text/plain": [
       "-120*p_1 - 444*p_2 + 3794"
      ]
     },
     "execution_count": 522,
     "metadata": {},
     "output_type": "execute_result"
    }
   ],
   "source": [
    "(P_diff_p_2 := P.diff(p_2))"
   ]
  },
  {
   "cell_type": "code",
   "execution_count": 523,
   "metadata": {
    "collapsed": false,
    "pycharm": {
     "name": "#%%\n"
    }
   },
   "outputs": [
    {
     "name": "stdout",
     "output_type": "stream",
     "text": [
      "p_1 = 8.271, p_2 = 6.310\n"
     ]
    }
   ],
   "source": [
    "res = sp.solve([sp.Eq(0, P_diff_p_1), sp.Eq(0, P_diff_p_2)])\n",
    "p_1_val = res[p_1]\n",
    "p_2_val = res[p_2]\n",
    "print(f'p_1 = {p_1_val.evalf(4)}, p_2 = {p_2_val.evalf(4)}')"
   ]
  },
  {
   "cell_type": "code",
   "execution_count": 524,
   "metadata": {
    "collapsed": false,
    "pycharm": {
     "name": "#%%\n"
    }
   },
   "outputs": [
    {
     "name": "stdout",
     "output_type": "stream",
     "text": [
      "x_1 = 0.9165, x_2 = 0.1420\n"
     ]
    }
   ],
   "source": [
    "x_1_val = x_1.subs({p_1: p_1_val})\n",
    "x_2_val = x_2.subs({p_2: p_2_val})\n",
    "print(f'x_1 = {x_1_val.evalf(4)}, x_2 = {x_2_val.evalf(4)}')"
   ]
  },
  {
   "cell_type": "code",
   "execution_count": 525,
   "metadata": {
    "collapsed": false,
    "pycharm": {
     "name": "#%%\n"
    }
   },
   "outputs": [
    {
     "data": {
      "text/latex": [
       "$\\displaystyle 8.476$"
      ],
      "text/plain": [
       "8.476"
      ]
     },
     "execution_count": 525,
     "metadata": {},
     "output_type": "execute_result"
    }
   ],
   "source": [
    "R.subs({p_1: p_1_val, p_2: p_2_val}).evalf(4)"
   ]
  },
  {
   "cell_type": "code",
   "execution_count": 526,
   "metadata": {
    "collapsed": false,
    "pycharm": {
     "name": "#%%\n"
    }
   },
   "outputs": [
    {
     "data": {
      "text/plain": [
       "(array([[-136., -120.],\n",
       "        [-120., -444.]]),\n",
       " 45983.99999999998)"
      ]
     },
     "execution_count": 526,
     "metadata": {},
     "output_type": "execute_result"
    }
   ],
   "source": [
    "# проверка: точка max\n",
    "m = np.array([\n",
    "    [float(P.diff(p_1).diff(p_1)), float(P.diff(p_1).diff(p_2))],\n",
    "    [float(P.diff(p_2).diff(p_1)), float(P.diff(p_2).diff(p_2))],\n",
    "])\n",
    "m, (det := np.linalg.det(m))"
   ]
  },
  {
   "cell_type": "code",
   "execution_count": 527,
   "metadata": {
    "collapsed": false,
    "pycharm": {
     "name": "#%%\n"
    }
   },
   "outputs": [
    {
     "name": "stdout",
     "output_type": "stream",
     "text": [
      "Найденная точка - точка max? True\n"
     ]
    }
   ],
   "source": [
    "print(f'Найденная точка - точка max? {m[0, 0] < 0 < det}')"
   ]
  },
  {
   "cell_type": "code",
   "execution_count": 52,
   "metadata": {
    "collapsed": false,
    "pycharm": {
     "name": "#%%\n"
    }
   },
   "outputs": [],
   "source": []
  },
  {
   "cell_type": "markdown",
   "metadata": {
    "collapsed": false,
    "pycharm": {
     "name": "#%% md\n"
    }
   },
   "source": [
    "<img src=\"img/02_lec.png\" width=\"500\"/>\n",
    "<br>\n",
    "<img src=\"img/03_lec.png\" width=\"500\"/>\n",
    "<br>\n",
    "<img src=\"img/04_lec.png\" width=\"500\"/>\n",
    "<br>\n",
    "<img src=\"img/05_lec.png\" width=\"500\"/>\n",
    "<br>\n",
    "<img src=\"img/06_lec.png\" width=\"500\"/>\n",
    "<br>\n",
    "<img src=\"img/05_lec.png\" width=\"500\"/>"
   ]
  },
  {
   "cell_type": "code",
   "execution_count": 52,
   "metadata": {
    "collapsed": false,
    "pycharm": {
     "name": "#%%\n"
    }
   },
   "outputs": [],
   "source": []
  },
  {
   "cell_type": "code",
   "execution_count": 2,
   "metadata": {
    "collapsed": false,
    "pycharm": {
     "name": "#%%\n"
    }
   },
   "outputs": [
    {
     "data": {
      "text/latex": [
       "$\\displaystyle 10 x_{1} + 2 x_{2} = 60$"
      ],
      "text/plain": [
       "Eq(10*x_1 + 2*x_2, 60)"
      ]
     },
     "execution_count": 2,
     "metadata": {},
     "output_type": "execute_result"
    }
   ],
   "source": [
    "x_1, x_2 = sp.symbols('x_1 x_2')\n",
    "p_1, p_2 = 10, 2\n",
    "I = 60\n",
    "eq_I = sp.Eq(x_1 * p_1 + x_2 * p_2, I)\n",
    "U = x_1 ** (1 / 2) * x_2 ** (2 / 3)\n",
    "eq_I"
   ]
  },
  {
   "cell_type": "code",
   "execution_count": 3,
   "metadata": {},
   "outputs": [
    {
     "data": {
      "text/latex": [
       "$\\displaystyle x_{1}^{0.5} x_{2}^{0.666666666666667}$"
      ],
      "text/plain": [
       "x_1**0.5*x_2**0.666666666666667"
      ]
     },
     "execution_count": 3,
     "metadata": {},
     "output_type": "execute_result"
    }
   ],
   "source": [
    "U"
   ]
  },
  {
   "cell_type": "code",
   "execution_count": 79,
   "metadata": {
    "collapsed": false,
    "pycharm": {
     "name": "#%%\n"
    }
   },
   "outputs": [
    {
     "data": {
      "text/latex": [
       "$\\displaystyle \\frac{0.75 x_{2}^{1.0}}{x_{1}^{1.0}} = 5.0$"
      ],
      "text/plain": [
       "Eq(0.75*x_2**1.0/x_1**1.0, 5.0)"
      ]
     },
     "execution_count": 79,
     "metadata": {},
     "output_type": "execute_result"
    }
   ],
   "source": [
    "eq_U = sp.Eq(U.diff(x_1) / U.diff(x_2), p_1 / p_2)\n",
    "eq_U"
   ]
  },
  {
   "cell_type": "code",
   "execution_count": 81,
   "metadata": {
    "collapsed": false,
    "pycharm": {
     "name": "#%%\n"
    }
   },
   "outputs": [
    {
     "data": {
      "text/plain": [
       "(2.57142857142857, 17.1428571428571)"
      ]
     },
     "execution_count": 81,
     "metadata": {},
     "output_type": "execute_result"
    }
   ],
   "source": [
    "res = sp.solve((eq_I, eq_U))\n",
    "x_1_val = res[x_1]\n",
    "x_2_val = res[x_2]\n",
    "x_1_val, x_2_val"
   ]
  },
  {
   "cell_type": "markdown",
   "metadata": {
    "collapsed": false,
    "pycharm": {
     "name": "#%% md\n"
    }
   },
   "source": [
    "<img src=\"img/08_prac.png\" width=\"500\"/>"
   ]
  },
  {
   "cell_type": "code",
   "execution_count": 83,
   "metadata": {
    "collapsed": false,
    "pycharm": {
     "name": "#%%\n"
    }
   },
   "outputs": [
    {
     "data": {
      "text/latex": [
       "$\\displaystyle 5.0$"
      ],
      "text/plain": [
       "5.00000000000000"
      ]
     },
     "execution_count": 83,
     "metadata": {},
     "output_type": "execute_result"
    }
   ],
   "source": [
    "# 3) норма замены\n",
    "MRS = (U.diff(x_1) / U.diff(x_2)).subs({x_1: x_1_val, x_2: x_2_val})\n",
    "MRS"
   ]
  },
  {
   "cell_type": "code",
   "execution_count": 89,
   "metadata": {
    "collapsed": false,
    "pycharm": {
     "name": "#%%\n"
    }
   },
   "outputs": [
    {
     "data": {
      "text/latex": [
       "$\\displaystyle p_{1} x_{1} + p_{2} x_{2} = 60$"
      ],
      "text/plain": [
       "Eq(p_1*x_1 + p_2*x_2, 60)"
      ]
     },
     "execution_count": 89,
     "metadata": {},
     "output_type": "execute_result"
    }
   ],
   "source": [
    "# 4) ф-ия спроса, эл. спроса\n",
    "p_1, p_2 = sp.symbols('p_1 p_2')\n",
    "eq_I = sp.Eq(p_1 * x_1 + p_2 * x_2, I)\n",
    "eq_I"
   ]
  },
  {
   "cell_type": "code",
   "execution_count": 91,
   "metadata": {
    "collapsed": false,
    "pycharm": {
     "name": "#%%\n"
    }
   },
   "outputs": [
    {
     "data": {
      "text/latex": [
       "$\\displaystyle \\frac{0.75 x_{2}^{1.0}}{x_{1}^{1.0}} = \\frac{p_{1}}{p_{2}}$"
      ],
      "text/plain": [
       "Eq(0.75*x_2**1.0/x_1**1.0, p_1/p_2)"
      ]
     },
     "execution_count": 91,
     "metadata": {},
     "output_type": "execute_result"
    }
   ],
   "source": [
    "eq_U = sp.Eq(U.diff(x_1) / U.diff(x_2), p_1 / p_2)\n",
    "eq_U"
   ]
  },
  {
   "cell_type": "code",
   "execution_count": 133,
   "metadata": {
    "collapsed": false,
    "pycharm": {
     "name": "#%%\n"
    }
   },
   "outputs": [
    {
     "data": {
      "text/plain": [
       "{p_1: 25.7142857142857/x_1, p_2: 34.2857142857143/x_2}"
      ]
     },
     "execution_count": 133,
     "metadata": {},
     "output_type": "execute_result"
    }
   ],
   "source": [
    "res = sp.solve((eq_I, eq_U))[0]\n",
    "res"
   ]
  },
  {
   "cell_type": "code",
   "execution_count": 127,
   "metadata": {
    "collapsed": false,
    "pycharm": {
     "name": "#%%\n"
    }
   },
   "outputs": [
    {
     "data": {
      "text/plain": [
       "[25.7142857142857/x_1]"
      ]
     },
     "execution_count": 127,
     "metadata": {},
     "output_type": "execute_result"
    }
   ],
   "source": [
    "sp.solve(sp.Eq(res[p_1], p_1), p_1)"
   ]
  },
  {
   "cell_type": "code",
   "execution_count": 128,
   "metadata": {
    "collapsed": false,
    "pycharm": {
     "name": "#%%\n"
    }
   },
   "outputs": [
    {
     "data": {
      "text/plain": [
       "[34.2857142857143/p_2]"
      ]
     },
     "execution_count": 128,
     "metadata": {},
     "output_type": "execute_result"
    }
   ],
   "source": [
    "sp.solve(sp.Eq(res[p_2], p_2), x_2)"
   ]
  },
  {
   "cell_type": "code",
   "execution_count": 128,
   "metadata": {
    "collapsed": false,
    "pycharm": {
     "name": "#%%\n"
    }
   },
   "outputs": [],
   "source": []
  },
  {
   "cell_type": "code",
   "execution_count": 129,
   "metadata": {
    "collapsed": false,
    "pycharm": {
     "name": "#%%\n"
    }
   },
   "outputs": [
    {
     "data": {
      "text/latex": [
       "$\\displaystyle \\frac{180}{7 p_{1}}$"
      ],
      "text/plain": [
       "180/(7*p_1)"
      ]
     },
     "execution_count": 129,
     "metadata": {},
     "output_type": "execute_result"
    }
   ],
   "source": [
    "# ур-е спроса для x_1\n",
    "x_1_val = 180 / (7 * p_1)\n",
    "x_1_val"
   ]
  },
  {
   "cell_type": "code",
   "execution_count": 130,
   "metadata": {
    "collapsed": false,
    "pycharm": {
     "name": "#%%\n"
    }
   },
   "outputs": [
    {
     "data": {
      "text/latex": [
       "$\\displaystyle -1$"
      ],
      "text/plain": [
       "-1"
      ]
     },
     "execution_count": 130,
     "metadata": {},
     "output_type": "execute_result"
    }
   ],
   "source": [
    "# эластичность\n",
    "E_d = x_1_val.diff() * p_1 / x_1_val\n",
    "E_d = sp.simplify(E_d)\n",
    "E_d"
   ]
  },
  {
   "cell_type": "code",
   "execution_count": null,
   "metadata": {
    "collapsed": false,
    "pycharm": {
     "name": "#%%\n"
    }
   },
   "outputs": [],
   "source": []
  },
  {
   "cell_type": "code",
   "execution_count": null,
   "metadata": {
    "collapsed": false,
    "pycharm": {
     "name": "#%%\n"
    }
   },
   "outputs": [],
   "source": []
  },
  {
   "cell_type": "code",
   "execution_count": 179,
   "metadata": {
    "collapsed": false,
    "pycharm": {
     "name": "#%%\n"
    }
   },
   "outputs": [
    {
     "data": {
      "text/latex": [
       "$\\displaystyle 6 x_{1} + 2 x_{2} = 60$"
      ],
      "text/plain": [
       "Eq(6*x_1 + 2*x_2, 60)"
      ]
     },
     "execution_count": 179,
     "metadata": {},
     "output_type": "execute_result"
    }
   ],
   "source": [
    "x_1, x_2 = sp.symbols('x_1 x_2')\n",
    "p_1, p_2 = 6, 2\n",
    "I = 60\n",
    "eq_I = sp.Eq(x_1 * p_1 + x_2 * p_2, I)\n",
    "U = (x_1 - 1) ** (1/4) * (x_2 - 3) ** (3/4)\n",
    "eq_I"
   ]
  },
  {
   "cell_type": "code",
   "execution_count": 180,
   "metadata": {
    "collapsed": false,
    "pycharm": {
     "name": "#%%\n"
    }
   },
   "outputs": [
    {
     "data": {
      "text/latex": [
       "$\\displaystyle \\frac{0.333333333333333 \\left(x_{2} - 3\\right)^{1.0}}{\\left(x_{1} - 1\\right)^{1.0}} = 3.0$"
      ],
      "text/plain": [
       "Eq(0.333333333333333*(x_2 - 3)**1.0/(x_1 - 1)**1.0, 3.0)"
      ]
     },
     "execution_count": 180,
     "metadata": {},
     "output_type": "execute_result"
    }
   ],
   "source": [
    "eq_U = sp.Eq(U.diff(x_1) / U.diff(x_2), p_1 / p_2)\n",
    "eq_U"
   ]
  },
  {
   "cell_type": "code",
   "execution_count": 181,
   "metadata": {
    "collapsed": false,
    "pycharm": {
     "name": "#%%\n"
    }
   },
   "outputs": [
    {
     "data": {
      "text/plain": [
       "(3.00000000000000, 21.0000000000000)"
      ]
     },
     "execution_count": 181,
     "metadata": {},
     "output_type": "execute_result"
    }
   ],
   "source": [
    "# 1) U(x1,x2) -> max\n",
    "res = sp.solve((eq_I, eq_U))\n",
    "x_1_val = res[x_1]\n",
    "x_2_val = res[x_2]\n",
    "x_1_val, x_2_val"
   ]
  },
  {
   "cell_type": "code",
   "execution_count": 182,
   "metadata": {
    "collapsed": false,
    "pycharm": {
     "name": "#%%\n"
    }
   },
   "outputs": [
    {
     "data": {
      "text/latex": [
       "$\\displaystyle 3.0$"
      ],
      "text/plain": [
       "3.00000000000000"
      ]
     },
     "execution_count": 182,
     "metadata": {},
     "output_type": "execute_result"
    }
   ],
   "source": [
    "# 2) норма замены\n",
    "MRS = (U.diff(x_1) / U.diff(x_2)).subs({x_1: x_1_val, x_2: x_2_val})\n",
    "MRS"
   ]
  },
  {
   "cell_type": "code",
   "execution_count": 191,
   "metadata": {
    "collapsed": false,
    "pycharm": {
     "name": "#%%\n"
    }
   },
   "outputs": [
    {
     "data": {
      "text/latex": [
       "$\\displaystyle p_{1} x_{1} + p_{2} x_{2} = 60$"
      ],
      "text/plain": [
       "Eq(p_1*x_1 + p_2*x_2, 60)"
      ]
     },
     "execution_count": 191,
     "metadata": {},
     "output_type": "execute_result"
    }
   ],
   "source": [
    "# 3) ф-ия спроса, эл. спроса\n",
    "p_1, p_2 = sp.symbols('p_1 p_2')\n",
    "eq_I = sp.Eq(p_1 * x_1 + p_2 * x_2, I)\n",
    "eq_I"
   ]
  },
  {
   "cell_type": "code",
   "execution_count": 192,
   "metadata": {
    "collapsed": false,
    "pycharm": {
     "name": "#%%\n"
    }
   },
   "outputs": [
    {
     "data": {
      "text/latex": [
       "$\\displaystyle \\frac{0.333333333333333 \\left(x_{2} - 3\\right)^{1.0}}{\\left(x_{1} - 1\\right)^{1.0}} = \\frac{p_{1}}{p_{2}}$"
      ],
      "text/plain": [
       "Eq(0.333333333333333*(x_2 - 3)**1.0/(x_1 - 1)**1.0, p_1/p_2)"
      ]
     },
     "execution_count": 192,
     "metadata": {},
     "output_type": "execute_result"
    }
   ],
   "source": [
    "eq_U = sp.Eq(U.diff(x_1) / U.diff(x_2), p_1 / p_2)\n",
    "eq_U"
   ]
  },
  {
   "cell_type": "code",
   "execution_count": 193,
   "metadata": {
    "collapsed": false,
    "pycharm": {
     "name": "#%%\n"
    }
   },
   "outputs": [
    {
     "data": {
      "text/plain": [
       "{x_1: 0.75*(p_1 - p_2 + 20.0)/p_1, x_2: 0.75*(-p_1 + p_2 + 60.0)/p_2}"
      ]
     },
     "execution_count": 193,
     "metadata": {},
     "output_type": "execute_result"
    }
   ],
   "source": [
    "res = sp.solve((eq_I, eq_U), (x_1, x_2))\n",
    "res"
   ]
  },
  {
   "cell_type": "code",
   "execution_count": 194,
   "metadata": {
    "collapsed": false,
    "pycharm": {
     "name": "#%%\n"
    }
   },
   "outputs": [
    {
     "data": {
      "text/latex": [
       "$\\displaystyle \\frac{0.75 \\left(p_{1} - p_{2} + 20.0\\right)}{p_{1}}$"
      ],
      "text/plain": [
       "0.75*(p_1 - p_2 + 20.0)/p_1"
      ]
     },
     "execution_count": 194,
     "metadata": {},
     "output_type": "execute_result"
    }
   ],
   "source": [
    "x_1_val = res[x_1]\n",
    "x_1_val"
   ]
  },
  {
   "cell_type": "code",
   "execution_count": 195,
   "metadata": {
    "collapsed": false,
    "pycharm": {
     "name": "#%%\n"
    }
   },
   "outputs": [
    {
     "data": {
      "text/latex": [
       "$\\displaystyle \\frac{0.75 \\left(- p_{1} + p_{2} + 60.0\\right)}{p_{2}}$"
      ],
      "text/plain": [
       "0.75*(-p_1 + p_2 + 60.0)/p_2"
      ]
     },
     "execution_count": 195,
     "metadata": {},
     "output_type": "execute_result"
    }
   ],
   "source": [
    "x_2_val = res[x_2]\n",
    "x_2_val"
   ]
  },
  {
   "cell_type": "code",
   "execution_count": 196,
   "metadata": {
    "collapsed": false,
    "pycharm": {
     "name": "#%%\n"
    }
   },
   "outputs": [
    {
     "data": {
      "text/latex": [
       "$\\displaystyle \\frac{1.0 p_{2} - 20.0}{p_{1} - p_{2} + 20.0}$"
      ],
      "text/plain": [
       "(1.0*p_2 - 20.0)/(p_1 - p_2 + 20.0)"
      ]
     },
     "execution_count": 196,
     "metadata": {},
     "output_type": "execute_result"
    }
   ],
   "source": [
    "# эластичность\n",
    "E_d = x_1_val.diff(p_1) * p_1 / x_1_val\n",
    "E_d = sp.simplify(E_d)\n",
    "E_d"
   ]
  },
  {
   "cell_type": "code",
   "execution_count": 199,
   "metadata": {
    "collapsed": false,
    "pycharm": {
     "name": "#%%\n"
    }
   },
   "outputs": [
    {
     "data": {
      "text/latex": [
       "$\\displaystyle \\frac{0.75 p_{2} - 15.0}{p_{1}^{2}}$"
      ],
      "text/plain": [
       "(0.75*p_2 - 15.0)/p_1**2"
      ]
     },
     "execution_count": 199,
     "metadata": {},
     "output_type": "execute_result"
    }
   ],
   "source": [
    "sp.simplify(x_1_val.diff(p_1))"
   ]
  },
  {
   "cell_type": "code",
   "execution_count": null,
   "metadata": {
    "collapsed": false,
    "pycharm": {
     "name": "#%%\n"
    }
   },
   "outputs": [],
   "source": []
  },
  {
   "cell_type": "markdown",
   "metadata": {
    "collapsed": false,
    "pycharm": {
     "name": "#%% md\n"
    }
   },
   "source": [
    "<img src=\"img/09_prac.png\" width=\"500\"/>"
   ]
  },
  {
   "cell_type": "code",
   "execution_count": 201,
   "metadata": {
    "collapsed": false,
    "pycharm": {
     "name": "#%%\n"
    }
   },
   "outputs": [],
   "source": [
    "x_1, x_2 = sp.symbols('x_1 x_2')\n",
    "Q = 2 * x_1 ** (1/4) * x_2 ** (1/2)\n",
    "p = 12\n",
    "q_1, q_2 = 2, 6"
   ]
  },
  {
   "cell_type": "code",
   "execution_count": 202,
   "metadata": {
    "collapsed": false,
    "pycharm": {
     "name": "#%%\n"
    }
   },
   "outputs": [
    {
     "data": {
      "text/latex": [
       "$\\displaystyle 2 x_{1} + 6 x_{2}$"
      ],
      "text/plain": [
       "2*x_1 + 6*x_2"
      ]
     },
     "execution_count": 202,
     "metadata": {},
     "output_type": "execute_result"
    }
   ],
   "source": [
    "C = q_1 * x_1 + q_2 * x_2\n",
    "C"
   ]
  },
  {
   "cell_type": "code",
   "execution_count": null,
   "metadata": {
    "collapsed": false,
    "pycharm": {
     "name": "#%%\n"
    }
   },
   "outputs": [],
   "source": [
    "P = p * Q - C"
   ]
  },
  {
   "cell_type": "code",
   "execution_count": null,
   "metadata": {
    "collapsed": false,
    "pycharm": {
     "name": "#%%\n"
    }
   },
   "outputs": [],
   "source": []
  },
  {
   "cell_type": "code",
   "execution_count": null,
   "metadata": {
    "collapsed": false,
    "pycharm": {
     "name": "#%%\n"
    }
   },
   "outputs": [],
   "source": []
  },
  {
   "cell_type": "code",
   "execution_count": null,
   "metadata": {
    "collapsed": false,
    "pycharm": {
     "name": "#%%\n"
    }
   },
   "outputs": [],
   "source": []
  },
  {
   "cell_type": "code",
   "execution_count": 8,
   "metadata": {
    "collapsed": false,
    "pycharm": {
     "name": "#%%\n"
    }
   },
   "outputs": [
    {
     "data": {
      "text/latex": [
       "$\\displaystyle 16 x_{1} + 20 x_{2} = 20000$"
      ],
      "text/plain": [
       "Eq(16*x_1 + 20*x_2, 20000)"
      ]
     },
     "execution_count": 8,
     "metadata": {},
     "output_type": "execute_result"
    }
   ],
   "source": [
    "# №39 стр. 147\n",
    "x_1, x_2 = sp.symbols('x_1 x_2')\n",
    "p_1, p_2 = 16, 20\n",
    "I = 20_000\n",
    "eq_I = sp.Eq(x_1 * p_1 + x_2 * p_2, I)\n",
    "U = x_1 ** 2 * x_2 ** 3\n",
    "eq_I"
   ]
  },
  {
   "cell_type": "code",
   "execution_count": 9,
   "metadata": {
    "collapsed": false,
    "pycharm": {
     "name": "#%%\n"
    }
   },
   "outputs": [
    {
     "data": {
      "text/latex": [
       "$\\displaystyle \\frac{2 x_{2}}{3 x_{1}} = 0.8$"
      ],
      "text/plain": [
       "Eq(2*x_2/(3*x_1), 0.8)"
      ]
     },
     "execution_count": 9,
     "metadata": {},
     "output_type": "execute_result"
    }
   ],
   "source": [
    "eq_U = sp.Eq(U.diff(x_1) / U.diff(x_2), p_1 / p_2)\n",
    "eq_U"
   ]
  },
  {
   "cell_type": "code",
   "execution_count": 10,
   "metadata": {
    "collapsed": false,
    "pycharm": {
     "name": "#%%\n"
    }
   },
   "outputs": [
    {
     "data": {
      "text/plain": [
       "(500.000000000000, 600.000000000000)"
      ]
     },
     "execution_count": 10,
     "metadata": {},
     "output_type": "execute_result"
    }
   ],
   "source": [
    "# 1) U(x1,x2) -> max\n",
    "res = sp.solve((eq_I, eq_U))\n",
    "x_1_val = res[x_1]\n",
    "x_2_val = res[x_2]\n",
    "x_1_val, x_2_val"
   ]
  },
  {
   "cell_type": "code",
   "execution_count": null,
   "metadata": {
    "collapsed": false,
    "pycharm": {
     "name": "#%%\n"
    }
   },
   "outputs": [],
   "source": []
  },
  {
   "cell_type": "code",
   "execution_count": null,
   "metadata": {
    "collapsed": false,
    "pycharm": {
     "name": "#%%\n"
    }
   },
   "outputs": [],
   "source": []
  },
  {
   "cell_type": "code",
   "execution_count": 9,
   "metadata": {
    "collapsed": false,
    "pycharm": {
     "name": "#%%\n"
    }
   },
   "outputs": [],
   "source": [
    "# №18 стр. 161\n",
    "x_1, x_2 = sp.symbols('x_1 x_2')\n",
    "p = 32\n",
    "w_1, w_2 = 4, 16\n",
    "Q = 8 * x_1 ** (1 / 4) * x_2 ** (1 / 4)\n",
    "C = w_1 * x_1 + w_2 * x_2"
   ]
  },
  {
   "cell_type": "code",
   "execution_count": 10,
   "metadata": {
    "collapsed": false,
    "pycharm": {
     "name": "#%%\n"
    }
   },
   "outputs": [
    {
     "data": {
      "text/latex": [
       "$\\displaystyle 256 x_{1}^{0.25} x_{2}^{0.25} - 4 x_{1} - 16 x_{2}$"
      ],
      "text/plain": [
       "256*x_1**0.25*x_2**0.25 - 4*x_1 - 16*x_2"
      ]
     },
     "execution_count": 10,
     "metadata": {},
     "output_type": "execute_result"
    }
   ],
   "source": [
    "(P := p * Q - C)"
   ]
  },
  {
   "cell_type": "code",
   "execution_count": 11,
   "metadata": {
    "collapsed": false,
    "pycharm": {
     "name": "#%%\n"
    }
   },
   "outputs": [
    {
     "data": {
      "text/latex": [
       "$\\displaystyle \\frac{64.0 x_{2}^{0.25}}{x_{1}^{0.75}} - 4 = 0$"
      ],
      "text/plain": [
       "Eq(64.0*x_2**0.25/x_1**0.75 - 4, 0)"
      ]
     },
     "execution_count": 11,
     "metadata": {},
     "output_type": "execute_result"
    }
   ],
   "source": [
    "(eq_1 := sp.Eq(P.diff(x_1), 0))"
   ]
  },
  {
   "cell_type": "code",
   "execution_count": 12,
   "metadata": {
    "collapsed": false,
    "pycharm": {
     "name": "#%%\n"
    }
   },
   "outputs": [
    {
     "data": {
      "text/latex": [
       "$\\displaystyle \\frac{64.0 x_{1}^{0.25}}{x_{2}^{0.75}} - 16 = 0$"
      ],
      "text/plain": [
       "Eq(64.0*x_1**0.25/x_2**0.75 - 16, 0)"
      ]
     },
     "execution_count": 12,
     "metadata": {},
     "output_type": "execute_result"
    }
   ],
   "source": [
    "(eq_2 := sp.Eq(P.diff(x_2), 0))"
   ]
  },
  {
   "cell_type": "code",
   "execution_count": 13,
   "metadata": {
    "collapsed": false,
    "pycharm": {
     "name": "#%%\n"
    }
   },
   "outputs": [
    {
     "data": {
      "text/plain": [
       "{x_1: 128.000000000000, x_2: 32.0000000000000}"
      ]
     },
     "execution_count": 13,
     "metadata": {},
     "output_type": "execute_result"
    }
   ],
   "source": [
    "(res := sp.solve((eq_1, eq_2))[0])"
   ]
  },
  {
   "cell_type": "code",
   "execution_count": 14,
   "metadata": {
    "collapsed": false,
    "pycharm": {
     "name": "#%%\n"
    }
   },
   "outputs": [
    {
     "data": {
      "text/latex": [
       "$\\displaystyle 1024.0$"
      ],
      "text/plain": [
       "1024.00000000000"
      ]
     },
     "execution_count": 14,
     "metadata": {},
     "output_type": "execute_result"
    }
   ],
   "source": [
    "# план рентабелен\n",
    "P.subs(res)"
   ]
  },
  {
   "cell_type": "code",
   "execution_count": 14,
   "metadata": {
    "collapsed": false,
    "pycharm": {
     "name": "#%%\n"
    }
   },
   "outputs": [],
   "source": []
  },
  {
   "cell_type": "code",
   "execution_count": 14,
   "metadata": {
    "collapsed": false,
    "pycharm": {
     "name": "#%%\n"
    }
   },
   "outputs": [],
   "source": []
  },
  {
   "cell_type": "code",
   "execution_count": 14,
   "metadata": {
    "collapsed": false,
    "pycharm": {
     "name": "#%%\n"
    }
   },
   "outputs": [],
   "source": []
  },
  {
   "cell_type": "code",
   "execution_count": null,
   "metadata": {
    "collapsed": false,
    "pycharm": {
     "name": "#%%\n"
    }
   },
   "outputs": [],
   "source": []
  },
  {
   "cell_type": "markdown",
   "metadata": {
    "collapsed": false,
    "pycharm": {
     "name": "#%% md\n"
    }
   },
   "source": [
    "<img src=\"img/10_practice.png\" width=\"500\"/>"
   ]
  },
  {
   "cell_type": "code",
   "execution_count": 247,
   "metadata": {
    "collapsed": false,
    "pycharm": {
     "name": "#%%\n"
    }
   },
   "outputs": [],
   "source": [
    "x_1, x_2 = 89, 88\n",
    "X = np.array([[3, 8],\n",
    "              [5, 7]])\n",
    "Y = np.array([[100 * 2],\n",
    "              [100 * 1.5]])"
   ]
  },
  {
   "cell_type": "code",
   "execution_count": 248,
   "metadata": {
    "collapsed": false,
    "pycharm": {
     "name": "#%%\n"
    }
   },
   "outputs": [
    {
     "data": {
      "text/plain": [
       "array([[0.03, 0.08],\n",
       "       [0.05, 0.07]])"
      ]
     },
     "execution_count": 248,
     "metadata": {},
     "output_type": "execute_result"
    }
   ],
   "source": [
    "(A := X / np.array([[100, 100], [100, 100]]).T)"
   ]
  },
  {
   "cell_type": "code",
   "execution_count": 249,
   "metadata": {
    "collapsed": false,
    "pycharm": {
     "name": "#%%\n"
    }
   },
   "outputs": [
    {
     "data": {
      "text/plain": [
       "array([[1.03551943, 0.08907694],\n",
       "       [0.05567309, 1.0800579 ]])"
      ]
     },
     "execution_count": 249,
     "metadata": {},
     "output_type": "execute_result"
    }
   ],
   "source": [
    "# 1) > 0, матрица продуктивна\n",
    "(S := np.linalg.inv(np.eye(2) - A))"
   ]
  },
  {
   "cell_type": "code",
   "execution_count": 250,
   "metadata": {
    "collapsed": false,
    "pycharm": {
     "name": "#%%\n"
    }
   },
   "outputs": [
    {
     "data": {
      "text/plain": [
       "array([[ 6. , 12. ],\n",
       "       [10. , 10.5]])"
      ]
     },
     "execution_count": 250,
     "metadata": {},
     "output_type": "execute_result"
    }
   ],
   "source": [
    "(B := A * Y.T)"
   ]
  },
  {
   "cell_type": "code",
   "execution_count": 251,
   "metadata": {
    "collapsed": false,
    "pycharm": {
     "name": "#%%\n"
    }
   },
   "outputs": [
    {
     "data": {
      "text/plain": [
       "array([[184. , 127.5]])"
      ]
     },
     "execution_count": 251,
     "metadata": {},
     "output_type": "execute_result"
    }
   ],
   "source": [
    "# 2)\n",
    "Y.reshape(1, -1) - B.sum(axis=0).reshape(1, -1)"
   ]
  },
  {
   "cell_type": "code",
   "execution_count": 252,
   "metadata": {
    "collapsed": false,
    "pycharm": {
     "name": "#%%\n"
    }
   },
   "outputs": [
    {
     "data": {
      "text/plain": [
       "array([[100.78387707],\n",
       "       [109.50450952]])"
      ]
     },
     "execution_count": 252,
     "metadata": {},
     "output_type": "execute_result"
    }
   ],
   "source": [
    "# 3)\n",
    "Y_ = np.array([[x_1],\n",
    "               [x_2 * 1.1]])\n",
    "S.dot(Y_)"
   ]
  },
  {
   "cell_type": "code",
   "execution_count": 252,
   "metadata": {
    "collapsed": false,
    "pycharm": {
     "name": "#%%\n"
    }
   },
   "outputs": [],
   "source": []
  },
  {
   "cell_type": "markdown",
   "metadata": {
    "collapsed": false,
    "pycharm": {
     "name": "#%% md\n"
    }
   },
   "source": [
    "<img src=\"img/11_practice.png\" width=\"600\"/>"
   ]
  },
  {
   "cell_type": "code",
   "execution_count": 259,
   "metadata": {
    "collapsed": false,
    "pycharm": {
     "name": "#%%\n"
    }
   },
   "outputs": [],
   "source": [
    "x_1, x_2 = 100, 130\n",
    "X = np.array([[11, 30],\n",
    "              [17, 20]])"
   ]
  },
  {
   "cell_type": "code",
   "execution_count": 260,
   "metadata": {
    "collapsed": false,
    "pycharm": {
     "name": "#%%\n"
    }
   },
   "outputs": [
    {
     "data": {
      "text/plain": [
       "array([[0.07801418, 0.17964072],\n",
       "       [0.12056738, 0.11976048]])"
      ]
     },
     "execution_count": 260,
     "metadata": {},
     "output_type": "execute_result"
    }
   ],
   "source": [
    "(A := X / np.array([[141, 141],\n",
    "                    [167, 167]]).T)"
   ]
  },
  {
   "cell_type": "code",
   "execution_count": 261,
   "metadata": {
    "collapsed": false,
    "pycharm": {
     "name": "#%%\n"
    }
   },
   "outputs": [
    {
     "data": {
      "text/plain": [
       "array([[1.11435484, 0.22741935],\n",
       "       [0.15263441, 1.1672043 ]])"
      ]
     },
     "execution_count": 261,
     "metadata": {},
     "output_type": "execute_result"
    }
   ],
   "source": [
    "# 1) > 0, матрица продуктивна\n",
    "(S := np.linalg.inv(np.eye(2) - A))"
   ]
  },
  {
   "cell_type": "code",
   "execution_count": 262,
   "metadata": {
    "collapsed": false,
    "pycharm": {
     "name": "#%%\n"
    }
   },
   "outputs": [
    {
     "data": {
      "text/plain": [
       "array([[22., 30.],\n",
       "       [34., 20.]])"
      ]
     },
     "execution_count": 262,
     "metadata": {},
     "output_type": "execute_result"
    }
   ],
   "source": [
    "Y = np.array([[141 * 2],\n",
    "              [167]])\n",
    "(B := A * Y.T)"
   ]
  },
  {
   "cell_type": "code",
   "execution_count": 263,
   "metadata": {
    "collapsed": false,
    "pycharm": {
     "name": "#%%\n"
    }
   },
   "outputs": [
    {
     "data": {
      "text/plain": [
       "array([[226.],\n",
       "       [117.]])"
      ]
     },
     "execution_count": 263,
     "metadata": {},
     "output_type": "execute_result"
    }
   ],
   "source": [
    "# 2) конечное потребление\n",
    "(Y.reshape(1, -1) - B.sum(axis=0).reshape(1, -1)).T"
   ]
  },
  {
   "cell_type": "code",
   "execution_count": 264,
   "metadata": {
    "collapsed": false,
    "pycharm": {
     "name": "#%%\n"
    }
   },
   "outputs": [
    {
     "data": {
      "text/plain": [
       "array([[163.28709677],\n",
       "       [170.05268817]])"
      ]
     },
     "execution_count": 264,
     "metadata": {},
     "output_type": "execute_result"
    }
   ],
   "source": [
    "# 3) валовый выпуск\n",
    "Y_ = np.array([[120],\n",
    "               [x_2]])\n",
    "S.dot(Y_)"
   ]
  },
  {
   "cell_type": "code",
   "execution_count": null,
   "metadata": {
    "collapsed": false,
    "pycharm": {
     "name": "#%%\n"
    }
   },
   "outputs": [],
   "source": []
  },
  {
   "cell_type": "code",
   "execution_count": null,
   "metadata": {
    "collapsed": false,
    "pycharm": {
     "name": "#%%\n"
    }
   },
   "outputs": [],
   "source": []
  },
  {
   "cell_type": "code",
   "execution_count": 309,
   "metadata": {
    "collapsed": false,
    "pycharm": {
     "name": "#%%\n"
    }
   },
   "outputs": [],
   "source": [
    "A = sp.Matrix([[1, 2],\n",
    "              [3, 4]])\n",
    "k = sp.symbols('k')"
   ]
  },
  {
   "cell_type": "code",
   "execution_count": 317,
   "metadata": {
    "collapsed": false,
    "pycharm": {
     "name": "#%%\n"
    }
   },
   "outputs": [
    {
     "data": {
      "text/latex": [
       "$\\displaystyle \\left[\\begin{matrix}1 - k & 2\\\\3 & 4 - k\\end{matrix}\\right]$"
      ],
      "text/plain": [
       "Matrix([\n",
       "[1 - k,     2],\n",
       "[    3, 4 - k]])"
      ]
     },
     "execution_count": 317,
     "metadata": {},
     "output_type": "execute_result"
    }
   ],
   "source": [
    "(M := A - sp.diagonalize_vector(sp.Matrix([k, k])))"
   ]
  },
  {
   "cell_type": "code",
   "execution_count": null,
   "metadata": {
    "collapsed": false,
    "pycharm": {
     "name": "#%%\n"
    }
   },
   "outputs": [],
   "source": []
  },
  {
   "cell_type": "code",
   "execution_count": null,
   "metadata": {
    "collapsed": false,
    "pycharm": {
     "name": "#%%\n"
    }
   },
   "outputs": [],
   "source": []
  },
  {
   "cell_type": "code",
   "execution_count": null,
   "metadata": {
    "collapsed": false,
    "pycharm": {
     "name": "#%%\n"
    }
   },
   "outputs": [],
   "source": []
  }
 ],
 "metadata": {
  "kernelspec": {
   "display_name": "Python 3 (ipykernel)",
   "language": "python",
   "name": "python3"
  },
  "language_info": {
   "codemirror_mode": {
    "name": "ipython",
    "version": 3
   },
   "file_extension": ".py",
   "mimetype": "text/x-python",
   "name": "python",
   "nbconvert_exporter": "python",
   "pygments_lexer": "ipython3",
   "version": "3.9.9"
  }
 },
 "nbformat": 4,
 "nbformat_minor": 1
}
