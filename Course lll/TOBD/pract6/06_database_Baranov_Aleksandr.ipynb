{
 "cells": [
  {
   "cell_type": "markdown",
   "source": [
    "# Работа с базами данных"
   ],
   "metadata": {}
  },
  {
   "cell_type": "markdown",
   "source": [
    "Материалы:\n",
    "* Макрушин С.В. Лекция 6: Работа с базами данных\n",
    "* https://sqliteonline.com/\n",
    "* https://docs.python.org/3/library/sqlite3.html\n",
    "* https://www.geeksforgeeks.org/sql-join-set-1-inner-left-right-and-full-joins/\n",
    "* https://www.datacamp.com/community/tutorials/group-by-having-clause-sql"
   ],
   "metadata": {}
  },
  {
   "cell_type": "markdown",
   "source": [
    "## Задачи для совместного разбора"
   ],
   "metadata": {}
  },
  {
   "cell_type": "markdown",
   "source": [
    "1. Работая с базой данных `Chinook_Sqlite.sqlite`, найдите и выведите на экран имена и фамилии всех заказчиков из Канады"
   ],
   "metadata": {}
  },
  {
   "cell_type": "code",
   "execution_count": 1,
   "source": [
    "# import sqlite3\n",
    "\n",
    "# con = sqlite3.connect(\"./06_database_data/Chinook_Sqlite.sqlite\")\n",
    "\n",
    "# cur = con.cursor()\n",
    "# # for row in cur.execute(\"SELECT firstname, lastname FROM customer WHERE country == 'Canada'\"):\n",
    "# #     print(f\"- {row[0]} {row[1]}\")\n",
    "# for row in cur.execute(\"SELECT firstname, lastname FROM customer WHERE country == ?\", ('Canada', )):\n",
    "#     print(f\"- {row[0]} {row[1]}\")\n",
    "\n",
    "# cur.close()\n",
    "# con.close()\n"
   ],
   "outputs": [],
   "metadata": {}
  },
  {
   "cell_type": "markdown",
   "source": [
    "2. Найти и вывести на экран названия всех альбомов группы Accept"
   ],
   "metadata": {}
  },
  {
   "cell_type": "code",
   "execution_count": 2,
   "source": [
    "# cur = con.cursor()\n",
    "# for i in cur.execute(\"SELECT title FROM album WHERE artistid in (SELECT artistid FROM artist WHERE name == 'Accept')\"):\n",
    "#     print(i[0])\n",
    "\n",
    "# cur.close()\n"
   ],
   "outputs": [],
   "metadata": {}
  },
  {
   "cell_type": "markdown",
   "source": [
    "3. Создайте базу данных с названием вашей группы. В этой базе данных создайте таблицу Student, содержащую 2 столбца: id и name. Добавьте в таблицу Student информацию о студентах, сидящих с вами по соседству."
   ],
   "metadata": {}
  },
  {
   "cell_type": "code",
   "execution_count": null,
   "source": [],
   "outputs": [],
   "metadata": {}
  },
  {
   "cell_type": "markdown",
   "source": [
    "## Лабораторная работа 6"
   ],
   "metadata": {}
  },
  {
   "cell_type": "markdown",
   "source": [
    "1. Создайте файл базы данных c названием `recipes.db`. Создайте объект-курсор. "
   ],
   "metadata": {}
  },
  {
   "cell_type": "code",
   "execution_count": 3,
   "source": [
    "import sqlite3\n",
    "con = sqlite3.connect(\"./06_database_data/recipes.db\")\n",
    "cur = con.cursor()\n",
    "# cur.close()\n",
    "# con.close()"
   ],
   "outputs": [],
   "metadata": {}
  },
  {
   "cell_type": "markdown",
   "source": [
    "2. Напишите и выполните SQL-запрос для создания таблицы рецептов `Recipe`. Таблица должна содержать следующие поля:\n",
    "`id`, `name`, `minutes`, `submitted`, `description`, `n_ingredients`. Определитесь с типами и составом ключевых полей."
   ],
   "metadata": {}
  },
  {
   "cell_type": "code",
   "execution_count": 4,
   "source": [
    "cur.execute('''DROP TABLE IF EXISTS Recipe''')\n",
    "cur.execute('''\n",
    "            CREATE TABLE Recipe\n",
    "            (\n",
    "                [id] INTEGER PRIMARY KEY, \n",
    "                [name] VARCHAR2, \n",
    "                [minutes] INTEGER, \n",
    "                [submitted] DATETIME, \n",
    "                [description] VARCHAR2, \n",
    "                [n_ingredients] INTEGER)''')\n",
    "\n",
    "# cur.close()\n"
   ],
   "outputs": [
    {
     "output_type": "execute_result",
     "data": {
      "text/plain": [
       "<sqlite3.Cursor at 0x7fd30c737730>"
      ]
     },
     "metadata": {},
     "execution_count": 4
    }
   ],
   "metadata": {}
  },
  {
   "cell_type": "markdown",
   "source": [
    "3. Напишите и выполните SQL-запрос для создания таблицы отзывов `Review`. Таблица должна содержать следующие поля:\n",
    "`id`, `user_id`, `recipe_id`, `date`, `rating`, `review`. Определитесь с типами полей, набором ключевых полей. При помощи внешнего ключа соедините две таблицы."
   ],
   "metadata": {}
  },
  {
   "cell_type": "code",
   "execution_count": 5,
   "source": [
    "cur.execute('''DROP TABLE IF EXISTS Review''')\n",
    "cur.execute('''\n",
    "            CREATE TABLE Review\n",
    "            (\n",
    "                [id] INTEGER PRIMARY KEY, \n",
    "                [user_id] INTEGER, \n",
    "                [recipe_id] INTEGER, \n",
    "                [date] DATETIME, \n",
    "                [rating] INTEGER, \n",
    "                [review] VARCHAR2,\n",
    "                FOREIGN KEY (user_id) references Recipe (id)\n",
    "                \n",
    "            )''')"
   ],
   "outputs": [
    {
     "output_type": "execute_result",
     "data": {
      "text/plain": [
       "<sqlite3.Cursor at 0x7fd30c737730>"
      ]
     },
     "metadata": {},
     "execution_count": 5
    }
   ],
   "metadata": {}
  },
  {
   "cell_type": "markdown",
   "source": [
    "4. Загрузите данные из файлов `reviews_sample.csv` (__ЛР2__) и `recipes_sample_with_tags_ingredients.csv` (__ЛР5__) в созданные таблицы"
   ],
   "metadata": {}
  },
  {
   "cell_type": "code",
   "execution_count": 6,
   "source": [
    "import csv\n",
    "\n",
    "with open('../pract2/data/reviews_sample.csv', 'r') as f:\n",
    "    dr = csv.DictReader(f)\n",
    "    reviews_to_db = [(i['id'], i['user_id'], i['recipe_id'], i['date'], i['rating'], i['review']) for i in dr]\n",
    "    # print(reviews_to_db)\n",
    "\n",
    "\n",
    "\n",
    "with open('../pract5/data/out/recipes_sample_with_tags_ingredients.csv', 'r') as f:\n",
    "    dr = csv.DictReader(f)\n",
    "    recipes_to_db = [(i[\"id\"], i[\"name\"], i[\"minutes\"], i[\"submitted\"], i[\"description\"], i[\"n_ingredients\"]) for i in dr]\n",
    "    # print(recipes_to_db)\n",
    "\n",
    "cur.executemany(\"INSERT INTO Review (id, user_id, recipe_id, date, rating, review) VALUES (?, ?, ?, ?, ?, ?);\", reviews_to_db)\n",
    "cur.executemany(\"INSERT INTO Recipe (id, name, minutes, submitted, description, n_ingredients) VALUES (?, ?, ?, ?, ?, ?);\", recipes_to_db)\n",
    "con.commit()\n"
   ],
   "outputs": [],
   "metadata": {}
  },
  {
   "cell_type": "markdown",
   "source": [
    "5. Найдите все рецепты, для выполнения которых нужно ровно 10 ингредиентов. Выведите на экран первые 5 из найденных рецептов."
   ],
   "metadata": {}
  },
  {
   "cell_type": "code",
   "execution_count": 22,
   "source": [
    "cur.execute(\"SELECT * FROM Recipe WHERE n_ingredients == 10\").fetchmany(5)"
   ],
   "outputs": [
    {
     "output_type": "execute_result",
     "data": {
      "text/plain": [
       "[(246, 'lee s hot crab dip', 45, '1999-09-01', \"lee's hot crab dip\", 10),\n",
       " (289,\n",
       "  'feijoada  brazilian bean soup  ii',\n",
       "  150,\n",
       "  '1999-10-04',\n",
       "  'brazilian bean soup',\n",
       "  10),\n",
       " (321, 'drunken chicken ii', 65, '1999-10-04', '', 10),\n",
       " (383, 'cocoa espresso cooler', 20, '1999-08-30', '', 10),\n",
       " (544, 'greek mushroom salad', 38, '1999-08-10', '', 10)]"
      ]
     },
     "metadata": {},
     "execution_count": 22
    }
   ],
   "metadata": {}
  },
  {
   "cell_type": "markdown",
   "source": [
    "6. Найдите название рецепта, для выполнения которого требуется больше всего времени."
   ],
   "metadata": {}
  },
  {
   "cell_type": "code",
   "execution_count": 36,
   "source": [
    "[i[0] for i in cur.execute(\"SELECT name FROM Recipe WHERE minutes == (SELECT MAX(minutes) FROM Recipe)\")]\n",
    "    "
   ],
   "outputs": [
    {
     "output_type": "execute_result",
     "data": {
      "text/plain": [
       "['strawberry liqueur', 'blueberry liqueur']"
      ]
     },
     "metadata": {},
     "execution_count": 36
    }
   ],
   "metadata": {}
  },
  {
   "cell_type": "markdown",
   "source": [
    "7. Запросите у пользователя id рецепта и верните информацию об этом рецепте. Если рецепт отсуствует, выведите соответствующее сообщение."
   ],
   "metadata": {}
  },
  {
   "cell_type": "code",
   "execution_count": 43,
   "source": [
    "id_recipe = input(\"Введите id рецепта: \") # без валидации\n",
    "\n",
    "flag = False\n",
    "for i in cur.execute(\"SELECT * FROM Recipe WHERE id == ?\", [id_recipe]):\n",
    "    flag = True\n",
    "    print(i)\n",
    "\n",
    "if not flag:\n",
    "    print(\"Recipe not found\")\n",
    "\n",
    "# 236274\n"
   ],
   "outputs": [
    {
     "output_type": "stream",
     "name": "stdout",
     "text": [
      "(236274, 'strawberry liqueur', 129615, '2007-06-21', 'a beautiful light red shade with a delicious strawberry flavor.', 5)\n"
     ]
    }
   ],
   "metadata": {}
  },
  {
   "cell_type": "markdown",
   "source": [
    "8. Найдите кол-во отзывов с рейтингом 5."
   ],
   "metadata": {}
  },
  {
   "cell_type": "markdown",
   "source": [
    "9. Найдите кол-во уникальных рецептов, не имеющих отзывов с рейтингом, меньше 4. "
   ],
   "metadata": {}
  },
  {
   "cell_type": "markdown",
   "source": [
    "10. Найдите кол-во рецептов, опубликованных в 2010 году и имеющих длину не менее 15 минут."
   ],
   "metadata": {}
  },
  {
   "cell_type": "markdown",
   "source": [
    "11. Выберите id рецепта, название рецепта, id пользователя, оставившего отзыв, дату отзыва и рейтинг для тех рецептов, которые имеют не менее 3 ингредиентов. Отсортируйте результат по id рецепта."
   ],
   "metadata": {}
  }
 ],
 "metadata": {
  "kernelspec": {
   "name": "python3",
   "display_name": "Python 3.7.0 64-bit"
  },
  "language_info": {
   "codemirror_mode": {
    "name": "ipython",
    "version": 3
   },
   "file_extension": ".py",
   "mimetype": "text/x-python",
   "name": "python",
   "nbconvert_exporter": "python",
   "pygments_lexer": "ipython3",
   "version": "3.7.0"
  },
  "interpreter": {
   "hash": "aee8b7b246df8f9039afb4144a1f6fd8d2ca17a180786b69acc140d282b71a49"
  }
 },
 "nbformat": 4,
 "nbformat_minor": 4
}