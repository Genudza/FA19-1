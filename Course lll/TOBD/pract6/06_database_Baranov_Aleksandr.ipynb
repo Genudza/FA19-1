{
 "cells": [
  {
   "cell_type": "markdown",
   "metadata": {},
   "source": [
    "# Работа с базами данных"
   ]
  },
  {
   "cell_type": "markdown",
   "metadata": {},
   "source": [
    "Материалы:\n",
    "* Макрушин С.В. Лекция 6: Работа с базами данных\n",
    "* https://sqliteonline.com/\n",
    "* https://docs.python.org/3/library/sqlite3.html\n",
    "* https://www.geeksforgeeks.org/sql-join-set-1-inner-left-right-and-full-joins/\n",
    "* https://www.datacamp.com/community/tutorials/group-by-having-clause-sql"
   ]
  },
  {
   "cell_type": "markdown",
   "metadata": {},
   "source": [
    "## Задачи для совместного разбора"
   ]
  },
  {
   "cell_type": "markdown",
   "metadata": {},
   "source": [
    "1. Работая с базой данных `Chinook_Sqlite.sqlite`, найдите и выведите на экран имена и фамилии всех заказчиков из Канады"
   ]
  },
  {
   "cell_type": "code",
   "execution_count": 1,
   "metadata": {},
   "outputs": [],
   "source": [
    "# import sqlite3\n",
    "\n",
    "# con = sqlite3.connect(\"./06_database_data/Chinook_Sqlite.sqlite\")\n",
    "\n",
    "# cur = con.cursor()\n",
    "# # for row in cur.execute(\"SELECT firstname, lastname FROM customer WHERE country == 'Canada'\"):\n",
    "# #     print(f\"- {row[0]} {row[1]}\")\n",
    "# for row in cur.execute(\"SELECT firstname, lastname FROM customer WHERE country == ?\", ('Canada', )):\n",
    "#     print(f\"- {row[0]} {row[1]}\")\n",
    "\n",
    "# cur.close()\n",
    "# con.close()\n"
   ]
  },
  {
   "cell_type": "markdown",
   "metadata": {},
   "source": [
    "2. Найти и вывести на экран названия всех альбомов группы Accept"
   ]
  },
  {
   "cell_type": "code",
   "execution_count": 2,
   "metadata": {},
   "outputs": [],
   "source": [
    "# cur = con.cursor()\n",
    "# for i in cur.execute(\"SELECT title FROM album WHERE artistid in (SELECT artistid FROM artist WHERE name == 'Accept')\"):\n",
    "#     print(i[0])\n",
    "\n",
    "# cur.close()\n"
   ]
  },
  {
   "cell_type": "markdown",
   "metadata": {},
   "source": [
    "3. Создайте базу данных с названием вашей группы. В этой базе данных создайте таблицу Student, содержащую 2 столбца: id и name. Добавьте в таблицу Student информацию о студентах, сидящих с вами по соседству."
   ]
  },
  {
   "cell_type": "code",
   "execution_count": null,
   "metadata": {},
   "outputs": [],
   "source": []
  },
  {
   "cell_type": "markdown",
   "metadata": {},
   "source": [
    "## Лабораторная работа 6"
   ]
  },
  {
   "cell_type": "markdown",
   "metadata": {},
   "source": [
    "1. Создайте файл базы данных c названием `recipes.db`. Создайте объект-курсор. "
   ]
  },
  {
   "cell_type": "code",
   "execution_count": 3,
   "metadata": {},
   "outputs": [],
   "source": [
    "import sqlite3\n",
    "con = sqlite3.connect(\"./06_database_data/recipes.db\")\n",
    "cur = con.cursor()"
   ]
  },
  {
   "cell_type": "markdown",
   "metadata": {},
   "source": [
    "2. Напишите и выполните SQL-запрос для создания таблицы рецептов `Recipe`. Таблица должна содержать следующие поля:\n",
    "`id`, `name`, `minutes`, `submitted`, `description`, `n_ingredients`. Определитесь с типами и составом ключевых полей."
   ]
  },
  {
   "cell_type": "code",
   "execution_count": 4,
   "metadata": {},
   "outputs": [
    {
     "data": {
      "text/plain": [
       "<sqlite3.Cursor at 0x10cacd7a0>"
      ]
     },
     "execution_count": 4,
     "metadata": {},
     "output_type": "execute_result"
    }
   ],
   "source": [
    "cur.execute('''DROP TABLE IF EXISTS Recipe''')\n",
    "cur.execute('''\n",
    "            CREATE TABLE Recipe\n",
    "            (\n",
    "                [id] INTEGER PRIMARY KEY, \n",
    "                [name] VARCHAR2, \n",
    "                [minutes] INTEGER, \n",
    "                [submitted] DATETIME, \n",
    "                [description] VARCHAR2, \n",
    "                [n_ingredients] INTEGER)''')\n",
    "\n",
    "# cur.close()\n"
   ]
  },
  {
   "cell_type": "markdown",
   "metadata": {},
   "source": [
    "3. Напишите и выполните SQL-запрос для создания таблицы отзывов `Review`. Таблица должна содержать следующие поля:\n",
    "`id`, `user_id`, `recipe_id`, `date`, `rating`, `review`. Определитесь с типами полей, набором ключевых полей. При помощи внешнего ключа соедините две таблицы."
   ]
  },
  {
   "cell_type": "code",
   "execution_count": 5,
   "metadata": {},
   "outputs": [
    {
     "data": {
      "text/plain": [
       "<sqlite3.Cursor at 0x10cacd7a0>"
      ]
     },
     "execution_count": 5,
     "metadata": {},
     "output_type": "execute_result"
    }
   ],
   "source": [
    "cur.execute('''DROP TABLE IF EXISTS Review''')\n",
    "cur.execute('''\n",
    "            CREATE TABLE Review\n",
    "            (\n",
    "                [id] INTEGER PRIMARY KEY, \n",
    "                [user_id] INTEGER, \n",
    "                [recipe_id] INTEGER, \n",
    "                [date] DATETIME, \n",
    "                [rating] INTEGER, \n",
    "                [review] VARCHAR2,\n",
    "                FOREIGN KEY (user_id) references Recipe (id)\n",
    "                \n",
    "            )''')"
   ]
  },
  {
   "cell_type": "markdown",
   "metadata": {},
   "source": [
    "4. Загрузите данные из файлов `reviews_sample.csv` (__ЛР2__) и `recipes_sample_with_tags_ingredients.csv` (__ЛР5__) в созданные таблицы"
   ]
  },
  {
   "cell_type": "code",
   "execution_count": 6,
   "metadata": {},
   "outputs": [],
   "source": [
    "import csv\n",
    "\n",
    "with open('../pract2/data/reviews_sample.csv', 'r') as f:\n",
    "    dr = csv.DictReader(f)\n",
    "    reviews_to_db = [(i['id'], i['user_id'], i['recipe_id'], i['date'], i['rating'], i['review']) for i in dr]\n",
    "    # print(reviews_to_db)\n",
    "\n",
    "\n",
    "\n",
    "with open('../pract5/data/out/recipes_sample_with_tags_ingredients.csv', 'r') as f:\n",
    "    dr = csv.DictReader(f)\n",
    "    recipes_to_db = [(i[\"id\"], i[\"name\"], i[\"minutes\"], i[\"submitted\"], i[\"description\"], i[\"n_ingredients\"]) for i in dr]\n",
    "    # print(recipes_to_db)\n",
    "\n",
    "cur.executemany(\"INSERT INTO Review (id, user_id, recipe_id, date, rating, review) VALUES (?, ?, ?, ?, ?, ?);\", reviews_to_db)\n",
    "cur.executemany(\"INSERT INTO Recipe (id, name, minutes, submitted, description, n_ingredients) VALUES (?, ?, ?, ?, ?, ?);\", recipes_to_db)\n",
    "con.commit()\n"
   ]
  },
  {
   "cell_type": "code",
   "execution_count": 7,
   "metadata": {},
   "outputs": [],
   "source": [
    "# set null in columns\n",
    "cur.execute(\"UPDATE Review SET review = NULL WHERE LENGTH(review) < 1\")\n",
    "cur.execute(\"UPDATE Review SET rating = NULL WHERE LENGTH(rating) < 1\")\n",
    "cur.execute(\"UPDATE Recipe SET submitted = NULL WHERE LENGTH(submitted) < 1\")\n",
    "con.commit()"
   ]
  },
  {
   "cell_type": "markdown",
   "metadata": {},
   "source": [
    "5. Найдите все рецепты, для выполнения которых нужно ровно 10 ингредиентов. Выведите на экран первые 5 из найденных рецептов."
   ]
  },
  {
   "cell_type": "code",
   "execution_count": 8,
   "metadata": {},
   "outputs": [
    {
     "data": {
      "text/plain": [
       "[(176, 'cola cake', 55, '1999-08-22', '', 10),\n",
       " (246, 'lee s hot crab dip', 45, '1999-09-01', \"lee's hot crab dip\", 10),\n",
       " (289,\n",
       "  'feijoada  brazilian bean soup  ii',\n",
       "  150,\n",
       "  '1999-10-04',\n",
       "  'brazilian bean soup',\n",
       "  10),\n",
       " (373,\n",
       "  'tiramisu   balducci s in new york city',\n",
       "  95,\n",
       "  '1999-08-17',\n",
       "  'this is an adopted recipe. i shall be trying it out and then post any additional information if needs be. if you are going to give any or no stars, please at least give the reason why so that you can help me improve the recipe. thank you.',\n",
       "  10),\n",
       " (544, 'greek mushroom salad', 38, '1999-08-10', '', 10)]"
      ]
     },
     "execution_count": 8,
     "metadata": {},
     "output_type": "execute_result"
    }
   ],
   "source": [
    "cur.execute(\"SELECT * FROM Recipe WHERE n_ingredients == 10\").fetchmany(5)"
   ]
  },
  {
   "cell_type": "markdown",
   "metadata": {},
   "source": [
    "6. Найдите название рецепта, для выполнения которого требуется больше всего времени."
   ]
  },
  {
   "cell_type": "code",
   "execution_count": 9,
   "metadata": {},
   "outputs": [
    {
     "data": {
      "text/plain": [
       "['strawberry liqueur', 'blueberry liqueur']"
      ]
     },
     "execution_count": 9,
     "metadata": {},
     "output_type": "execute_result"
    }
   ],
   "source": [
    "[i[0] for i in cur.execute(\"SELECT name FROM Recipe WHERE minutes == (SELECT MAX(minutes) FROM Recipe)\")]\n",
    "    "
   ]
  },
  {
   "cell_type": "markdown",
   "metadata": {},
   "source": [
    "7. Запросите у пользователя id рецепта и верните информацию об этом рецепте. Если рецепт отсуствует, выведите соответствующее сообщение."
   ]
  },
  {
   "cell_type": "code",
   "execution_count": 10,
   "metadata": {},
   "outputs": [
    {
     "name": "stdout",
     "output_type": "stream",
     "text": [
      "Recipe not found\n"
     ]
    }
   ],
   "source": [
    "id_recipe = input(\"Введите id рецепта: \") # без валидации\n",
    "\n",
    "flag = False\n",
    "for i in cur.execute(\"SELECT * FROM Recipe WHERE id == ?\", [id_recipe]):\n",
    "    flag = True\n",
    "    print(i)\n",
    "\n",
    "if not flag:\n",
    "    print(\"Recipe not found\")\n",
    "\n",
    "# 236274\n"
   ]
  },
  {
   "cell_type": "markdown",
   "metadata": {},
   "source": [
    "8. Найдите кол-во отзывов с рейтингом 5."
   ]
  },
  {
   "cell_type": "code",
   "execution_count": 11,
   "metadata": {},
   "outputs": [
    {
     "data": {
      "text/plain": [
       "91361"
      ]
     },
     "execution_count": 11,
     "metadata": {},
     "output_type": "execute_result"
    }
   ],
   "source": [
    "[i for i in cur.execute(\"SELECT COUNT(*) FROM Review WHERE rating == 5\").fetchone()][0]"
   ]
  },
  {
   "cell_type": "markdown",
   "metadata": {},
   "source": [
    "9. Найдите кол-во уникальных рецептов, не имеющих отзывов с рейтингом, меньше 4. "
   ]
  },
  {
   "cell_type": "code",
   "execution_count": 12,
   "metadata": {},
   "outputs": [
    {
     "data": {
      "text/plain": [
       "17"
      ]
     },
     "execution_count": 12,
     "metadata": {},
     "output_type": "execute_result"
    }
   ],
   "source": [
    "[i for i in cur.execute(\"SELECT COUNT(*) FROM Review WHERE review IS NULL AND rating >=4\").fetchone()][0]"
   ]
  },
  {
   "cell_type": "markdown",
   "metadata": {},
   "source": [
    "10. Найдите кол-во рецептов, опубликованных в 2010 году и имеющих длину не менее 15 минут."
   ]
  },
  {
   "cell_type": "code",
   "execution_count": 13,
   "metadata": {},
   "outputs": [
    {
     "data": {
      "text/plain": [
       "136"
      ]
     },
     "execution_count": 13,
     "metadata": {},
     "output_type": "execute_result"
    }
   ],
   "source": [
    "[i for i in cur.execute(\"\"\"\n",
    "                        SELECT COUNT(*) FROM Recipe \n",
    "                        WHERE n_ingredients >= 15 \n",
    "                        AND (submitted >= '2010-01-01' \n",
    "                        AND submitted < '2011-01-01')\n",
    "                        \"\"\").fetchone()][0]\n",
    "\n"
   ]
  },
  {
   "cell_type": "markdown",
   "metadata": {},
   "source": [
    "11. Выберите id рецепта, название рецепта, id пользователя, оставившего отзыв, дату отзыва и рейтинг для тех рецептов, которые имеют не менее 3 ингредиентов. Отсортируйте результат по id рецепта."
   ]
  },
  {
   "cell_type": "code",
   "execution_count": 14,
   "metadata": {},
   "outputs": [
    {
     "data": {
      "text/plain": [
       "[(48, 'boston cream pie', 532498),\n",
       " (48, 'boston cream pie', 532499),\n",
       " (55, 'betty crocker s southwestern guacamole dip', 462144),\n",
       " (55, 'betty crocker s southwestern guacamole dip', 462145)]"
      ]
     },
     "execution_count": 14,
     "metadata": {},
     "output_type": "execute_result"
    }
   ],
   "source": [
    "[i for i in cur.execute(\"\"\"\n",
    "                        SELECT recipe_id, name, id FROM (SELECT * FROM Review\n",
    "                        INNER JOIN Recipe ON Review.recipe_id = Recipe.id)\n",
    "                        WHERE n_ingredients >=3\n",
    "                        AND (\n",
    "                            review IS NOT NULL\n",
    "                            AND \n",
    "                            submitted IS NOT NULL\n",
    "                            AND \n",
    "                            rating IS NOT NULL\n",
    "                        )\n",
    "\t\t\t\t\t\tORDER BY recipe_id\n",
    "                        \"\"\").fetchmany(4)]\n",
    "\n",
    "# 125304"
   ]
  },
  {
   "cell_type": "code",
   "execution_count": 15,
   "metadata": {},
   "outputs": [],
   "source": [
    "cur.close()\n",
    "con.close()"
   ]
  }
 ],
 "metadata": {
  "interpreter": {
   "hash": "aee8b7b246df8f9039afb4144a1f6fd8d2ca17a180786b69acc140d282b71a49"
  },
  "kernelspec": {
   "display_name": "Python 3.9.7 64-bit",
   "name": "python3"
  },
  "language_info": {
   "codemirror_mode": {
    "name": "ipython",
    "version": 3
   },
   "file_extension": ".py",
   "mimetype": "text/x-python",
   "name": "python",
   "nbconvert_exporter": "python",
   "pygments_lexer": "ipython3",
   "version": "3.9.7"
  }
 },
 "nbformat": 4,
 "nbformat_minor": 4
}
