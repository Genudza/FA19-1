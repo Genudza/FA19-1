{
 "cells": [
  {
   "cell_type": "markdown",
   "source": [
    "## Оптимизация выполнения кода, векторизация, Numba"
   ],
   "metadata": {}
  },
  {
   "cell_type": "markdown",
   "source": [
    "Материалы:\n",
    "* Макрушин С.В. Лекция 3: Оптимизация выполнения кода, векторизация, Numba\n",
    "* IPython Cookbook, Second Edition (2018), глава 4\n",
    "* https://numba.pydata.org/numba-doc/latest/user/5minguide.html"
   ],
   "metadata": {}
  },
  {
   "cell_type": "markdown",
   "source": [
    "## Задачи для совместного разбора"
   ],
   "metadata": {}
  },
  {
   "cell_type": "markdown",
   "source": [
    "1. Сгенерируйте массив `A` из `N=1млн` случайных целых чисел на отрезке от 0 до 1000. Пусть `B[i] = A[i] + 100`. Посчитайте среднее значение массива `B`."
   ],
   "metadata": {}
  },
  {
   "cell_type": "code",
   "execution_count": 30,
   "source": [
    "%load_ext line_profiler"
   ],
   "outputs": [
    {
     "output_type": "stream",
     "name": "stdout",
     "text": [
      "The line_profiler extension is already loaded. To reload it, use:\n",
      "  %reload_ext line_profiler\n"
     ]
    }
   ],
   "metadata": {}
  },
  {
   "cell_type": "code",
   "execution_count": 31,
   "source": [
    "# \n",
    "import numpy as np\n",
    "\n",
    "A = np.random.randint(0, 1000, size=1_000_000)\n",
    "A"
   ],
   "outputs": [
    {
     "output_type": "execute_result",
     "data": {
      "text/plain": [
       "array([831, 468, 170, ..., 941, 955, 961])"
      ]
     },
     "metadata": {},
     "execution_count": 31
    }
   ],
   "metadata": {}
  },
  {
   "cell_type": "code",
   "execution_count": 32,
   "source": [
    "def f1(A):\n",
    "    acc, cnt = 0, 0\n",
    "    for ai in A:\n",
    "        bi=ai+100\n",
    "        acc+=bi\n",
    "        cnt+=1\n",
    "    return acc/cnt"
   ],
   "outputs": [],
   "metadata": {}
  },
  {
   "cell_type": "code",
   "execution_count": 33,
   "source": [
    "def f2(A):\n",
    "    acc = 0\n",
    "    for ai in A:\n",
    "        bi=ai+100\n",
    "        acc+=bi\n",
    "    return acc/len(A)"
   ],
   "outputs": [],
   "metadata": {}
  },
  {
   "cell_type": "code",
   "execution_count": 34,
   "source": [
    "def f3(A):\n",
    "    return sum(A)/len(A) + 100"
   ],
   "outputs": [],
   "metadata": {}
  },
  {
   "cell_type": "code",
   "execution_count": 35,
   "source": [
    "def f4(A):\n",
    "    return A.mean()+100"
   ],
   "outputs": [],
   "metadata": {}
  },
  {
   "cell_type": "code",
   "execution_count": 36,
   "source": [
    "# проверка времени выполнения функции\n",
    "\n",
    "# %timeit f1(A) \n",
    "# %timeit f2(A)\n",
    "# %timeit f3(A)\n",
    "# %timeit f4(A)\n"
   ],
   "outputs": [],
   "metadata": {}
  },
  {
   "cell_type": "code",
   "execution_count": 37,
   "source": [
    "# %lprun -f f2 f2(A)"
   ],
   "outputs": [],
   "metadata": {}
  },
  {
   "cell_type": "markdown",
   "source": [
    "2. Создайте таблицу 2млн строк и с 4 столбцами, заполненными случайными числами. Добавьте столбец `key`, которые содержит элементы из множества английских букв. Выберите из таблицы подмножество строк, для которых в столбце `key` указаны первые 5 английских букв."
   ],
   "metadata": {}
  },
  {
   "cell_type": "code",
   "execution_count": 38,
   "source": [
    "import numpy as np\n",
    "import pandas as pd\n",
    "\n",
    "df = pd.DataFrame(np.random.randint(0, 1000, size=(2_000_000, 4)),\n",
    "                  columns=['col1', 'col2', 'col3', 'col4'])\n",
    "letters = ['a', 'b', 'c', 'd', 'e', 'f', 'g']\n",
    "df['key'] = np.random.choice(letters, 2_000_000, replace=True)\n",
    "\n",
    "def g(df):\n",
    "    letters = ['a', 'b', 'c', 'd', 'e']\n",
    "    dfs = []\n",
    "    for letter in letters:\n",
    "        q = df[df['key']==letter]\n",
    "        dfs.append(q)\n",
    "    return pd.concat(dfs, axis=0)"
   ],
   "outputs": [],
   "metadata": {}
  },
  {
   "cell_type": "code",
   "execution_count": 39,
   "source": [
    "%timeit g(df)"
   ],
   "outputs": [
    {
     "output_type": "stream",
     "name": "stdout",
     "text": [
      "674 ms ± 12.2 ms per loop (mean ± std. dev. of 7 runs, 1 loop each)\n"
     ]
    }
   ],
   "metadata": {}
  },
  {
   "cell_type": "code",
   "execution_count": 40,
   "source": [
    "%lprun -f g g(df)"
   ],
   "outputs": [
    {
     "output_type": "stream",
     "name": "stdout",
     "text": [
      "Timer unit: 1e-06 s\n",
      "\n",
      "Total time: 0.698924 s\n",
      "File: <ipython-input-38-e94296ffa06f>\n",
      "Function: g at line 9\n",
      "\n",
      "Line #      Hits         Time  Per Hit   % Time  Line Contents\n",
      "==============================================================\n",
      "     9                                           def g(df):\n",
      "    10         1          2.0      2.0      0.0      letters = ['a', 'b', 'c', 'd', 'e']\n",
      "    11         1          1.0      1.0      0.0      dfs = []\n",
      "    12         6          5.0      0.8      0.0      for letter in letters:\n",
      "    13         5     677166.0 135433.2     96.9          q = df[df['key']==letter]\n",
      "    14         5         10.0      2.0      0.0          dfs.append(q)\n",
      "    15         1      21740.0  21740.0      3.1      return pd.concat(dfs, axis=0)"
     ]
    }
   ],
   "metadata": {}
  },
  {
   "cell_type": "code",
   "execution_count": 41,
   "source": [
    "def g_op(df):\n",
    "    return df[df[\"key\"].isin([\"a\", \"b\", \"c\", \"d\", \"e\"])]\n"
   ],
   "outputs": [],
   "metadata": {}
  },
  {
   "cell_type": "code",
   "execution_count": 42,
   "source": [
    "%timeit g_op(df)"
   ],
   "outputs": [
    {
     "output_type": "stream",
     "name": "stdout",
     "text": [
      "115 ms ± 8.22 ms per loop (mean ± std. dev. of 7 runs, 10 loops each)\n"
     ]
    }
   ],
   "metadata": {}
  },
  {
   "cell_type": "markdown",
   "source": [
    "## Лабораторная работа 3"
   ],
   "metadata": {}
  },
  {
   "cell_type": "markdown",
   "source": [
    "1. В файлах `recipes_sample.csv` и `reviews_sample.csv` (__ЛР 2__) находится информация об рецептах блюд и отзывах на эти рецепты соответственно. Загрузите данные из файлов в виде `pd.DataFrame` с названиями `recipes` и `reviews`. Обратите внимание на корректное считывание столбца(ов) с индексами. Приведите столбцы к нужным типам.\n",
    "\n",
    "Реализуйте несколько вариантов функции подсчета среднего значения столбца `rating` из таблицы `reviews` для отзывов, оставленных в 2010 году.\n",
    "\n",
    "A. С использованием метода `DataFrame.iterrows` исходной таблицы;\n",
    "\n",
    "Б. С использованием метода `DataFrame.iterrows` таблицы, в которой сохранены только отзывы за 2010 год;\n",
    "\n",
    "В. С использованием метода `Series.mean`.\n",
    "\n",
    "Проверьте, что результаты работы всех написанных функций корректны и совпадают. Измерьте выполнения всех написанных функций.\n"
   ],
   "metadata": {}
  },
  {
   "cell_type": "code",
   "execution_count": 43,
   "source": [
    "import pandas as pd\n",
    "recipes = pd.read_csv(\"./data/recipes_sample.csv\", sep=\",\", parse_dates=['submitted'])\n",
    "reviews = pd.read_csv(\"./data/reviews_sample.csv\", sep=\",\", parse_dates=['date'])"
   ],
   "outputs": [],
   "metadata": {}
  },
  {
   "cell_type": "code",
   "execution_count": 44,
   "source": [
    "def f1(reviews):\n",
    "    \"\"\"А) С использованием метода `DataFrame.iterrows` исходной таблицы\"\"\"\n",
    "    acc = 0\n",
    "    for _, row in reviews.iterrows():\n",
    "        acc += row[\"rating\"]\n",
    "    return acc/len(reviews)\n",
    "\n",
    "\n",
    "def f2(reviews):\n",
    "    \"\"\"Б) С использованием метода `DataFrame.iterrows` таблицы, в которой сохранены только отзывы за 2010 год\"\"\"\n",
    "    acc, cnt = 0, 0\n",
    "    for _, row in reviews.iterrows():\n",
    "        if (pd.to_datetime(row[\"date\"], format=\"%d.%m.%Y\").year == 2010) == True:\n",
    "            acc += row.loc[\"rating\"]\n",
    "            cnt += 1\n",
    "    return acc/cnt\n",
    "\n",
    "\n",
    "def f3(reviews):\n",
    "    \"\"\"В) С использованием метода `Series.mean`\"\"\"\n",
    "    return reviews[\"rating\"].mean()\n",
    "\n",
    "\n",
    "# print(f1(reviews))\n",
    "# print(f2(reviews))\n",
    "# print(f3(reviews))\n"
   ],
   "outputs": [],
   "metadata": {}
  },
  {
   "cell_type": "markdown",
   "source": [
    "2. Какая из созданных функций выполняется медленнее? Что наиболее сильно влияет на скорость выполнения? Для ответа использовать профайлер `line_profiler`. Сохраните результаты работы профайлера в отдельную текстовую ячейку и прокомментируйте результаты его работы.\n",
    "\n",
    "(*). Сможете ли вы ускорить работу функции 1Б, отказавшись от использования метода `iterrows`, но не используя метод `mean`?"
   ],
   "metadata": {}
  },
  {
   "cell_type": "code",
   "execution_count": 45,
   "source": [
    "# %timeit f1(reviews)\n",
    "# %lprun -f f1 f1(reviews)\n",
    "\"\"\"11.2 s ± 104 ms per loop (mean ± std. dev. of 7 runs, 1 loop each)\"\"\""
   ],
   "outputs": [
    {
     "output_type": "execute_result",
     "data": {
      "text/plain": [
       "'11.2 s ± 104 ms per loop (mean ± std. dev. of 7 runs, 1 loop each)'"
      ]
     },
     "metadata": {},
     "execution_count": 45
    }
   ],
   "metadata": {}
  },
  {
   "cell_type": "code",
   "execution_count": 46,
   "source": [
    "# %timeit f2(reviews)\n",
    "# %lprun -f f2 f2(reviews)\n",
    "\"\"\"12 s ± 172 ms per loop (mean ± std. dev. of 7 runs, 1 loop each)\"\"\""
   ],
   "outputs": [
    {
     "output_type": "execute_result",
     "data": {
      "text/plain": [
       "'12 s ± 172 ms per loop (mean ± std. dev. of 7 runs, 1 loop each)'"
      ]
     },
     "metadata": {},
     "execution_count": 46
    }
   ],
   "metadata": {}
  },
  {
   "cell_type": "code",
   "execution_count": 47,
   "source": [
    "# %timeit f3(reviews)\n",
    "# %lprun -f f3 f3(reviews)\n",
    "\"\"\"168 µs ± 1.74 µs per loop (mean ± std. dev. of 7 runs, 10000 loops each)\"\"\"\n"
   ],
   "outputs": [
    {
     "output_type": "execute_result",
     "data": {
      "text/plain": [
       "'168 µs ± 1.74 µs per loop (mean ± std. dev. of 7 runs, 10000 loops each)'"
      ]
     },
     "metadata": {},
     "execution_count": 47
    }
   ],
   "metadata": {}
  },
  {
   "cell_type": "markdown",
   "source": [
    "3. Вам предлагается воспользоваться функцией, которая собирает статистику о том, сколько отзывов содержат то или иное слово. Измерьте время выполнения этой функции. Сможете ли вы найти узкие места в коде, используя профайлер? Выпишите (словами), что в имеющемся коде реализовано неоптимально. Оптимизируйте функцию и добейтесь значительного (как минимум, на один порядок) прироста в скорости выполнения."
   ],
   "metadata": {}
  },
  {
   "cell_type": "code",
   "execution_count": 48,
   "source": [
    "def get_word_reviews_count(df):\n",
    "    word_reviews = {}\n",
    "    for _, row in df.dropna(subset=['review']).iterrows():\n",
    "        recipe_id, review = row['recipe_id'], row['review']\n",
    "        words = review.split(' ')\n",
    "        for word in words:\n",
    "            if word not in word_reviews:\n",
    "                word_reviews[word] = []\n",
    "            word_reviews[word].append(recipe_id)\n",
    "    \n",
    "    word_reviews_count = {}\n",
    "    for _, row in df.dropna(subset=['review']).iterrows():\n",
    "        review = row['review']\n",
    "        words = review.split(' ')\n",
    "        for word in words:\n",
    "            word_reviews_count[word] = len(word_reviews[word])\n",
    "    return word_reviews_count\n",
    "\n",
    "# %lprun -f get_word_reviews_count get_word_reviews_count(reviews)"
   ],
   "outputs": [],
   "metadata": {}
  },
  {
   "cell_type": "markdown",
   "source": [
    "Timer unit: 1e-06 s\n",
    "\n",
    "Total time: 79.166 s\n",
    "File: <ipython-input-16-69ce61806718>\n",
    "Function: get_word_reviews_count at line 1\n",
    "\n",
    "Line #      Hits         Time  Per Hit   % Time  Line Contents\n",
    "==============================================================\n",
    "     1                                           def get_word_reviews_count(df):\n",
    "     2         1          2.0      2.0      0.0      word_reviews = {}\n",
    "     3    126680   23382880.0    184.6     29.5      for _, row in df.dropna(subset=['review']).iterrows():\n",
    "     4    126679    7692559.0     60.7      9.7          recipe_id, review = row['recipe_id'], row['review']\n",
    "     5    126679     643279.0      5.1      0.8          words = review.split(' ')\n",
    "     6   6918689    2627727.0      0.4      3.3          for word in words:\n",
    "     7   6792010    3726334.0      0.5      4.7              if word not in word_reviews:\n",
    "     8    174944     110219.0      0.6      0.1                  word_reviews[word] = []\n",
    "     9   6792010    3777497.0      0.6      4.8              word_reviews[word].append(recipe_id)\n",
    "    10                                               \n",
    "    11         1          2.0      2.0      0.0      word_reviews_count = {}\n",
    "    12    126680   23701415.0    187.1     29.9      for _, row in df.dropna(subset=['review']).iterrows():\n",
    "    13    126679    4451817.0     35.1      5.6          review = row['review']\n",
    "    14    126679     652717.0      5.2      0.8          words = review.split(' ')\n",
    "    15   6918689    2728613.0      0.4      3.4          for word in words:\n",
    "    16   6792010    5670984.0      0.8      7.2              word_reviews_count[word] = len(word_reviews[word])\n",
    "    17         1          1.0      1.0      0.0      return word_reviews_count\n"
   ],
   "metadata": {}
  },
  {
   "cell_type": "markdown",
   "source": [
    "1) метод iterrows очень медленный, поэтому избавляемся от цикла, тем более что цикл итерируется по одному и тому же df два раза\n",
    "2) кол-во подсчета слов также встречается два раза (word_reviews/word_reviews_count)"
   ],
   "metadata": {}
  },
  {
   "cell_type": "code",
   "execution_count": 54,
   "source": [
    "def upgraded_solution(df):\n",
    "    word_reviews_count = {}\n",
    "    \n",
    "    for row in df[\"review\"].dropna():\n",
    "        word_list = row.split(\" \")  # список всех слов\n",
    "\n",
    "        for i in word_list:\n",
    "            if i not in word_reviews_count:  # если видим слово первый раз\n",
    "                word_reviews_count[i] = 0\n",
    "\n",
    "            word_reviews_count[i] += 1\n",
    "\n",
    "    return word_reviews_count\n",
    "\n",
    "\n",
    "# upgraded_solution(reviews)\n"
   ],
   "outputs": [],
   "metadata": {}
  },
  {
   "cell_type": "code",
   "execution_count": 55,
   "source": [
    "%lprun -f upgraded_solution upgraded_solution(reviews)"
   ],
   "outputs": [
    {
     "output_type": "stream",
     "name": "stdout",
     "text": [
      "Timer unit: 1e-06 s\n",
      "\n",
      "Total time: 9.44456 s\n",
      "File: <ipython-input-54-ff93946cc675>\n",
      "Function: upgraded_solution at line 1\n",
      "\n",
      "Line #      Hits         Time  Per Hit   % Time  Line Contents\n",
      "==============================================================\n",
      "     1                                           def upgraded_solution(df):\n",
      "     2         1          2.0      2.0      0.0      word_reviews_count = {}\n",
      "     3                                               \n",
      "     4    126680     100438.0      0.8      1.1      for row in df[\"review\"].dropna():\n",
      "     5    126679     494717.0      3.9      5.2          word_list = row.split(\" \")  # список всех слов\n",
      "     6                                           \n",
      "     7   6918689    2334727.0      0.3     24.7          for i in word_list:\n",
      "     8   6792010    3213215.0      0.5     34.0              if i not in word_reviews_count:  # если видим слово первый раз\n",
      "     9    174944      83470.0      0.5      0.9                  word_reviews_count[i] = 0\n",
      "    10                                           \n",
      "    11   6792010    3217991.0      0.5     34.1              word_reviews_count[i] += 1\n",
      "    12                                           \n",
      "    13         1          1.0      1.0      0.0      return word_reviews_count"
     ]
    }
   ],
   "metadata": {}
  },
  {
   "cell_type": "markdown",
   "source": [
    "Timer unit: 1e-06 s\n",
    "\n",
    "Total time: 38.0768 s\n",
    "File: <ipython-input-32-5f273a519aca>\n",
    "Function: upgraded_solution at line 1\n",
    "\n",
    "Line #      Hits         Time  Per Hit   % Time  Line Contents\n",
    "==============================================================\n",
    "     1                                           def upgraded_solution(df):\n",
    "     2         1          2.0      2.0      0.0      word_reviews_count = {}\n",
    "     3    126680   23409402.0    184.8     61.5      for _, row in df.dropna(subset=[\"review\"]).iterrows():\n",
    "     4    126679    5007192.0     39.5     13.2          word_list = row[\"review\"].split(\" \") # список всех слов\n",
    "     5                                                   \n",
    "     6   6918689    2486597.0      0.4      6.5          for i in word_list:\n",
    "     7   6792010    3648808.0      0.5      9.6              if i not in word_reviews_count:\n",
    "     8    174944      92715.0      0.5      0.2                  word_reviews_count[i] = 0\n",
    "     9   6792010    3432085.0      0.5      9.0              word_reviews_count[i] += 1\n",
    "    10                                               \n",
    "    11                                           \n",
    "    12                                           \n",
    "    13         1          2.0      2.0      0.0      return word_reviews_count"
   ],
   "metadata": {}
  },
  {
   "cell_type": "markdown",
   "source": [
    "4. Напишите несколько версий функции `MAPE` (см. [MAPE](https://en.wikipedia.org/wiki/Mean_absolute_percentage_error)) для расчета среднего абсолютного процентного отклонения значения рейтинга отзыва на рецепт от среднего значения рейтинга по всем отзывам для этого рецепта. \n",
    "    1. Без использования векторизованных операций и методов массивов `numpy` и без использования `numba`\n",
    "    2. Без использования векторизованных операций и методов массивов `numpy`, но с использованием `numba`\n",
    "    3. С использованием векторизованных операций и методов массивов `numpy`, но без использования `numba`\n",
    "    4. C использованием векторизованных операций и методов массивов `numpy` и `numba`\n",
    "    \n",
    "Измерьте время выполнения каждой из реализаций.\n",
    "\n",
    "Замечание: удалите из выборки отзывы с нулевым рейтингом.\n"
   ],
   "metadata": {}
  },
  {
   "cell_type": "code",
   "execution_count": null,
   "source": [
    "# Замечание: удалите из выборки отзывы с нулевым рейтингом.\n",
    "new_df = reviews[reviews[\"rating\"] != 0]\n",
    "# print(len(reviews), len(new_df))"
   ],
   "outputs": [],
   "metadata": {}
  },
  {
   "cell_type": "code",
   "execution_count": null,
   "source": [
    "import numpy as np\n",
    "from numba import jit\n",
    "def without_all(A_t, F_t):\n",
    "    \"\"\"1. Без использования векторизованных операций и методов массивов `numpy` и без использования `numba`\"\"\"\n",
    "    # A_t - actual value; F_t - forecast value\n",
    "    # doesn`t work\n",
    "    return sum([abs(A_t[i] - F_t[i]) / A_t[i] for i in A_t]) / len(A_t) * 100\n",
    "\n",
    "\n",
    "def with_numpy_not_numba(A_t, F_t): \n",
    "    \"\"\"3. С использованием векторизованных операций и методов массивов `numpy`, но без использования `numba`\"\"\"\n",
    "    y_true, y_pred = np.array(A_t), np.array(F_t)\n",
    "    return np.mean(np.abs((y_true - y_pred) / y_true)) * 100\n",
    "\n",
    "print(without_all([1, 2, 3], [4, 6, 7]))\n",
    "print(with_numpy_not_numba([1, 2, 3], [4, 6, 7]))\n",
    "\n",
    "\n",
    "# Я не математик, сорян, а еще и numba не фурычит"
   ],
   "outputs": [
    {
     "output_type": "error",
     "ename": "IndexError",
     "evalue": "list index out of range",
     "traceback": [
      "\u001b[0;31m---------------------------------------------------------------------------\u001b[0m",
      "\u001b[0;31mIndexError\u001b[0m                                Traceback (most recent call last)",
      "\u001b[0;32m<ipython-input-71-e63349a5514a>\u001b[0m in \u001b[0;36m<module>\u001b[0;34m\u001b[0m\n\u001b[1;32m     12\u001b[0m     \u001b[0;32mreturn\u001b[0m \u001b[0mnp\u001b[0m\u001b[0;34m.\u001b[0m\u001b[0mmean\u001b[0m\u001b[0;34m(\u001b[0m\u001b[0mnp\u001b[0m\u001b[0;34m.\u001b[0m\u001b[0mabs\u001b[0m\u001b[0;34m(\u001b[0m\u001b[0;34m(\u001b[0m\u001b[0my_true\u001b[0m \u001b[0;34m-\u001b[0m \u001b[0my_pred\u001b[0m\u001b[0;34m)\u001b[0m \u001b[0;34m/\u001b[0m \u001b[0my_true\u001b[0m\u001b[0;34m)\u001b[0m\u001b[0;34m)\u001b[0m \u001b[0;34m*\u001b[0m \u001b[0;36m100\u001b[0m\u001b[0;34m\u001b[0m\u001b[0m\n\u001b[1;32m     13\u001b[0m \u001b[0;34m\u001b[0m\u001b[0m\n\u001b[0;32m---> 14\u001b[0;31m \u001b[0mprint\u001b[0m\u001b[0;34m(\u001b[0m\u001b[0mwithout_all\u001b[0m\u001b[0;34m(\u001b[0m\u001b[0;34m[\u001b[0m\u001b[0;36m1\u001b[0m\u001b[0;34m,\u001b[0m \u001b[0;36m2\u001b[0m\u001b[0;34m,\u001b[0m \u001b[0;36m3\u001b[0m\u001b[0;34m]\u001b[0m\u001b[0;34m,\u001b[0m \u001b[0;34m[\u001b[0m\u001b[0;36m4\u001b[0m\u001b[0;34m,\u001b[0m \u001b[0;36m6\u001b[0m\u001b[0;34m,\u001b[0m \u001b[0;36m7\u001b[0m\u001b[0;34m]\u001b[0m\u001b[0;34m)\u001b[0m\u001b[0;34m)\u001b[0m\u001b[0;34m\u001b[0m\u001b[0m\n\u001b[0m\u001b[1;32m     15\u001b[0m \u001b[0mprint\u001b[0m\u001b[0;34m(\u001b[0m\u001b[0mwith_numpy_not_numba\u001b[0m\u001b[0;34m(\u001b[0m\u001b[0;34m[\u001b[0m\u001b[0;36m1\u001b[0m\u001b[0;34m,\u001b[0m \u001b[0;36m2\u001b[0m\u001b[0;34m,\u001b[0m \u001b[0;36m3\u001b[0m\u001b[0;34m]\u001b[0m\u001b[0;34m,\u001b[0m \u001b[0;34m[\u001b[0m\u001b[0;36m4\u001b[0m\u001b[0;34m,\u001b[0m \u001b[0;36m6\u001b[0m\u001b[0;34m,\u001b[0m \u001b[0;36m7\u001b[0m\u001b[0;34m]\u001b[0m\u001b[0;34m)\u001b[0m\u001b[0;34m)\u001b[0m\u001b[0;34m\u001b[0m\u001b[0m\n\u001b[1;32m     16\u001b[0m \u001b[0;34m\u001b[0m\u001b[0m\n",
      "\u001b[0;32m<ipython-input-71-e63349a5514a>\u001b[0m in \u001b[0;36mwithout_all\u001b[0;34m(A_t, F_t)\u001b[0m\n\u001b[1;32m      4\u001b[0m     \u001b[0;34m\"\"\"1. Без использования векторизованных операций и методов массивов `numpy` и без использования `numba`\"\"\"\u001b[0m\u001b[0;34m\u001b[0m\u001b[0m\n\u001b[1;32m      5\u001b[0m     \u001b[0;31m# A_t - actual value; F_t - forecast value\u001b[0m\u001b[0;34m\u001b[0m\u001b[0;34m\u001b[0m\u001b[0m\n\u001b[0;32m----> 6\u001b[0;31m     \u001b[0;32mreturn\u001b[0m \u001b[0msum\u001b[0m\u001b[0;34m(\u001b[0m\u001b[0;34m[\u001b[0m\u001b[0mabs\u001b[0m\u001b[0;34m(\u001b[0m\u001b[0mA_t\u001b[0m\u001b[0;34m[\u001b[0m\u001b[0mi\u001b[0m\u001b[0;34m]\u001b[0m \u001b[0;34m-\u001b[0m \u001b[0mF_t\u001b[0m\u001b[0;34m[\u001b[0m\u001b[0mi\u001b[0m\u001b[0;34m]\u001b[0m\u001b[0;34m)\u001b[0m \u001b[0;34m/\u001b[0m \u001b[0mA_t\u001b[0m\u001b[0;34m[\u001b[0m\u001b[0mi\u001b[0m\u001b[0;34m]\u001b[0m \u001b[0;32mfor\u001b[0m \u001b[0mi\u001b[0m \u001b[0;32min\u001b[0m \u001b[0mA_t\u001b[0m\u001b[0;34m]\u001b[0m\u001b[0;34m)\u001b[0m \u001b[0;34m/\u001b[0m \u001b[0mlen\u001b[0m\u001b[0;34m(\u001b[0m\u001b[0mA_t\u001b[0m\u001b[0;34m)\u001b[0m \u001b[0;34m*\u001b[0m \u001b[0;36m100\u001b[0m\u001b[0;34m\u001b[0m\u001b[0m\n\u001b[0m\u001b[1;32m      7\u001b[0m \u001b[0;34m\u001b[0m\u001b[0m\n\u001b[1;32m      8\u001b[0m \u001b[0;34m\u001b[0m\u001b[0m\n",
      "\u001b[0;32m<ipython-input-71-e63349a5514a>\u001b[0m in \u001b[0;36m<listcomp>\u001b[0;34m(.0)\u001b[0m\n\u001b[1;32m      4\u001b[0m     \u001b[0;34m\"\"\"1. Без использования векторизованных операций и методов массивов `numpy` и без использования `numba`\"\"\"\u001b[0m\u001b[0;34m\u001b[0m\u001b[0m\n\u001b[1;32m      5\u001b[0m     \u001b[0;31m# A_t - actual value; F_t - forecast value\u001b[0m\u001b[0;34m\u001b[0m\u001b[0;34m\u001b[0m\u001b[0m\n\u001b[0;32m----> 6\u001b[0;31m     \u001b[0;32mreturn\u001b[0m \u001b[0msum\u001b[0m\u001b[0;34m(\u001b[0m\u001b[0;34m[\u001b[0m\u001b[0mabs\u001b[0m\u001b[0;34m(\u001b[0m\u001b[0mA_t\u001b[0m\u001b[0;34m[\u001b[0m\u001b[0mi\u001b[0m\u001b[0;34m]\u001b[0m \u001b[0;34m-\u001b[0m \u001b[0mF_t\u001b[0m\u001b[0;34m[\u001b[0m\u001b[0mi\u001b[0m\u001b[0;34m]\u001b[0m\u001b[0;34m)\u001b[0m \u001b[0;34m/\u001b[0m \u001b[0mA_t\u001b[0m\u001b[0;34m[\u001b[0m\u001b[0mi\u001b[0m\u001b[0;34m]\u001b[0m \u001b[0;32mfor\u001b[0m \u001b[0mi\u001b[0m \u001b[0;32min\u001b[0m \u001b[0mA_t\u001b[0m\u001b[0;34m]\u001b[0m\u001b[0;34m)\u001b[0m \u001b[0;34m/\u001b[0m \u001b[0mlen\u001b[0m\u001b[0;34m(\u001b[0m\u001b[0mA_t\u001b[0m\u001b[0;34m)\u001b[0m \u001b[0;34m*\u001b[0m \u001b[0;36m100\u001b[0m\u001b[0;34m\u001b[0m\u001b[0m\n\u001b[0m\u001b[1;32m      7\u001b[0m \u001b[0;34m\u001b[0m\u001b[0m\n\u001b[1;32m      8\u001b[0m \u001b[0;34m\u001b[0m\u001b[0m\n",
      "\u001b[0;31mIndexError\u001b[0m: list index out of range"
     ]
    }
   ],
   "metadata": {}
  }
 ],
 "metadata": {
  "kernelspec": {
   "name": "python3",
   "display_name": "Python 3.7.0 64-bit"
  },
  "language_info": {
   "codemirror_mode": {
    "name": "ipython",
    "version": 3
   },
   "file_extension": ".py",
   "mimetype": "text/x-python",
   "name": "python",
   "nbconvert_exporter": "python",
   "pygments_lexer": "ipython3",
   "version": "3.7.0"
  },
  "interpreter": {
   "hash": "aee8b7b246df8f9039afb4144a1f6fd8d2ca17a180786b69acc140d282b71a49"
  }
 },
 "nbformat": 4,
 "nbformat_minor": 4
}