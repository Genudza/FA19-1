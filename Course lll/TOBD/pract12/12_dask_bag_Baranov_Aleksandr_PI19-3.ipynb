{
 "cells": [
  {
   "cell_type": "markdown",
   "metadata": {},
   "source": [
    "# Dask Bag"
   ]
  },
  {
   "cell_type": "markdown",
   "metadata": {},
   "source": [
    "Материалы: \n",
    "* Макрушин С.В. Лекция 12: Map-Reduce\n",
    "* https://docs.dask.org/en/latest/bag.html\n",
    "* Jesse C. Daniel. Data Science with Python and Dask. "
   ]
  },
  {
   "cell_type": "markdown",
   "metadata": {},
   "source": [
    "## Задачи для совместного разбора"
   ]
  },
  {
   "cell_type": "markdown",
   "metadata": {},
   "source": [
    "1. Считайте файл `Dostoevskiy Fedor. Igrok - BooksCafe.Net.txt` и разбейте на предложения. Подсчитайте длину (в кол-ве символов) каждого предложения."
   ]
  },
  {
   "cell_type": "markdown",
   "metadata": {},
   "source": [
    "2. Считайте файл `Dostoevskiy Fedor. Igrok - BooksCafe.Net.txt` и разбейте на предложения. Выведите предложения, длина которых не более 10 символов."
   ]
  },
  {
   "cell_type": "markdown",
   "metadata": {},
   "source": [
    "3. На основе списка предложений из задачи 1-2 создайте `dask.bag`. Рассчитайте среднюю длину предложений в тексте."
   ]
  },
  {
   "cell_type": "markdown",
   "metadata": {},
   "source": [
    "4. На основе файла `addres_book.json` создайте `dask.bag`. Посчитайте количество мобильных и рабочих телефонов в наборе данных"
   ]
  },
  {
   "cell_type": "markdown",
   "metadata": {},
   "source": [
    "## Лабораторная работа 12"
   ]
  },
  {
   "cell_type": "code",
   "execution_count": 1,
   "metadata": {},
   "outputs": [],
   "source": [
    "import dask.bag as db\n",
    "import json\n",
    "import re"
   ]
  },
  {
   "cell_type": "markdown",
   "metadata": {},
   "source": [
    "1. В файлах архиве `reviews_full.zip` находятся файлы, содержащие информацию об отзывах к рецептам в формате JSON Lines. Отзывы разделены на файлы в зависимости от оценки (например, в файле `reviews_1.json` находятся отзывы с оценкой 1). Считайте файлы из этого архива в виде `dask.bag`. Преобразуйте текстовое содержимое файлов с помощью модуля `json`. Выведите на экран первые 5 элементов полученного `bag`."
   ]
  },
  {
   "cell_type": "code",
   "execution_count": 2,
   "metadata": {},
   "outputs": [
    {
     "data": {
      "text/plain": [
       "({'user_id': 452355,\n",
       "  'recipe_id': 292657,\n",
       "  'date': '2016-05-08',\n",
       "  'review': 'WOW!!! This is the best. I have never been able to make homemade enchiladas that taste like the Mexican restaurants. I made this last night for my family and they said they will never have enchiladas at the Mexican Restaurants again. Thanks for sharing.'},\n",
       " {'user_id': 329304,\n",
       "  'recipe_id': 433404,\n",
       "  'date': '2006-06-14',\n",
       "  'review': 'This was good but the dressing needed something and I found it to be a little too sweet, next time I will experiment with some garlic and herbs and reduce the sugar slightly, thanks for sharing kcdlong!...Kitten'},\n",
       " {'user_id': 227932,\n",
       "  'recipe_id': 2008187,\n",
       "  'date': '1985-11-19',\n",
       "  'review': 'Very good,it was a hit for my family. I used 6 cloves of garlic and had 1 lb beef and  Johnsonville sausage,1/2 lb hot and  1/2 lb honey garlic( which I wanted to use). That was a perfect combo for us. The sausage gave it nice flavor No guestion , I will be making this often.'},\n",
       " {'user_id': 171468,\n",
       "  'recipe_id': 270716,\n",
       "  'date': '2019-05-21',\n",
       "  'review': 'Made for ZWT-8 Family Picks after I saw these mentioned in the Family Picks thread. So I got up this morning, made my morning coffee while the oven was heating & then made these quick-fix sweet treats B4 I was ready for my 2nd cup of coffee. I used 8\" tortillas (all I had on-hand) & cut them into 8 wedges. Then I used 2 of my Pamperd Chef gadgets .. my sml basting brush to spread the honey on the warm tortillas & my flour/sugar shaker to sprinkle the powd sugar/cinnamon mixture atop the honeyed tortillas. It might have taken a total of 2 min from oven to tasting! Yum! Using the same \"sweet mix\" these would also be good w/butter, cream cheese or even lime juice. Can\\'t wait to try them w/lime juice! Thx for sharing this tasty little treat w/us.'},\n",
       " {'user_id': 91392,\n",
       "  'recipe_id': 1159916,\n",
       "  'date': '1972-09-18',\n",
       "  'review': \"Very nice slaw. I especially like that it doesn't have the mayo dressing. I used a prepackaged Cole slaw mix, so i didn't include the carrots nor the nuts. I also doubled the sauce. :)\"})"
      ]
     },
     "execution_count": 2,
     "metadata": {},
     "output_type": "execute_result"
    }
   ],
   "source": [
    "bag = db.read_text(\"./data/reviews_*.json\").map(json.loads)\n",
    "bag.take(5)"
   ]
  },
  {
   "cell_type": "markdown",
   "metadata": {},
   "source": [
    "2. Модифицируйте функцию разбора JSON таким образом, чтобы в каждый словарь c информацией об отзыве добавить ключ `rating`. Значение получите на основе названия файла (см. аргумент `include_path`), использовав для этого регулярное выражение."
   ]
  },
  {
   "cell_type": "code",
   "execution_count": 4,
   "metadata": {},
   "outputs": [
    {
     "data": {
      "text/plain": [
       "({'user_id': 452355,\n",
       "  'recipe_id': 292657,\n",
       "  'date': '2016-05-08',\n",
       "  'review': 'WOW!!! This is the best. I have never been able to make homemade enchiladas that taste like the Mexican restaurants. I made this last night for my family and they said they will never have enchiladas at the Mexican Restaurants again. Thanks for sharing.',\n",
       "  'rating': 0},\n",
       " {'user_id': 329304,\n",
       "  'recipe_id': 433404,\n",
       "  'date': '2006-06-14',\n",
       "  'review': 'This was good but the dressing needed something and I found it to be a little too sweet, next time I will experiment with some garlic and herbs and reduce the sugar slightly, thanks for sharing kcdlong!...Kitten',\n",
       "  'rating': 0},\n",
       " {'user_id': 227932,\n",
       "  'recipe_id': 2008187,\n",
       "  'date': '1985-11-19',\n",
       "  'review': 'Very good,it was a hit for my family. I used 6 cloves of garlic and had 1 lb beef and  Johnsonville sausage,1/2 lb hot and  1/2 lb honey garlic( which I wanted to use). That was a perfect combo for us. The sausage gave it nice flavor No guestion , I will be making this often.',\n",
       "  'rating': 0},\n",
       " {'user_id': 171468,\n",
       "  'recipe_id': 270716,\n",
       "  'date': '2019-05-21',\n",
       "  'review': 'Made for ZWT-8 Family Picks after I saw these mentioned in the Family Picks thread. So I got up this morning, made my morning coffee while the oven was heating & then made these quick-fix sweet treats B4 I was ready for my 2nd cup of coffee. I used 8\" tortillas (all I had on-hand) & cut them into 8 wedges. Then I used 2 of my Pamperd Chef gadgets .. my sml basting brush to spread the honey on the warm tortillas & my flour/sugar shaker to sprinkle the powd sugar/cinnamon mixture atop the honeyed tortillas. It might have taken a total of 2 min from oven to tasting! Yum! Using the same \"sweet mix\" these would also be good w/butter, cream cheese or even lime juice. Can\\'t wait to try them w/lime juice! Thx for sharing this tasty little treat w/us.',\n",
       "  'rating': 0},\n",
       " {'user_id': 91392,\n",
       "  'recipe_id': 1159916,\n",
       "  'date': '1972-09-18',\n",
       "  'review': \"Very nice slaw. I especially like that it doesn't have the mayo dressing. I used a prepackaged Cole slaw mix, so i didn't include the carrots nor the nuts. I also doubled the sauce. :)\",\n",
       "  'rating': 0})"
      ]
     },
     "execution_count": 4,
     "metadata": {},
     "output_type": "execute_result"
    }
   ],
   "source": [
    "def get_rating_data(data):\n",
    "    data, path = data\n",
    "    filename = re.split(\"/\", path)[-1]\n",
    "    key = re.findall(r\"\\d\", filename)[0]\n",
    "    js = json.loads(data)\n",
    "    js[\"rating\"] = int(key)  \n",
    "    return js\n",
    "\n",
    "bag = db.read_text(\"./data/reviews_*.json\", include_path=True).map(get_rating_data)\n",
    "bag.take(5)"
   ]
  },
  {
   "cell_type": "markdown",
   "metadata": {},
   "source": [
    "3. Посчитайте количество отзывов в исходном датасете."
   ]
  },
  {
   "cell_type": "code",
   "execution_count": 81,
   "metadata": {},
   "outputs": [
    {
     "data": {
      "text/plain": [
       "9057540"
      ]
     },
     "execution_count": 81,
     "metadata": {},
     "output_type": "execute_result"
    }
   ],
   "source": [
    "bag.count().compute()\n",
    "# 9057540"
   ]
  },
  {
   "cell_type": "markdown",
   "metadata": {},
   "source": [
    "4. Отфильтруйте `bag`, сохранив только отзывы, оставленные в 2014 и 2015 годах."
   ]
  },
  {
   "cell_type": "code",
   "execution_count": 5,
   "metadata": {},
   "outputs": [
    {
     "data": {
      "text/plain": [
       "('2014-10-03',\n",
       " '2015-05-08',\n",
       " '2015-06-30',\n",
       " '2015-11-29',\n",
       " '2015-08-17',\n",
       " '2015-02-02',\n",
       " '2015-03-13',\n",
       " '2014-03-06',\n",
       " '2014-03-26',\n",
       " '2014-07-09',\n",
       " '2014-10-05',\n",
       " '2014-11-19',\n",
       " '2014-08-09',\n",
       " '2014-03-13',\n",
       " '2015-03-01',\n",
       " '2015-04-28',\n",
       " '2015-08-23',\n",
       " '2014-12-26',\n",
       " '2014-01-20',\n",
       " '2015-03-31')"
      ]
     },
     "execution_count": 5,
     "metadata": {},
     "output_type": "execute_result"
    }
   ],
   "source": [
    "def by_years(data):\n",
    "    y = data[\"date\"].split(\"-\")[0]\n",
    "    if y in [\"2014\", \"2015\"]:\n",
    "        return data\n",
    "\n",
    "nb = bag.filter(by_years)\n",
    "# print(nb.take(5))\n",
    "nb.pluck('date').take(20)"
   ]
  },
  {
   "cell_type": "markdown",
   "metadata": {},
   "source": [
    "5. Выполните препроцессинг отзывов:\n",
    "    * привести строки к нижнему регистру\n",
    "    * обрезать пробельные символы в начале и конце строки\n",
    "    * удалите все символы, кроме английских букв и пробелов\n",
    "    \n",
    "Примените препроцессинг ко всем записям из `bag`, полученного в задании 4."
   ]
  },
  {
   "cell_type": "code",
   "execution_count": 6,
   "metadata": {},
   "outputs": [
    {
     "data": {
      "text/plain": [
       "({'user_id': 229850,\n",
       "  'recipe_id': 1300038,\n",
       "  'date': '2014-10-03',\n",
       "  'review': 'took this to a new years eve party everyone loved it its absolutely perfect the flavor the crunch just delicious',\n",
       "  'rating': 0},\n",
       " {'user_id': 2706705,\n",
       "  'recipe_id': 133747,\n",
       "  'date': '2015-05-08',\n",
       "  'review': 'simple and easy way to enjoy a slice of pizza any time welltoasted bread is the key really toast it i put a bit of pizza sauce underneath my cheese for a more pizzalike flavor i used sourdough bread medium cheddar cheese fast fun great idea made for hits tag game',\n",
       "  'rating': 0},\n",
       " {'user_id': 945545,\n",
       "  'recipe_id': 898468,\n",
       "  'date': '2015-06-30',\n",
       "  'review': 'delish i wanted to make this spicy so i used hot enchilada sauce and jalapeno refried beans i forgot to buy the onions so i doctored up the beans with onion powder and granulated garlic added the olives under the cheese and baked uncovered for the minutes served with pico de gallo sour cream and avocado chunks fantastic thanks for sharing lazyme',\n",
       "  'rating': 0})"
      ]
     },
     "execution_count": 6,
     "metadata": {},
     "output_type": "execute_result"
    }
   ],
   "source": [
    "def proc(data):\n",
    "    data[\"review\"] = \" \".join(re.sub(r'[^a-z ]+', '', data[\"review\"].lower().strip()).split())\n",
    "    return data\n",
    "\n",
    "proc_bag = nb.map(proc)\n",
    "proc_bag.take(3)"
   ]
  },
  {
   "cell_type": "markdown",
   "metadata": {},
   "source": [
    "6. Посчитайте количество отзывов в датасете, полученном в результате решения задачи 5. В случае ошибок прокомментируйте результат и исправьте функцию препроцессинга."
   ]
  },
  {
   "cell_type": "code",
   "execution_count": 77,
   "metadata": {},
   "outputs": [
    {
     "data": {
      "text/plain": [
       "735274"
      ]
     },
     "execution_count": 77,
     "metadata": {},
     "output_type": "execute_result"
    }
   ],
   "source": [
    "proc_bag.count().compute()\n",
    "# 735274"
   ]
  },
  {
   "cell_type": "markdown",
   "metadata": {},
   "source": [
    "7. Посчитайте, как часто в наборе, полученном в задании 5, встречается та или иная оценка."
   ]
  },
  {
   "cell_type": "code",
   "execution_count": 79,
   "metadata": {},
   "outputs": [
    {
     "data": {
      "text/plain": [
       "[(0, 42472), (1, 9246), (2, 9380), (3, 26532), (4, 119413), (5, 528231)]"
      ]
     },
     "execution_count": 79,
     "metadata": {},
     "output_type": "execute_result"
    }
   ],
   "source": [
    "proc_bag.pluck(\"rating\").frequencies().compute()\n",
    "# [(0, 42472), (1, 9246), (2, 9380), (3, 26532), (4, 119413), (5, 528231)]"
   ]
  },
  {
   "cell_type": "markdown",
   "metadata": {},
   "source": [
    "8. Найдите среднее значение `rating` в наборе, полученном в задании 5."
   ]
  },
  {
   "cell_type": "code",
   "execution_count": 80,
   "metadata": {},
   "outputs": [
    {
     "data": {
      "text/plain": [
       "4.388036296673077"
      ]
     },
     "execution_count": 80,
     "metadata": {},
     "output_type": "execute_result"
    }
   ],
   "source": [
    "proc_bag.pluck(\"rating\").mean().compute()\n",
    "# 4.388036296673077"
   ]
  },
  {
   "cell_type": "markdown",
   "metadata": {},
   "source": [
    "9. Используя метод `foldby`, подсчитать максимальную длину отзывов в зависимости от оценки `rating` в наборе, полученном в задании 5."
   ]
  },
  {
   "cell_type": "code",
   "execution_count": 85,
   "metadata": {},
   "outputs": [
    {
     "data": {
      "text/plain": [
       "[{0: 6533}, {1: 2854}, {2: 2804}, {3: 3145}, {4: 6533}, {5: 5267}]"
      ]
     },
     "execution_count": 85,
     "metadata": {},
     "output_type": "execute_result"
    }
   ],
   "source": [
    "def find_max(total, cur):\n",
    "    return max(total, cur, key=lambda x: len(x[\"review\"]))\n",
    "\n",
    "def find_len(data):\n",
    "    return {data[0]: len(data[1][\"review\"])}\n",
    "\n",
    "proc_bag.foldby(\"rating\", find_max).map(find_len).compute()\n",
    "# [{0: 6533}, {1: 2854}, {2: 2804}, {3: 3145}, {4: 6533}, {5: 5267}]"
   ]
  }
 ],
 "metadata": {
  "kernelspec": {
   "display_name": "Python 3",
   "language": "python",
   "name": "python3"
  },
  "language_info": {
   "codemirror_mode": {
    "name": "ipython",
    "version": 3
   },
   "file_extension": ".py",
   "mimetype": "text/x-python",
   "name": "python",
   "nbconvert_exporter": "python",
   "pygments_lexer": "ipython3",
   "version": "3.9.7"
  }
 },
 "nbformat": 4,
 "nbformat_minor": 4
}
