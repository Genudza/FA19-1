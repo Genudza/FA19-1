{
 "cells": [
  {
   "cell_type": "markdown",
   "source": [
    "# Numpy"
   ],
   "metadata": {}
  },
  {
   "cell_type": "markdown",
   "source": [
    "Материалы:\n",
    "* Макрушин С.В. \"Лекция 1: Библиотека Numpy\"\n",
    "* https://numpy.org/doc/stable/user/index.html\n",
    "* https://numpy.org/doc/stable/reference/index.html"
   ],
   "metadata": {}
  },
  {
   "cell_type": "markdown",
   "source": [
    "## Задачи для совместного разбора"
   ],
   "metadata": {}
  },
  {
   "cell_type": "code",
   "execution_count": 247,
   "source": [
    "import numpy as np\n",
    "# listt = [1, 2, 3, 4]\n",
    "# arr = np.array(listt)\n",
    "\n",
    "# arr = arr % 2\n",
    "arr = np.arange(20).reshape(5, 4)\n",
    "print(arr[2::])"
   ],
   "outputs": [
    {
     "output_type": "stream",
     "name": "stdout",
     "text": [
      "[[ 8  9 10 11]\n",
      " [12 13 14 15]\n",
      " [16 17 18 19]]\n"
     ]
    }
   ],
   "metadata": {}
  },
  {
   "cell_type": "markdown",
   "source": [
    "1. Сгенерировать двухмерный массив `arr` размерности (4, 7), состоящий из случайных действительных чисел, равномерно распределенных в диапазоне от 0 до 20. Нормализовать значения массива с помощью преобразования вида  $𝑎𝑥+𝑏$  так, что после нормализации максимальный элемент масcива будет равен 1.0, минимальный 0.0"
   ],
   "metadata": {}
  },
  {
   "cell_type": "code",
   "execution_count": 248,
   "source": [
    "# Task 1\n",
    "arr = np.random.uniform(0,20,[4, 7])\n",
    "print(arr)\n",
    "arr = (arr - arr.min()) / (arr.max() - arr.min())\n",
    "print(arr.max())\n",
    "print(arr.min())\n",
    "print(arr)"
   ],
   "outputs": [
    {
     "output_type": "stream",
     "name": "stdout",
     "text": [
      "[[17.89368527 14.87468774  3.91108101 17.0024749   8.72527072  4.03785599\n",
      "   0.43849641]\n",
      " [19.83302325 18.57934362  3.97124717 12.93798282 18.84355947  5.44764488\n",
      "   1.06706058]\n",
      " [ 6.89143684 16.55173495  2.70849663 11.49871058  5.39875964  1.42373905\n",
      "   0.79013839]\n",
      " [ 4.58525011  9.86619897  8.88779988  9.23980392  6.63997441  7.9408852\n",
      "   2.18961289]]\n",
      "1.0\n",
      "0.0\n",
      "[[0.90000591 0.74434357 0.17904972 0.85405427 0.42727386 0.18558636\n",
      "  0.        ]\n",
      " [1.         0.9353591  0.18215194 0.64448525 0.94898232 0.25827639\n",
      "  0.03240936]\n",
      " [0.33271966 0.8308137  0.11704334 0.57027502 0.25575583 0.05080004\n",
      "  0.01813099]\n",
      " [0.21381051 0.48610119 0.43565401 0.45380367 0.31975402 0.3868302\n",
      "  0.09028921]]\n"
     ]
    }
   ],
   "metadata": {}
  },
  {
   "cell_type": "markdown",
   "source": [
    "2. Создать матрицу 8 на 10 из случайных целых (используя модуль `numpy.random`) чисел из диапозона от 0 до 10 и найти в ней строку (ее индекс и вывести саму строку), в которой сумма значений минимальна."
   ],
   "metadata": {}
  },
  {
   "cell_type": "code",
   "execution_count": 249,
   "source": [
    "arr = np.random.randint(0,10, [8, 10])\n",
    "# print(arr)\n",
    "ind = arr.sum(axis=1).argmin() # строки\n",
    "print(ind+1, arr[ind])\n",
    "\n",
    "\n"
   ],
   "outputs": [
    {
     "output_type": "stream",
     "name": "stdout",
     "text": [
      "6 [0 8 5 3 7 3 5 0 1 2]\n"
     ]
    }
   ],
   "metadata": {}
  },
  {
   "cell_type": "markdown",
   "source": [
    "3. Найти евклидово расстояние между двумя одномерными векторами одинаковой размерности."
   ],
   "metadata": {}
  },
  {
   "cell_type": "code",
   "execution_count": 250,
   "source": [
    "a = np.array([1, 2])\n",
    "b = np.array([3, 4])\n",
    "np.linalg.norm(a - b)"
   ],
   "outputs": [
    {
     "output_type": "execute_result",
     "data": {
      "text/plain": [
       "2.8284271247461903"
      ]
     },
     "metadata": {},
     "execution_count": 250
    }
   ],
   "metadata": {}
  },
  {
   "cell_type": "markdown",
   "source": [
    "4. Решить матричное уравнение `A*X*B=-C` - найти матрицу `X`. Где `A = [[-1, 2, 4], [-3, 1, 2], [-3, 0, 1]]`, `B=[[3, -1], [2, 1]]`, `C=[[7, 21], [11, 8], [8, 4]]`."
   ],
   "metadata": {}
  },
  {
   "cell_type": "code",
   "execution_count": 251,
   "source": [
    "A = [[-1, 2, 4], [-3, 1, 2], [-3, 0, 1]]\n",
    "B = [[3, -1], [2, 1]]\n",
    "C = [[7, 21], [11, 8], [8, 4]]\n",
    "\n",
    "\n",
    "# X = A^-1 * -C * B^-1\n",
    "\n"
   ],
   "outputs": [],
   "metadata": {}
  },
  {
   "cell_type": "markdown",
   "source": [
    "## Лабораторная работа №1"
   ],
   "metadata": {}
  },
  {
   "cell_type": "markdown",
   "source": [
    "Замечание: при решении данных задач не подразумевается использования циклов или генераторов Python, если в задании не сказано обратного. Решение должно опираться на использования функционала библиотеки `numpy`."
   ],
   "metadata": {}
  },
  {
   "cell_type": "markdown",
   "source": [
    "1. Файл `minutes_n_ingredients.csv` содержит информацию об идентификаторе рецепта, времени его выполнения в минутах и количестве необходимых ингредиентов. Считайте данные из этого файла в виде массива `numpy` типа `int32`, используя `np.load_txt`. Выведите на экран первые 5 строк массива."
   ],
   "metadata": {}
  },
  {
   "cell_type": "code",
   "execution_count": 252,
   "source": [
    "import numpy as np\n",
    "data = np.loadtxt(\"./minutes_n_ingredients.csv\",int,delimiter=\",\",skiprows=1)\n",
    "print(data[:5])"
   ],
   "outputs": [
    {
     "output_type": "stream",
     "name": "stdout",
     "text": [
      "[[127244     60     16]\n",
      " [ 23891     25      7]\n",
      " [ 94746     10      6]\n",
      " [ 67660      5      6]\n",
      " [157911     60     14]]\n"
     ]
    }
   ],
   "metadata": {}
  },
  {
   "cell_type": "markdown",
   "source": [
    "2. Вычислите среднее значение, минимум, максимум и медиану по каждому из столбцов, кроме первого."
   ],
   "metadata": {}
  },
  {
   "cell_type": "code",
   "execution_count": 253,
   "source": [
    "print(f\"Мин: {np.min(data[:, 1])}\\nМакс: {np.max(data[:, 1])}\\nМедиана: {np.median(data[:, 1])}\")\n",
    "print(f\"Мин: {np.min(data[:, 2])}\\nМакс: {np.max(data[:, 2])}\\nМедиана: {np.median(data[:, 2])}\")"
   ],
   "outputs": [
    {
     "output_type": "stream",
     "name": "stdout",
     "text": [
      "Мин: 0\n",
      "Макс: 2147483647\n",
      "Медиана: 40.0\n",
      "Мин: 1\n",
      "Макс: 39\n",
      "Медиана: 9.0\n"
     ]
    }
   ],
   "metadata": {}
  },
  {
   "cell_type": "markdown",
   "source": [
    "3. Ограничьте сверху значения продолжительности выполнения рецепта значением квантиля $q_{0.75}$. "
   ],
   "metadata": {}
  },
  {
   "cell_type": "code",
   "execution_count": 254,
   "source": [
    "quan = 0.75\n",
    "val = data[:, 1] <= np.quantile(data[:, 1], quan)\n",
    "print(data[val])\n"
   ],
   "outputs": [
    {
     "output_type": "stream",
     "name": "stdout",
     "text": [
      "[[127244     60     16]\n",
      " [ 23891     25      7]\n",
      " [ 94746     10      6]\n",
      " ...\n",
      " [ 43407     35      7]\n",
      " [498432     65     15]\n",
      " [370915      5      4]]\n"
     ]
    }
   ],
   "metadata": {}
  },
  {
   "cell_type": "markdown",
   "source": [
    "4. Посчитайте, для скольких рецептов указана продолжительность, равная нулю. Замените для таких строк значение в данном столбце на 1."
   ],
   "metadata": {}
  },
  {
   "cell_type": "code",
   "execution_count": 265,
   "source": [
    "print(f\"Кол-во: {np.sum(data[:, 1] == 0)}\")\n",
    "arr = np.copy(data)\n",
    "arr[:, 1][arr[:, 1] == 0] = 10 # замена строк на единицу\n",
    "# print(np.sum(arr[:, 1] == 0))\n"
   ],
   "outputs": [
    {
     "output_type": "stream",
     "name": "stdout",
     "text": [
      "Кол-во: 479\n",
      "0\n"
     ]
    }
   ],
   "metadata": {}
  },
  {
   "cell_type": "markdown",
   "source": [
    "5. Посчитайте, сколько уникальных рецептов находится в датасете."
   ],
   "metadata": {}
  },
  {
   "cell_type": "code",
   "execution_count": 256,
   "source": [
    "uniq = np.unique(data, axis=1)\n",
    "print(uniq.shape)"
   ],
   "outputs": [
    {
     "output_type": "stream",
     "name": "stdout",
     "text": [
      "(100000, 3)\n"
     ]
    }
   ],
   "metadata": {}
  },
  {
   "cell_type": "markdown",
   "source": [
    "6. Сколько и каких различных значений кол-ва ингредиентов присутвует в рецептах из датасета?\n"
   ],
   "metadata": {}
  },
  {
   "cell_type": "code",
   "execution_count": 257,
   "source": [
    "unique, amount = np.unique(data[:, 2], return_counts=True)\n",
    "print(f\"Кол-во: {amount.size}\")\n",
    "print(dict(zip(amount,unique)))"
   ],
   "outputs": [
    {
     "output_type": "stream",
     "name": "stdout",
     "text": [
      "Кол-во: 37\n",
      "{13: 1, 926: 2, 2895: 3, 5515: 4, 7913: 5, 9376: 6, 10628: 7, 10951: 8, 10585: 9, 9591: 10, 8297: 11, 6605: 12, 4997: 13, 3663: 14, 2595: 15, 1767: 16, 1246: 17, 790: 18, 573: 19, 376: 20, 217: 21, 161: 22, 105: 23, 69: 24, 50: 25, 28: 26, 16: 28, 12: 30, 3: 35, 1: 39, 2: 33}\n"
     ]
    }
   ],
   "metadata": {}
  },
  {
   "cell_type": "markdown",
   "source": [
    "7. Создайте версию массива, содержащую информацию только о рецептах, состоящих не более чем из 5 ингредиентов."
   ],
   "metadata": {}
  },
  {
   "cell_type": "code",
   "execution_count": 258,
   "source": [
    "new_arr = data[data[:, 2] < 6]\n",
    "print(new_arr)\n"
   ],
   "outputs": [
    {
     "output_type": "stream",
     "name": "stdout",
     "text": [
      "[[446597     15      5]\n",
      " [204134      5      3]\n",
      " [ 25623      6      4]\n",
      " ...\n",
      " [ 52088     60      5]\n",
      " [128811     15      4]\n",
      " [370915      5      4]]\n"
     ]
    }
   ],
   "metadata": {}
  },
  {
   "cell_type": "markdown",
   "source": [
    "8. Для каждого рецепта посчитайте, сколько в среднем ингредиентов приходится на одну минуту рецепта. Найдите максимальное значение этой величины для всего датасета"
   ],
   "metadata": {}
  },
  {
   "cell_type": "code",
   "execution_count": 259,
   "source": [
    "# Не понятно, что делать с divide by zero\n",
    "val = (data[:,2]/(data[:,1]!= 0))\n",
    "print(val)\n",
    "print(np.max(val))"
   ],
   "outputs": [
    {
     "output_type": "stream",
     "name": "stdout",
     "text": [
      "[16.  7.  6. ... 15.  4. 14.]\n",
      "inf\n"
     ]
    },
    {
     "output_type": "stream",
     "name": "stderr",
     "text": [
      "/Users/user/Library/Python/3.7/lib/python/site-packages/ipykernel_launcher.py:2: RuntimeWarning: divide by zero encountered in true_divide\n",
      "  \n"
     ]
    }
   ],
   "metadata": {}
  },
  {
   "cell_type": "markdown",
   "source": [
    "9. Вычислите среднее количество ингредиентов для топ-100 рецептов с наибольшей продолжительностью"
   ],
   "metadata": {}
  },
  {
   "cell_type": "code",
   "execution_count": 260,
   "source": [
    "amount = 100\n",
    "arr = data[data[:, 1].argsort()][::-1][:amount] # 100 рецептов\n",
    "print(np.sum(arr[:, 2])/amount)"
   ],
   "outputs": [
    {
     "output_type": "stream",
     "name": "stdout",
     "text": [
      "6.61\n"
     ]
    }
   ],
   "metadata": {}
  },
  {
   "cell_type": "markdown",
   "source": [
    "10. Выберите случайным образом и выведите информацию о 10 различных рецептах"
   ],
   "metadata": {}
  },
  {
   "cell_type": "code",
   "execution_count": 261,
   "source": [
    "print(data[np.random.randint(len(data), size=10)])"
   ],
   "outputs": [
    {
     "output_type": "stream",
     "name": "stdout",
     "text": [
      "[[ 76070     10     13]\n",
      " [ 71725     20     10]\n",
      " [307260     17      8]\n",
      " [146563      7      5]\n",
      " [361604      5      2]\n",
      " [273593    300     15]\n",
      " [133019    140      8]\n",
      " [423164     15      3]\n",
      " [ 29129     48     15]\n",
      " [189987     75      9]]\n"
     ]
    }
   ],
   "metadata": {}
  },
  {
   "cell_type": "markdown",
   "source": [
    "11. Выведите процент рецептов, кол-во ингредиентов в которых меньше среднего."
   ],
   "metadata": {}
  },
  {
   "cell_type": "code",
   "execution_count": 262,
   "source": [
    "avg = np.mean(data[:, 2])\n",
    "print(avg)\n",
    "arr = data[data[:, 2] < avg]\n",
    "print(f\"{len(arr)*100/len(data)}%\")"
   ],
   "outputs": [
    {
     "output_type": "stream",
     "name": "stdout",
     "text": [
      "9.05528\n",
      "58.802%\n"
     ]
    }
   ],
   "metadata": {}
  },
  {
   "cell_type": "markdown",
   "source": [
    "12. Назовем \"простым\" такой рецепт, длительность выполнения которого не больше 20 минут и кол-во ингредиентов в котором не больше 5. Создайте версию датасета с дополнительным столбцом, значениями которого являются 1, если рецепт простой, и 0 в противном случае."
   ],
   "metadata": {}
  },
  {
   "cell_type": "code",
   "execution_count": 263,
   "source": [
    "new_arr = np.copy(data)\n",
    "arr = np.c_[data, (new_arr[:, 1] <= 20) & (new_arr[:, 2] <= 5)]\n",
    "print(arr)\n"
   ],
   "outputs": [
    {
     "output_type": "stream",
     "name": "stdout",
     "text": [
      "[[127244     60     16      0]\n",
      " [ 23891     25      7      0]\n",
      " [ 94746     10      6      0]\n",
      " ...\n",
      " [498432     65     15      0]\n",
      " [370915      5      4      1]\n",
      " [ 81993    140     14      0]]\n"
     ]
    }
   ],
   "metadata": {}
  },
  {
   "cell_type": "markdown",
   "source": [
    "13. Выведите процент \"простых\" рецептов в датасете"
   ],
   "metadata": {}
  },
  {
   "cell_type": "code",
   "execution_count": 264,
   "source": [
    "arr_len = arr.shape[0]\n",
    "rec_len = len(arr[arr[:, 3] == 1])\n",
    "\n",
    "print(f\"{rec_len*100/arr_len}%\")"
   ],
   "outputs": [
    {
     "output_type": "stream",
     "name": "stdout",
     "text": [
      "9.552%\n"
     ]
    }
   ],
   "metadata": {}
  },
  {
   "cell_type": "markdown",
   "source": [
    "14. Разделим рецепты на группы по следующему правилу. Назовем рецепты короткими, если их продолжительность составляет менее 10 минут; стандартными, если их продолжительность составляет более 10, но менее 20 минут; и длинными, если их продолжительность составляет не менее 20 минут. Создайте трехмерный массив, где нулевая ось отвечает за номер группы (короткий, стандартный или длинный рецепт), первая ось - за сам рецепт и вторая ось - за характеристики рецепта. Выберите максимальное количество рецептов из каждой группы таким образом, чтобы было возможно сформировать трехмерный массив. Выведите форму полученного массива."
   ],
   "metadata": {}
  },
  {
   "cell_type": "code",
   "execution_count": null,
   "source": [],
   "outputs": [],
   "metadata": {}
  }
 ],
 "metadata": {
  "kernelspec": {
   "name": "python3",
   "display_name": "Python 3.7.0 64-bit"
  },
  "language_info": {
   "codemirror_mode": {
    "name": "ipython",
    "version": 3
   },
   "file_extension": ".py",
   "mimetype": "text/x-python",
   "name": "python",
   "nbconvert_exporter": "python",
   "pygments_lexer": "ipython3",
   "version": "3.7.0"
  },
  "metadata": {
   "interpreter": {
    "hash": "aee8b7b246df8f9039afb4144a1f6fd8d2ca17a180786b69acc140d282b71a49"
   }
  },
  "orig_nbformat": 3,
  "interpreter": {
   "hash": "aee8b7b246df8f9039afb4144a1f6fd8d2ca17a180786b69acc140d282b71a49"
  }
 },
 "nbformat": 4,
 "nbformat_minor": 4
}