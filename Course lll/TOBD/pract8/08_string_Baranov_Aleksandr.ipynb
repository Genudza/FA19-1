{
 "cells": [
  {
   "cell_type": "markdown",
   "metadata": {},
   "source": [
    "# Работа со строковыми значениями"
   ]
  },
  {
   "cell_type": "markdown",
   "metadata": {},
   "source": [
    "Материалы:\n",
    "* Макрушин С.В. Лекция 8: Работа со строковыми значениям\n",
    "* https://pyformat.info/\n",
    "* https://docs.python.org/3/library/re.html\n",
    "* https://tproger.ru/translations/regular-expression-python/\n",
    "* https://realpython.com/nltk-nlp-python/"
   ]
  },
  {
   "cell_type": "markdown",
   "metadata": {},
   "source": [
    "## Задачи для совместного разбора"
   ]
  },
  {
   "cell_type": "markdown",
   "metadata": {},
   "source": [
    "1. Вывести на экран данные из словаря `obj` построчно в виде `k = v`, задав формат таким образом, чтобы знак равенства оказался на одной и той же позиции во всех строках. Строковые литералы обернуть в кавычки."
   ]
  },
  {
   "cell_type": "code",
   "execution_count": 1,
   "metadata": {},
   "outputs": [],
   "source": [
    "obj = {  \n",
    "         'home_page': 'https://github.com/pypa/sampleproject',\n",
    "         'keywords': 'sample setuptools development',\n",
    "         'license': 'MIT'\n",
    "      }"
   ]
  },
  {
   "cell_type": "code",
   "execution_count": 2,
   "metadata": {},
   "outputs": [
    {
     "name": "stdout",
     "output_type": "stream",
     "text": [
      "home_page = 'https://github.com/pypa/sampleproject'\n",
      "keywords  = 'sample setuptools development'\n",
      "license   = 'MIT'\n"
     ]
    }
   ],
   "source": [
    "for k,v in obj.items():\n",
    "    print(f\"{k:9} = '{v}'\")"
   ]
  },
  {
   "cell_type": "markdown",
   "metadata": {},
   "source": [
    "2. Дана строка 'aaa--bbb==ccc__ddd'. Написать регулярное выражение для разбивки строки на список ['aaa','bbb','ccc','ddd']."
   ]
  },
  {
   "cell_type": "code",
   "execution_count": 3,
   "metadata": {},
   "outputs": [
    {
     "data": {
      "text/plain": [
       "['aaa', 'bbb', 'ccc', 'ddd']"
      ]
     },
     "execution_count": 3,
     "metadata": {},
     "output_type": "execute_result"
    }
   ],
   "source": [
    "import re\n",
    "pattern = re.compile(\"[a-z]{3}\")\n",
    "# pattern = re.compile(\"[a-z]+\")\n",
    "pattern.findall(\"aaa--bbb==ccc__ddd\")"
   ]
  },
  {
   "cell_type": "markdown",
   "metadata": {},
   "source": [
    "3. Проверить корректность введенного E-mail"
   ]
  },
  {
   "cell_type": "code",
   "execution_count": 4,
   "metadata": {},
   "outputs": [
    {
     "name": "stdout",
     "output_type": "stream",
     "text": [
      "<re.Match object; span=(0, 22), match='shubsdsa1399@gmail.com'>\n",
      "None\n",
      "None\n"
     ]
    }
   ],
   "source": [
    "email = \"shubsdsa1399@gmail.com\"\n",
    "\n",
    "email_2 = \"shubsdsa13_99@gmail.co1m2\"\n",
    "\n",
    "email_3 = \"$hub$dsa1!3_99@gmail.com\"\n",
    "\n",
    "pattern = re.compile(\"^[a-zA-Z0-9.]+@([a-zA-Z]{2,10}[.]){1,3}(com|by|ru|eu|uk)$\")\n",
    "\n",
    "print(pattern.match(email))\n",
    "\n",
    "print(pattern.match(email_2))\n",
    "\n",
    "print(pattern.match(email_3))"
   ]
  },
  {
   "cell_type": "markdown",
   "metadata": {},
   "source": [
    "4. Разбейте текст формулировки задачи 1 на слова."
   ]
  },
  {
   "cell_type": "code",
   "execution_count": 5,
   "metadata": {},
   "outputs": [
    {
     "data": {
      "text/plain": [
       "['Вывести',\n",
       " 'на',\n",
       " 'экран',\n",
       " 'данные',\n",
       " 'из',\n",
       " 'словаря',\n",
       " '`',\n",
       " 'obj',\n",
       " '`',\n",
       " 'построчно']"
      ]
     },
     "execution_count": 5,
     "metadata": {},
     "output_type": "execute_result"
    }
   ],
   "source": [
    "import nltk\n",
    "txt = \"\"\"Вывести на экран данные из словаря `obj` построчно в виде `k = v`, задав формат таким образом, \n",
    "чтобы знак равенства оказался на одной и той же позиции во всех строках. \n",
    "Строковые литералы обернуть в кавычки.\"\"\"\n",
    "\n",
    "nltk.wordpunct_tokenize(txt)[:10]\n"
   ]
  },
  {
   "cell_type": "markdown",
   "metadata": {},
   "source": [
    "## Лабораторная работа 8"
   ]
  },
  {
   "cell_type": "markdown",
   "metadata": {},
   "source": [
    "### Форматирование строк"
   ]
  },
  {
   "cell_type": "markdown",
   "metadata": {},
   "source": [
    "1.1 Загрузите данные из файла `recipes_sample_with_tags_ingredients.csv` (__ЛР5__) в таблицу `recipes` При помощи форматирования строк выведите информацию об id рецепта и кол-ве игредиентов 5 случайных рецептов в виде таблицы следующего вида:\n",
    "\n",
    "    \n",
    "|    id     | n_in  |\n",
    "|-------------------|\n",
    "|  400894   |  13   |\n",
    "|   68588   |   8   |\n",
    "|  362081   |   6   |\n",
    "|   53408   |  12   |\n",
    "|  221203   |   4   |"
   ]
  },
  {
   "cell_type": "code",
   "execution_count": 2,
   "metadata": {},
   "outputs": [],
   "source": [
    "import pandas as pd\n",
    "import numpy as np\n",
    "import re\n"
   ]
  },
  {
   "cell_type": "code",
   "execution_count": 3,
   "metadata": {},
   "outputs": [
    {
     "name": "stdout",
     "output_type": "stream",
     "text": [
      "|    id     | n_in  |\n",
      "|-------------------|\n",
      "|  498384   |   15  |\n",
      "|  248342   |   10  |\n",
      "|  427317   |   11  |\n",
      "|  195517   |   9   |\n",
      "|  400455   |   7   |\n"
     ]
    }
   ],
   "source": [
    "df = pd.read_csv(\"./data/recipes_sample_with_tags_ingredients.csv\")\n",
    "df = df.sample(5)\n",
    "\n",
    "print(f\"|{'id':^10} | {'n_in':^5} |\\n|{'-'*19}|\")\n",
    "for i in df.iterrows():\n",
    "    print(f\"|{i[1]['id']:^10} | {i[1]['n_ingredients']:^6}|\")"
   ]
  },
  {
   "cell_type": "markdown",
   "metadata": {},
   "source": [
    "1.2 Напишите функцию `show_info`, которая для рецепта по его `id` создает строку (в смысле объекта python) с описанием следующего вида:\n",
    "\n",
    "```\n",
    "\"Название\"\n",
    "\n",
    "1. Шаг 1.\n",
    "2. Шаг 2.\n",
    "----------\n",
    "#тэг1 #тэг2\n",
    "```\n",
    "\n",
    "    \n",
    "Данные для создания строки получите из файлов `recipes_sample_with_tags_ingredients.csv`, `steps_sample.xml` (__ЛР4__) и `tags_sample.csv` (__ЛР5__). \n",
    "Выведите созданную строку на экран."
   ]
  },
  {
   "cell_type": "code",
   "execution_count": 4,
   "metadata": {},
   "outputs": [],
   "source": [
    "from bs4 import BeautifulSoup\n",
    "import csv\n",
    "\n",
    "with open(\"./data/steps_sample.xml\", \"r\") as f:\n",
    "    steps_sample = BeautifulSoup(f)\n",
    "\n",
    "recipes_sample = pd.read_csv(\"./data/recipes_sample_with_tags_ingredients.csv\")\n",
    "\n",
    "cook = {}\n",
    "\n",
    "for recipe in steps_sample.find_all(\"recipe\"):\n",
    "    id = recipe.find(\"id\")\n",
    "    if id.text not in cook:\n",
    "        cook[id.text] = []\n",
    "    for step in recipe.find_all(\"step\"):\n",
    "        cook[id.text].append(step.text)\n",
    "\n",
    "with open(\"./data/tags_sample.csv\", \"r\") as f:\n",
    "    reader = csv.reader(f)\n",
    "    headers = next(reader)\n",
    "    tags_data = {}\n",
    "\n",
    "    for row in reader:\n",
    "        if int(row[0]) not in tags_data:\n",
    "            tags_data[int(row[0])] = []\n",
    "        tags_data[int(row[0])].append(row[1])\n",
    "\n"
   ]
  },
  {
   "cell_type": "code",
   "execution_count": 5,
   "metadata": {},
   "outputs": [
    {
     "name": "stdout",
     "output_type": "stream",
     "text": [
      "\"george s at the cove  black bean soup\"\n",
      "1. In 1 / 4 cup butter , saute carrots , onion , celery and broccoli stems for 5 minutes 1.\n",
      "2. Add thyme , oregano and basil 2.\n",
      "3. Saute 5 minutes more 3.\n",
      "4. Add wine and deglaze pan 4.\n",
      "5. Add hot chicken stock and reduce by one-third 5.\n",
      "6. Add worcestershire sauce , tabasco , smoked chicken , beans and broccoli florets 6.\n",
      "7. Simmer 5 minutes 7.\n",
      "8. Add cream , simmer 5 minutes more and season to taste 8.\n",
      "9. Drop in remaining butter , piece by piece , stirring until melted and serve immediately 9.\n",
      "10. Smoked chicken: on a covered grill , slightly smoke boneless chicken , cooking to medium rare 10.\n",
      "11. Chef meskan uses applewood chips and does not allow the grill to become too hot 11.\n",
      "------------------------------------------------------------------------------------------------------------------------\n",
      "#weeknight #time-to-make #course #main-ingredient #cuisine #preparation #occasion #north-american #soups-stews #beans #poultry #american #chicken #stove-top #dietary #gluten-free #comfort-food #californian #black-beans #free-of-something #meat #taste-mood #equipment #grilling #4-hours-or-less "
     ]
    }
   ],
   "source": [
    "def show_info(id=44123):\n",
    "    name = recipes_sample.loc[recipes_sample[\"id\"] == id, \"name\"].values[0]\n",
    "    steps = cook[str(id)]\n",
    "    tags = tags_data[id]\n",
    "    info = \"\"\n",
    "    print(f\"\\\"{name}\\\"\")\n",
    "    for i, v in enumerate(steps):\n",
    "        print(f\"{i+1}. {v.capitalize()} {i+1}.\")\n",
    "        info += f\"{i+1}. {v.capitalize()} {i+1}.\\n\"\n",
    "    print(f\"{'-'*120}\")\n",
    "    for i in tags:\n",
    "        print(f\"#{i}\", end=\" \")\n",
    "\n",
    "    return info\n",
    "\n",
    "\n",
    "info_task1_2 = show_info()"
   ]
  },
  {
   "cell_type": "markdown",
   "metadata": {},
   "source": [
    "## Работа с регулярными выражениями"
   ]
  },
  {
   "cell_type": "markdown",
   "metadata": {},
   "source": [
    "В задачах данного блока подразумевается, что вы не будете использовать никаких строковые методы (`split`, `startswith` и т.д.). Все задачи необходимо решить при помощи регулярных выражений."
   ]
  },
  {
   "cell_type": "markdown",
   "metadata": {},
   "source": [
    "2.1 Посчитайте кол-во отзывов, в которых встречаются числа."
   ]
  },
  {
   "cell_type": "code",
   "execution_count": 10,
   "metadata": {},
   "outputs": [
    {
     "data": {
      "text/plain": [
       "49246"
      ]
     },
     "execution_count": 10,
     "metadata": {},
     "output_type": "execute_result"
    }
   ],
   "source": [
    "reviews = pd.read_csv(\"./data/reviews_sample.csv\")\n",
    "# reviews.head()\n",
    "len([i for i in reviews[\"review\"] if len(re.findall(\"[0-9]+\", str(i))) > 0])"
   ]
  },
  {
   "cell_type": "markdown",
   "metadata": {},
   "source": [
    "2.2 Найдите все смайлики в отзывах. Смайлик состоит из трех частей: глаза (символ `=` или `:`), нос (символ `-`), губы (символ `)` или `(`). Смайлик может иметь вид \"глаза-нос-губы\" или \"губы-нос-глаза\". Нос может отсутствовать."
   ]
  },
  {
   "cell_type": "code",
   "execution_count": 11,
   "metadata": {},
   "outputs": [
    {
     "data": {
      "text/plain": [
       "3"
      ]
     },
     "execution_count": 11,
     "metadata": {},
     "output_type": "execute_result"
    }
   ],
   "source": [
    "pattern = r\"^[=:]([-])?[()]$|^[()]([-])?[=:]$\"\n",
    "\n",
    "# smiles = [\":-)\", \":)\", \":(\", \"=)\", \"(:\", \"):\", \"(-=\"] #test\n",
    "# [re.match(pattern, i) for i in smiles]\n",
    "\n",
    "len([i for i in reviews[\"review\"] if len(re.findall(pattern, str(i))) > 0])"
   ]
  },
  {
   "cell_type": "markdown",
   "metadata": {},
   "source": [
    "2.3 Проверьте, что все даты в датасете имеют вид \"YYYY-MM-DD\". Продемонстрируйте работу вашего решения, приведя пример из датасета и контрпример не из датасета."
   ]
  },
  {
   "cell_type": "code",
   "execution_count": 12,
   "metadata": {},
   "outputs": [
    {
     "name": "stdout",
     "output_type": "stream",
     "text": [
      "126696\n",
      "126696\n",
      "['2021-3-12']\n"
     ]
    }
   ],
   "source": [
    "pattern = r\"^\\d{4}\\-(0?[1-9]|1[012])\\-(0?[1-9]|[12][0-9]|3[01])$\"\n",
    "\n",
    "print(len([i for i in reviews[\"date\"]]))\n",
    "print(len([i for i in reviews[\"date\"] if re.match(pattern, i)]))\n",
    "\n",
    "examples = [\"2021-13-12\", \"2021-3-12\", \"2022/1/12\"]\n",
    "print([i for i in examples if re.match(pattern, i)])"
   ]
  },
  {
   "cell_type": "markdown",
   "metadata": {},
   "source": [
    "2.4 Используя строку-результат задачи 1.2, найдите первое слово каждого шага в рецепте"
   ]
  },
  {
   "cell_type": "code",
   "execution_count": 13,
   "metadata": {},
   "outputs": [
    {
     "name": "stdout",
     "output_type": "stream",
     "text": [
      "(1, 'in')\n",
      "(2, 'add')\n",
      "(3, 'saute')\n",
      "(4, 'add')\n",
      "(5, 'add')\n",
      "(6, 'add')\n",
      "(7, 'simmer')\n",
      "(8, 'add')\n",
      "(9, 'drop')\n",
      "(10, 'smoked')\n",
      "(11, 'chef')\n"
     ]
    }
   ],
   "source": [
    "pattern = r\"[\\D]\\w+\"\n",
    "# info_task1_2 - строка\n",
    "reg = [re.split(\" \", re.findall(pattern, i)[0])[1] for i in re.split(\"\\n\", info_task1_2) if re.findall(pattern, i)]\n",
    "\n",
    "for i in zip(range(1,12), reg):\n",
    "    print(i)\n"
   ]
  },
  {
   "cell_type": "markdown",
   "metadata": {},
   "source": [
    "2.5 Используя регулярные выражения, удалите из описаний все символы, кроме английских букв, цифр и пробелов. Сохраните предобработанные описания в файл `preprocessed_descriptions.csv`, содержащий 2 столбца: `name` и `preprocessed_descriptions`."
   ]
  },
  {
   "cell_type": "code",
   "execution_count": 14,
   "metadata": {},
   "outputs": [],
   "source": [
    "pd.options.mode.chained_assignment = None # SettingWithCopyWarning disable\n",
    "\n",
    "df = recipes_sample[[\"name\", \"description\"]]\n",
    "pattern = r\"[^\\w\\s]+\"\n",
    "df.loc[:, \"preprocessed_descriptions\"] = [re.sub(pattern, \"\", str(text)) for text in df[\"description\"].tolist()]\n",
    "# df[\"preprocessed_descriptions\"] = df['description'].str.replace(pattern, \"\")\n",
    "df = df.drop([\"description\"], axis=1)\n",
    "df.to_csv(\"./data/preprocessed_descriptions.csv\", index=False)\n",
    "\n"
   ]
  },
  {
   "cell_type": "code",
   "execution_count": 15,
   "metadata": {},
   "outputs": [
    {
     "data": {
      "text/html": [
       "<div>\n",
       "<style scoped>\n",
       "    .dataframe tbody tr th:only-of-type {\n",
       "        vertical-align: middle;\n",
       "    }\n",
       "\n",
       "    .dataframe tbody tr th {\n",
       "        vertical-align: top;\n",
       "    }\n",
       "\n",
       "    .dataframe thead th {\n",
       "        text-align: right;\n",
       "    }\n",
       "</style>\n",
       "<table border=\"1\" class=\"dataframe\">\n",
       "  <thead>\n",
       "    <tr style=\"text-align: right;\">\n",
       "      <th></th>\n",
       "      <th>name</th>\n",
       "      <th>preprocessed_descriptions</th>\n",
       "    </tr>\n",
       "  </thead>\n",
       "  <tbody>\n",
       "    <tr>\n",
       "      <th>0</th>\n",
       "      <td>george s at the cove  black bean soup</td>\n",
       "      <td>an original recipe created by chef scott meska...</td>\n",
       "    </tr>\n",
       "    <tr>\n",
       "      <th>1</th>\n",
       "      <td>healthy for them  yogurt popsicles</td>\n",
       "      <td>my children and their friends ask for my homem...</td>\n",
       "    </tr>\n",
       "    <tr>\n",
       "      <th>2</th>\n",
       "      <td>i can t believe it s spinach</td>\n",
       "      <td>these were so go it surprised even me</td>\n",
       "    </tr>\n",
       "    <tr>\n",
       "      <th>3</th>\n",
       "      <td>italian  gut busters</td>\n",
       "      <td>my sisterinlaw made these for us at a family g...</td>\n",
       "    </tr>\n",
       "    <tr>\n",
       "      <th>4</th>\n",
       "      <td>love is in the air  beef fondue   sauces</td>\n",
       "      <td>i think a fondue is a very romantic casual din...</td>\n",
       "    </tr>\n",
       "    <tr>\n",
       "      <th>...</th>\n",
       "      <td>...</td>\n",
       "      <td>...</td>\n",
       "    </tr>\n",
       "    <tr>\n",
       "      <th>29995</th>\n",
       "      <td>zurie s holey rustic olive and cheddar bread</td>\n",
       "      <td>this is based on a french recipe but i changed...</td>\n",
       "    </tr>\n",
       "    <tr>\n",
       "      <th>29996</th>\n",
       "      <td>zwetschgenkuchen  bavarian plum cake</td>\n",
       "      <td>this is a traditional fresh plum cake thought ...</td>\n",
       "    </tr>\n",
       "    <tr>\n",
       "      <th>29997</th>\n",
       "      <td>zwiebelkuchen   southwest german onion cake</td>\n",
       "      <td>this is a traditional late summer early fall s...</td>\n",
       "    </tr>\n",
       "    <tr>\n",
       "      <th>29998</th>\n",
       "      <td>zydeco soup</td>\n",
       "      <td>this is a delicious soup that i originally fou...</td>\n",
       "    </tr>\n",
       "    <tr>\n",
       "      <th>29999</th>\n",
       "      <td>cookies by design   cookies on a stick</td>\n",
       "      <td>ive heard of the cookies by design company but...</td>\n",
       "    </tr>\n",
       "  </tbody>\n",
       "</table>\n",
       "<p>30000 rows × 2 columns</p>\n",
       "</div>"
      ],
      "text/plain": [
       "                                               name  \\\n",
       "0             george s at the cove  black bean soup   \n",
       "1                healthy for them  yogurt popsicles   \n",
       "2                      i can t believe it s spinach   \n",
       "3                              italian  gut busters   \n",
       "4          love is in the air  beef fondue   sauces   \n",
       "...                                             ...   \n",
       "29995  zurie s holey rustic olive and cheddar bread   \n",
       "29996          zwetschgenkuchen  bavarian plum cake   \n",
       "29997   zwiebelkuchen   southwest german onion cake   \n",
       "29998                                   zydeco soup   \n",
       "29999        cookies by design   cookies on a stick   \n",
       "\n",
       "                               preprocessed_descriptions  \n",
       "0      an original recipe created by chef scott meska...  \n",
       "1      my children and their friends ask for my homem...  \n",
       "2                  these were so go it surprised even me  \n",
       "3      my sisterinlaw made these for us at a family g...  \n",
       "4      i think a fondue is a very romantic casual din...  \n",
       "...                                                  ...  \n",
       "29995  this is based on a french recipe but i changed...  \n",
       "29996  this is a traditional fresh plum cake thought ...  \n",
       "29997  this is a traditional late summer early fall s...  \n",
       "29998  this is a delicious soup that i originally fou...  \n",
       "29999  ive heard of the cookies by design company but...  \n",
       "\n",
       "[30000 rows x 2 columns]"
      ]
     },
     "execution_count": 15,
     "metadata": {},
     "output_type": "execute_result"
    }
   ],
   "source": [
    "df"
   ]
  },
  {
   "cell_type": "markdown",
   "metadata": {},
   "source": [
    "### Сегментация текста"
   ]
  },
  {
   "cell_type": "markdown",
   "metadata": {},
   "source": [
    "3.1 Разбейте предобработанные отзывы из задания 2.5 на предложения, а предложения - на слова (используйте `sent_tokenize` и `word_tokenize` из `nltk`). Каждый отзыв представьте в виде списка списков: внешний список - предложения, вложенные списки - слова в предложении.\n",
    "\n",
    "`'Предложение номер один. Предложение номер два.' => [['Предложение', 'номер', 'один', '.'], ['Предложение', 'номер', 'два', '.']]`"
   ]
  },
  {
   "cell_type": "code",
   "execution_count": 16,
   "metadata": {},
   "outputs": [
    {
     "name": "stdout",
     "output_type": "stream",
     "text": [
      "[['an', 'original', 'recipe', 'created', 'by', 'chef', 'scott', 'meskan', 'georges', 'at', 'the', 'cove', 'we', 'enjoyed', 'this', 'when', 'we', 'visited', 'this', 'restaurant', 'in', 'la', 'jolla', 'california', 'this', 'recipe', 'is', 'requested', 'so', 'often', 'they', 'have', 'it', 'printed', 'and', 'ready', 'at', 'the', 'hostess', 'stand', 'its', 'unbeatable', 'at', 'the', 'restaurant', 'but', 'i', 'do', 'a', 'pretty', 'good', 'job', 'at', 'home', 'too', 'if', 'i', 'do', 'say', 'so', 'myself'], ['my', 'children', 'and', 'their', 'friends', 'ask', 'for', 'my', 'homemade', 'popsicles', 'morning', 'noon', 'and', 'night', 'i', 'never', 'turn', 'them', 'down', 'who', 'am', 'i', 'to', 'tell', 'them', 'that', 'they', 'are', 'good', 'for', 'them', 'for', 'variety', 'i', 'substitute', 'different', 'flavours', 'of', 'frozen', 'juice', 'grape', 'fruit', 'punch', 'tropical', 'etc'], ['these', 'were', 'so', 'go', 'it', 'surprised', 'even', 'me']]\n"
     ]
    }
   ],
   "source": [
    "import nltk\n",
    "# nltk.download('punkt')\n",
    "sentences = df[\"preprocessed_descriptions\"].to_list()\n",
    "print([nltk.word_tokenize(text) for text in sentences[:3]])"
   ]
  },
  {
   "cell_type": "markdown",
   "metadata": {},
   "source": [
    "3.2 Посчитайте кол-во уникальных слов в датасете (без учета регистра)."
   ]
  },
  {
   "cell_type": "code",
   "execution_count": 17,
   "metadata": {},
   "outputs": [
    {
     "name": "stdout",
     "output_type": "stream",
     "text": [
      "4581\n"
     ]
    }
   ],
   "source": [
    "rev = []\n",
    "n = 1000 # срез для скорости выполнения\n",
    "[rev.extend(nltk.word_tokenize(str(text))) for text in reviews[\"review\"][:n]]\n",
    "\n",
    "uniq = set()\n",
    "for r in rev:\n",
    "    uniq.add(r.lower())\n",
    "print(len(uniq))\n",
    "# 63566"
   ]
  },
  {
   "cell_type": "markdown",
   "metadata": {},
   "source": [
    "3.3 Найдите 5 самых длинных (по количеству слов) отзывов в датасете и выведите их в порядке убывания длины."
   ]
  },
  {
   "cell_type": "code",
   "execution_count": 18,
   "metadata": {},
   "outputs": [
    {
     "name": "stdout",
     "output_type": "stream",
     "text": [
      "[526, 324, 271, 263, 259]\n"
     ]
    }
   ],
   "source": [
    "d = {}\n",
    "n = 1000 # срез для скорости выполнения\n",
    "for row in reviews[\"review\"][:n]:\n",
    "    row = str(row)\n",
    "    words = nltk.word_tokenize(row)\n",
    "    d[row] = len(words)\n",
    "\n",
    "print([d[k] for k in sorted(d, key=d.get, reverse=True)[:5]])\n",
    "\n",
    "\n",
    "# [1218, 1089, 811, 787, 766]"
   ]
  },
  {
   "cell_type": "markdown",
   "metadata": {},
   "source": [
    "3.4 Напишите функцию, которая для заданного предложения выводит информацию о частях речи слов, входящих в предложение в следующем виде:\n",
    "```\n",
    "PRP   VBD   DT      NNS     CC   VBD      NNS        RB   \n",
    " I  omitted the raspberries and added strawberries instead\n",
    "``` \n",
    "Для определения части речи слова можно воспользоваться `nltk.pos_tag`.\n",
    "\n",
    "Проверьте работоспособность функции на любом предложении из отзывов.\n"
   ]
  },
  {
   "cell_type": "code",
   "execution_count": 19,
   "metadata": {},
   "outputs": [],
   "source": [
    "# nltk.download('averaged_perceptron_tagger')"
   ]
  },
  {
   "cell_type": "code",
   "execution_count": 20,
   "metadata": {},
   "outputs": [],
   "source": [
    "def part_of_speech(text):\n",
    "    words, parts = \"\", \"\"\n",
    "    for word, part in nltk.pos_tag(nltk.word_tokenize(text)):\n",
    "        w = max(len(word), len(part))\n",
    "        parts += f\"{part:^{w}} \"\n",
    "        words += f\"{word:^{w}} \"\n",
    "    print(str(parts + \"\\n\" + words))\n"
   ]
  },
  {
   "cell_type": "code",
   "execution_count": 21,
   "metadata": {},
   "outputs": [
    {
     "name": "stdout",
     "output_type": "stream",
     "text": [
      "RB  JJ  CC      JJ       VBG   . NNP RB  VBD  TO VB  PRP   IN  DT    NN     VBZ   .  NNS   . \n",
      "So easy and impressive looking . Ca  n't wait to try them with the caramel kisses . Thanks ! \n"
     ]
    }
   ],
   "source": [
    "part_of_speech(reviews.iloc[104]['review'])"
   ]
  }
 ],
 "metadata": {
  "interpreter": {
   "hash": "aee8b7b246df8f9039afb4144a1f6fd8d2ca17a180786b69acc140d282b71a49"
  },
  "kernelspec": {
   "display_name": "Python 3.9.7 64-bit",
   "name": "python3"
  },
  "language_info": {
   "codemirror_mode": {
    "name": "ipython",
    "version": 3
   },
   "file_extension": ".py",
   "mimetype": "text/x-python",
   "name": "python",
   "nbconvert_exporter": "python",
   "pygments_lexer": "ipython3",
   "version": "3.9.7"
  }
 },
 "nbformat": 4,
 "nbformat_minor": 4
}
