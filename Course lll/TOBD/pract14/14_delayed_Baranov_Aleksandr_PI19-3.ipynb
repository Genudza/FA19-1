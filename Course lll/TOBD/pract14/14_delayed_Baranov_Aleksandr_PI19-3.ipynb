{
 "cells": [
  {
   "cell_type": "markdown",
   "metadata": {},
   "source": [
    "# Dask Delayed"
   ]
  },
  {
   "cell_type": "markdown",
   "metadata": {},
   "source": [
    "Материалы:\n",
    "* Макрушин С.В. Лекция 13: Dask Delayed\n",
    "* https://docs.dask.org/en/latest/delayed.html\n",
    "* JESSE C. DANIEL. Data Science with Python and Dask.\n"
   ]
  },
  {
   "cell_type": "markdown",
   "metadata": {},
   "source": [
    "## Задачи для совместного разбора"
   ]
  },
  {
   "cell_type": "markdown",
   "metadata": {},
   "source": [
    "![](https://i.imgur.com/AwiN8y6.png)\n",
    "![](https://i.imgur.com/ceY6guU.png)"
   ]
  },
  {
   "cell_type": "markdown",
   "metadata": {},
   "source": [
    "1. Напишите 2 функции, имитирующие CPU-bound задачу и IO-bound задачу:\n",
    "\n",
    "`cpu_task()`: генерирует 100 тыс. случайных чисел и возвращает их сумму (без использования `numpy`)\n",
    "\n",
    "`io_task()`: \"спит\" 0.1 сек, затем генерирует случайное число и возвращает его\n",
    "\n",
    "Замерьте время выполнения 100 последовательных вызовов каждой из этих функций. Распараллелив вычисления при помощи `dask.delayed`, сократите время выполнения. Исследуйте, как зависит время вычислений от выбранного планировщика `scheduler`."
   ]
  },
  {
   "cell_type": "markdown",
   "metadata": {},
   "source": [
    "## Лабораторная работа 14"
   ]
  },
  {
   "cell_type": "markdown",
   "metadata": {},
   "source": [
    "1. Напишите функцию, которая считывает файл формата xml из архива `reviewers_full.zip` и по данным этого файла формирует список словарей, содержащих следующие ключи: `username`, `name`, `sex`, `country`, `mail`, `registered`, `birthdate`, `name_prefix`, `country_code`. Часть из этих значений в исходном файле хранится в виде тэгов, часть - в виде атрибутов тэгов. Для конкретного человека какие-то из этих ключей могут отсутствовать. \n",
    "\n"
   ]
  },
  {
   "cell_type": "code",
   "execution_count": 2,
   "metadata": {},
   "outputs": [],
   "source": [
    "import dask.delayed"
   ]
  },
  {
   "cell_type": "code",
   "execution_count": 3,
   "metadata": {},
   "outputs": [
    {
     "name": "stdout",
     "output_type": "stream",
     "text": [
      "Overwriting multi_util.py\n"
     ]
    }
   ],
   "source": [
    "%%file multi_util.py\n",
    "from bs4 import BeautifulSoup\n",
    "\n",
    "\n",
    "def get_reviewers_dict(filename):\n",
    "    with open(filename, \"r\") as fp:\n",
    "        data = BeautifulSoup(fp, 'lxml')\n",
    "        reviewers = []\n",
    "\n",
    "        for el in data.find_all(\"user\"):\n",
    "            id = int(exists(el.find(\"id\")))\n",
    "            username = exists(el.find(\"username\"))\n",
    "            name = exists(el.find(\"name\"))\n",
    "            sex = exists(el.find(\"sex\"))\n",
    "            country = exists(el.find(\"country\"))\n",
    "            mail = exists(el.find(\"mail\"))\n",
    "            registered = exists(el.find(\"registered\"))\n",
    "            birthdate = exists(el.find(\"birthdate\"))\n",
    "            name_prefix = el.get(\"prefix\")\n",
    "\n",
    "            if el.find(\"country\") is None:\n",
    "                country_code = None\n",
    "            else:\n",
    "                country_code = el.find(\"country\").get(\"code\")\n",
    "\n",
    "            user = {\"id\": id, \"username\": username, \"name\": name, \"sex\": sex,\n",
    "                    \"country\": country, \"mail\": mail, \"registered\": registered,\n",
    "                    \"birthdate\": birthdate, \"name_prefix\": name_prefix,\n",
    "                    \"country_code\": country_code}\n",
    "\n",
    "            reviewers.append(user)\n",
    "        return reviewers\n",
    "\n",
    "\n",
    "def exists(value):\n",
    "    return value if value is None else value.text\n"
   ]
  },
  {
   "cell_type": "code",
   "execution_count": 4,
   "metadata": {},
   "outputs": [],
   "source": [
    "import multi_util\n",
    "from multiprocessing import Pool\n",
    "\n",
    "def task_multi():\n",
    "    filenames = [f\"./data/reviewers_full/reviewers_full_{i}.xml\" for i in range(5)]\n",
    "    with Pool(5) as pool:\n",
    "        result_list = pool.map(multi_util.get_reviewers_dict, filenames)\n",
    "    return result_list\n",
    "\n",
    "def task_multi_delayed():\n",
    "    filenames = [f\"./data/reviewers_full/reviewers_full_{i}.xml\" for i in range(5)]\n",
    "    with Pool(5) as pool:\n",
    "        result_list = pool.map(dask.delayed(multi_util.get_reviewers_dict), filenames)\n",
    "    return result_list"
   ]
  },
  {
   "cell_type": "markdown",
   "metadata": {},
   "source": [
    "2. Измерьте время выполнения функции из задания 1 на всех файлах из архива. Ускорьте время выполнения, используя `dask.delayed`."
   ]
  },
  {
   "cell_type": "code",
   "execution_count": 5,
   "metadata": {},
   "outputs": [
    {
     "name": "stdout",
     "output_type": "stream",
     "text": [
      "CPU times: user 334 ms, sys: 126 ms, total: 460 ms\n",
      "Wall time: 26.4 s\n"
     ]
    }
   ],
   "source": [
    "%%time\n",
    "result_pool = task_multi()"
   ]
  },
  {
   "cell_type": "code",
   "execution_count": null,
   "metadata": {},
   "outputs": [],
   "source": [
    "result_delayed = task_multi_delayed()"
   ]
  },
  {
   "cell_type": "code",
   "execution_count": null,
   "metadata": {},
   "outputs": [
    {
     "name": "stdout",
     "output_type": "stream",
     "text": [
      "CPU times: user 194 ms, sys: 61.1 ms, total: 255 ms\n",
      "Wall time: 1min 19s\n"
     ]
    }
   ],
   "source": [
    "%%time\n",
    "result_delayed_mp = dask.compute(result_delayed, scheduler='multiprocessing')"
   ]
  },
  {
   "cell_type": "code",
   "execution_count": null,
   "metadata": {},
   "outputs": [
    {
     "name": "stdout",
     "output_type": "stream",
     "text": [
      "CPU times: user 1min 53s, sys: 37.8 s, total: 2min 31s\n",
      "Wall time: 2min\n"
     ]
    }
   ],
   "source": [
    "%%time\n",
    "result_delayed_thread = dask.compute(result_delayed, scheduler='threading')"
   ]
  },
  {
   "cell_type": "markdown",
   "metadata": {},
   "source": [
    "3. Задекорируйте функцию из задания 1 при помощи `dask.delayed` и создайте список `reviewers`, состоящий из 5 объектов `delayed` (по одному объекту на файл). Из списка объектов `delayed`, создайте `dask.bag` при помощи метода `db.from_delayed`. Добавьте ключ `birth_year`, в котором хранится год рождения человека. Оставьте в выборке только тех людей, которые __наверняка__ моложе 1980 года. Преобразуйте поле `id` к целому типу."
   ]
  },
  {
   "cell_type": "code",
   "execution_count": 6,
   "metadata": {},
   "outputs": [],
   "source": [
    "import dask.bag as db"
   ]
  },
  {
   "cell_type": "code",
   "execution_count": 7,
   "metadata": {},
   "outputs": [],
   "source": [
    "reviewers = task_multi_delayed()"
   ]
  },
  {
   "cell_type": "code",
   "execution_count": 12,
   "metadata": {},
   "outputs": [
    {
     "data": {
      "text/plain": [
       "dask.bag<bag-from-delayed, npartitions=5>"
      ]
     },
     "execution_count": 12,
     "metadata": {},
     "output_type": "execute_result"
    }
   ],
   "source": [
    "reviewers_bag = db.from_delayed(reviewers)\n",
    "reviewers_bag"
   ]
  },
  {
   "cell_type": "code",
   "execution_count": 9,
   "metadata": {},
   "outputs": [],
   "source": [
    "def birth_year(data):\n",
    "    if data[\"birthdate\"] is not None:\n",
    "        year = int(data[\"birthdate\"].split(\"-\")[0])\n",
    "        if year < 1980:\n",
    "            data[\"birth_year\"] = year\n",
    "            return data\n"
   ]
  },
  {
   "cell_type": "code",
   "execution_count": 13,
   "metadata": {},
   "outputs": [],
   "source": [
    "reviewers_bag = reviewers_bag.filter(birth_year)"
   ]
  },
  {
   "cell_type": "markdown",
   "metadata": {},
   "source": [
    "4. Из `dask.bag`, полученного в задании 3, создайте `dask.dataframe` при помощи метода `bag.to_dataframe`. Укажите столбец `id` в качестве индекса."
   ]
  },
  {
   "cell_type": "code",
   "execution_count": 15,
   "metadata": {},
   "outputs": [],
   "source": [
    "reviewers_df = reviewers_bag.to_dataframe().set_index(\"id\")"
   ]
  },
  {
   "cell_type": "code",
   "execution_count": 16,
   "metadata": {},
   "outputs": [
    {
     "data": {
      "text/html": [
       "<div>\n",
       "<style scoped>\n",
       "    .dataframe tbody tr th:only-of-type {\n",
       "        vertical-align: middle;\n",
       "    }\n",
       "\n",
       "    .dataframe tbody tr th {\n",
       "        vertical-align: top;\n",
       "    }\n",
       "\n",
       "    .dataframe thead th {\n",
       "        text-align: right;\n",
       "    }\n",
       "</style>\n",
       "<table border=\"1\" class=\"dataframe\">\n",
       "  <thead>\n",
       "    <tr style=\"text-align: right;\">\n",
       "      <th></th>\n",
       "      <th>username</th>\n",
       "      <th>name</th>\n",
       "      <th>sex</th>\n",
       "      <th>country</th>\n",
       "      <th>mail</th>\n",
       "      <th>registered</th>\n",
       "      <th>birthdate</th>\n",
       "      <th>name_prefix</th>\n",
       "      <th>country_code</th>\n",
       "      <th>birth_year</th>\n",
       "    </tr>\n",
       "    <tr>\n",
       "      <th>id</th>\n",
       "      <th></th>\n",
       "      <th></th>\n",
       "      <th></th>\n",
       "      <th></th>\n",
       "      <th></th>\n",
       "      <th></th>\n",
       "      <th></th>\n",
       "      <th></th>\n",
       "      <th></th>\n",
       "      <th></th>\n",
       "    </tr>\n",
       "  </thead>\n",
       "  <tbody>\n",
       "    <tr>\n",
       "      <th>1533</th>\n",
       "      <td>joseph38</td>\n",
       "      <td>None</td>\n",
       "      <td>None</td>\n",
       "      <td>None</td>\n",
       "      <td>josephroberts@gmail.com</td>\n",
       "      <td>None</td>\n",
       "      <td>1968-03-20</td>\n",
       "      <td>None</td>\n",
       "      <td>None</td>\n",
       "      <td>1968</td>\n",
       "    </tr>\n",
       "    <tr>\n",
       "      <th>1773</th>\n",
       "      <td>millercory</td>\n",
       "      <td>None</td>\n",
       "      <td>None</td>\n",
       "      <td>Yemen</td>\n",
       "      <td>None</td>\n",
       "      <td>None</td>\n",
       "      <td>1965-04-24</td>\n",
       "      <td>None</td>\n",
       "      <td>YE</td>\n",
       "      <td>1965</td>\n",
       "    </tr>\n",
       "    <tr>\n",
       "      <th>1962</th>\n",
       "      <td>joshuamunoz</td>\n",
       "      <td>Bobby Cohen</td>\n",
       "      <td>M</td>\n",
       "      <td>None</td>\n",
       "      <td>xduncan@gmail.com</td>\n",
       "      <td>2005-05-28</td>\n",
       "      <td>1965-02-22</td>\n",
       "      <td>Dr.</td>\n",
       "      <td>None</td>\n",
       "      <td>1965</td>\n",
       "    </tr>\n",
       "    <tr>\n",
       "      <th>2008</th>\n",
       "      <td>pphillips</td>\n",
       "      <td>Nicole Johnson</td>\n",
       "      <td>None</td>\n",
       "      <td>Bosnia and Herzegovina</td>\n",
       "      <td>ylam@gmail.com</td>\n",
       "      <td>None</td>\n",
       "      <td>1958-02-05</td>\n",
       "      <td>None</td>\n",
       "      <td>BA</td>\n",
       "      <td>1958</td>\n",
       "    </tr>\n",
       "    <tr>\n",
       "      <th>2054</th>\n",
       "      <td>barnesdoris</td>\n",
       "      <td>Carl Ingram</td>\n",
       "      <td>None</td>\n",
       "      <td>Benin</td>\n",
       "      <td>None</td>\n",
       "      <td>2017-05-30</td>\n",
       "      <td>1974-02-22</td>\n",
       "      <td>None</td>\n",
       "      <td>BJ</td>\n",
       "      <td>1974</td>\n",
       "    </tr>\n",
       "  </tbody>\n",
       "</table>\n",
       "</div>"
      ],
      "text/plain": [
       "         username            name   sex                 country  \\\n",
       "id                                                                \n",
       "1533     joseph38            None  None                    None   \n",
       "1773   millercory            None  None                   Yemen   \n",
       "1962  joshuamunoz     Bobby Cohen     M                    None   \n",
       "2008    pphillips  Nicole Johnson  None  Bosnia and Herzegovina   \n",
       "2054  barnesdoris     Carl Ingram  None                   Benin   \n",
       "\n",
       "                         mail  registered   birthdate name_prefix  \\\n",
       "id                                                                  \n",
       "1533  josephroberts@gmail.com        None  1968-03-20        None   \n",
       "1773                     None        None  1965-04-24        None   \n",
       "1962        xduncan@gmail.com  2005-05-28  1965-02-22         Dr.   \n",
       "2008           ylam@gmail.com        None  1958-02-05        None   \n",
       "2054                     None  2017-05-30  1974-02-22        None   \n",
       "\n",
       "     country_code  birth_year  \n",
       "id                             \n",
       "1533         None        1968  \n",
       "1773           YE        1965  \n",
       "1962         None        1965  \n",
       "2008           BA        1958  \n",
       "2054           BJ        1974  "
      ]
     },
     "execution_count": 16,
     "metadata": {},
     "output_type": "execute_result"
    }
   ],
   "source": [
    "reviewers_df.head()"
   ]
  },
  {
   "cell_type": "markdown",
   "metadata": {},
   "source": [
    "5. Назовем отзыв негативным, если оценка равна 0, 1 или 2. Загрузите данные о негативных отзывах из файлов архива `reviews_full` (__ЛР12__) в виде `dask.DataFrame`. Посчитайте количество отзывов с группировкой по пользователю, оставившему отзыв. Объедините результат с таблицей, полученной в задаче 4."
   ]
  },
  {
   "cell_type": "code",
   "execution_count": 17,
   "metadata": {},
   "outputs": [],
   "source": [
    "import json"
   ]
  },
  {
   "cell_type": "code",
   "execution_count": 18,
   "metadata": {},
   "outputs": [],
   "source": [
    "reviews_full = db.read_text(\"./data/reviews_full/reviews_*.json\").map(json.loads).to_dataframe()"
   ]
  },
  {
   "cell_type": "code",
   "execution_count": 20,
   "metadata": {},
   "outputs": [],
   "source": [
    "reviews_count = reviews_full.groupby(reviews_full[\"user_id\"])[\"review\"].count().compute()"
   ]
  },
  {
   "cell_type": "code",
   "execution_count": 21,
   "metadata": {},
   "outputs": [
    {
     "data": {
      "text/html": [
       "<div>\n",
       "<style scoped>\n",
       "    .dataframe tbody tr th:only-of-type {\n",
       "        vertical-align: middle;\n",
       "    }\n",
       "\n",
       "    .dataframe tbody tr th {\n",
       "        vertical-align: top;\n",
       "    }\n",
       "\n",
       "    .dataframe thead th {\n",
       "        text-align: right;\n",
       "    }\n",
       "</style>\n",
       "<table border=\"1\" class=\"dataframe\">\n",
       "  <thead>\n",
       "    <tr style=\"text-align: right;\">\n",
       "      <th></th>\n",
       "      <th>username</th>\n",
       "      <th>name</th>\n",
       "      <th>sex</th>\n",
       "      <th>country</th>\n",
       "      <th>mail</th>\n",
       "      <th>registered</th>\n",
       "      <th>birthdate</th>\n",
       "      <th>name_prefix</th>\n",
       "      <th>country_code</th>\n",
       "      <th>birth_year</th>\n",
       "      <th>review</th>\n",
       "    </tr>\n",
       "    <tr>\n",
       "      <th>id</th>\n",
       "      <th></th>\n",
       "      <th></th>\n",
       "      <th></th>\n",
       "      <th></th>\n",
       "      <th></th>\n",
       "      <th></th>\n",
       "      <th></th>\n",
       "      <th></th>\n",
       "      <th></th>\n",
       "      <th></th>\n",
       "      <th></th>\n",
       "    </tr>\n",
       "  </thead>\n",
       "  <tbody>\n",
       "    <tr>\n",
       "      <th>1533</th>\n",
       "      <td>joseph38</td>\n",
       "      <td>None</td>\n",
       "      <td>None</td>\n",
       "      <td>None</td>\n",
       "      <td>josephroberts@gmail.com</td>\n",
       "      <td>None</td>\n",
       "      <td>1968-03-20</td>\n",
       "      <td>None</td>\n",
       "      <td>None</td>\n",
       "      <td>1968</td>\n",
       "      <td>1024</td>\n",
       "    </tr>\n",
       "    <tr>\n",
       "      <th>1773</th>\n",
       "      <td>millercory</td>\n",
       "      <td>None</td>\n",
       "      <td>None</td>\n",
       "      <td>Yemen</td>\n",
       "      <td>None</td>\n",
       "      <td>None</td>\n",
       "      <td>1965-04-24</td>\n",
       "      <td>None</td>\n",
       "      <td>YE</td>\n",
       "      <td>1965</td>\n",
       "      <td>29</td>\n",
       "    </tr>\n",
       "    <tr>\n",
       "      <th>1962</th>\n",
       "      <td>joshuamunoz</td>\n",
       "      <td>Bobby Cohen</td>\n",
       "      <td>M</td>\n",
       "      <td>None</td>\n",
       "      <td>xduncan@gmail.com</td>\n",
       "      <td>2005-05-28</td>\n",
       "      <td>1965-02-22</td>\n",
       "      <td>Dr.</td>\n",
       "      <td>None</td>\n",
       "      <td>1965</td>\n",
       "      <td>148</td>\n",
       "    </tr>\n",
       "    <tr>\n",
       "      <th>2008</th>\n",
       "      <td>pphillips</td>\n",
       "      <td>Nicole Johnson</td>\n",
       "      <td>None</td>\n",
       "      <td>Bosnia and Herzegovina</td>\n",
       "      <td>ylam@gmail.com</td>\n",
       "      <td>None</td>\n",
       "      <td>1958-02-05</td>\n",
       "      <td>None</td>\n",
       "      <td>BA</td>\n",
       "      <td>1958</td>\n",
       "      <td>18</td>\n",
       "    </tr>\n",
       "    <tr>\n",
       "      <th>2054</th>\n",
       "      <td>barnesdoris</td>\n",
       "      <td>Carl Ingram</td>\n",
       "      <td>None</td>\n",
       "      <td>Benin</td>\n",
       "      <td>None</td>\n",
       "      <td>2017-05-30</td>\n",
       "      <td>1974-02-22</td>\n",
       "      <td>None</td>\n",
       "      <td>BJ</td>\n",
       "      <td>1974</td>\n",
       "      <td>7</td>\n",
       "    </tr>\n",
       "  </tbody>\n",
       "</table>\n",
       "</div>"
      ],
      "text/plain": [
       "         username            name   sex                 country  \\\n",
       "id                                                                \n",
       "1533     joseph38            None  None                    None   \n",
       "1773   millercory            None  None                   Yemen   \n",
       "1962  joshuamunoz     Bobby Cohen     M                    None   \n",
       "2008    pphillips  Nicole Johnson  None  Bosnia and Herzegovina   \n",
       "2054  barnesdoris     Carl Ingram  None                   Benin   \n",
       "\n",
       "                         mail  registered   birthdate name_prefix  \\\n",
       "id                                                                  \n",
       "1533  josephroberts@gmail.com        None  1968-03-20        None   \n",
       "1773                     None        None  1965-04-24        None   \n",
       "1962        xduncan@gmail.com  2005-05-28  1965-02-22         Dr.   \n",
       "2008           ylam@gmail.com        None  1958-02-05        None   \n",
       "2054                     None  2017-05-30  1974-02-22        None   \n",
       "\n",
       "     country_code  birth_year  review  \n",
       "id                                     \n",
       "1533         None        1968    1024  \n",
       "1773           YE        1965      29  \n",
       "1962         None        1965     148  \n",
       "2008           BA        1958      18  \n",
       "2054           BJ        1974       7  "
      ]
     },
     "execution_count": 21,
     "metadata": {},
     "output_type": "execute_result"
    }
   ],
   "source": [
    "reviewers_df.join(reviews_count.to_frame(), on=\"id\").head()"
   ]
  }
 ],
 "metadata": {
  "kernelspec": {
   "display_name": "Python 3 (ipykernel)",
   "language": "python",
   "name": "python3"
  },
  "language_info": {
   "codemirror_mode": {
    "name": "ipython",
    "version": 3
   },
   "file_extension": ".py",
   "mimetype": "text/x-python",
   "name": "python",
   "nbconvert_exporter": "python",
   "pygments_lexer": "ipython3",
   "version": "3.9.9"
  }
 },
 "nbformat": 4,
 "nbformat_minor": 4
}
