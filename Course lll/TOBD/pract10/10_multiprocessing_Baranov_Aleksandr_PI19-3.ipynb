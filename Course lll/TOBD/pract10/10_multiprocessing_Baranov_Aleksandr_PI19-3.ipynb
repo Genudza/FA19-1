{
 "cells": [
  {
   "cell_type": "markdown",
   "metadata": {},
   "source": [
    "# Параллельные вычисления"
   ]
  },
  {
   "cell_type": "markdown",
   "metadata": {},
   "source": [
    "Материалы:\n",
    "* Макрушин С.В. Лекция 10: Параллельные вычисления\n",
    "* https://docs.python.org/3/library/multiprocessing.html"
   ]
  },
  {
   "cell_type": "markdown",
   "metadata": {},
   "source": [
    "## Задачи для совместного разбора"
   ]
  },
  {
   "cell_type": "markdown",
   "metadata": {},
   "source": [
    "1. Посчитайте, сколько раз встречается каждый из символов (заглавные и строчные символы не различаются) в файле `Dostoevskiy Fedor. Prestuplenie i nakazanie - BooksCafe.Net.txt` и в файле `Dostoevskiy Fedor. Igrok - BooksCafe.Net.txt`. "
   ]
  },
  {
   "cell_type": "markdown",
   "metadata": {},
   "source": [
    "2. Решить задачу 1, распараллелив вычисления с помощью модуля `multiprocessing`. Для обработки каждого файла создать свой собственный процесс. "
   ]
  },
  {
   "cell_type": "markdown",
   "metadata": {},
   "source": [
    "## Лабораторная работа 10"
   ]
  },
  {
   "cell_type": "markdown",
   "metadata": {},
   "source": [
    "1. Разбейте файл `recipes_full.csv` на несколько (например, 8) примерно одинаковых по объему файлов c названиями `id_tag_nsteps_*.csv`. Каждый файл содержит 3 столбца: `id`, `tag` и `n_steps`, разделенных символом `;`. Для разбора строк используйте `csv.reader`.\n",
    "\n",
    "__Важно__: вы не можете загружать в память весь файл сразу. Посмотреть на первые несколько строк файла вы можете, написав код, который считывает эти строки.\n",
    "\n",
    "Подсказка: примерное кол-во строк в файле - 2.3 млн.\n",
    "\n",
    "Фрагмент одного из файлов, которые должны получиться в результате:\n",
    "```\n",
    "id;tag;n_steps\n",
    "137739;60-minutes-or-less;11\n",
    "137739;time-to-make;11\n",
    "137739;course;11\n",
    "```\n"
   ]
  },
  {
   "cell_type": "code",
   "execution_count": 16,
   "metadata": {},
   "outputs": [
    {
     "name": "stdout",
     "output_type": "stream",
     "text": [
      "Файл №0 сохранен\n",
      "Файл №1 сохранен\n",
      "Файл №2 сохранен\n",
      "Файл №3 сохранен\n",
      "Файл №4 сохранен\n",
      "Файл №5 сохранен\n",
      "Файл №6 сохранен\n",
      "Файл №7 сохранен\n",
      "Файл №8 сохранен\n",
      "Файл №9 сохранен\n"
     ]
    }
   ],
   "source": [
    "import pandas as pd\n",
    "import numpy as np\n",
    "\n",
    "N = 10\n",
    "size = 2_300_000 / N\n",
    "data = pd.read_csv(\"./data/recipes_full.csv\", chunksize=size)\n",
    "\n",
    "for idx, df in enumerate(data):\n",
    "    df = df[[\"id\", \"tags\", \"n_steps\"]]\n",
    "    tag_list = df[\"tags\"].map(lambda x: x.strip(\"[]\").replace(\"'\", \"\").split(\", \")).to_list()\n",
    "    df = df.drop(columns=[\"tags\"])\n",
    "    df[\"tags\"] = tag_list\n",
    "    list_of_tags, list_of_ids, list_of_n_steps = [], [], []\n",
    "    \n",
    "    for _, row in df.iterrows():\n",
    "        # переводим df в списки из элементов, чтобы собрать newdf, где будет лежать только один tag на строку\n",
    "        list_of_tags.extend([tag for tag in row[\"tags\"]])\n",
    "        list_of_ids.extend([row[\"id\"]] * len(row[\"tags\"]))\n",
    "        list_of_n_steps.extend([row[\"n_steps\"]] * len(row[\"tags\"]))\n",
    "\n",
    "    newdf = pd.DataFrame(data=list(zip(list_of_ids, list_of_tags, list_of_n_steps)), columns=[[\"id\", \"tag\", \"n_steps\"]]) \n",
    "    newdf.to_csv(f\"./data/id_tag_nsteps_{idx}.csv\", index=False)\n",
    "    print(f\"Файл №{idx} сохранен\")"
   ]
  },
  {
   "cell_type": "markdown",
   "metadata": {},
   "source": [
    "2. Напишите функцию, которая принимает на вход название файла, созданного в результате решения задачи 1, считает среднее значение количества шагов для каждого тэга и возвращает результат в виде словаря."
   ]
  },
  {
   "cell_type": "code",
   "execution_count": null,
   "metadata": {},
   "outputs": [],
   "source": [
    "def average_steps(filename):\n",
    "    df = pd.read_csv(\"./data/\"+filename+\".csv\")\n",
    "    return df.groupby(['tag']).agg('mean').to_dict()['n_steps']\n",
    "\n",
    "d = average_steps(\"id_tag_nsteps_9\")\n",
    "print(type(d), d)"
   ]
  },
  {
   "cell_type": "markdown",
   "metadata": {},
   "source": [
    "3. Напишите функцию, которая считает среднее значение количества шагов для каждого тэга по всем файлам, полученным в задаче 1, и возвращает результат в виде словаря. Не используйте параллельных вычислений. При реализации выделите функцию, которая объединяет результаты обработки отдельных файлов. Модифицируйте код из задачи 2 таким образом, чтобы получить результат, имея результаты обработки отдельных файлов. Определите, за какое время задача решается для всех файлов.\n"
   ]
  },
  {
   "cell_type": "code",
   "execution_count": 3,
   "metadata": {},
   "outputs": [
    {
     "name": "stdout",
     "output_type": "stream",
     "text": [
      "0:00:05.106930\n"
     ]
    }
   ],
   "source": [
    "from datetime import datetime\n",
    "\n",
    "def get_all_tags():\n",
    "\n",
    "    tags = {}\n",
    "    for i in range(N):\n",
    "        filename = \"id_tag_nsteps_\"+str(i)\n",
    "        tags[filename] = average_steps(filename)\n",
    "    return tags\n",
    "\n",
    "def combine_results(data):\n",
    "    temp = {}\n",
    "    for _, tag in data.items():\n",
    "        for key, value in tag.items():\n",
    "            if key not in temp:\n",
    "                temp[key] = []\n",
    "            temp[key].append(value)\n",
    "\n",
    "    combined = {}\n",
    "    for k, v in temp.items():\n",
    "        combined[k] = np.mean(v)\n",
    "    return combined\n",
    "\n",
    "start = datetime.now()\n",
    "tag_data = get_all_tags()\n",
    "result = combine_results(tag_data)\n",
    "print(datetime.now() - start)\n",
    "# print(result)\n"
   ]
  },
  {
   "cell_type": "markdown",
   "metadata": {},
   "source": [
    "4. Решите задачу 3, распараллелив вычисления с помощью модуля `multiprocessing`. Для обработки каждого файла создайте свой собственный процесс. Определите, за какое время задача решается для всех файлов."
   ]
  },
  {
   "cell_type": "code",
   "execution_count": 4,
   "metadata": {},
   "outputs": [
    {
     "name": "stdout",
     "output_type": "stream",
     "text": [
      "Overwriting task_util.py\n"
     ]
    }
   ],
   "source": [
    "%%file task_util.py\n",
    "import pandas as pd\n",
    "import numpy as np\n",
    "\n",
    "\n",
    "def average_steps(filename):\n",
    "    df = pd.read_csv(\"./data/\"+filename+\".csv\")\n",
    "    return df.groupby(['tag']).agg('mean').to_dict()['n_steps']\n",
    "\n",
    "def queue_func(input_, output):\n",
    "    for filename in iter(input_.get, 'STOP'):\n",
    "        result = average_steps(filename)\n",
    "        output.put(result)\n",
    "        \n",
    "def combine_results(data):\n",
    "    temp = {}\n",
    "    for _, tag in data.items():\n",
    "        for key, value in tag.items():\n",
    "            if key not in temp:\n",
    "                temp[key] = []\n",
    "            temp[key].append(value)\n",
    "\n",
    "    combined = {}\n",
    "    for k, v in temp.items():\n",
    "        combined[k] = np.mean(v)\n",
    "    return combined"
   ]
  },
  {
   "cell_type": "code",
   "execution_count": 7,
   "metadata": {},
   "outputs": [
    {
     "name": "stdout",
     "output_type": "stream",
     "text": [
      "id_tag_nsteps_9\n",
      "id_tag_nsteps_1\n",
      "id_tag_nsteps_2\n",
      "id_tag_nsteps_0\n",
      "id_tag_nsteps_4\n",
      "id_tag_nsteps_3\n",
      "id_tag_nsteps_5\n",
      "id_tag_nsteps_6\n",
      "id_tag_nsteps_7\n",
      "id_tag_nsteps_8\n",
      "0:00:02.191060\n"
     ]
    }
   ],
   "source": [
    "\n",
    "from datetime import datetime\n",
    "from multiprocessing import Pool, cpu_count, Queue, Process\n",
    "import task_util\n",
    "if __name__ == '__main__':\n",
    "    N = 10\n",
    "    start = datetime.now()\n",
    "    \n",
    "    filenames = [\"id_tag_nsteps_\"+str(i) for i in range(N)]\n",
    "    \n",
    "    with Pool(N) as pool:\n",
    "        result_list = pool.map(task_util.average_steps, filenames)\n",
    "\n",
    "    result = {}\n",
    "    for idx, tag_data in enumerate(result_list):\n",
    "        result[\"id_tag_nsteps_\"+str(idx)] = tag_data\n",
    "    \n",
    "    task_util.combine_results(result)\n",
    "    print(datetime.now() - start)"
   ]
  },
  {
   "cell_type": "markdown",
   "metadata": {},
   "source": [
    "5. Решите задачу 3, распараллелив вычисления с помощью модуля `multiprocessing`. Создайте фиксированное количество процессов (равное половине количества ядер на компьютере). При помощи очереди `multiprocessing.queue` передайте названия файлов для обработки процессам и при помощи другой очереди заберите от них ответы. "
   ]
  },
  {
   "cell_type": "code",
   "execution_count": null,
   "metadata": {},
   "outputs": [],
   "source": [
    "if __name__ == '__main__':\n",
    "\n",
    "    count = cpu_count() // 4\n",
    "    files_queue = Queue()\n",
    "    done_queue = Queue()\n",
    "\n",
    "    filenames = [\"id_tag_nsteps_\"+str(i) for i in range(N)]\n",
    "\n",
    "    for file in filenames:\n",
    "        files_queue.put(file)\n",
    "\n",
    "    for i in range(count):\n",
    "        Process(target=task_util.queue_func, args=(files_queue, done_queue)).start()\n",
    "\n",
    "    result = {}\n",
    "    for idx, tag_data in enumerate(result_list):\n",
    "        result[\"id_tag_nsteps_\"+str(idx)] = done_queue.get()\n",
    "\n",
    "    for i in range(count):\n",
    "        files_queue.put('STOP')\n",
    "\n",
    "    print(\"Кол-во файлов:\", len(result))\n",
    "    result = task_util.combine_results(result)\n",
    "    # print(result)\n"
   ]
  }
 ],
 "metadata": {
  "interpreter": {
   "hash": "aee8b7b246df8f9039afb4144a1f6fd8d2ca17a180786b69acc140d282b71a49"
  },
  "kernelspec": {
   "display_name": "Python [conda env:gcn]",
   "language": "python",
   "name": "python3"
  },
  "language_info": {
   "codemirror_mode": {
    "name": "ipython",
    "version": 3
   },
   "file_extension": ".py",
   "mimetype": "text/x-python",
   "name": "python",
   "nbconvert_exporter": "python",
   "pygments_lexer": "ipython3",
   "version": "3.9.7"
  }
 },
 "nbformat": 4,
 "nbformat_minor": 4
}
