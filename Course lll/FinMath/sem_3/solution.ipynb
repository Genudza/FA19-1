{
 "cells": [
  {
   "cell_type": "code",
   "execution_count": 9,
   "source": [
    "# Task 2\n",
    "c = 0.12\n",
    "n = 3\n",
    "N = 1500\n",
    "r1 = 0.1\n",
    "r2 = 0.14\n",
    "r3 = 0.12\n",
    "\n",
    "for i in (r1,r2, r3):\n",
    "    print(round(c * N * ((1-pow(1+i, -n))/i) + N * pow(1+i, -n), 0))\n",
    "\n"
   ],
   "outputs": [
    {
     "output_type": "stream",
     "name": "stdout",
     "text": [
      "1575.0\n",
      "1430.0\n",
      "1500.0\n"
     ]
    }
   ],
   "metadata": {}
  },
  {
   "cell_type": "code",
   "execution_count": 21,
   "source": [
    "#Task 2\n",
    "#K=V/N * 100\n",
    "n = 3\n",
    "c = 0.15\n",
    "N = 8000\n",
    "r1 = 0.12\n",
    "r2 = 0.15\n",
    "r3 = 0.18\n",
    "r1 = 0.12\n",
    "\n",
    "for i in (r1, r2, r3):\n",
    "    print(f\"Для {i}: \", round(c * N * ((1-pow(1+i, -n))/i) + N * pow(1+i, -n), 0))\n",
    "\n",
    "print(7800/8000*100,\"%\")\n",
    "\n"
   ],
   "outputs": [
    {
     "output_type": "stream",
     "name": "stdout",
     "text": [
      "Для 0.12:  8576.0\n",
      "Для 0.15:  8000.0\n",
      "Для 0.18:  7478.0\n",
      "97.5 %\n"
     ]
    }
   ],
   "metadata": {}
  },
  {
   "cell_type": "code",
   "execution_count": 26,
   "source": [
    "#Task 3\n",
    "\n",
    "N = 2500\n",
    "r = 0.1 # доходность\n",
    "n = 5 # срок погашения на 5 лет\n",
    "\n",
    "c_n =  700 # c*n - купонные ежегодные платежи\n",
    "\n",
    "round(c_n * ((1-pow(1+r, -n))/r) + N * pow(1+r, -n), 0)"
   ],
   "outputs": [
    {
     "output_type": "execute_result",
     "data": {
      "text/plain": [
       "4206.0"
      ]
     },
     "metadata": {},
     "execution_count": 26
    }
   ],
   "metadata": {}
  },
  {
   "cell_type": "code",
   "execution_count": 35,
   "source": [
    "#Task 4\n",
    "\n",
    "#Текущая доходность i\n",
    "# i = cN/V => V = cN/i\n",
    "\n",
    "N = 2000\n",
    "i1 = 0.1\n",
    "i2 = 0.11\n",
    "i3 = 0.12\n",
    "c = 0.09\n",
    "n = 5 # срок погашения на 5 лет\n",
    "\n",
    "\n",
    "\n",
    "for i in (i1, i2, i3):\n",
    "    print(f\"Для доходности {i}%:\", round((c*N)/i))\n",
    "\n",
    "\n",
    "# 1636\n",
    "# 1500\n"
   ],
   "outputs": [
    {
     "output_type": "stream",
     "name": "stdout",
     "text": [
      "Для доходности 0.1%: 1800\n",
      "Для доходности 0.11%: 1636\n",
      "Для доходности 0.12%: 1500\n"
     ]
    }
   ],
   "metadata": {}
  },
  {
   "cell_type": "code",
   "execution_count": null,
   "source": [],
   "outputs": [],
   "metadata": {}
  }
 ],
 "metadata": {
  "orig_nbformat": 4,
  "language_info": {
   "name": "python",
   "version": "3.7.0",
   "mimetype": "text/x-python",
   "codemirror_mode": {
    "name": "ipython",
    "version": 3
   },
   "pygments_lexer": "ipython3",
   "nbconvert_exporter": "python",
   "file_extension": ".py"
  },
  "kernelspec": {
   "name": "python3",
   "display_name": "Python 3.7.0 64-bit"
  },
  "interpreter": {
   "hash": "aee8b7b246df8f9039afb4144a1f6fd8d2ca17a180786b69acc140d282b71a49"
  }
 },
 "nbformat": 4,
 "nbformat_minor": 2
}