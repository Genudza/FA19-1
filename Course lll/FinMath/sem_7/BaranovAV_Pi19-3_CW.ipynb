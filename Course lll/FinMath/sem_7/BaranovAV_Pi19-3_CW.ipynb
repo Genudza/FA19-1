{
 "cells": [
  {
   "cell_type": "markdown",
   "metadata": {},
   "source": [
    "# 08.11.2021 Баранов Александр ПИ19-3\n"
   ]
  },
  {
   "cell_type": "markdown",
   "metadata": {},
   "source": [
    "# Задача 1"
   ]
  },
  {
   "cell_type": "markdown",
   "metadata": {},
   "source": [
    "<br>1110 = 1000 * (1 + i * t)</br>\n",
    "x = 500 * (1 + 3i * 2t)\n",
    "\n",
    "<br>(1 + i * t) = 1110/1000</br>\n",
    "i * t = 0.11\n",
    "\n",
    "<br>3i2t = 0.66</br>\n",
    "x = 500 * (1 + 0.66)\n",
    "<br>x = 830</br>\n",
    "Ответ: 830"
   ]
  },
  {
   "cell_type": "markdown",
   "metadata": {},
   "source": [
    "# Задача 2"
   ]
  },
  {
   "cell_type": "code",
   "execution_count": 13,
   "metadata": {},
   "outputs": [
    {
     "name": "stdout",
     "output_type": "stream",
     "text": [
      "Величина долга: 2055464.22\n"
     ]
    }
   ],
   "source": [
    "P = 1_000_000\n",
    "i = 0.155\n",
    "n = 5\n",
    "\n",
    "S = round(P * pow((1+i), n), 2)\n",
    "print(\"Величина долга:\", S)\n"
   ]
  },
  {
   "cell_type": "markdown",
   "metadata": {},
   "source": [
    "# Задача 3"
   ]
  },
  {
   "cell_type": "code",
   "execution_count": 15,
   "metadata": {},
   "outputs": [
    {
     "name": "stdout",
     "output_type": "stream",
     "text": [
      "P0_A = 78.19\n",
      "P0_B = 207.93\n",
      "Ответ: Платеж B выгоднее\n"
     ]
    }
   ],
   "source": [
    "A = {0: -1000, 1: 300, 2: 200, 3: 100, 4: 100, 5: 800}\n",
    "B = {0: -1000, 1: 800, 2: 100, 3: 100, 4: 200, 5: 300}\n",
    "i = 0.1\n",
    "\n",
    "P0_A = round(sum([v / (pow((1+i), k)) for k, v in A.items()]), 2)\n",
    "P0_B = round(sum([v / (pow((1+i), k)) for k, v in B.items()]), 2)\n",
    "\n",
    "print(f\"{P0_A = }\\n{P0_B = }\")\n",
    "\n",
    "answ = \"Ответ: \"\n",
    "if P0_A > P0_B:\n",
    "    answ += \"Платеж А выгоднее\"\n",
    "else:\n",
    "    answ += \"Платеж B выгоднее\"\n",
    "print(answ)"
   ]
  },
  {
   "cell_type": "markdown",
   "metadata": {},
   "source": [
    "# Задача 4\n"
   ]
  },
  {
   "cell_type": "code",
   "execution_count": 11,
   "metadata": {},
   "outputs": [
    {
     "name": "stdout",
     "output_type": "stream",
     "text": [
      "N = 1849.06\n"
     ]
    }
   ],
   "source": [
    "N = 2000\n",
    "D0 = 8\n",
    "i = 0.06\n",
    "i_l = 0.07\n",
    "\n",
    "DM = D0 / (1+i) # дюрация модифицированная\n",
    "N = round(N * (i_l-i) * -DM + N, 2)\n",
    "\n",
    "print(f\"{N = }\")"
   ]
  },
  {
   "cell_type": "markdown",
   "metadata": {},
   "source": [
    "# Задача 5"
   ]
  },
  {
   "cell_type": "code",
   "execution_count": 10,
   "metadata": {},
   "outputs": [
    {
     "name": "stdout",
     "output_type": "stream",
     "text": [
      "NPV = 1134.2\n"
     ]
    }
   ],
   "source": [
    "n = 10\n",
    "c = 0.1\n",
    "r = 0.08\n",
    "F = 1000\n",
    "\n",
    "NPV = round(sum([c * F / (pow((1+r), t)) for t in range(1, n+1)]) + (F / pow(1+r, n)), 2)\n",
    "print(f\"{NPV = }\")"
   ]
  }
 ],
 "metadata": {
  "interpreter": {
   "hash": "aee8b7b246df8f9039afb4144a1f6fd8d2ca17a180786b69acc140d282b71a49"
  },
  "kernelspec": {
   "display_name": "Python 3.9.7 64-bit",
   "language": "python",
   "name": "python3"
  },
  "language_info": {
   "codemirror_mode": {
    "name": "ipython",
    "version": 3
   },
   "file_extension": ".py",
   "mimetype": "text/x-python",
   "name": "python",
   "nbconvert_exporter": "python",
   "pygments_lexer": "ipython3",
   "version": "3.9.9"
  },
  "orig_nbformat": 4
 },
 "nbformat": 4,
 "nbformat_minor": 2
}
