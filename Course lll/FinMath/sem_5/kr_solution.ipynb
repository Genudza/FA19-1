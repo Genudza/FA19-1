{
 "cells": [
  {
   "cell_type": "markdown",
   "metadata": {},
   "source": [
    "# Задачи с КР\n",
    "# Задача 1\n",
    "\n",
    "Найти доходность к погашению для двухгодичной облигации номинальной стоимостью 1000 руб. с купонной ставкой 10%, которая продается за 1100 руб."
   ]
  },
  {
   "cell_type": "code",
   "execution_count": 12,
   "metadata": {},
   "outputs": [
    {
     "name": "stdout",
     "output_type": "stream",
     "text": [
      "5.0%\n"
     ]
    }
   ],
   "source": [
    "N = 1000\n",
    "P = 1100\n",
    "c = 0.1\n",
    "n = 2\n",
    "\n",
    "i = (c*N*n + N - P) / (P*n)\n",
    "print(f\"{round(i, 2)*100}%\")\n"
   ]
  },
  {
   "cell_type": "markdown",
   "metadata": {},
   "source": [
    "# Задача 2\n",
    "\n",
    "<br>На рынке выпущена облигация со сроком обращения 6 лет, номинальной стоимостью 5000 руб. и купонной ставкой 5%. </br>\n",
    "Найти доходность к погашению, если облигация продается за 5000 руб."
   ]
  },
  {
   "cell_type": "code",
   "execution_count": 29,
   "metadata": {},
   "outputs": [
    {
     "name": "stdout",
     "output_type": "stream",
     "text": [
      "5.0%\n"
     ]
    }
   ],
   "source": [
    "N = 5000\n",
    "n = 6\n",
    "P = 5000\n",
    "c = 0.05\n",
    "\n",
    "i = (c * N * n + N - P) / (P*n)\n",
    "print(f\"{round(i, 2)*100}%\")\n"
   ]
  }
 ],
 "metadata": {
  "interpreter": {
   "hash": "aee8b7b246df8f9039afb4144a1f6fd8d2ca17a180786b69acc140d282b71a49"
  },
  "kernelspec": {
   "display_name": "Python 3.9.7 64-bit",
   "name": "python3"
  },
  "language_info": {
   "codemirror_mode": {
    "name": "ipython",
    "version": 3
   },
   "file_extension": ".py",
   "mimetype": "text/x-python",
   "name": "python",
   "nbconvert_exporter": "python",
   "pygments_lexer": "ipython3",
   "version": "3.9.7"
  },
  "orig_nbformat": 4
 },
 "nbformat": 4,
 "nbformat_minor": 2
}
