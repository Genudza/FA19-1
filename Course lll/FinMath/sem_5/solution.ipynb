{
 "cells": [
  {
   "cell_type": "markdown",
   "metadata": {},
   "source": [
    "# Задача 1\n",
    "\n",
    "<br>Вычислить дюрацию Маколея и модифицированную дюрацию облигации,</br>\n",
    "заданной параметрами:\n",
    "- m = 4 года\n",
    "- c = 10%\n",
    "- F = 100 долл.\n",
    "- v = 1 \n",
    "- при исходном уровне требуемой доходности $ i_{0} =6 % $\n",
    "\n",
    "v - длительность купонного периода\n",
    "\n",
    "Формулы:\n",
    "<br>$ P_{0} - $ Оценка стоимости облигации</br>\n",
    "*D* - Дюрация\n",
    "\n",
    "$$ P_{0}=\\sum_{t=1}^n\\frac{C}{(1+r)^t}+\\frac{F}{(1+r)^n} $$ \n",
    "$$ D=\\frac{1}{P_{0}}(\\sum_{t=1}^nt\\frac{C}{(1+r)^t}+n\\frac{F}{(1+r)^n}) $$"
   ]
  },
  {
   "cell_type": "code",
   "execution_count": 1,
   "metadata": {},
   "outputs": [
    {
     "name": "stdout",
     "output_type": "stream",
     "text": [
      "P0 = 113.86042245079861\n",
      "D0 = 3.521361266276609\n"
     ]
    }
   ],
   "source": [
    "n = 4\n",
    "c = 0.1\n",
    "F = 100\n",
    "v = 1\n",
    "r = 0.06\n",
    "\n",
    "P0 = sum([c * F / (pow((1+r), t)) for t in range(1, n+1)]) + (F / pow(1+r, n))\n",
    "D0 = (sum([c * F * t / (pow((1+r), t)) for t in range(1, n+1)]) + n*(F / pow(1+r, n))) * (1/P0)\n",
    "\n",
    "print(f\"P0 = {P0}\\nD0 = {D0}\")\n"
   ]
  },
  {
   "cell_type": "markdown",
   "metadata": {},
   "source": [
    "# Задача 2\n",
    "\n",
    "<br>Найти стоимость и дюрацию потока платежей</br> $\\\\CF = {(1, 10),\\, (2, 30),\\, (4, -60),\\, (6, 80)}$\n",
    "<br>относительно момента t = 0 и ставки i = 10%. Найти точное и приближенное (по дюрации) изменение стоимости потока,</br> если ставка: a) вырастет на 10 б.п.; б) снизится на 10 б.п.\n",
    "\n",
    "Формулы:\n",
    "<br>$ P_{0} - $ Оценка стоимости облигации</br>\n",
    "*D* - Дюрация\n",
    "\n",
    "$$ P_{0}=\\sum_{t=1}^n\\frac{C}{(1+r)^t}+\\frac{F}{(1+r)^n} $$ \n",
    "$$ D=\\frac{1}{P_{0}}(\\sum_{t=1}^nt\\frac{C}{(1+r)^t}+n\\frac{F}{(1+r)^n}) $$"
   ]
  },
  {
   "cell_type": "code",
   "execution_count": 1,
   "metadata": {},
   "outputs": [
    {
     "name": "stdout",
     "output_type": "stream",
     "text": [
      "P0 = 38.061404603059096\n",
      "D0 = 4.353542514174357\n"
     ]
    }
   ],
   "source": [
    "CF = {1: 10, 2: 30, 4: -60, 6: 80}\n",
    "i = 0.10\n",
    "\n",
    "P0 = sum([v / (pow((1+i), k)) for k, v in CF.items()])\n",
    "D0 = (sum([v * k / (pow((1+i), k)) for k, v in CF.items()]))/P0\n",
    "D0\n",
    "\n",
    "print(f\"P0 = {P0}\\nD0 = {D0}\")\n"
   ]
  }
 ],
 "metadata": {
  "interpreter": {
   "hash": "aee8b7b246df8f9039afb4144a1f6fd8d2ca17a180786b69acc140d282b71a49"
  },
  "kernelspec": {
   "display_name": "Python 3.9.7 64-bit",
   "name": "python3"
  },
  "language_info": {
   "codemirror_mode": {
    "name": "ipython",
    "version": 3
   },
   "file_extension": ".py",
   "mimetype": "text/x-python",
   "name": "python",
   "nbconvert_exporter": "python",
   "pygments_lexer": "ipython3",
   "version": "3.9.7"
  },
  "orig_nbformat": 4
 },
 "nbformat": 4,
 "nbformat_minor": 2
}
