{
 "cells": [
  {
   "cell_type": "code",
   "execution_count": 12,
   "source": [
    "# CF = {(1000;1), (1000;2), (1100;3) - выплаты за каждый год\n",
    "\n",
    "n = 3  # срок\n",
    "N = 1000  # номинальная стоимость\n",
    "i_effective = 0.2  # эффективная % ставка\n",
    "disc = 100  # выплата по купону\n",
    "\n",
    "PV = ((disc * pow((1+i_effective), -1)) + (disc*pow((1+i_effective), -2)) + ((N+disc)*pow((1+i_effective), -3)))\n",
    "\n",
    "w1 = (disc * pow((1+i_effective), -1)) / PV\n",
    "w2 = (disc * pow((1+i_effective), -2)) / PV\n",
    "w3 = ((N+disc) * pow((1+i_effective), -3)) / PV\n",
    "\n",
    "print(f\"w1 = {w1}, \\nw2 = {w2}, \\nw3 = {w3}\")\n",
    "print(f\"sum = {w1+w2+w3}\")"
   ],
   "outputs": [
    {
     "output_type": "stream",
     "name": "stdout",
     "text": [
      "w1 = 0.10557184750733138, \n",
      "w2 = 0.08797653958944282, \n",
      "w3 = 0.8064516129032258\n",
      "sum = 1.0\n"
     ]
    }
   ],
   "metadata": {}
  },
  {
   "cell_type": "markdown",
   "source": [
    "# Задача 1\n",
    "\n",
    "Облигация будет выплачивать купон в размере $100 в конце из трех последующих лет и \n",
    "<br>выплатит номинальную стоимость $1000 в конце этого трехлетнего периода. Найдите </br>средний дисконтированный срок до погашения (продолжительность Маколи),</br> используя для его оценки эффективную годовую % ставку\n"
   ],
   "metadata": {}
  },
  {
   "cell_type": "code",
   "execution_count": 16,
   "source": [
    "def K(V, N):\n",
    "    return V/N * 100\n",
    "\n",
    "def P2(C, F, y, M):\n",
    "    return sum([C/(pow((1+y), k)) for k in range(M-1)]) + ((C+F)/pow((1+y), M))\n"
   ],
   "outputs": [],
   "metadata": {}
  },
  {
   "cell_type": "markdown",
   "source": [
    "# Задача 3\n",
    "\n",
    "Определить курс облигации с номиналом 1000 руб., если она реализована на рынке по цене\n",
    "- <b>920.30</b>\n",
    "- <b>1125</b>"
   ],
   "metadata": {}
  },
  {
   "cell_type": "code",
   "execution_count": 23,
   "source": [
    "# Task 3\n",
    "V1 = 920.30\n",
    "V2 = 1125\n",
    "N = 1000\n",
    "print(f\"K для V1      : {K(V1, N)}\")\n",
    "print(f\"K для V2      : {K(V2, N)}\")\n",
    "print(f\"доходность V1 : {N - V1}\")\n",
    "print(f\"доходность V2 : {N - V2}\")\n",
    "\n"
   ],
   "outputs": [
    {
     "output_type": "stream",
     "name": "stdout",
     "text": [
      "K для V1     : 92.03\n",
      "K для V2     : 112.5\n",
      "доходность V1: 79.70000000000005\n",
      "доходность V2: -125\n"
     ]
    }
   ],
   "metadata": {}
  },
  {
   "cell_type": "markdown",
   "source": [
    "# Задача 4\n",
    "\n",
    "Облигация со сроком до погашения два года имеет номинал 1000 руб. \n",
    "<br>и купонную ставку 10% годовых. Купоны выплачиваются раз в год, рыночная цега облигации 900 руб.</br>\n",
    "Найти доходность к погашению\n",
    "\n"
   ],
   "metadata": {}
  },
  {
   "cell_type": "code",
   "execution_count": null,
   "source": [
    "# Task 4\n",
    "\n",
    "P = 900 \n",
    "N = 1000\n",
    "c = 0.1\n",
    "\n",
    "\n",
    "# Решаем Photomath`ом\n",
    "# 900 = 100/(1+y) + 1100/(1+y)^2\n",
    "# получаем x2= 0,1625"
   ],
   "outputs": [],
   "metadata": {}
  },
  {
   "cell_type": "markdown",
   "source": [
    "# Задача 7\n",
    "\n",
    "Найти дюрацию потока платежей {(100, 1), (200, 2), (300, 3), (400, 4)} при процентной ставке i = 12%"
   ],
   "metadata": {}
  },
  {
   "cell_type": "code",
   "execution_count": 69,
   "source": [
    "# Task 7 \n",
    "i = 0.12\n",
    "d = {100: 1, 200: 2, 300: 3, 400: 4} # поток платежей\n",
    "\n",
    "P1 = sum([100 * k * pow((1+i), -k)  for k in range(1,len(d)+1)])\n",
    "summ1 = sum([d[100*k] *100 * k * pow((1+i), -k)  for k in range(1,len(d)+1)])\n",
    "print(summ1/P1)\n",
    "\n",
    "# P2 = (400 * pow((1+i), -1)) + (300*pow((1+i), -2)) + (200*pow((1+i), -3)) + (100*pow((1+i), -4))\n",
    "# summ2 = (1 * 400 * pow((1+i), -1)) + (2 * 300*pow((1+i), -2)) + (3 * 200*pow((1+i), -3)) + (4 * 100*pow((1+i), -4))\n",
    "# print(summ2/P2)\n"
   ],
   "outputs": [
    {
     "output_type": "stream",
     "name": "stdout",
     "text": [
      "2.8830328352786228\n"
     ]
    }
   ],
   "metadata": {}
  }
 ],
 "metadata": {
  "orig_nbformat": 4,
  "language_info": {
   "name": "python",
   "version": "3.7.0",
   "mimetype": "text/x-python",
   "codemirror_mode": {
    "name": "ipython",
    "version": 3
   },
   "pygments_lexer": "ipython3",
   "nbconvert_exporter": "python",
   "file_extension": ".py"
  },
  "kernelspec": {
   "name": "python3",
   "display_name": "Python 3.7.0 64-bit"
  },
  "interpreter": {
   "hash": "aee8b7b246df8f9039afb4144a1f6fd8d2ca17a180786b69acc140d282b71a49"
  }
 },
 "nbformat": 4,
 "nbformat_minor": 2
}