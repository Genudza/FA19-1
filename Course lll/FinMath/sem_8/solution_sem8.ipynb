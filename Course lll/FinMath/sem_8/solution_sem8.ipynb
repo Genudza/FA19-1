{
 "cells": [
  {
   "cell_type": "markdown",
   "metadata": {},
   "source": [
    "# Задачи Самостоятельной работы до 08.11.2021\n",
    "\n",
    "### 15.11.2021"
   ]
  },
  {
   "cell_type": "markdown",
   "metadata": {},
   "source": [
    "\n",
    "Задача 1\n",
    "<br>Портфель состоит из акций четырех компаний. Цена акций в начале</br>\n",
    "года, в конце года, количество акций в портфеле показаны в\n",
    "<br>таблице. Найти доходность портфеля. Дивиденды не выплачиваются.</br>\n"
   ]
  },
  {
   "cell_type": "code",
   "execution_count": 2,
   "metadata": {},
   "outputs": [],
   "source": [
    "data = {\"Количество\": [200, 300, 200, 400],\n",
    "        \"Нач Цена\": [80, 80, 180, 300],\n",
    "        \"Кон Цена\": [100, 60, 200, 320]}\n"
   ]
  },
  {
   "cell_type": "code",
   "execution_count": 32,
   "metadata": {},
   "outputs": [
    {
     "name": "stdout",
     "output_type": "stream",
     "text": [
      "r = 0.051\n"
     ]
    }
   ],
   "source": [
    "def get_portfolio_price(mode):\n",
    "    s = 0\n",
    "    for i in range(len(data[\"Количество\"])):\n",
    "        s += data[\"Количество\"][i] * data[mode][i]\n",
    "    return s\n",
    "\n",
    "Px0 = get_portfolio_price(\"Нач Цена\")\n",
    "Px1 = get_portfolio_price(\"Кон Цена\")\n",
    "\n",
    "r = (Px1-Px0) / Px0\n",
    "print(f\"r = {round(r, 3)}\")\n"
   ]
  },
  {
   "cell_type": "markdown",
   "metadata": {},
   "source": [
    "Задача 2\n",
    "<br>Портфель состоит из трех видов ценных бумаг. Доли ценных бумаг в</br>\n",
    "портфеле x1 = 0.3; x2 = 0.4; x3 = 0.3. Ожидаемые доходности\n",
    "<br>(эффективности) равны μ1 = -10%, μ2 = 15%, μ3 = 18%.</br>\n",
    "\n",
    "$ V =\\begin{bmatrix}9 & -5 & 7 \\\\ -5 & 4 & 6 \\\\ 7 & 6 & 16 \\end{bmatrix} $\n",
    "\n",
    "Найти ожидаемую доходность и риск портфеля."
   ]
  },
  {
   "cell_type": "code",
   "execution_count": 4,
   "metadata": {},
   "outputs": [
    {
     "name": "stdout",
     "output_type": "stream",
     "text": [
      "Риск портфеля: 2.1\n"
     ]
    }
   ],
   "source": [
    "import numpy as np\n",
    "import math\n",
    "xn_list = np.array([0.3, 0.4, 0.3])\n",
    "un_list = [-10, 15, 18]\n",
    "V = np.array([[9, -5, 7], [-5, 4, 6], [7, 6, 16]])\n",
    "\n",
    "\n",
    "s = 0\n",
    "for i in range(len(xn_list)):\n",
    "    s += xn_list[i] * un_list[i]\n",
    "\n",
    "# print(f\"r = {round(s, 3)}\")\n",
    "print(f\"Риск портфеля: {round(math.sqrt(xn_list.dot(V).dot(xn_list)), 1)}\")\n"
   ]
  },
  {
   "cell_type": "markdown",
   "metadata": {},
   "source": [
    "## Задача найти риск портфеля + доходность"
   ]
  },
  {
   "cell_type": "code",
   "execution_count": 10,
   "metadata": {},
   "outputs": [],
   "source": [
    "def portfolio_risk_of_two_shares(w, G):\n",
    "    # xD\n",
    "    A = pow(w, 2) * G[0][0]\n",
    "    B = pow(1-w, 2) * G[1][1]\n",
    "    W2 = 2*w*(1-w) * G[0][1]\n",
    "    \n",
    "    return math.sqrt(A + B + W2)\n",
    "\n",
    "def profitability(vector, w):\n",
    "    return w * vector[0] + (1-w) * vector[1]\n"
   ]
  },
  {
   "cell_type": "code",
   "execution_count": 11,
   "metadata": {},
   "outputs": [
    {
     "name": "stdout",
     "output_type": "stream",
     "text": [
      "Доходность: 8.95\n",
      "Стандартное отклонение: 10.2\n",
      "Риск портфеля: 190.7\n"
     ]
    }
   ],
   "source": [
    "\n",
    "# Безрисковый актив, это актив C\n",
    "k = np.array([10.1, 7.8, 5.0])\n",
    "\n",
    "G = np.array([[210, 60, 0], [60, 90, 0], [0, 0, 0]])\n",
    "\n",
    "w = 0.5\n",
    "doxodn = profitability(k, w)\n",
    "\n",
    "std_portfolio = portfolio_risk_of_two_shares(w, G)\n",
    "print(f\"Доходность: {doxodn}\")\n",
    "print(\"Стандартное отклонение:\", round(std_portfolio, 1))\n",
    "print(f\"Риск портфеля: {round(math.sqrt(k.dot(G).dot(k)), 1)}\")\n"
   ]
  }
 ],
 "metadata": {
  "interpreter": {
   "hash": "b03719640178970871f5d2fdea3de408224c7387a93270da103f6dd09d99852a"
  },
  "kernelspec": {
   "display_name": "Python 3.9.8 64-bit (windows store)",
   "language": "python",
   "name": "python3"
  },
  "language_info": {
   "codemirror_mode": {
    "name": "ipython",
    "version": 3
   },
   "file_extension": ".py",
   "mimetype": "text/x-python",
   "name": "python",
   "nbconvert_exporter": "python",
   "pygments_lexer": "ipython3",
   "version": "3.9.9"
  },
  "orig_nbformat": 4
 },
 "nbformat": 4,
 "nbformat_minor": 2
}
