{
 "metadata": {
  "language_info": {
   "codemirror_mode": {
    "name": "ipython",
    "version": 3
   },
   "file_extension": ".py",
   "mimetype": "text/x-python",
   "name": "python",
   "nbconvert_exporter": "python",
   "pygments_lexer": "ipython3",
   "version": "3.7.0"
  },
  "orig_nbformat": 2,
  "kernelspec": {
   "name": "python37064bit2871f4995e164d798b4e1a5e13988caf",
   "display_name": "Python 3.7.0 64-bit"
  },
  "metadata": {
   "interpreter": {
    "hash": "aee8b7b246df8f9039afb4144a1f6fd8d2ca17a180786b69acc140d282b71a49"
   }
  }
 },
 "nbformat": 4,
 "nbformat_minor": 2,
 "cells": [
  {
   "cell_type": "code",
   "execution_count": 1,
   "metadata": {},
   "outputs": [],
   "source": [
    "from sqlalchemy import create_engine\n",
    "from sqlalchemy.orm import sessionmaker # 1 \n",
    "\n",
    "engine = create_engine('sqlite:///:memory:')\n",
    "\n",
    "Session = sessionmaker(bind=engine) # 2 \n",
    "\n",
    "session = Session() # 3"
   ]
  },
  {
   "cell_type": "code",
   "execution_count": 2,
   "metadata": {},
   "outputs": [],
   "source": [
    "from datetime import datetime\n",
    "\n",
    "from sqlalchemy import (Table, Column, \n",
    "                        Integer, Numeric, String, Boolean, DateTime,\n",
    "                        ForeignKey, ForeignKeyConstraint, CheckConstraint)\n",
    "\n",
    "from sqlalchemy.ext.declarative import declarative_base\n",
    "from sqlalchemy.orm import relationship, backref\n",
    "\n",
    "Base = declarative_base()\n",
    "\n",
    "\n",
    "class Users(Base):\n",
    "    __tablename__ = 'users'\n",
    "    \n",
    "    user_id = Column(Integer(), primary_key = True)\n",
    "    username = Column(String(15), nullable = False, unique = True)\n",
    "    email_address = Column(String(255), nullable = False)\n",
    "    phone = Column(String(20), nullable = False)\n",
    "    password = Column(String(25), nullable = False)\n",
    "    created_on = Column(DateTime(), default = datetime.now)\n",
    "    updated_on = Column(DateTime(), default = datetime.now, onupdate=datetime.now)\n",
    "\n",
    "    def __repr__(self):\n",
    "        return \"Users(username='{self.username}', \" \\\n",
    "                     \"email_address='{self.email_address}', \" \\\n",
    "                     \"phone='{self.phone}', \" \\\n",
    "                     \"password='{self.password}')\".format(self=self)\n",
    "\n",
    "    \n",
    "class Orders(Base):\n",
    "\n",
    "    __tablename__ = 'orders'\n",
    "    order_id = Column(Integer(), primary_key = True)\n",
    "    user_id = Column(Integer())\n",
    "    \n",
    "    __table_args__ = (ForeignKeyConstraint(['user_id'], ['users.user_id']),)\n",
    "    \n",
    "    rel_user=relationship(\"Users\", backref=backref('orders', order_by=order_id))\n",
    "    \n",
    "    def __repr__(self):\n",
    "        return \"Orders(user_id='{self.user_id}')\".format(self=self)\n",
    "    \n",
    "\n",
    "class Line_items(Base):\n",
    "    \n",
    "    __tablename__ = 'line_items'\n",
    "    item_id = Column(Integer(), primary_key = True)\n",
    "    order_id = Column(Integer(), ForeignKey('orders.order_id'))\n",
    "    listing_id = Column(Integer(), ForeignKey('listings.listing_id'))\n",
    "    item_start_date = Column(DateTime(), nullable = False, default = datetime.now)\n",
    "    item_end_date = Column('item_end_date', DateTime(), nullable = False)\n",
    "    \n",
    "    rel_order=relationship(\"Orders\", backref=backref('line_items', order_by=item_id))\n",
    "    rel_listing=relationship(\"Listings\", uselist=False)\n",
    "    \n",
    "    def __repr__(self):\n",
    "        return \"Line_items(order_id='{self.order_id}', \" \\\n",
    "                        \"listing_id='{self.listing_id}', \" \\\n",
    "                        \"item_start_date='{self.item_start_date}', \" \\\n",
    "                        \"item_end_date='{self.item_end_date}')\".format(self=self)\n",
    "\n",
    "\n",
    "class Hosts(Base):\n",
    "    \n",
    "    __tablename__ = 'hosts'\n",
    "    host_id = Column(Integer(), primary_key = True)\n",
    "    host_name = Column(String(50), nullable = False)\n",
    "    def __repr_(self):\n",
    "        return \"Hosts(host_id='{self.host_name}')\".format(self=self)\n",
    "    \n",
    "    \n",
    "class Neighbourhoods(Base):\n",
    "    \n",
    "    __tablename__ = 'neighbourhoods'\n",
    "    neigh_id = Column(Integer(), primary_key = True)\n",
    "    neigh_name = Column(String(50), nullable = False, unique = True)\n",
    "    def __repr_(self):\n",
    "        return \"Neighbourhoods(neigh_name='{self.neigh_name}')\".format(self=self)\n",
    "    \n",
    "    \n",
    "class Room_types(Base):\n",
    "    \n",
    "    __tablename__ = 'room_types'\n",
    "    room_type_id = Column(Integer(), primary_key = True)\n",
    "    room_type_name = Column(String(50), nullable = False)\n",
    "    def __repr_(self):\n",
    "        return \"Room_types(room_type_name='{self.room_type_name}')\".format(self=self)\n",
    "    \n",
    "\n",
    "class Property_types(Base):\n",
    "    \n",
    "    __tablename__ = 'property_types'\n",
    "    property_type_id = Column(Integer(), primary_key = True)\n",
    "    property_type_name = Column(String(50), nullable = False)\n",
    "    def __repr_(self):\n",
    "        return \"Property_types(property_type_name='{self.property_type_name}')\".format(self=self)"
   ]
  },
  {
   "cell_type": "code",
   "execution_count": 3,
   "metadata": {},
   "outputs": [],
   "source": [
    "class Listings(Base):\n",
    "    __tablename__ = 'listings'\n",
    "\n",
    "    listing_id = Column(Integer(), primary_key = True)\n",
    "    listing_name = Column(String(50), index = True, nullable = False)\n",
    "    listing_url = Column(String(50))\n",
    "    host_id = Column(Integer())\n",
    "    neighbourhood_id = Column(Integer())\n",
    "    amenities = Column(String(250))\n",
    "    property_type_id = Column(Integer())\n",
    "    room_type_id = Column(Integer())\n",
    "    bedrooms = Column(Integer())\n",
    "    beds = Column(Integer())\n",
    "    price = Column('price',Numeric(7,2))\n",
    "    \n",
    "    __table_args__ = (\n",
    "        ForeignKeyConstraint(['neighbourhood_id'],['neighbourhoods.neigh_id']),\n",
    "        ForeignKeyConstraint(['property_type_id'], ['property_types.property_type_id']),\n",
    "        ForeignKeyConstraint(['room_type_id'], ['room_types.room_type_id']),\n",
    "        ForeignKeyConstraint(['host_id'], ['hosts.host_id']),\n",
    "        CheckConstraint('price >= 0.00', name='listing_price_positive')\n",
    "    )\n",
    "    rel_neigh = relationship(\"Neighbourhoods\", backref=backref(\"listings\", order_by=listing_id))\n",
    "    rel_pt = relationship(\"Property_types\", backref=backref(\"listings\", order_by=listing_id))\n",
    "    rel_rt = relationship(\"Room_types\", backref=backref(\"listings\", order_by=listing_id))\n",
    "    rel_host = relationship(\"Hosts\", backref=backref(\"listings\", order_by=listing_id))\n",
    "    rel_li = relationship(\"Line_items\", backref=backref(\"listings\", order_by=listing_id))\n",
    "    "
   ]
  },
  {
   "cell_type": "code",
   "execution_count": 4,
   "metadata": {},
   "outputs": [],
   "source": [
    "Base.metadata.create_all(engine)"
   ]
  },
  {
   "cell_type": "code",
   "execution_count": 5,
   "metadata": {},
   "outputs": [],
   "source": [
    "# data insert\n",
    "cUser = Users(username=\"stud\", email_address=\"stud@fa.ru\", phone=\"+79165555555\", password=\"1234\")\n",
    "\n",
    "session.add(cUser)\n",
    "session.commit()\n"
   ]
  },
  {
   "cell_type": "code",
   "execution_count": 11,
   "metadata": {},
   "outputs": [
    {
     "output_type": "execute_result",
     "data": {
      "text/plain": [
       "      id                         listing_url  \\\n",
       "0  20168  https://www.airbnb.com/rooms/20168   \n",
       "1  27886  https://www.airbnb.com/rooms/27886   \n",
       "2  28871  https://www.airbnb.com/rooms/28871   \n",
       "3  29051  https://www.airbnb.com/rooms/29051   \n",
       "4  31080  https://www.airbnb.com/rooms/31080   \n",
       "\n",
       "                                                name  host_id  host_name  \\\n",
       "0       Studio with private bathroom in the centre 1    59484  Alexander   \n",
       "1  Romantic, stylish B&B houseboat in canal district    97647       Flip   \n",
       "2                            Comfortable double room   124245      Edwin   \n",
       "3                            Comfortable single room   124245      Edwin   \n",
       "4                2-story apartment + rooftop terrace   133488     Nienke   \n",
       "\n",
       "  host_is_superhost neighbourhood_cleansed              property_type  \\\n",
       "0                 f           Centrum-Oost  Private room in townhouse   \n",
       "1                 t           Centrum-West  Private room in houseboat   \n",
       "2                 t           Centrum-Oost  Private room in apartment   \n",
       "3                 t           Centrum-Oost  Private room in apartment   \n",
       "4                 f                   Zuid           Entire apartment   \n",
       "\n",
       "         room_type  bathrooms_text  ...  last_review  review_scores_rating  \\\n",
       "0     Private room  1 private bath  ...   2020-04-09                    89   \n",
       "1     Private room       1.5 baths  ...   2020-07-25                    99   \n",
       "2     Private room   1 shared bath  ...   2020-09-20                    97   \n",
       "3     Private room   1 shared bath  ...   2020-08-28                    95   \n",
       "4  Entire home/apt          1 bath  ...   2017-10-16                    95   \n",
       "\n",
       "  review_scores_accuracy  review_scores_cleanliness  review_scores_checkin  \\\n",
       "0                   10.0                       10.0                   10.0   \n",
       "1                   10.0                       10.0                   10.0   \n",
       "2                   10.0                       10.0                   10.0   \n",
       "3                   10.0                       10.0                   10.0   \n",
       "4                    9.0                       10.0                   10.0   \n",
       "\n",
       "  review_scores_communication review_scores_location  review_scores_value  \\\n",
       "0                        10.0                   10.0                  9.0   \n",
       "1                        10.0                   10.0                 10.0   \n",
       "2                        10.0                   10.0                 10.0   \n",
       "3                        10.0                   10.0                  9.0   \n",
       "4                        10.0                    9.0                  9.0   \n",
       "\n",
       "   reviews_per_month  Random  \n",
       "0               2.58       0  \n",
       "1               2.01       0  \n",
       "2               2.68       0  \n",
       "3               4.05       0  \n",
       "4               0.28       0  \n",
       "\n",
       "[5 rows x 26 columns]"
      ],
      "text/html": "<div>\n<style scoped>\n    .dataframe tbody tr th:only-of-type {\n        vertical-align: middle;\n    }\n\n    .dataframe tbody tr th {\n        vertical-align: top;\n    }\n\n    .dataframe thead th {\n        text-align: right;\n    }\n</style>\n<table border=\"1\" class=\"dataframe\">\n  <thead>\n    <tr style=\"text-align: right;\">\n      <th></th>\n      <th>id</th>\n      <th>listing_url</th>\n      <th>name</th>\n      <th>host_id</th>\n      <th>host_name</th>\n      <th>host_is_superhost</th>\n      <th>neighbourhood_cleansed</th>\n      <th>property_type</th>\n      <th>room_type</th>\n      <th>bathrooms_text</th>\n      <th>...</th>\n      <th>last_review</th>\n      <th>review_scores_rating</th>\n      <th>review_scores_accuracy</th>\n      <th>review_scores_cleanliness</th>\n      <th>review_scores_checkin</th>\n      <th>review_scores_communication</th>\n      <th>review_scores_location</th>\n      <th>review_scores_value</th>\n      <th>reviews_per_month</th>\n      <th>Random</th>\n    </tr>\n  </thead>\n  <tbody>\n    <tr>\n      <th>0</th>\n      <td>20168</td>\n      <td>https://www.airbnb.com/rooms/20168</td>\n      <td>Studio with private bathroom in the centre 1</td>\n      <td>59484</td>\n      <td>Alexander</td>\n      <td>f</td>\n      <td>Centrum-Oost</td>\n      <td>Private room in townhouse</td>\n      <td>Private room</td>\n      <td>1 private bath</td>\n      <td>...</td>\n      <td>2020-04-09</td>\n      <td>89</td>\n      <td>10.0</td>\n      <td>10.0</td>\n      <td>10.0</td>\n      <td>10.0</td>\n      <td>10.0</td>\n      <td>9.0</td>\n      <td>2.58</td>\n      <td>0</td>\n    </tr>\n    <tr>\n      <th>1</th>\n      <td>27886</td>\n      <td>https://www.airbnb.com/rooms/27886</td>\n      <td>Romantic, stylish B&amp;B houseboat in canal district</td>\n      <td>97647</td>\n      <td>Flip</td>\n      <td>t</td>\n      <td>Centrum-West</td>\n      <td>Private room in houseboat</td>\n      <td>Private room</td>\n      <td>1.5 baths</td>\n      <td>...</td>\n      <td>2020-07-25</td>\n      <td>99</td>\n      <td>10.0</td>\n      <td>10.0</td>\n      <td>10.0</td>\n      <td>10.0</td>\n      <td>10.0</td>\n      <td>10.0</td>\n      <td>2.01</td>\n      <td>0</td>\n    </tr>\n    <tr>\n      <th>2</th>\n      <td>28871</td>\n      <td>https://www.airbnb.com/rooms/28871</td>\n      <td>Comfortable double room</td>\n      <td>124245</td>\n      <td>Edwin</td>\n      <td>t</td>\n      <td>Centrum-Oost</td>\n      <td>Private room in apartment</td>\n      <td>Private room</td>\n      <td>1 shared bath</td>\n      <td>...</td>\n      <td>2020-09-20</td>\n      <td>97</td>\n      <td>10.0</td>\n      <td>10.0</td>\n      <td>10.0</td>\n      <td>10.0</td>\n      <td>10.0</td>\n      <td>10.0</td>\n      <td>2.68</td>\n      <td>0</td>\n    </tr>\n    <tr>\n      <th>3</th>\n      <td>29051</td>\n      <td>https://www.airbnb.com/rooms/29051</td>\n      <td>Comfortable single room</td>\n      <td>124245</td>\n      <td>Edwin</td>\n      <td>t</td>\n      <td>Centrum-Oost</td>\n      <td>Private room in apartment</td>\n      <td>Private room</td>\n      <td>1 shared bath</td>\n      <td>...</td>\n      <td>2020-08-28</td>\n      <td>95</td>\n      <td>10.0</td>\n      <td>10.0</td>\n      <td>10.0</td>\n      <td>10.0</td>\n      <td>10.0</td>\n      <td>9.0</td>\n      <td>4.05</td>\n      <td>0</td>\n    </tr>\n    <tr>\n      <th>4</th>\n      <td>31080</td>\n      <td>https://www.airbnb.com/rooms/31080</td>\n      <td>2-story apartment + rooftop terrace</td>\n      <td>133488</td>\n      <td>Nienke</td>\n      <td>f</td>\n      <td>Zuid</td>\n      <td>Entire apartment</td>\n      <td>Entire home/apt</td>\n      <td>1 bath</td>\n      <td>...</td>\n      <td>2017-10-16</td>\n      <td>95</td>\n      <td>9.0</td>\n      <td>10.0</td>\n      <td>10.0</td>\n      <td>10.0</td>\n      <td>9.0</td>\n      <td>9.0</td>\n      <td>0.28</td>\n      <td>0</td>\n    </tr>\n  </tbody>\n</table>\n<p>5 rows × 26 columns</p>\n</div>"
     },
     "metadata": {},
     "execution_count": 11
    }
   ],
   "source": [
    "import pandas as pd\n",
    "df = pd.read_csv('./ListingsAm.csv', sep=\";\")\n",
    "df.head(1)"
   ]
  },
  {
   "cell_type": "code",
   "execution_count": 7,
   "metadata": {},
   "outputs": [
    {
     "output_type": "execute_result",
     "data": {
      "text/plain": [
       "{0: 'Bos en Lommer',\n",
       " 1: 'Buitenveldert - Zuidas',\n",
       " 2: 'Centrum-Oost',\n",
       " 3: 'Centrum-West',\n",
       " 4: 'De Aker - Nieuw Sloten',\n",
       " 5: 'De Baarsjes - Oud-West',\n",
       " 6: 'De Pijp - Rivierenbuurt',\n",
       " 7: 'Geuzenveld - Slotermeer',\n",
       " 8: 'IJburg - Zeeburgereiland',\n",
       " 9: 'Noord-Oost',\n",
       " 10: 'Noord-West',\n",
       " 11: 'Oostelijk Havengebied - Indische Buurt',\n",
       " 12: 'Osdorp',\n",
       " 13: 'Oud-Noord',\n",
       " 14: 'Oud-Oost',\n",
       " 15: 'Slotervaart',\n",
       " 16: 'Watergraafsmeer',\n",
       " 17: 'Westerpark',\n",
       " 18: 'Zuid'}"
      ]
     },
     "metadata": {},
     "execution_count": 7
    }
   ],
   "source": []
  },
  {
   "cell_type": "code",
   "execution_count": 7,
   "metadata": {},
   "outputs": [],
   "source": [
    "neigh_df=pd.DataFrame(df[\"neighbourhood_cleansed\"].value_counts()).sort_index().reset_index()\n",
    "neigh_dict = neigh_df[\"index\"].to_dict()\n",
    "for value in neigh_dict.values():\n",
    "    result = Neighbourhoods(neigh_name=value)\n",
    "    session.add(result)\n",
    "session.flush()\n"
   ]
  },
  {
   "cell_type": "code",
   "execution_count": 8,
   "metadata": {},
   "outputs": [],
   "source": [
    "\n",
    "\n",
    "rt_df=pd.DataFrame(df[\"room_type\"].value_counts()).sort_index().reset_index()\n",
    "rt_dict = rt_df[\"index\"].to_dict()\n",
    "for value in rt_dict.values():\n",
    "    result = Room_types(room_type_name=value)\n",
    "    session.add(result)\n",
    "session.flush()\n",
    "\n",
    "\n"
   ]
  },
  {
   "cell_type": "code",
   "execution_count": 9,
   "metadata": {},
   "outputs": [],
   "source": [
    "property_type_df=pd.DataFrame(df[\"property_type\"].value_counts()).sort_index().reset_index()\n",
    "property_type_dict = property_type_df[\"index\"].to_dict()\n",
    "property_type_dict\n",
    "\n",
    "for value in property_type_dict.values():\n",
    "    result = Property_types(property_type_name=value)\n",
    "    session.add(result)\n",
    "session.flush()"
   ]
  },
  {
   "cell_type": "code",
   "execution_count": 10,
   "metadata": {},
   "outputs": [],
   "source": [
    "session.commit()"
   ]
  },
  {
   "cell_type": "code",
   "execution_count": null,
   "metadata": {},
   "outputs": [],
   "source": []
  }
 ]
}