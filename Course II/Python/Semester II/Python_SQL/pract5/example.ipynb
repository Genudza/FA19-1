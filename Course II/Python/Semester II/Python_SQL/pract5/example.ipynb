{
 "cells": [
  {
   "cell_type": "code",
   "execution_count": 1,
   "metadata": {},
   "outputs": [],
   "source": [
    "from sqlalchemy import select, create_engine, MetaData, Table"
   ]
  },
  {
   "cell_type": "code",
   "execution_count": 2,
   "metadata": {},
   "outputs": [
    {
     "name": "stdout",
     "output_type": "stream",
     "text": [
      "2021-03-14 12:58:38,840 INFO sqlalchemy.engine.base.Engine SELECT CAST('test plain returns' AS VARCHAR(60)) AS anon_1\n",
      "2021-03-14 12:58:38,841 INFO sqlalchemy.engine.base.Engine ()\n",
      "2021-03-14 12:58:38,844 INFO sqlalchemy.engine.base.Engine SELECT CAST('test unicode returns' AS VARCHAR(60)) AS anon_1\n",
      "2021-03-14 12:58:38,844 INFO sqlalchemy.engine.base.Engine ()\n"
     ]
    }
   ],
   "source": [
    "engine = create_engine('sqlite:///listings.db', echo=True)\n",
    "metadata = MetaData()\n",
    "connection = engine.connect()"
   ]
  },
  {
   "cell_type": "code",
   "execution_count": 3,
   "metadata": {},
   "outputs": [
    {
     "name": "stdout",
     "output_type": "stream",
     "text": [
      "2021-03-14 12:59:27,669 INFO sqlalchemy.engine.base.Engine PRAGMA main.table_info(\"listing\")\n",
      "2021-03-14 12:59:27,669 INFO sqlalchemy.engine.base.Engine ()\n",
      "2021-03-14 12:59:27,672 INFO sqlalchemy.engine.base.Engine SELECT sql FROM  (SELECT * FROM sqlite_master UNION ALL   SELECT * FROM sqlite_temp_master) WHERE name = ? AND type = 'table'\n",
      "2021-03-14 12:59:27,672 INFO sqlalchemy.engine.base.Engine ('listing',)\n",
      "2021-03-14 12:59:27,674 INFO sqlalchemy.engine.base.Engine PRAGMA main.foreign_key_list(\"listing\")\n",
      "2021-03-14 12:59:27,674 INFO sqlalchemy.engine.base.Engine ()\n",
      "2021-03-14 12:59:27,675 INFO sqlalchemy.engine.base.Engine SELECT sql FROM  (SELECT * FROM sqlite_master UNION ALL   SELECT * FROM sqlite_temp_master) WHERE name = ? AND type = 'table'\n",
      "2021-03-14 12:59:27,676 INFO sqlalchemy.engine.base.Engine ('listing',)\n",
      "2021-03-14 12:59:27,678 INFO sqlalchemy.engine.base.Engine PRAGMA main.table_info(\"host\")\n",
      "2021-03-14 12:59:27,679 INFO sqlalchemy.engine.base.Engine ()\n",
      "2021-03-14 12:59:27,681 INFO sqlalchemy.engine.base.Engine SELECT sql FROM  (SELECT * FROM sqlite_master UNION ALL   SELECT * FROM sqlite_temp_master) WHERE name = ? AND type = 'table'\n",
      "2021-03-14 12:59:27,682 INFO sqlalchemy.engine.base.Engine ('host',)\n",
      "2021-03-14 12:59:27,683 INFO sqlalchemy.engine.base.Engine PRAGMA main.foreign_key_list(\"host\")\n",
      "2021-03-14 12:59:27,684 INFO sqlalchemy.engine.base.Engine ()\n",
      "2021-03-14 12:59:27,684 INFO sqlalchemy.engine.base.Engine PRAGMA temp.foreign_key_list(\"host\")\n",
      "2021-03-14 12:59:27,685 INFO sqlalchemy.engine.base.Engine ()\n",
      "2021-03-14 12:59:27,686 INFO sqlalchemy.engine.base.Engine SELECT sql FROM  (SELECT * FROM sqlite_master UNION ALL   SELECT * FROM sqlite_temp_master) WHERE name = ? AND type = 'table'\n",
      "2021-03-14 12:59:27,686 INFO sqlalchemy.engine.base.Engine ('host',)\n",
      "2021-03-14 12:59:27,687 INFO sqlalchemy.engine.base.Engine PRAGMA main.index_list(\"host\")\n",
      "2021-03-14 12:59:27,688 INFO sqlalchemy.engine.base.Engine ()\n",
      "2021-03-14 12:59:27,689 INFO sqlalchemy.engine.base.Engine PRAGMA temp.index_list(\"host\")\n",
      "2021-03-14 12:59:27,689 INFO sqlalchemy.engine.base.Engine ()\n",
      "2021-03-14 12:59:27,690 INFO sqlalchemy.engine.base.Engine PRAGMA main.index_list(\"host\")\n",
      "2021-03-14 12:59:27,691 INFO sqlalchemy.engine.base.Engine ()\n",
      "2021-03-14 12:59:27,691 INFO sqlalchemy.engine.base.Engine PRAGMA temp.index_list(\"host\")\n",
      "2021-03-14 12:59:27,692 INFO sqlalchemy.engine.base.Engine ()\n",
      "2021-03-14 12:59:27,693 INFO sqlalchemy.engine.base.Engine SELECT sql FROM  (SELECT * FROM sqlite_master UNION ALL   SELECT * FROM sqlite_temp_master) WHERE name = ? AND type = 'table'\n",
      "2021-03-14 12:59:27,693 INFO sqlalchemy.engine.base.Engine ('host',)\n",
      "2021-03-14 12:59:27,697 INFO sqlalchemy.engine.base.Engine PRAGMA main.table_info(\"neighbourhood\")\n",
      "2021-03-14 12:59:27,697 INFO sqlalchemy.engine.base.Engine ()\n",
      "2021-03-14 12:59:27,698 INFO sqlalchemy.engine.base.Engine SELECT sql FROM  (SELECT * FROM sqlite_master UNION ALL   SELECT * FROM sqlite_temp_master) WHERE name = ? AND type = 'table'\n",
      "2021-03-14 12:59:27,699 INFO sqlalchemy.engine.base.Engine ('neighbourhood',)\n",
      "2021-03-14 12:59:27,700 INFO sqlalchemy.engine.base.Engine PRAGMA main.foreign_key_list(\"neighbourhood\")\n",
      "2021-03-14 12:59:27,701 INFO sqlalchemy.engine.base.Engine ()\n",
      "2021-03-14 12:59:27,702 INFO sqlalchemy.engine.base.Engine PRAGMA temp.foreign_key_list(\"neighbourhood\")\n",
      "2021-03-14 12:59:27,703 INFO sqlalchemy.engine.base.Engine ()\n",
      "2021-03-14 12:59:27,703 INFO sqlalchemy.engine.base.Engine SELECT sql FROM  (SELECT * FROM sqlite_master UNION ALL   SELECT * FROM sqlite_temp_master) WHERE name = ? AND type = 'table'\n",
      "2021-03-14 12:59:27,704 INFO sqlalchemy.engine.base.Engine ('neighbourhood',)\n",
      "2021-03-14 12:59:27,705 INFO sqlalchemy.engine.base.Engine PRAGMA main.index_list(\"neighbourhood\")\n",
      "2021-03-14 12:59:27,705 INFO sqlalchemy.engine.base.Engine ()\n",
      "2021-03-14 12:59:27,706 INFO sqlalchemy.engine.base.Engine PRAGMA temp.index_list(\"neighbourhood\")\n",
      "2021-03-14 12:59:27,707 INFO sqlalchemy.engine.base.Engine ()\n",
      "2021-03-14 12:59:27,707 INFO sqlalchemy.engine.base.Engine PRAGMA main.index_list(\"neighbourhood\")\n",
      "2021-03-14 12:59:27,708 INFO sqlalchemy.engine.base.Engine ()\n",
      "2021-03-14 12:59:27,708 INFO sqlalchemy.engine.base.Engine PRAGMA temp.index_list(\"neighbourhood\")\n",
      "2021-03-14 12:59:27,709 INFO sqlalchemy.engine.base.Engine ()\n",
      "2021-03-14 12:59:27,710 INFO sqlalchemy.engine.base.Engine SELECT sql FROM  (SELECT * FROM sqlite_master UNION ALL   SELECT * FROM sqlite_temp_master) WHERE name = ? AND type = 'table'\n",
      "2021-03-14 12:59:27,711 INFO sqlalchemy.engine.base.Engine ('neighbourhood',)\n",
      "2021-03-14 12:59:27,712 INFO sqlalchemy.engine.base.Engine PRAGMA main.table_info(\"property_type\")\n",
      "2021-03-14 12:59:27,712 INFO sqlalchemy.engine.base.Engine ()\n",
      "2021-03-14 12:59:27,714 INFO sqlalchemy.engine.base.Engine SELECT sql FROM  (SELECT * FROM sqlite_master UNION ALL   SELECT * FROM sqlite_temp_master) WHERE name = ? AND type = 'table'\n",
      "2021-03-14 12:59:27,715 INFO sqlalchemy.engine.base.Engine ('property_type',)\n",
      "2021-03-14 12:59:27,716 INFO sqlalchemy.engine.base.Engine PRAGMA main.foreign_key_list(\"property_type\")\n",
      "2021-03-14 12:59:27,716 INFO sqlalchemy.engine.base.Engine ()\n",
      "2021-03-14 12:59:27,717 INFO sqlalchemy.engine.base.Engine PRAGMA temp.foreign_key_list(\"property_type\")\n",
      "2021-03-14 12:59:27,718 INFO sqlalchemy.engine.base.Engine ()\n",
      "2021-03-14 12:59:27,718 INFO sqlalchemy.engine.base.Engine SELECT sql FROM  (SELECT * FROM sqlite_master UNION ALL   SELECT * FROM sqlite_temp_master) WHERE name = ? AND type = 'table'\n",
      "2021-03-14 12:59:27,719 INFO sqlalchemy.engine.base.Engine ('property_type',)\n",
      "2021-03-14 12:59:27,721 INFO sqlalchemy.engine.base.Engine PRAGMA main.index_list(\"property_type\")\n",
      "2021-03-14 12:59:27,722 INFO sqlalchemy.engine.base.Engine ()\n",
      "2021-03-14 12:59:27,724 INFO sqlalchemy.engine.base.Engine PRAGMA temp.index_list(\"property_type\")\n",
      "2021-03-14 12:59:27,725 INFO sqlalchemy.engine.base.Engine ()\n",
      "2021-03-14 12:59:27,726 INFO sqlalchemy.engine.base.Engine PRAGMA main.index_list(\"property_type\")\n",
      "2021-03-14 12:59:27,727 INFO sqlalchemy.engine.base.Engine ()\n",
      "2021-03-14 12:59:27,728 INFO sqlalchemy.engine.base.Engine PRAGMA temp.index_list(\"property_type\")\n",
      "2021-03-14 12:59:27,729 INFO sqlalchemy.engine.base.Engine ()\n",
      "2021-03-14 12:59:27,730 INFO sqlalchemy.engine.base.Engine SELECT sql FROM  (SELECT * FROM sqlite_master UNION ALL   SELECT * FROM sqlite_temp_master) WHERE name = ? AND type = 'table'\n",
      "2021-03-14 12:59:27,731 INFO sqlalchemy.engine.base.Engine ('property_type',)\n",
      "2021-03-14 12:59:27,732 INFO sqlalchemy.engine.base.Engine PRAGMA main.table_info(\"room_type\")\n",
      "2021-03-14 12:59:27,733 INFO sqlalchemy.engine.base.Engine ()\n",
      "2021-03-14 12:59:27,734 INFO sqlalchemy.engine.base.Engine SELECT sql FROM  (SELECT * FROM sqlite_master UNION ALL   SELECT * FROM sqlite_temp_master) WHERE name = ? AND type = 'table'\n",
      "2021-03-14 12:59:27,735 INFO sqlalchemy.engine.base.Engine ('room_type',)\n",
      "2021-03-14 12:59:27,736 INFO sqlalchemy.engine.base.Engine PRAGMA main.foreign_key_list(\"room_type\")\n",
      "2021-03-14 12:59:27,737 INFO sqlalchemy.engine.base.Engine ()\n",
      "2021-03-14 12:59:27,738 INFO sqlalchemy.engine.base.Engine PRAGMA temp.foreign_key_list(\"room_type\")\n",
      "2021-03-14 12:59:27,739 INFO sqlalchemy.engine.base.Engine ()\n",
      "2021-03-14 12:59:27,739 INFO sqlalchemy.engine.base.Engine SELECT sql FROM  (SELECT * FROM sqlite_master UNION ALL   SELECT * FROM sqlite_temp_master) WHERE name = ? AND type = 'table'\n",
      "2021-03-14 12:59:27,740 INFO sqlalchemy.engine.base.Engine ('room_type',)\n",
      "2021-03-14 12:59:27,741 INFO sqlalchemy.engine.base.Engine PRAGMA main.index_list(\"room_type\")\n",
      "2021-03-14 12:59:27,742 INFO sqlalchemy.engine.base.Engine ()\n",
      "2021-03-14 12:59:27,743 INFO sqlalchemy.engine.base.Engine PRAGMA temp.index_list(\"room_type\")\n",
      "2021-03-14 12:59:27,743 INFO sqlalchemy.engine.base.Engine ()\n",
      "2021-03-14 12:59:27,744 INFO sqlalchemy.engine.base.Engine PRAGMA main.index_list(\"room_type\")\n",
      "2021-03-14 12:59:27,745 INFO sqlalchemy.engine.base.Engine ()\n",
      "2021-03-14 12:59:27,746 INFO sqlalchemy.engine.base.Engine PRAGMA temp.index_list(\"room_type\")\n",
      "2021-03-14 12:59:27,746 INFO sqlalchemy.engine.base.Engine ()\n",
      "2021-03-14 12:59:27,747 INFO sqlalchemy.engine.base.Engine SELECT sql FROM  (SELECT * FROM sqlite_master UNION ALL   SELECT * FROM sqlite_temp_master) WHERE name = ? AND type = 'table'\n"
     ]
    },
    {
     "name": "stdout",
     "output_type": "stream",
     "text": [
      "2021-03-14 12:59:27,748 INFO sqlalchemy.engine.base.Engine ('room_type',)\n",
      "2021-03-14 12:59:27,749 INFO sqlalchemy.engine.base.Engine PRAGMA main.index_list(\"listing\")\n",
      "2021-03-14 12:59:27,749 INFO sqlalchemy.engine.base.Engine ()\n",
      "2021-03-14 12:59:27,750 INFO sqlalchemy.engine.base.Engine PRAGMA main.index_info(\"ix_listing_listing_name\")\n",
      "2021-03-14 12:59:27,751 INFO sqlalchemy.engine.base.Engine ()\n",
      "2021-03-14 12:59:27,752 INFO sqlalchemy.engine.base.Engine PRAGMA main.index_info(\"ix_am_price\")\n",
      "2021-03-14 12:59:27,752 INFO sqlalchemy.engine.base.Engine ()\n",
      "2021-03-14 12:59:27,753 INFO sqlalchemy.engine.base.Engine PRAGMA main.index_list(\"listing\")\n",
      "2021-03-14 12:59:27,754 INFO sqlalchemy.engine.base.Engine ()\n",
      "2021-03-14 12:59:27,755 INFO sqlalchemy.engine.base.Engine PRAGMA main.index_info(\"ix_listing_listing_name\")\n",
      "2021-03-14 12:59:27,755 INFO sqlalchemy.engine.base.Engine ()\n",
      "2021-03-14 12:59:27,756 INFO sqlalchemy.engine.base.Engine PRAGMA main.index_info(\"ix_am_price\")\n",
      "2021-03-14 12:59:27,757 INFO sqlalchemy.engine.base.Engine ()\n",
      "2021-03-14 12:59:27,757 INFO sqlalchemy.engine.base.Engine SELECT sql FROM  (SELECT * FROM sqlite_master UNION ALL   SELECT * FROM sqlite_temp_master) WHERE name = ? AND type = 'table'\n",
      "2021-03-14 12:59:27,758 INFO sqlalchemy.engine.base.Engine ('listing',)\n",
      "2021-03-14 12:59:27,761 INFO sqlalchemy.engine.base.Engine PRAGMA main.table_info(\"line_item\")\n",
      "2021-03-14 12:59:27,761 INFO sqlalchemy.engine.base.Engine ()\n",
      "2021-03-14 12:59:27,763 INFO sqlalchemy.engine.base.Engine SELECT sql FROM  (SELECT * FROM sqlite_master UNION ALL   SELECT * FROM sqlite_temp_master) WHERE name = ? AND type = 'table'\n",
      "2021-03-14 12:59:27,764 INFO sqlalchemy.engine.base.Engine ('line_item',)\n",
      "2021-03-14 12:59:27,765 INFO sqlalchemy.engine.base.Engine PRAGMA main.foreign_key_list(\"line_item\")\n",
      "2021-03-14 12:59:27,766 INFO sqlalchemy.engine.base.Engine ()\n",
      "2021-03-14 12:59:27,767 INFO sqlalchemy.engine.base.Engine SELECT sql FROM  (SELECT * FROM sqlite_master UNION ALL   SELECT * FROM sqlite_temp_master) WHERE name = ? AND type = 'table'\n",
      "2021-03-14 12:59:27,768 INFO sqlalchemy.engine.base.Engine ('line_item',)\n",
      "2021-03-14 12:59:27,770 INFO sqlalchemy.engine.base.Engine PRAGMA main.table_info(\"order\")\n",
      "2021-03-14 12:59:27,771 INFO sqlalchemy.engine.base.Engine ()\n",
      "2021-03-14 12:59:27,773 INFO sqlalchemy.engine.base.Engine SELECT sql FROM  (SELECT * FROM sqlite_master UNION ALL   SELECT * FROM sqlite_temp_master) WHERE name = ? AND type = 'table'\n",
      "2021-03-14 12:59:27,774 INFO sqlalchemy.engine.base.Engine ('order',)\n",
      "2021-03-14 12:59:27,775 INFO sqlalchemy.engine.base.Engine PRAGMA main.foreign_key_list(\"order\")\n",
      "2021-03-14 12:59:27,775 INFO sqlalchemy.engine.base.Engine ()\n",
      "2021-03-14 12:59:27,777 INFO sqlalchemy.engine.base.Engine SELECT sql FROM  (SELECT * FROM sqlite_master UNION ALL   SELECT * FROM sqlite_temp_master) WHERE name = ? AND type = 'table'\n",
      "2021-03-14 12:59:27,777 INFO sqlalchemy.engine.base.Engine ('order',)\n",
      "2021-03-14 12:59:27,779 INFO sqlalchemy.engine.base.Engine PRAGMA main.table_info(\"user\")\n",
      "2021-03-14 12:59:27,779 INFO sqlalchemy.engine.base.Engine ()\n",
      "2021-03-14 12:59:27,782 INFO sqlalchemy.engine.base.Engine SELECT sql FROM  (SELECT * FROM sqlite_master UNION ALL   SELECT * FROM sqlite_temp_master) WHERE name = ? AND type = 'table'\n",
      "2021-03-14 12:59:27,782 INFO sqlalchemy.engine.base.Engine ('user',)\n",
      "2021-03-14 12:59:27,783 INFO sqlalchemy.engine.base.Engine PRAGMA main.foreign_key_list(\"user\")\n",
      "2021-03-14 12:59:27,784 INFO sqlalchemy.engine.base.Engine ()\n",
      "2021-03-14 12:59:27,785 INFO sqlalchemy.engine.base.Engine PRAGMA temp.foreign_key_list(\"user\")\n",
      "2021-03-14 12:59:27,785 INFO sqlalchemy.engine.base.Engine ()\n",
      "2021-03-14 12:59:27,786 INFO sqlalchemy.engine.base.Engine SELECT sql FROM  (SELECT * FROM sqlite_master UNION ALL   SELECT * FROM sqlite_temp_master) WHERE name = ? AND type = 'table'\n",
      "2021-03-14 12:59:27,787 INFO sqlalchemy.engine.base.Engine ('user',)\n",
      "2021-03-14 12:59:27,788 INFO sqlalchemy.engine.base.Engine PRAGMA main.index_list(\"user\")\n",
      "2021-03-14 12:59:27,788 INFO sqlalchemy.engine.base.Engine ()\n",
      "2021-03-14 12:59:27,790 INFO sqlalchemy.engine.base.Engine PRAGMA main.index_list(\"user\")\n",
      "2021-03-14 12:59:27,791 INFO sqlalchemy.engine.base.Engine ()\n",
      "2021-03-14 12:59:27,792 INFO sqlalchemy.engine.base.Engine PRAGMA main.index_info(\"sqlite_autoindex_user_1\")\n",
      "2021-03-14 12:59:27,793 INFO sqlalchemy.engine.base.Engine ()\n",
      "2021-03-14 12:59:27,794 INFO sqlalchemy.engine.base.Engine SELECT sql FROM  (SELECT * FROM sqlite_master UNION ALL   SELECT * FROM sqlite_temp_master) WHERE name = ? AND type = 'table'\n",
      "2021-03-14 12:59:27,794 INFO sqlalchemy.engine.base.Engine ('user',)\n",
      "2021-03-14 12:59:27,796 INFO sqlalchemy.engine.base.Engine PRAGMA main.index_list(\"order\")\n",
      "2021-03-14 12:59:27,797 INFO sqlalchemy.engine.base.Engine ()\n",
      "2021-03-14 12:59:27,799 INFO sqlalchemy.engine.base.Engine PRAGMA temp.index_list(\"order\")\n",
      "2021-03-14 12:59:27,799 INFO sqlalchemy.engine.base.Engine ()\n",
      "2021-03-14 12:59:27,800 INFO sqlalchemy.engine.base.Engine PRAGMA main.index_list(\"order\")\n",
      "2021-03-14 12:59:27,801 INFO sqlalchemy.engine.base.Engine ()\n",
      "2021-03-14 12:59:27,802 INFO sqlalchemy.engine.base.Engine PRAGMA temp.index_list(\"order\")\n",
      "2021-03-14 12:59:27,803 INFO sqlalchemy.engine.base.Engine ()\n",
      "2021-03-14 12:59:27,803 INFO sqlalchemy.engine.base.Engine SELECT sql FROM  (SELECT * FROM sqlite_master UNION ALL   SELECT * FROM sqlite_temp_master) WHERE name = ? AND type = 'table'\n",
      "2021-03-14 12:59:27,804 INFO sqlalchemy.engine.base.Engine ('order',)\n",
      "2021-03-14 12:59:27,806 INFO sqlalchemy.engine.base.Engine PRAGMA main.index_list(\"line_item\")\n",
      "2021-03-14 12:59:27,806 INFO sqlalchemy.engine.base.Engine ()\n",
      "2021-03-14 12:59:27,808 INFO sqlalchemy.engine.base.Engine PRAGMA temp.index_list(\"line_item\")\n",
      "2021-03-14 12:59:27,808 INFO sqlalchemy.engine.base.Engine ()\n",
      "2021-03-14 12:59:27,809 INFO sqlalchemy.engine.base.Engine PRAGMA main.index_list(\"line_item\")\n",
      "2021-03-14 12:59:27,809 INFO sqlalchemy.engine.base.Engine ()\n",
      "2021-03-14 12:59:27,810 INFO sqlalchemy.engine.base.Engine PRAGMA temp.index_list(\"line_item\")\n",
      "2021-03-14 12:59:27,810 INFO sqlalchemy.engine.base.Engine ()\n",
      "2021-03-14 12:59:27,811 INFO sqlalchemy.engine.base.Engine SELECT sql FROM  (SELECT * FROM sqlite_master UNION ALL   SELECT * FROM sqlite_temp_master) WHERE name = ? AND type = 'table'\n",
      "2021-03-14 12:59:27,811 INFO sqlalchemy.engine.base.Engine ('line_item',)\n"
     ]
    }
   ],
   "source": [
    "# Загрузка таблиц\n",
    "listing = Table('listing', metadata, autoload=True, autoload_with=engine)\n",
    "neighbourhood = Table('neighbourhood', metadata, autoload=True, autoload_with=engine)\n",
    "host = Table('host', metadata, autoload=True, autoload_with=engine)\n",
    "line_item = Table('line_item', metadata, autoload=True, autoload_with=engine)\n",
    "order = Table('order', metadata, autoload=True, autoload_with=engine)\n",
    "property_type = Table('property_type', metadata, autoload=True, autoload_with=engine)\n",
    "room_type = Table('room_type', metadata, autoload=True, autoload_with=engine)\n",
    "user = Table('user', metadata, autoload=True, autoload_with=engine)"
   ]
  },
  {
   "cell_type": "code",
   "execution_count": 25,
   "metadata": {},
   "outputs": [
    {
     "name": "stdout",
     "output_type": "stream",
     "text": [
      "2021-03-14 13:12:53,744 INFO sqlalchemy.engine.base.Engine SELECT listing.listing_id, listing.listing_name, listing.listing_url, listing.host_id, listing.neighbourhood_id, listing.amenities, listing.property_type_id, listing.room_type_id, listing.bedrooms, listing.beds, listing.price \n",
      "FROM listing\n",
      "2021-03-14 13:12:53,745 INFO sqlalchemy.engine.base.Engine ()\n"
     ]
    },
    {
     "data": {
      "text/plain": [
       "[(20168, 'Studio with private bathroom in the centre 1', 'https://www.airbnb.com/rooms/20168', 59484, 4, '[\"Wifi\", \"Hot water\", \"Hangers\", \"Host greets you\", \"Long term stays allowed\", \"Carbon monoxide alarm\", \"Fire extinguisher\", \"Dedicated workspace\", \"Paid parking off premises\", \"Essentials\", \"Bed linens\", \"Hair dryer\", \"TV\", \"Heating\", \"Refrigerator\", \"Free street parking\", \"Smoke alarm\"]', 35, 3, 1, 1, Decimal('236.00')),\n",
       " (27886, 'Romantic, stylish B&B houseboat in canal district', 'https://www.airbnb.com/rooms/27886', 97647, 5, '[\"Carbon monoxide alarm\", \"Private living room\", \"Refrigerator\", \"Dishes and silverware\", \"Smoke alarm\", \"Patio or balcony\", \"Private entrance\", \"TV\" ... (2 characters truncated) ... \"Wifi\", \"Smart lock\", \"Hot water\", \"Coffee maker\", \"Hangers\", \"Fire extinguisher\", \"Shampoo\", \"Luggage dropoff allowed\", \"Lake access\", \"Long term st', 30, 3, 1, 1, Decimal('135.00')),\n",
       " (28871, 'Comfortable double room', 'https://www.airbnb.com/rooms/28871', 124245, 4, '[\"Wifi\", \"Hot water\", \"Private entrance\", \"Hangers\", \"Host greets you\", \"Lock on bedroom door\", \"Shampoo\", \"Carbon monoxide alarm\", \"Fire extinguisher\", \"Essentials\", \"Dryer\", \"Hair dryer\", \"Heating\", \"Refrigerator\", \"Smoke alarm\"]', None, 3, 1, 1, Decimal('75.00')),\n",
       " (29051, 'Comfortable single room', 'https://www.airbnb.com/rooms/29051', 124245, 4, '[\"Coffee maker\", \"Host greets you\", \"Hair dryer\", \"Shampoo\", \"Hangers\", \"Bed linens\", \"Heating\", \"Lock on bedroom door\", \"Wifi\", \"Shower gel\", \"Essentials\", \"Smoke alarm\", \"Fire extinguisher\", \"Iron\", \"Refrigerator\", \"Hot water\", \"Private entrance\"]', None, 3, 1, 1, Decimal('55.00')),\n",
       " (31080, '2-story apartment + rooftop terrace', 'https://www.airbnb.com/rooms/31080', 133488, 20, '[\"Microwave\", \"Carbon monoxide alarm\", \"Refrigerator\", \"Dishes and silverware\", \"Smoke alarm\", \"Oven', 2, 1, 3, 3, Decimal('219.00')),\n",
       " (31081, None, None, None, None, None, None, None, None, None, None),\n",
       " (31082, None, None, None, None, None, None, None, None, None, None),\n",
       " (31083, None, None, None, None, None, None, None, None, None, None),\n",
       " (31084, None, None, None, None, None, None, None, None, None, None),\n",
       " (31085, None, None, None, None, None, None, None, None, None, None),\n",
       " (31086, None, None, None, None, None, None, None, None, None, None),\n",
       " (31087, None, None, None, None, None, None, None, None, None, None),\n",
       " (31088, None, None, None, None, None, None, None, None, None, None),\n",
       " (31089, None, None, None, None, None, None, None, None, None, None),\n",
       " (31090, None, None, None, None, None, None, None, None, None, None),\n",
       " (31091, None, None, None, None, None, None, None, None, None, None),\n",
       " (31092, None, None, None, None, None, None, None, None, None, None),\n",
       " (31093, None, None, None, None, None, None, None, None, None, None),\n",
       " (31094, None, None, None, None, None, None, None, None, None, None),\n",
       " (31095, None, None, None, None, None, None, None, None, None, None)]"
      ]
     },
     "execution_count": 25,
     "metadata": {},
     "output_type": "execute_result"
    }
   ],
   "source": [
    "# запрос из таблицы listing \n",
    "# Аналог SELECT * FROM listing\n",
    "s = select([listing])\n",
    "rp = connection.execute(s)\n",
    "# вывод всех строк запроса\n",
    "results = rp.fetchall()\n",
    "results"
   ]
  },
  {
   "cell_type": "code",
   "execution_count": 23,
   "metadata": {},
   "outputs": [
    {
     "name": "stdout",
     "output_type": "stream",
     "text": [
      "2021-03-14 13:12:27,689 INFO sqlalchemy.engine.base.Engine SELECT listing.listing_id, listing.listing_name, listing.listing_url, listing.host_id, listing.neighbourhood_id, listing.amenities, listing.property_type_id, listing.room_type_id, listing.bedrooms, listing.beds, listing.price \n",
      "FROM listing\n",
      "2021-03-14 13:12:27,690 INFO sqlalchemy.engine.base.Engine ()\n"
     ]
    },
    {
     "data": {
      "text/plain": [
       "(20168, 'Studio with private bathroom in the centre 1', 'https://www.airbnb.com/rooms/20168', 59484, 4, '[\"Wifi\", \"Hot water\", \"Hangers\", \"Host greets you\", \"Long term stays allowed\", \"Carbon monoxide alarm\", \"Fire extinguisher\", \"Dedicated workspace\", \"Paid parking off premises\", \"Essentials\", \"Bed linens\", \"Hair dryer\", \"TV\", \"Heating\", \"Refrigerator\", \"Free street parking\", \"Smoke alarm\"]', 35, 3, 1, 1, Decimal('236.00'))"
      ]
     },
     "execution_count": 23,
     "metadata": {},
     "output_type": "execute_result"
    }
   ],
   "source": [
    "# запрос из таблицы listing \n",
    "# Аналог SELECT * FROM listing LIMIT 1\n",
    "s = listing.select()\n",
    "rp = connection.execute(s)\n",
    "rp.fetchone()"
   ]
  },
  {
   "cell_type": "code",
   "execution_count": 26,
   "metadata": {},
   "outputs": [
    {
     "name": "stdout",
     "output_type": "stream",
     "text": [
      "Studio with private bathroom in the centre 1\n",
      "Studio with private bathroom in the centre 1\n",
      "Studio with private bathroom in the centre 1\n"
     ]
    }
   ],
   "source": [
    "first_row = results[0] # Первая запись\n",
    "print(first_row[1]) # Доступ к значению по индексу\n",
    "print(first_row.listing_name) # Доступ к значению по имени соответствующего столбца\n",
    "print(first_row[listing.c.listing_name]) # Доступ по имени объекта столбца"
   ]
  },
  {
   "cell_type": "code",
   "execution_count": 7,
   "metadata": {},
   "outputs": [
    {
     "name": "stdout",
     "output_type": "stream",
     "text": [
      "2021-03-14 13:03:05,212 INFO sqlalchemy.engine.base.Engine INSERT INTO listing DEFAULT VALUES\n",
      "2021-03-14 13:03:05,213 INFO sqlalchemy.engine.base.Engine ((), ())\n",
      "2021-03-14 13:03:05,214 INFO sqlalchemy.engine.base.Engine COMMIT\n"
     ]
    },
    {
     "data": {
      "text/plain": [
       "2"
      ]
     },
     "execution_count": 7,
     "metadata": {},
     "output_type": "execute_result"
    }
   ],
   "source": [
    "connection.execute(listing.insert(), [{}, {}]).rowcount\n"
   ]
  },
  {
   "cell_type": "code",
   "execution_count": 27,
   "metadata": {},
   "outputs": [
    {
     "name": "stdout",
     "output_type": "stream",
     "text": [
      "2021-03-14 13:14:44,558 INFO sqlalchemy.engine.base.Engine SELECT sum(listing.bedrooms) AS sum_1 \n",
      "FROM listing\n",
      "2021-03-14 13:14:44,559 INFO sqlalchemy.engine.base.Engine ()\n"
     ]
    }
   ],
   "source": [
    "from sqlalchemy.sql import func\n",
    "# Функция суммы по column bedrooms\n",
    "s = select([func.sum(listing.c.bedrooms)])\n",
    "rp = connection.execute(s)\n",
    "print(rp.scalar())"
   ]
  },
  {
   "cell_type": "code",
   "execution_count": 31,
   "metadata": {},
   "outputs": [
    {
     "name": "stdout",
     "output_type": "stream",
     "text": [
      "2021-03-14 13:17:17,976 INFO sqlalchemy.engine.base.Engine SELECT listing.bedrooms \n",
      "FROM listing\n",
      "2021-03-14 13:17:17,977 INFO sqlalchemy.engine.base.Engine ()\n",
      "1\n"
     ]
    }
   ],
   "source": [
    "s = select([listing.c.bedrooms])\n",
    "rp = connection.execute(s)\n",
    "print(rp.fetchall()[0].bedrooms)"
   ]
  },
  {
   "cell_type": "code",
   "execution_count": 11,
   "metadata": {},
   "outputs": [
    {
     "name": "stdout",
     "output_type": "stream",
     "text": [
      "2021-03-14 13:05:31,306 INFO sqlalchemy.engine.base.Engine SELECT listing.listing_id, listing.price, CAST(listing.price * ? AS NUMERIC(-1, 0)) AS mult \n",
      "FROM listing\n",
      "2021-03-14 13:05:31,307 INFO sqlalchemy.engine.base.Engine (1.13,)\n",
      "31081 None None\n",
      "31082 None None\n",
      "31083 None None\n",
      "31084 None None\n",
      "31085 None None\n",
      "31086 None None\n",
      "31087 None None\n",
      "31088 None None\n",
      "31089 None None\n",
      "31090 None None\n",
      "31091 None None\n",
      "31092 None None\n",
      "31093 None None\n",
      "31094 None None\n",
      "31095 None None\n",
      "27886 135.00 153\n",
      "29051 55.00 62\n",
      "31080 219.00 247\n",
      "20168 236.00 267\n",
      "28871 75.00 85\n"
     ]
    }
   ],
   "source": [
    "from sqlalchemy import cast, String, Numeric\n",
    "s=select([listing.c.listing_id, listing.c.price,\n",
    "          cast(listing.c.price*1.13, Numeric(-1,0)).label('mult')])\n",
    "\n",
    "for row in connection.execute(s):\n",
    "    print(row.listing_id, row.price, row.mult)"
   ]
  },
  {
   "cell_type": "code",
   "execution_count": 12,
   "metadata": {},
   "outputs": [
    {
     "name": "stdout",
     "output_type": "stream",
     "text": [
      "2021-03-14 13:06:41,607 INFO sqlalchemy.engine.base.Engine SELECT listing.price, listing.listing_name || ? || CAST(listing.price AS VARCHAR(20)) || ? AS anon_1 \n",
      "FROM listing\n",
      "2021-03-14 13:06:41,608 INFO sqlalchemy.engine.base.Engine (' for ', ' euros')\n",
      "(Decimal('236.00'), 'Studio with private bathroom in the centre 1 for 236 euros')\n",
      "(Decimal('135.00'), 'Romantic, stylish B&B houseboat in canal district for 135 euros')\n",
      "(Decimal('75.00'), 'Comfortable double room for 75 euros')\n",
      "(Decimal('55.00'), 'Comfortable single room for 55 euros')\n",
      "(Decimal('219.00'), '2-story apartment + rooftop terrace for 219 euros')\n",
      "(None, None)\n",
      "(None, None)\n",
      "(None, None)\n",
      "(None, None)\n",
      "(None, None)\n",
      "(None, None)\n",
      "(None, None)\n",
      "(None, None)\n",
      "(None, None)\n",
      "(None, None)\n",
      "(None, None)\n",
      "(None, None)\n",
      "(None, None)\n",
      "(None, None)\n",
      "(None, None)\n"
     ]
    }
   ],
   "source": [
    "from sqlalchemy import cast, String\n",
    "s=select([listing.c.price, listing.c.listing_name + ' for ' +\n",
    "          cast(listing.c.price, String(20)).label('mult') +\n",
    "          ' euros'])\n",
    "\n",
    "rp=connection.execute(s)\n",
    "for row in rp:\n",
    "    print(row)"
   ]
  },
  {
   "cell_type": "code",
   "execution_count": 13,
   "metadata": {},
   "outputs": [
    {
     "name": "stdout",
     "output_type": "stream",
     "text": [
      "2021-03-14 13:07:00,238 INFO sqlalchemy.engine.base.Engine select upper(host_name) from host\n",
      "2021-03-14 13:07:00,239 INFO sqlalchemy.engine.base.Engine ()\n"
     ]
    }
   ],
   "source": [
    "result = connection.execute(\"select upper(host_name) from host\").fetchall()"
   ]
  }
 ],
 "metadata": {
  "kernelspec": {
   "display_name": "Python 3.7.0 64-bit",
   "language": "python",
   "name": "python37064bit2871f4995e164d798b4e1a5e13988caf"
  },
  "language_info": {
   "codemirror_mode": {
    "name": "ipython",
    "version": 3
   },
   "file_extension": ".py",
   "mimetype": "text/x-python",
   "name": "python",
   "nbconvert_exporter": "python",
   "pygments_lexer": "ipython3",
   "version": "3.7.0"
  }
 },
 "nbformat": 4,
 "nbformat_minor": 4
}
