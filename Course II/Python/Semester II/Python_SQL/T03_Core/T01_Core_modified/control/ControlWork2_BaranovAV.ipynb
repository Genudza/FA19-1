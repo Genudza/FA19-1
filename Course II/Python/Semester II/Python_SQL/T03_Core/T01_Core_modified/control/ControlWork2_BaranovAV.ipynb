{
 "cells": [
  {
   "cell_type": "code",
   "execution_count": 1,
   "metadata": {},
   "outputs": [],
   "source": [
    "import sqlalchemy\n",
    "from sqlalchemy import create_engine\n",
    "\n",
    "engine = create_engine('sqlite:///Baranov_Quiz_2.db')"
   ]
  },
  {
   "cell_type": "code",
   "execution_count": 2,
   "metadata": {},
   "outputs": [],
   "source": [
    "import numpy as np\n",
    "from datetime import datetime\n",
    "from sqlalchemy import (MetaData, Table, Column, Integer, Numeric, String, DateTime, \n",
    "                        Boolean, ForeignKey, create_engine, PrimaryKeyConstraint, \n",
    "                        UniqueConstraint, CheckConstraint, Index, insert, BigInteger)\n"
   ]
  },
  {
   "cell_type": "code",
   "execution_count": 3,
   "metadata": {},
   "outputs": [],
   "source": [
    "metadata = MetaData()"
   ]
  },
  {
   "cell_type": "markdown",
   "metadata": {},
   "source": [
    "### Создание трех таблиц:\n",
    "- student\n",
    "- subject\n",
    "- exam_marks"
   ]
  },
  {
   "cell_type": "code",
   "execution_count": 4,
   "metadata": {},
   "outputs": [],
   "source": [
    "student = Table('student',metadata,\n",
    "               Column('student_id',Integer(), nullable=False, primary_key=True),\n",
    "               Column('surname',String(50), nullable=False, index=True),\n",
    "               Column('name',String(50), nullable=False),\n",
    "               Column('stipend', Integer(), nullable=False),\n",
    "               Column('kurs', Integer(), nullable=False),\n",
    "               Column('city',String(50)),\n",
    "               Column('birthday', String()),\n",
    "               Column('univ_id', Integer(), nullable=False),\n",
    "               extend_existing=True\n",
    "              )"
   ]
  },
  {
   "cell_type": "code",
   "execution_count": 5,
   "metadata": {},
   "outputs": [],
   "source": [
    "subject = Table('subject',metadata,\n",
    "               Column('subj_id',Integer(), nullable=False, primary_key=True),\n",
    "               Column('subj_name',String(50), nullable=False),\n",
    "               Column('hour',Integer(), nullable=False),\n",
    "               Column('semester', Integer(), nullable=False),\n",
    "               extend_existing=True\n",
    "              )"
   ]
  },
  {
   "cell_type": "code",
   "execution_count": 6,
   "metadata": {},
   "outputs": [],
   "source": [
    "exam_marks = Table('exam_marks',metadata,\n",
    "               Column('exam_id',Integer(), nullable=False, primary_key=True),\n",
    "               Column('student_id',Integer(), nullable=False),\n",
    "               Column('subj_id',Integer(), nullable=False),\n",
    "               Column('mark', Integer()),\n",
    "               Column('exam_date', String(), nullable=False),\n",
    "               extend_existing=True\n",
    "              )"
   ]
  },
  {
   "cell_type": "code",
   "execution_count": 7,
   "metadata": {},
   "outputs": [],
   "source": [
    "metadata.create_all(engine)"
   ]
  },
  {
   "cell_type": "code",
   "execution_count": 8,
   "metadata": {},
   "outputs": [],
   "source": [
    "connection=engine.connect()"
   ]
  },
  {
   "cell_type": "markdown",
   "metadata": {},
   "source": [
    "### Заполнение данными таблиц\n",
    "добавим 2-3 записи в каждую таблицу"
   ]
  },
  {
   "cell_type": "code",
   "execution_count": 9,
   "metadata": {},
   "outputs": [],
   "source": [
    "student_list=[\n",
    "    {\n",
    "        'student_id' : 1,\n",
    "        'surname' : 'Иванов',\n",
    "        'name' : 'Иван',\n",
    "        'stipend' : 150,\n",
    "        'kurs' : 1,\n",
    "        'city' : 'Орел',\n",
    "        'birthday' : '1982-12-03',\n",
    "        'univ_id' : 10\n",
    "    },\n",
    "    {\n",
    "        'student_id' : 3,\n",
    "        'surname' : 'Петров',\n",
    "        'name' : 'Петр',\n",
    "        'stipend' : 200,\n",
    "        'kurs' : 3,\n",
    "        'city' : 'Курск',\n",
    "        'birthday' : '1980-12-0',\n",
    "        'univ_id' : 10\n",
    "    },\n",
    "    {\n",
    "        'student_id' : 6,\n",
    "        'surname' : 'Сидоров',\n",
    "        'name' : 'Вадим',\n",
    "        'stipend' : 150,\n",
    "        'kurs' : 4,\n",
    "        'city' : 'Москва',\n",
    "        'birthday' : '1979-06-07',\n",
    "        'univ_id' : 22\n",
    "    }\n",
    "]\n",
    "\n",
    "student_ins = student.insert()"
   ]
  },
  {
   "cell_type": "code",
   "execution_count": 10,
   "metadata": {},
   "outputs": [],
   "source": [
    "\n",
    "result=connection.execute(student_ins, student_list)"
   ]
  },
  {
   "cell_type": "code",
   "execution_count": 11,
   "metadata": {},
   "outputs": [],
   "source": [
    "# Одиночная вставка данных\n",
    "subject_ins1 = subject.insert().values(\n",
    "    subj_id = 10,\n",
    "    subj_name = 'Информатика',\n",
    "    hour = 56,\n",
    "    semester = 1\n",
    ")\n",
    "\n",
    "subject_ins2 = subject.insert().values(\n",
    "    subj_id = 22,\n",
    "    subj_name = 'Физика',\n",
    "    hour = 34,\n",
    "    semester = 1\n",
    ")\n",
    "\n",
    "subject_ins3 = subject.insert().values(\n",
    "    subj_id = 43,\n",
    "    subj_name = 'Математика',\n",
    "    hour = 56,\n",
    "    semester = 2\n",
    ")"
   ]
  },
  {
   "cell_type": "code",
   "execution_count": 12,
   "metadata": {},
   "outputs": [],
   "source": [
    "result=connection.execute(subject_ins1)\n",
    "result=connection.execute(subject_ins2)\n",
    "result=connection.execute(subject_ins3)"
   ]
  },
  {
   "cell_type": "code",
   "execution_count": 13,
   "metadata": {},
   "outputs": [],
   "source": [
    "# Одиночная вставка\n",
    "# exam_marks_ins1 = exam_marks.insert().values(\n",
    "#     exam_id = 34,\n",
    "#     student_id = 32,\n",
    "#     subj_id = 10,\n",
    "#     mark = 4,\n",
    "#     exam_date = '2000-01-23'\n",
    "# )\n",
    "# exam_marks_ins2 = exam_marks.insert().values(\n",
    "#     exam_id = 43,\n",
    "#     student_id = 6,\n",
    "#     subj_id = 22,\n",
    "#     mark = 4,\n",
    "#     exam_date = '2000-01-18'\n",
    "# )\n",
    "# exam_marks_ins3 = exam_marks.insert().values(\n",
    "#     exam_id = 75,\n",
    "#     student_id = 55,\n",
    "#     subj_id = 10,\n",
    "#     mark = 5,\n",
    "#     exam_date = '2000-01-05'\n",
    "# )\n",
    "\n",
    "# Вставка списка в exam_marks\n",
    "exam_marks_list=[\n",
    "    {\n",
    "        'exam_id' : 34,\n",
    "        'student_id' : 32,\n",
    "        'subj_id' : 10,\n",
    "        'mark' : 4,\n",
    "        'exam_date' : '2000-01-23'\n",
    "    },\n",
    "    {\n",
    "        'exam_id' : 43,\n",
    "        'student_id' : 6,\n",
    "        'subj_id' : 22,\n",
    "        'mark' : 4,\n",
    "        'exam_date' : '2000-01-18'\n",
    "    },\n",
    "    {\n",
    "        'exam_id' : 75,\n",
    "        'student_id' : 55,\n",
    "        'subj_id' : 10,\n",
    "        'mark' : 5,\n",
    "        'exam_date' : '2000-01-05'\n",
    "    }\n",
    "]\n",
    "\n",
    "multi_ins = exam_marks.insert()"
   ]
  },
  {
   "cell_type": "code",
   "execution_count": 14,
   "metadata": {},
   "outputs": [],
   "source": [
    "# result=connection.execute(exam_marks_ins1)\n",
    "# result=connection.execute(exam_marks_ins2)\n",
    "# result=connection.execute(exam_marks_ins3)\n",
    "\n",
    "# Вставка списка\n",
    "result=connection.execute(multi_ins, exam_marks_list)"
   ]
  },
  {
   "cell_type": "markdown",
   "metadata": {},
   "source": [
    "Выборка данных из таблицы ___student___"
   ]
  },
  {
   "cell_type": "code",
   "execution_count": 18,
   "metadata": {},
   "outputs": [
    {
     "data": {
      "text/plain": [
       "[(1, 'Иванов', 'Иван', 150, 1, 'Орел', '1982-12-03', 10),\n",
       " (3, 'Петров', 'Петр', 200, 3, 'Курск', '1980-12-0', 10),\n",
       " (6, 'Сидоров', 'Вадим', 150, 4, 'Москва', '1979-06-07', 22)]"
      ]
     },
     "execution_count": 18,
     "metadata": {},
     "output_type": "execute_result"
    }
   ],
   "source": [
    "from sqlalchemy.sql import select\n",
    "s = select([student])  \n",
    "rp = connection.execute(s)\n",
    "stud_res = rp.fetchall() \n",
    "stud_res"
   ]
  },
  {
   "cell_type": "markdown",
   "metadata": {},
   "source": [
    "Выборка данных из таблицы ___subject___"
   ]
  },
  {
   "cell_type": "code",
   "execution_count": 19,
   "metadata": {},
   "outputs": [
    {
     "data": {
      "text/plain": [
       "[(10, 'Информатика', 56, 1), (22, 'Физика', 34, 1), (43, 'Математика', 56, 2)]"
      ]
     },
     "execution_count": 19,
     "metadata": {},
     "output_type": "execute_result"
    }
   ],
   "source": [
    "s = select([subject])  \n",
    "rp = connection.execute(s)\n",
    "subj_res = rp.fetchall() \n",
    "subj_res"
   ]
  },
  {
   "cell_type": "markdown",
   "metadata": {},
   "source": [
    "Выборка данных из таблицы ___exam_marks___"
   ]
  },
  {
   "cell_type": "code",
   "execution_count": 20,
   "metadata": {},
   "outputs": [
    {
     "data": {
      "text/plain": [
       "[(34, 32, 10, 4, '2000-01-23'),\n",
       " (43, 6, 22, 4, '2000-01-18'),\n",
       " (75, 55, 10, 5, '2000-01-05')]"
      ]
     },
     "execution_count": 20,
     "metadata": {},
     "output_type": "execute_result"
    }
   ],
   "source": [
    "s = select([exam_marks])  \n",
    "rp = connection.execute(s)\n",
    "exam_res = rp.fetchall() \n",
    "exam_res"
   ]
  },
  {
   "cell_type": "code",
   "execution_count": null,
   "metadata": {},
   "outputs": [],
   "source": []
  }
 ],
 "metadata": {
  "kernelspec": {
   "display_name": "Python 3.7.3 64-bit",
   "language": "python",
   "name": "python37364bitfad960d64b0a47f7863f69e6d2f04c02"
  },
  "language_info": {
   "codemirror_mode": {
    "name": "ipython",
    "version": 3
   },
   "file_extension": ".py",
   "mimetype": "text/x-python",
   "name": "python",
   "nbconvert_exporter": "python",
   "pygments_lexer": "ipython3",
   "version": "3.7.3"
  }
 },
 "nbformat": 4,
 "nbformat_minor": 2
}
