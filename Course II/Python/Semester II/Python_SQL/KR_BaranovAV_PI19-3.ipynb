{
 "cells": [
  {
   "source": [
    "# Баранов А.В. ПИ19-3"
   ],
   "cell_type": "markdown",
   "metadata": {}
  },
  {
   "cell_type": "markdown",
   "metadata": {},
   "source": [
    "## Задание\n",
    "\n",
    "1. Создайте отображение базы данных студентов *Students_2021.sqlite*\n",
    "2. Напишите запрос, позволяющий получить из таблицы *exam_marks* значения столбца *mark* (экзаменационная оценка) для всех студентов, исключив из списка повторение одинаковых строк.\n",
    "3. Напишите запрос для получения списка студентов без определенного места жительства.\n",
    "4. Напишите запрос для получения списка студентов, проживающих в Воронеже и не получающих стипендию.\n",
    "5. Напишите запрос для получения списка университетов, расположенных в Москве и имеющих рейтинг меньший, чем у ВГУ. Значение рейтинга НГУ получите с помощью отдельного запроса или подзапроса.\n",
    "6. Напишите запрос, выполняющий вывод находящихся в таблице EXAM_MARKS номеров предметов обучения, экзамены по которым сдавались между 1 и 21 марта 2020 г.\n",
    "7. Напишите запрос, который выполняет вывод названий предметов обучения, начинающихся на букву ‘И’.\n",
    "8. Напишите запрос, выбирающий сведения о студентах, у которых имена начинаются на букву ‘И’ или ‘С’.\n",
    "9. Напишите запрос для получения списка предметов обучения, названия которых состоят из более одного слова.\n",
    "10. Напишите запрос для получения списка студентов, фамилии которых состоят из трех букв.\n",
    "11. Составьте запрос для таблицы STUDENT таким образом, чтобы получить результат в следующем виде. Распечатайте первые 9 записей результата.\n",
    "```\n",
    "    И. Иванов \t 1982-12-03\n",
    "    П. Петров \t 1980-12-01\n",
    "    В. Сидоров \t 1979-06-07\n",
    "              ...\n",
    "```\n",
    "12. Напишите запрос для получения списка студентов, фамилии которых начинаются на ‘Ков’ или на ‘Куз’.\n",
    "13. Напишите запрос для получения списка предметов, названия которых оканчиваются на ‘ия’.\n",
    "14. Напишите запрос для выбора из таблицы EXAM_MARKS записей, для которых отсутствуют значения оценок (поле MARK).\n",
    "15. Составьте запрос, выводящий фамилии, имена студентов и величину получаемых ими стипендий, при этом значения стипендий должны быть увеличены в 100 раз.\n",
    "16. Составьте запрос для таблицы UNIVERSITY таким образом, чтобы выходная таблица содержала всего один столбец в следующем виде: Код-10; ВГУ-г.ВОРОНЕЖ; Рейтинг=296.\n",
    "17. Напишите запрос для подсчета количества студентов, сдававших экзамен по предмету обучения с идентификатором 10.\n",
    "18. Напишите запрос, который позволяет подсчитать в таблице EXAM_MARKS количество различных предметов обучения.\n",
    "19. Напишите запрос, который для каждого студента выполняет выборку его идентификатора и минимальной из полученных им оценок.\n",
    "20. Напишите запрос, который для каждого предмета обучения выводит наименование предмета и максимальное значение номера семестра, в котором этот предмет преподается.\n",
    "21. Напишите запрос, который для каждого конкретного дня сдачи экзамена выводит данные о количестве студентов, сдававших экзамен в этот день.\n",
    "22. Напишите запрос, выдающий средний балл для каждого студента.\n",
    "23. Напишите запрос, выдающий средний балл для каждого экзамена.\n",
    "24. Напишите запрос, определяющий количество сдававших студентов для каждого экзамена\n",
    "25. Напишите запрос, для определения количества предметов, преподаваемых на каждом курсе\n",
    "26. Для каждого университета напишите запрос, выводящий суммарную стипендию\n",
    "27. Для каждого семестра напишите запрос, выводящий общее количество часов, отводимое на изучение предметов"
   ]
  },
  {
   "cell_type": "code",
   "execution_count": 137,
   "metadata": {},
   "outputs": [],
   "source": [
    "# Task1\n",
    "from sqlalchemy.ext.automap import automap_base\n",
    "from sqlalchemy.orm import Session\n",
    "from sqlalchemy import create_engine\n",
    "from datetime import datetime\n",
    "from sqlalchemy import or_\n",
    "from sqlalchemy import func\n",
    "from pprint import pprint\n",
    "engine = create_engine('sqlite:///Data/Students_2021.sqlite')\n",
    "Base = automap_base()\n",
    "Base.prepare(engine, reflect=True)\n",
    "session = Session(engine)\n",
    "city, exam_marks, student, university, subject, lecturer, subj_lect=Base.classes.values()"
   ]
  },
  {
   "cell_type": "code",
   "execution_count": 138,
   "metadata": {},
   "outputs": [
    {
     "output_type": "stream",
     "name": "stdout",
     "text": [
      "[(3,), (4,), (5,), (2,), (None,)]\n"
     ]
    }
   ],
   "source": [
    "# Task2 \n",
    "\n",
    "q1 = session.query(exam_marks.mark).distinct().all()\n",
    "pprint(q1)"
   ]
  },
  {
   "cell_type": "code",
   "execution_count": 139,
   "metadata": {},
   "outputs": [
    {
     "output_type": "stream",
     "name": "stdout",
     "text": [
      "[(63, 'Ирина'), (64, 'Оксана')]\n"
     ]
    }
   ],
   "source": [
    "# Task3\n",
    "\n",
    "q1 = session.query(student.student_id, student.name).filter(student.city==None).all()\n",
    "pprint(q1)"
   ]
  },
  {
   "cell_type": "code",
   "execution_count": 140,
   "metadata": {},
   "outputs": [
    {
     "output_type": "stream",
     "name": "stdout",
     "text": [
      "[]\n"
     ]
    }
   ],
   "source": [
    "# Task4\n",
    "\n",
    "q1 = session.query(student.student_id, student.name).filter(student.city==\"Воронеж\").filter(student.stipend==0).all()\n",
    "pprint(q1)"
   ]
  },
  {
   "cell_type": "code",
   "execution_count": 141,
   "metadata": {},
   "outputs": [
    {
     "output_type": "stream",
     "name": "stdout",
     "text": [
      "[('ФинУ',), ('МТУСИ',)]\n"
     ]
    }
   ],
   "source": [
    "# Task5 \n",
    "\n",
    "rating = session.query(university.rating).filter(university.univ_name==\"НГУ\")\n",
    "q1 = session.query(university.univ_name).filter(university.rating<rating, university.city==\"Москва\").all()\n",
    "\n",
    "pprint(q1)"
   ]
  },
  {
   "cell_type": "code",
   "execution_count": 142,
   "metadata": {},
   "outputs": [
    {
     "output_type": "stream",
     "name": "stdout",
     "text": [
      "[(73,), (12,), (11,)]\n"
     ]
    }
   ],
   "source": [
    "# Task6\n",
    "\n",
    "q1 = session.query(exam_marks.subj_id).filter(exam_marks.exam_date.between(\"2020-03-01\", \"2020-03-21\")).all()\n",
    "pprint(q1)"
   ]
  },
  {
   "cell_type": "code",
   "execution_count": 143,
   "metadata": {},
   "outputs": [
    {
     "output_type": "stream",
     "name": "stdout",
     "text": [
      "[('Информатика',), ('История',)]\n"
     ]
    }
   ],
   "source": [
    "# Task7 \n",
    "\n",
    "q1 = session.query(subject.subj_name).filter(subject.subj_name.like(\"И%\")).all()\n",
    "pprint(q1)"
   ]
  },
  {
   "cell_type": "code",
   "execution_count": 144,
   "metadata": {},
   "outputs": [
    {
     "output_type": "stream",
     "name": "stdout",
     "text": [
      "[(1, 'Иван'), (63, 'Ирина'), (100, 'Самуил')]\n"
     ]
    }
   ],
   "source": [
    "# Task8\n",
    "\n",
    "q1 = session.query(student.student_id, student.name).filter(\n",
    "    or_(\n",
    "        student.name.like(\"И%\"),\n",
    "        student.name.like(\"С%\"))).all()\n",
    "pprint(q1)"
   ]
  },
  {
   "cell_type": "code",
   "execution_count": 145,
   "metadata": {},
   "outputs": [
    {
     "output_type": "stream",
     "name": "stdout",
     "text": [
      "[('Анализ данных',),\n ('Базы данных',),\n ('Программирование на языках Python и SQL',),\n ('Финансовые риски корпоративного инвестирования',),\n ('Финансовые рынки',),\n ('Экономическая информатика',)]\n"
     ]
    }
   ],
   "source": [
    "#9\n",
    "\n",
    "q1 = session.query(subject.subj_name).filter(subject.subj_name.like(\"% %\")).all()\n",
    "pprint(q1)"
   ]
  },
  {
   "cell_type": "code",
   "execution_count": 146,
   "metadata": {},
   "outputs": [
    {
     "output_type": "stream",
     "name": "stdout",
     "text": [
      "[(103, 'Шоу'), (104, 'Доу'), (105, 'Юнг')]\n"
     ]
    }
   ],
   "source": [
    "# Task10\n",
    "\n",
    "q1 = session.query(student.student_id, student.surname).filter(student.surname.like(\"___\")).all()\n",
    "pprint(q1)"
   ]
  },
  {
   "cell_type": "code",
   "execution_count": 147,
   "metadata": {},
   "outputs": [
    {
     "output_type": "stream",
     "name": "stdout",
     "text": [
      "И. Иванов\t1982-12-03\nП. Петров\t1980-12-01\nВ. Сидоров\t1979-06-07\nБ. Кузнецов\t1981-12-08\nО. Зайцева\t1981-05-01\nП. Котов\t2000-02-28\nВ. Белкин\t1980-01-07\nЕ. Сергеева\t1997-07-04\nВ. Семенова\t1997-10-04\n"
     ]
    }
   ],
   "source": [
    "# Task11\n",
    "\n",
    "res = session.query(student.name, student.surname, student.birthday).limit(9).all()\n",
    "for item in res:\n",
    "    print(item[0][0] + '. ' + item[1] + '\\t' + item[2].strftime(\"%Y-%m-%d\"))"
   ]
  },
  {
   "cell_type": "code",
   "execution_count": 148,
   "metadata": {},
   "outputs": [
    {
     "output_type": "stream",
     "name": "stdout",
     "text": [
      "[(10, 'Кузнецов')]\n"
     ]
    }
   ],
   "source": [
    "# Task12 \n",
    "\n",
    "q1 = session.query(student.student_id, student.surname).filter(\n",
    "    or_(\n",
    "        student.surname.like(\"Ков%\"),\n",
    "        student.surname.like(\"Куз%\"))).all()\n",
    "pprint(q1)"
   ]
  },
  {
   "cell_type": "code",
   "execution_count": 149,
   "metadata": {},
   "outputs": [
    {
     "output_type": "stream",
     "name": "stdout",
     "text": [
      "[(56, 'История'), (16, 'Финансовые риски корпоративного инвестирования')]\n"
     ]
    }
   ],
   "source": [
    "# Task13\n",
    "q1 = session.query(subject.subj_id, subject.subj_name).filter(subject.subj_name.endswith(\"%ия\")).all()\n",
    "pprint(q1)"
   ]
  },
  {
   "cell_type": "code",
   "execution_count": 150,
   "metadata": {},
   "outputs": [
    {
     "output_type": "stream",
     "name": "stdout",
     "text": [
      "[(639, datetime.datetime(2020, 3, 21, 0, 0))]\n"
     ]
    }
   ],
   "source": [
    "# Task14 \n",
    "\n",
    "q1 = session.query(exam_marks.exam_id, exam_marks.exam_date).filter(exam_marks.mark.is_(None)).all()\n",
    "pprint(q1)"
   ]
  },
  {
   "cell_type": "code",
   "execution_count": 151,
   "metadata": {},
   "outputs": [
    {
     "output_type": "stream",
     "name": "stdout",
     "text": [
      "[('Иванов', 'Иван', 15000),\n ('Петров', 'Петр', 20000),\n ('Сидоров', 'Вадим', 15000),\n ('Кузнецов', 'Борис', 0),\n ('Зайцева', 'Ольга', 25000),\n ('Котов', 'Павел', 15000),\n ('Белкин', 'Вадим', 25000),\n ('Сергеева', 'Елизавета', 15000),\n ('Семенова', 'Вероника', 0),\n ('Медведева', 'Ирина', 10000),\n ('Афанасьева', 'Оксана', 25000),\n ('Синицин', 'Кондрат', 20000),\n ('Мельникова', 'Дарья', 10000),\n ('Никитин', 'Самуил', 25000),\n ('Калашников', 'Евгений', 20000),\n ('Петров', 'Касьян', 20000),\n ('Шоу', 'Бернар', 12000),\n ('Доу', 'Джо', 12000),\n ('Юнг', 'Карл', 10000)]\n"
     ]
    }
   ],
   "source": [
    "# Task15\n",
    "\n",
    "q1 = session.query(student.surname, student.name, student.stipend * 100).all()\n",
    "pprint(q1)"
   ]
  },
  {
   "cell_type": "code",
   "execution_count": 152,
   "metadata": {
    "scrolled": true
   },
   "outputs": [
    {
     "output_type": "stream",
     "name": "stdout",
     "text": [
      "Код-10; ВГУ-г.ВОРОНЕЖ; Рейтинг=296.\nКод-11; НГУ-г.НОВОСИБИРСК; Рейтинг=345.\nКод-14; БГУ-г.БЕЛГОРОД; Рейтинг=326.\nКод-15; ТГУ-г.ТОМСК; Рейтинг=368.\nКод-18; ВГМА-г.ВОРОНЕЖ; Рейтинг=327.\nКод-22; МГУ-г.МОСКВА; Рейтинг=400.\nКод-32; РГУ-г.РОСТОВ; Рейтинг=416.\nКод-44; ФинУ-г.МОСКВА; Рейтинг=330.\nКод-45; МГТУ-г.МОСКВА; Рейтинг=372.\nКод-46; Политех-г.САНКТ-ПЕТЕРБУРГ; Рейтинг=300.\nКод-47; КФУ-г.КАЗАНЬ; Рейтинг=330.\nКод-48; УЛГУ-г.УЛЬЯНОВСК; Рейтинг=231.\nКод-49; МТУСИ-г.МОСКВА; Рейтинг=295.\n"
     ]
    }
   ],
   "source": [
    "# Task16\n",
    "\n",
    "q1 = session.query(university.univ_id, university.univ_name, university.city, university.rating).all()\n",
    "for item in q1:\n",
    "    print(f'Код-{item[0]}; {item[1]}-г.{item[2].upper()}; Рейтинг={item[3]}.')"
   ]
  },
  {
   "cell_type": "code",
   "execution_count": 153,
   "metadata": {},
   "outputs": [
    {
     "output_type": "stream",
     "name": "stdout",
     "text": [
      "8\n"
     ]
    }
   ],
   "source": [
    "# Task17 \n",
    "\n",
    "q1 = session.query(exam_marks.student_id).filter(exam_marks.subj_id==10).count()\n",
    "pprint(q1)"
   ]
  },
  {
   "cell_type": "code",
   "execution_count": 154,
   "metadata": {
    "scrolled": true
   },
   "outputs": [
    {
     "output_type": "stream",
     "name": "stdout",
     "text": [
      "12\n"
     ]
    }
   ],
   "source": [
    "# Task18\n",
    "\n",
    "q1 = session.query(exam_marks.subj_id).distinct().count()\n",
    "pprint(q1)"
   ]
  },
  {
   "cell_type": "code",
   "execution_count": 155,
   "metadata": {},
   "outputs": [
    {
     "output_type": "stream",
     "name": "stdout",
     "text": [
      "[(1, 3),\n (12, 4),\n (32, 3),\n (55, 3),\n (56, 2),\n (62, 3),\n (71, 3),\n (76, 3),\n (100, 3),\n (101, 2)]\n"
     ]
    }
   ],
   "source": [
    "# Task19\n",
    "\n",
    "q1 = session.query(exam_marks.student_id, func.min(exam_marks.mark)).group_by(exam_marks.student_id).all()\n",
    "pprint(q1)"
   ]
  },
  {
   "cell_type": "code",
   "execution_count": 156,
   "metadata": {
    "scrolled": true
   },
   "outputs": [
    {
     "output_type": "stream",
     "name": "stdout",
     "text": [
      "[('Web-дизайн', 4),\n",
      " ('Анализ данных', 1),\n",
      " ('Английский', 3),\n",
      " ('Базы данных', 7),\n",
      " ('Информатика', 1),\n",
      " ('История', 4),\n",
      " ('Математика', 2),\n",
      " ('ОБЖ', 2),\n",
      " ('Программирование', 2),\n",
      " ('Программирование на языках Python и SQL', 7),\n",
      " ('Физика', 1),\n",
      " ('Физкультура', 5),\n",
      " ('Финансовые риски корпоративного инвестирования', 5),\n",
      " ('Финансовые рынки', 6),\n",
      " ('Экономическая информатика', 7)]\n"
     ]
    }
   ],
   "source": [
    "# Task20\n",
    "\n",
    "q1 = session.query(subject.subj_name, func.max(subject.semester)).group_by(subject.subj_name).all()\n",
    "pprint(q1)"
   ]
  },
  {
   "cell_type": "code",
   "execution_count": 157,
   "metadata": {},
   "outputs": [
    {
     "output_type": "stream",
     "name": "stdout",
     "text": [
      "[('2019-08-30 00:00:00.000000', 1),\n ('2019-09-02 00:00:00.000000', 1),\n ('2019-12-25 00:00:00.000000', 1),\n ('2019-12-31 00:00:00.000000', 1),\n ('2020-01-18 00:00:00.000000', 1),\n ('2020-02-22 00:00:00.000000', 1),\n ('2020-03-11 00:00:00.000000', 1),\n ('2020-03-13 00:00:00.000000', 1),\n ('2020-03-20 00:00:00.000000', 1),\n ('2020-03-21 00:00:00.000000', 7),\n ('2020-04-06 00:00:00.000000', 1),\n ('2020-05-04 00:00:00.000000', 1),\n ('2020-05-11 00:00:00.000000', 1),\n ('2020-05-13 00:00:00.000000', 1),\n ('2020-06-08 00:00:00.000000', 1),\n ('2020-07-04 00:00:00.000000', 1),\n ('2020-07-06 00:00:00.000000', 1),\n ('2020-07-24 00:00:00.000000', 1),\n ('2020-07-26 00:00:00.000000', 3),\n ('2020-08-10 00:00:00.000000', 1),\n ('2020-08-18 00:00:00.000000', 1),\n ('2020-09-09 00:00:00.000000', 1),\n ('2020-09-21 00:00:00.000000', 1),\n ('2020-10-24 00:00:00.000000', 1),\n ('2020-12-04 00:00:00.000000', 1),\n ('2020-12-17 00:00:00.000000', 3),\n ('2020-12-23 00:00:00.000000', 1),\n ('2021-03-01 00:00:00.000000', 1),\n ('2021-03-07 00:00:00.000000', 1),\n ('2021-03-14 00:00:00.000000', 1),\n ('2021-03-29 00:00:00.000000', 1)]\n"
     ]
    }
   ],
   "source": [
    "# Task21 \n",
    "\n",
    "q1 = session.query(str(exam_marks.exam_date), func.count(exam_marks.student_id)).group_by(exam_marks.exam_date).all()\n",
    "pprint(q1)"
   ]
  },
  {
   "cell_type": "code",
   "execution_count": 158,
   "metadata": {},
   "outputs": [
    {
     "output_type": "stream",
     "name": "stdout",
     "text": [
      "[(1, 4.0),\n (12, 4.666666666666667),\n (32, 3.8),\n (55, 3.6),\n (56, 3.8333333333333335),\n (62, 3.6666666666666665),\n (71, 3.5),\n (76, 3.4),\n (100, 3.8333333333333335),\n (101, 2.5)]\n"
     ]
    }
   ],
   "source": [
    "# Task22\n",
    "\n",
    "q1 = session.query(exam_marks.student_id, func.avg(exam_marks.mark)).group_by(exam_marks.student_id).all()\n",
    "pprint(q1)"
   ]
  },
  {
   "cell_type": "code",
   "execution_count": 159,
   "metadata": {
    "scrolled": true
   },
   "outputs": [
    {
     "output_type": "stream",
     "name": "stdout",
     "text": [
      "[(10, 3.75),\n (11, 4.0),\n (12, 3.4),\n (13, 4.2),\n (14, 3.5),\n (15, 3.75),\n (16, 2.0),\n (22, 4.0),\n (43, 3.0),\n (56, 3.0),\n (73, 4.0),\n (94, 4.0)]\n"
     ]
    }
   ],
   "source": [
    "# Task23\n",
    "q1 = session.query(exam_marks.subj_id, func.avg(exam_marks.mark)).group_by(exam_marks.subj_id).all()\n",
    "pprint(q1)"
   ]
  },
  {
   "cell_type": "code",
   "execution_count": 160,
   "metadata": {
    "scrolled": true
   },
   "outputs": [
    {
     "output_type": "stream",
     "name": "stdout",
     "text": [
      "[(1, 1),\n (2, 1),\n (3, 1),\n (4, 1),\n (5, 1),\n (6, 1),\n (7, 1),\n (8, 1),\n (9, 1),\n (10, 1),\n (11, 1),\n (12, 1),\n (13, 1),\n (14, 1),\n (15, 1),\n (16, 1),\n (17, 1),\n (18, 1),\n (19, 1),\n (20, 1),\n (21, 1),\n (22, 1),\n (23, 1),\n (24, 1),\n (25, 1),\n (26, 1),\n (27, 1),\n (28, 1),\n (29, 1),\n (30, 1),\n (31, 1),\n (32, 1),\n (33, 1),\n (34, 1),\n (43, 1),\n (75, 1),\n (95, 1),\n (100, 1),\n (145, 1),\n (238, 1),\n (639, 1)]\n"
     ]
    }
   ],
   "source": [
    "# Task24\n",
    "\n",
    "q1 = session.query(exam_marks.exam_id, func.count(exam_marks.student_id)).group_by(exam_marks.exam_id).all()\n",
    "pprint(q1)"
   ]
  },
  {
   "cell_type": "code",
   "execution_count": 161,
   "metadata": {},
   "outputs": [
    {
     "output_type": "stream",
     "name": "stdout",
     "text": [
      "[(1, 6), (2, 3), (3, 3), (4, 3)]\n"
     ]
    }
   ],
   "source": [
    "# Task25 \n",
    "\n",
    "q = session.query((subject.semester+1)/2, func.count(subject.subj_id)).group_by(subject.semester).all()\n",
    "res = []\n",
    "cnt = 0\n",
    "for k, i in enumerate(q):\n",
    "    cnt += i[1]\n",
    "    if k % 2 != 0:\n",
    "        res.append((len(q)%k+1, cnt))\n",
    "        cnt = 0\n",
    "if len(q) % 2 != 0:\n",
    "    res.append(q[-1])\n",
    "        \n",
    "pprint(res)"
   ]
  },
  {
   "cell_type": "code",
   "execution_count": 162,
   "metadata": {
    "scrolled": true
   },
   "outputs": [
    {
     "output_type": "stream",
     "name": "stdout",
     "text": [
      "[(10, 950),\n (14, 250),\n (15, 100),\n (18, 200),\n (22, 350),\n (47, 500),\n (48, 350),\n (49, 240)]\n"
     ]
    }
   ],
   "source": [
    "# Task26 \n",
    "\n",
    "q1 = session.query(student.univ_id, func.sum(student.stipend)).group_by(student.univ_id).all()\n",
    "pprint(q1)"
   ]
  },
  {
   "cell_type": "code",
   "execution_count": 163,
   "metadata": {},
   "outputs": [
    {
     "output_type": "stream",
     "name": "stdout",
     "text": [
      "[(1, 132), (2, 124), (3, 56), (4, 106), (5, 70), (6, 72), (7, 432)]\n"
     ]
    }
   ],
   "source": [
    "# Task27 \n",
    "\n",
    "q1 = session.query(subject.semester, func.sum(subject.hour)).group_by(subject.semester).all()\n",
    "pprint(q1)"
   ]
  },
  {
   "cell_type": "code",
   "execution_count": null,
   "metadata": {},
   "outputs": [],
   "source": []
  }
 ],
 "metadata": {
  "kernelspec": {
   "name": "python37064bit2871f4995e164d798b4e1a5e13988caf",
   "display_name": "Python 3.7.0 64-bit"
  },
  "language_info": {
   "codemirror_mode": {
    "name": "ipython",
    "version": 3
   },
   "file_extension": ".py",
   "mimetype": "text/x-python",
   "name": "python",
   "nbconvert_exporter": "python",
   "pygments_lexer": "ipython3",
   "version": "3.7.0"
  },
  "metadata": {
   "interpreter": {
    "hash": "aee8b7b246df8f9039afb4144a1f6fd8d2ca17a180786b69acc140d282b71a49"
   }
  }
 },
 "nbformat": 4,
 "nbformat_minor": 4
}