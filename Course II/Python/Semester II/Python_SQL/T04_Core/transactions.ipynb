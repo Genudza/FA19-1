{
 "metadata": {
  "language_info": {
   "codemirror_mode": {
    "name": "ipython",
    "version": 3
   },
   "file_extension": ".py",
   "mimetype": "text/x-python",
   "name": "python",
   "nbconvert_exporter": "python",
   "pygments_lexer": "ipython3",
   "version": "3.7.0"
  },
  "orig_nbformat": 2,
  "kernelspec": {
   "name": "python37064bit2871f4995e164d798b4e1a5e13988caf",
   "display_name": "Python 3.7.0 64-bit"
  },
  "metadata": {
   "interpreter": {
    "hash": "aee8b7b246df8f9039afb4144a1f6fd8d2ca17a180786b69acc140d282b71a49"
   }
  }
 },
 "nbformat": 4,
 "nbformat_minor": 2,
 "cells": [
  {
   "cell_type": "code",
   "execution_count": 2,
   "metadata": {},
   "outputs": [],
   "source": [
    "from sqlalchemy.sql import func\n",
    "from datetime import datetime\n",
    "from sqlalchemy import (\n",
    "    MetaData,\n",
    "    Table,\n",
    "    Column,\n",
    "    Integer,\n",
    "    Numeric,\n",
    "    String,\n",
    "    DateTime,\n",
    "    ForeignKey,\n",
    "    create_engine,\n",
    "    Float,\n",
    "    insert\n",
    ")\n",
    "from sqlalchemy.sql import select\n",
    "from sqlalchemy.exc import IntegrityError\n",
    "\n",
    "engine = create_engine('sqlite:///Students.db')\n",
    "metadata = MetaData()\n",
    "connection = engine.connect()\n",
    "\n",
    "student = Table('student', metadata, autoload=True, autoload_with=engine)\n",
    "university = Table('university', metadata, autoload=True, autoload_with=engine)\n"
   ]
  },
  {
   "cell_type": "code",
   "execution_count": 3,
   "metadata": {},
   "outputs": [
    {
     "output_type": "stream",
     "name": "stdout",
     "text": [
      "ОШИБКА добавления нового студента:\n (sqlite3.IntegrityError) UNIQUE constraint failed: student.student_id\n[SQL: INSERT INTO student (student_id, surname, name, stipend, kurs, city, birthday, univ_id) VALUES (?, ?, ?, ?, ?, ?, ?, ?)]\n[parameters: (2, 'Баранов', 'Андрей', 0, 2, 'Москва', '1980-12-01 00:00:00.000000', 22)]\n(Background on this error at: http://sqlalche.me/e/13/gkpj)\n"
     ]
    }
   ],
   "source": [
    "\n",
    "\n",
    "# Вставка данных\n",
    "ins_university = insert(university).values(\n",
    "    univ_id=9,\n",
    "    univ_name='FA',\n",
    "    rating=330,\n",
    "    city='Москва'\n",
    ")\n",
    "\n",
    "ins_student = insert(student).values(\n",
    "    student_id=2,\n",
    "    surname='Баранов',\n",
    "    name='Александр',\n",
    "    stipend=0,\n",
    "    kurs=2,\n",
    "    city='Москва',\n",
    "    birthday=datetime(1980, 12, 1),\n",
    "    univ_id=9\n",
    ")\n",
    "\n",
    "ins_next_student = insert(student).values(\n",
    "    student_id=2,\n",
    "    surname='Баранов',\n",
    "    name='Андрей',\n",
    "    stipend=0,\n",
    "    kurs=2,\n",
    "    city='Москва',\n",
    "    birthday=datetime(1980, 12, 1),\n",
    "    univ_id=22\n",
    ")\n",
    "\n",
    "# начинаем транзакцию БД\n",
    "transaction = connection.begin()\n",
    "\n",
    "# Добавление записей\n",
    "connection.execute(ins_student)\n",
    "connection.execute(ins_university)\n",
    "\n",
    "try:\n",
    "    connection.execute(ins_next_student)\n",
    "except IntegrityError as e:\n",
    "    # откат транзакции в начальное состояние в случае ошибки\n",
    "    transaction.rollback()\n",
    "    print(\"ОШИБКА добавления нового студента:\\n\", e)\n"
   ]
  },
  {
   "cell_type": "code",
   "execution_count": null,
   "metadata": {},
   "outputs": [],
   "source": []
  }
 ]
}